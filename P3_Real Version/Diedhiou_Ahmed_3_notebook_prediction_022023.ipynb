{
  "cells": [
    {
      "cell_type": "markdown",
      "metadata": {
        "id": "zSaO2imBTuuA"
      },
      "source": [
        "# <ins> Prédiction de la quantité d'energie (SiteEnergyUse(kBtu) ) </ins>"
      ]
    },
    {
      "cell_type": "markdown",
      "metadata": {
        "id": "69eS1vnzTyPM"
      },
      "source": [
        "Import des bibliothèques "
      ]
    },
    {
      "cell_type": "code",
      "source": [
        "!pip install plotly  #Installation de plotly pour l'affichage des certains graphiques"
      ],
      "metadata": {
        "colab": {
          "base_uri": "https://localhost:8080/"
        },
        "id": "8LQQObjueoQJ",
        "outputId": "b8688105-3452-43e5-f176-8ddc8b8ba106"
      },
      "execution_count": 341,
      "outputs": [
        {
          "output_type": "stream",
          "name": "stdout",
          "text": [
            "Looking in indexes: https://pypi.org/simple, https://us-python.pkg.dev/colab-wheels/public/simple/\n",
            "Requirement already satisfied: plotly in /usr/local/lib/python3.8/dist-packages (5.5.0)\n",
            "Requirement already satisfied: six in /usr/local/lib/python3.8/dist-packages (from plotly) (1.15.0)\n",
            "Requirement already satisfied: tenacity>=6.2.0 in /usr/local/lib/python3.8/dist-packages (from plotly) (8.2.0)\n"
          ]
        }
      ]
    },
    {
      "cell_type": "code",
      "execution_count": 342,
      "metadata": {
        "id": "Y_NKsNnNTfnh"
      },
      "outputs": [],
      "source": [
        "import pandas as pd\n",
        "import numpy as np \n",
        "import matplotlib.pyplot as plt\n",
        "import seaborn as sns \n",
        "import plotly.express as px\n",
        "import plotly.graph_objects as go\n",
        "from sklearn.impute import SimpleImputer\n",
        "from sklearn.preprocessing import OneHotEncoder, StandardScaler, MinMaxScaler, RobustScaler\n",
        "from sklearn.compose import *\n",
        "from sklearn.pipeline import Pipeline\n",
        "from sklearn.model_selection import train_test_split\n",
        "from sklearn.linear_model import *\n",
        "from sklearn.dummy import DummyRegressor\n",
        "from sklearn.svm import LinearSVR\n",
        "import xgboost as xgb\n",
        "from sklearn.model_selection import RandomizedSearchCV\n",
        "from sklearn.ensemble import RandomForestRegressor\n",
        "from sklearn.linear_model import Ridge, Lasso\n",
        "from sklearn.metrics import *\n",
        "from sklearn.model_selection import GridSearchCV\n",
        "from sklearn.compose import TransformedTargetRegressor\n",
        "import warnings\n",
        "from sklearn import set_config\n",
        "set_config(display='diagram')\n",
        "from sklearn.ensemble import *\n",
        "warnings.filterwarnings('ignore')\n",
        "\n",
        "#plot distribution de la target et voir le scaler à utiliser "
      ]
    },
    {
      "cell_type": "markdown",
      "metadata": {
        "id": "jRV9TFCtUahR"
      },
      "source": [
        "Téléchargement du jeu de données"
      ]
    },
    {
      "cell_type": "code",
      "source": [
        "data_model =pd.read_csv('https://raw.githubusercontent.com/bachir151/Projet-openclassrooms/master/P3/data.csv',on_bad_lines='skip')\n",
        "data_model =data_model.drop(['Unnamed: 0'], axis=1)\n",
        "#data_model =data_model.drop(['index'], axis=1)\n",
        "data_model.head()"
      ],
      "metadata": {
        "colab": {
          "base_uri": "https://localhost:8080/",
          "height": 299
        },
        "id": "PJKXMM63MOvm",
        "outputId": "9e171688-4d90-4345-b627-2d3e3f613a8e"
      },
      "execution_count": 343,
      "outputs": [
        {
          "output_type": "execute_result",
          "data": {
            "text/plain": [
              "   SiteEnergyUse(kBtu)  TotalGHGEmissions  NumberofBuildings  NumberofFloors  \\\n",
              "0            7226362.5             249.98                1.0              12   \n",
              "1            8387933.0             295.86                1.0              11   \n",
              "2           72587024.0            2089.28                1.0              41   \n",
              "3            6794584.0             286.43                1.0              10   \n",
              "4           14172606.0             505.01                1.0              18   \n",
              "\n",
              "   PropertyGFATotal  PropertyGFAParking  PropertyGFABuilding(s)  \\\n",
              "0             88434                   0                   88434   \n",
              "1            103566               15064                   88502   \n",
              "2            956110              196718                  759392   \n",
              "3             61320                   0                   61320   \n",
              "4            175580               62000                  113580   \n",
              "\n",
              "   ENERGYSTARScore  age_batiment LargestPropertyUseType  ...    BuildingType  \\\n",
              "0             60.0            89                  Hotel  ...  NonResidential   \n",
              "1             61.0            20                  Hotel  ...  NonResidential   \n",
              "2             43.0            47                  Hotel  ...  NonResidential   \n",
              "3             56.0            90                  Hotel  ...  NonResidential   \n",
              "4             75.0            36                  Hotel  ...  NonResidential   \n",
              "\n",
              "  Ratio_buildingParSurface  Ratio_parkingParSurface  SurfaceParetage  \\\n",
              "0                     1.00                    0.000       6802.61538   \n",
              "1                     0.85                   14.545       8630.50000   \n",
              "2                     0.79                   20.575      22764.52381   \n",
              "3                     1.00                    0.000       5574.54545   \n",
              "4                     0.65                   35.312       9241.05263   \n",
              "\n",
              "   ComplianceStatus   Outlier is_energyStarImputed  pr_steam  pr_natural  \\\n",
              "0         Compliant  inconnue                False  0.277302    0.176638   \n",
              "1         Compliant  inconnue                False  0.000000    0.613391   \n",
              "2         Compliant  inconnue                False  0.297113    0.020579   \n",
              "3         Compliant  inconnue                False  0.325913    0.266567   \n",
              "4         Compliant  inconnue                False  0.000000    0.621198   \n",
              "\n",
              "    pr_elec  \n",
              "0  0.546060  \n",
              "1  0.386609  \n",
              "2  0.682307  \n",
              "3  0.407519  \n",
              "4  0.378802  \n",
              "\n",
              "[5 rows x 21 columns]"
            ],
            "text/html": [
              "\n",
              "  <div id=\"df-f12bd0d1-f1d9-4538-a6da-aa6b25eb6e32\">\n",
              "    <div class=\"colab-df-container\">\n",
              "      <div>\n",
              "<style scoped>\n",
              "    .dataframe tbody tr th:only-of-type {\n",
              "        vertical-align: middle;\n",
              "    }\n",
              "\n",
              "    .dataframe tbody tr th {\n",
              "        vertical-align: top;\n",
              "    }\n",
              "\n",
              "    .dataframe thead th {\n",
              "        text-align: right;\n",
              "    }\n",
              "</style>\n",
              "<table border=\"1\" class=\"dataframe\">\n",
              "  <thead>\n",
              "    <tr style=\"text-align: right;\">\n",
              "      <th></th>\n",
              "      <th>SiteEnergyUse(kBtu)</th>\n",
              "      <th>TotalGHGEmissions</th>\n",
              "      <th>NumberofBuildings</th>\n",
              "      <th>NumberofFloors</th>\n",
              "      <th>PropertyGFATotal</th>\n",
              "      <th>PropertyGFAParking</th>\n",
              "      <th>PropertyGFABuilding(s)</th>\n",
              "      <th>ENERGYSTARScore</th>\n",
              "      <th>age_batiment</th>\n",
              "      <th>LargestPropertyUseType</th>\n",
              "      <th>...</th>\n",
              "      <th>BuildingType</th>\n",
              "      <th>Ratio_buildingParSurface</th>\n",
              "      <th>Ratio_parkingParSurface</th>\n",
              "      <th>SurfaceParetage</th>\n",
              "      <th>ComplianceStatus</th>\n",
              "      <th>Outlier</th>\n",
              "      <th>is_energyStarImputed</th>\n",
              "      <th>pr_steam</th>\n",
              "      <th>pr_natural</th>\n",
              "      <th>pr_elec</th>\n",
              "    </tr>\n",
              "  </thead>\n",
              "  <tbody>\n",
              "    <tr>\n",
              "      <th>0</th>\n",
              "      <td>7226362.5</td>\n",
              "      <td>249.98</td>\n",
              "      <td>1.0</td>\n",
              "      <td>12</td>\n",
              "      <td>88434</td>\n",
              "      <td>0</td>\n",
              "      <td>88434</td>\n",
              "      <td>60.0</td>\n",
              "      <td>89</td>\n",
              "      <td>Hotel</td>\n",
              "      <td>...</td>\n",
              "      <td>NonResidential</td>\n",
              "      <td>1.00</td>\n",
              "      <td>0.000</td>\n",
              "      <td>6802.61538</td>\n",
              "      <td>Compliant</td>\n",
              "      <td>inconnue</td>\n",
              "      <td>False</td>\n",
              "      <td>0.277302</td>\n",
              "      <td>0.176638</td>\n",
              "      <td>0.546060</td>\n",
              "    </tr>\n",
              "    <tr>\n",
              "      <th>1</th>\n",
              "      <td>8387933.0</td>\n",
              "      <td>295.86</td>\n",
              "      <td>1.0</td>\n",
              "      <td>11</td>\n",
              "      <td>103566</td>\n",
              "      <td>15064</td>\n",
              "      <td>88502</td>\n",
              "      <td>61.0</td>\n",
              "      <td>20</td>\n",
              "      <td>Hotel</td>\n",
              "      <td>...</td>\n",
              "      <td>NonResidential</td>\n",
              "      <td>0.85</td>\n",
              "      <td>14.545</td>\n",
              "      <td>8630.50000</td>\n",
              "      <td>Compliant</td>\n",
              "      <td>inconnue</td>\n",
              "      <td>False</td>\n",
              "      <td>0.000000</td>\n",
              "      <td>0.613391</td>\n",
              "      <td>0.386609</td>\n",
              "    </tr>\n",
              "    <tr>\n",
              "      <th>2</th>\n",
              "      <td>72587024.0</td>\n",
              "      <td>2089.28</td>\n",
              "      <td>1.0</td>\n",
              "      <td>41</td>\n",
              "      <td>956110</td>\n",
              "      <td>196718</td>\n",
              "      <td>759392</td>\n",
              "      <td>43.0</td>\n",
              "      <td>47</td>\n",
              "      <td>Hotel</td>\n",
              "      <td>...</td>\n",
              "      <td>NonResidential</td>\n",
              "      <td>0.79</td>\n",
              "      <td>20.575</td>\n",
              "      <td>22764.52381</td>\n",
              "      <td>Compliant</td>\n",
              "      <td>inconnue</td>\n",
              "      <td>False</td>\n",
              "      <td>0.297113</td>\n",
              "      <td>0.020579</td>\n",
              "      <td>0.682307</td>\n",
              "    </tr>\n",
              "    <tr>\n",
              "      <th>3</th>\n",
              "      <td>6794584.0</td>\n",
              "      <td>286.43</td>\n",
              "      <td>1.0</td>\n",
              "      <td>10</td>\n",
              "      <td>61320</td>\n",
              "      <td>0</td>\n",
              "      <td>61320</td>\n",
              "      <td>56.0</td>\n",
              "      <td>90</td>\n",
              "      <td>Hotel</td>\n",
              "      <td>...</td>\n",
              "      <td>NonResidential</td>\n",
              "      <td>1.00</td>\n",
              "      <td>0.000</td>\n",
              "      <td>5574.54545</td>\n",
              "      <td>Compliant</td>\n",
              "      <td>inconnue</td>\n",
              "      <td>False</td>\n",
              "      <td>0.325913</td>\n",
              "      <td>0.266567</td>\n",
              "      <td>0.407519</td>\n",
              "    </tr>\n",
              "    <tr>\n",
              "      <th>4</th>\n",
              "      <td>14172606.0</td>\n",
              "      <td>505.01</td>\n",
              "      <td>1.0</td>\n",
              "      <td>18</td>\n",
              "      <td>175580</td>\n",
              "      <td>62000</td>\n",
              "      <td>113580</td>\n",
              "      <td>75.0</td>\n",
              "      <td>36</td>\n",
              "      <td>Hotel</td>\n",
              "      <td>...</td>\n",
              "      <td>NonResidential</td>\n",
              "      <td>0.65</td>\n",
              "      <td>35.312</td>\n",
              "      <td>9241.05263</td>\n",
              "      <td>Compliant</td>\n",
              "      <td>inconnue</td>\n",
              "      <td>False</td>\n",
              "      <td>0.000000</td>\n",
              "      <td>0.621198</td>\n",
              "      <td>0.378802</td>\n",
              "    </tr>\n",
              "  </tbody>\n",
              "</table>\n",
              "<p>5 rows × 21 columns</p>\n",
              "</div>\n",
              "      <button class=\"colab-df-convert\" onclick=\"convertToInteractive('df-f12bd0d1-f1d9-4538-a6da-aa6b25eb6e32')\"\n",
              "              title=\"Convert this dataframe to an interactive table.\"\n",
              "              style=\"display:none;\">\n",
              "        \n",
              "  <svg xmlns=\"http://www.w3.org/2000/svg\" height=\"24px\"viewBox=\"0 0 24 24\"\n",
              "       width=\"24px\">\n",
              "    <path d=\"M0 0h24v24H0V0z\" fill=\"none\"/>\n",
              "    <path d=\"M18.56 5.44l.94 2.06.94-2.06 2.06-.94-2.06-.94-.94-2.06-.94 2.06-2.06.94zm-11 1L8.5 8.5l.94-2.06 2.06-.94-2.06-.94L8.5 2.5l-.94 2.06-2.06.94zm10 10l.94 2.06.94-2.06 2.06-.94-2.06-.94-.94-2.06-.94 2.06-2.06.94z\"/><path d=\"M17.41 7.96l-1.37-1.37c-.4-.4-.92-.59-1.43-.59-.52 0-1.04.2-1.43.59L10.3 9.45l-7.72 7.72c-.78.78-.78 2.05 0 2.83L4 21.41c.39.39.9.59 1.41.59.51 0 1.02-.2 1.41-.59l7.78-7.78 2.81-2.81c.8-.78.8-2.07 0-2.86zM5.41 20L4 18.59l7.72-7.72 1.47 1.35L5.41 20z\"/>\n",
              "  </svg>\n",
              "      </button>\n",
              "      \n",
              "  <style>\n",
              "    .colab-df-container {\n",
              "      display:flex;\n",
              "      flex-wrap:wrap;\n",
              "      gap: 12px;\n",
              "    }\n",
              "\n",
              "    .colab-df-convert {\n",
              "      background-color: #E8F0FE;\n",
              "      border: none;\n",
              "      border-radius: 50%;\n",
              "      cursor: pointer;\n",
              "      display: none;\n",
              "      fill: #1967D2;\n",
              "      height: 32px;\n",
              "      padding: 0 0 0 0;\n",
              "      width: 32px;\n",
              "    }\n",
              "\n",
              "    .colab-df-convert:hover {\n",
              "      background-color: #E2EBFA;\n",
              "      box-shadow: 0px 1px 2px rgba(60, 64, 67, 0.3), 0px 1px 3px 1px rgba(60, 64, 67, 0.15);\n",
              "      fill: #174EA6;\n",
              "    }\n",
              "\n",
              "    [theme=dark] .colab-df-convert {\n",
              "      background-color: #3B4455;\n",
              "      fill: #D2E3FC;\n",
              "    }\n",
              "\n",
              "    [theme=dark] .colab-df-convert:hover {\n",
              "      background-color: #434B5C;\n",
              "      box-shadow: 0px 1px 3px 1px rgba(0, 0, 0, 0.15);\n",
              "      filter: drop-shadow(0px 1px 2px rgba(0, 0, 0, 0.3));\n",
              "      fill: #FFFFFF;\n",
              "    }\n",
              "  </style>\n",
              "\n",
              "      <script>\n",
              "        const buttonEl =\n",
              "          document.querySelector('#df-f12bd0d1-f1d9-4538-a6da-aa6b25eb6e32 button.colab-df-convert');\n",
              "        buttonEl.style.display =\n",
              "          google.colab.kernel.accessAllowed ? 'block' : 'none';\n",
              "\n",
              "        async function convertToInteractive(key) {\n",
              "          const element = document.querySelector('#df-f12bd0d1-f1d9-4538-a6da-aa6b25eb6e32');\n",
              "          const dataTable =\n",
              "            await google.colab.kernel.invokeFunction('convertToInteractive',\n",
              "                                                     [key], {});\n",
              "          if (!dataTable) return;\n",
              "\n",
              "          const docLinkHtml = 'Like what you see? Visit the ' +\n",
              "            '<a target=\"_blank\" href=https://colab.research.google.com/notebooks/data_table.ipynb>data table notebook</a>'\n",
              "            + ' to learn more about interactive tables.';\n",
              "          element.innerHTML = '';\n",
              "          dataTable['output_type'] = 'display_data';\n",
              "          await google.colab.output.renderOutput(dataTable, element);\n",
              "          const docLink = document.createElement('div');\n",
              "          docLink.innerHTML = docLinkHtml;\n",
              "          element.appendChild(docLink);\n",
              "        }\n",
              "      </script>\n",
              "    </div>\n",
              "  </div>\n",
              "  "
            ]
          },
          "metadata": {},
          "execution_count": 343
        }
      ]
    },
    {
      "cell_type": "markdown",
      "metadata": {
        "id": "nMtT7-s3TNuZ"
      },
      "source": [
        "#Modélisation : Prédiction de la consommation d'énergie"
      ]
    },
    {
      "cell_type": "markdown",
      "metadata": {
        "id": "Br6s0rkDplHH"
      },
      "source": [
        "### Selection des variables \n",
        "---\n",
        "\n"
      ]
    },
    {
      "cell_type": "code",
      "execution_count": 344,
      "metadata": {
        "id": "LHrSUK8_phPL"
      },
      "outputs": [],
      "source": [
        "X= data_model[['NumberofBuildings','NumberofFloors', 'ENERGYSTARScore','PropertyGFATotal','age_batiment','PrimaryPropertyType','Ratio_parkingParSurface','LargestPropertyUseType','pr_steam','pr_natural','pr_elec']]\n",
        "Y = data_model[['SiteEnergyUse(kBtu)','TotalGHGEmissions']]"
      ]
    },
    {
      "cell_type": "markdown",
      "source": [
        "### Transformation logarithmique de notre variable **SiteEnergyUse(kBtu)**\n",
        "---"
      ],
      "metadata": {
        "id": "LHDm8e3PC2lS"
      }
    },
    {
      "cell_type": "code",
      "execution_count": 345,
      "metadata": {
        "colab": {
          "base_uri": "https://localhost:8080/",
          "height": 513
        },
        "id": "jqoO5a8UpnpN",
        "outputId": "92ed72e2-d6e5-46f6-b7cd-4b4bba2ed1a3"
      },
      "outputs": [
        {
          "output_type": "display_data",
          "data": {
            "text/plain": [
              "<Figure size 1440x576 with 2 Axes>"
            ],
            "image/png": "[encoded data removed]"
          },
          "metadata": {
            "needs_background": "light"
          }
        }
      ],
      "source": [
        "from sklearn.preprocessing import FunctionTransformer\n",
        "\n",
        "logtransformer = FunctionTransformer(np.log, inverse_func = np.exp, check_inverse = True)\n",
        "Y_log = logtransformer.transform(Y)\n",
        "fig, axes = plt.subplots(nrows=1, ncols=2, sharex=False, sharey=False, figsize=(20,8))\n",
        "sns.histplot(data=Y, x='SiteEnergyUse(kBtu)', stat=\"density\", ax=axes[0],color='#b7922c')\n",
        "axes[0].set_title(\"Données initiales\", color='#2cb7b0')\n",
        "sns.histplot(data=Y_log, x='SiteEnergyUse(kBtu)', stat=\"density\", ax=axes[1], color='#b7922c')\n",
        "axes[1].set_title(\"Transformation logarithmique\", color='#2cb7b0')\n",
        "\n",
        "plt.show()"
      ]
    },
    {
      "cell_type": "markdown",
      "source": [
        "### Création de Pipeline de transformation des variables : Scaling et One-hot econding \n",
        "---"
      ],
      "metadata": {
        "id": "xGjdufsRDMgN"
      }
    },
    {
      "cell_type": "code",
      "execution_count": 346,
      "metadata": {
        "id": "H9UjM03WDs8t"
      },
      "outputs": [],
      "source": [
        "# Séparation des variables numériques et des variables qualitatives\n",
        "numerical_features  =  ['NumberofBuildings','NumberofFloors','PropertyGFATotal','ENERGYSTARScore','age_batiment','Ratio_parkingParSurface','pr_steam','pr_natural','pr_elec']\n",
        "categorical_features  = ['PrimaryPropertyType','LargestPropertyUseType']\n",
        "\n",
        "global  X_train, X_test, Y_train, Y_test\n",
        "X_train, X_test, Y_train, Y_test = train_test_split(X, Y, test_size=0.2, random_state=65, shuffle=True)\n",
        "\n",
        "\n",
        "numerical_pipeline = Pipeline(steps=[\n",
        "      #('impute', SimpleImputer(strategy='mean')),\n",
        "      ('scale', StandardScaler())   \n",
        "  ])\n",
        "categorical_pipeline= Pipeline(steps=[\n",
        "      #('impute', SimpleImputer(strategy='most_frequent')),\n",
        "      ('one-hot',OneHotEncoder())\n",
        "  ])\n",
        "\n",
        "\n",
        "# Création d'un ColumnTransformer pour appliquer un pipeline pour chaque type de colonne\n",
        "\n",
        "preprocessor = ColumnTransformer(transformers=[\n",
        "      ('numerical_pipeline',numerical_pipeline,numerical_features),\n",
        "      ('categorical_pipeline=',categorical_pipeline,categorical_features )\n",
        "      ],\n",
        "      remainder='passthrough',\n",
        "      n_jobs=-1,\n",
        "      )\n"
      ]
    },
    {
      "cell_type": "markdown",
      "source": [
        "### Modèle baseline\n",
        "---"
      ],
      "metadata": {
        "id": "AEW055E23tNc"
      }
    },
    {
      "cell_type": "code",
      "source": [
        "from sklearn.model_selection import cross_val_score\n",
        "from sklearn.model_selection import KFold\n",
        "from sklearn.metrics import  make_scorer\n",
        "from sklearn.neighbors import KNeighborsRegressor\n",
        "from sklearn.ensemble import BaggingRegressor\n",
        "from sklearn.svm import SVR\n",
        "from sklearn.model_selection import RandomizedSearchCV\n",
        "\n",
        "cv = KFold(n_splits=5, shuffle=True, random_state=45)\n",
        "\n",
        "\"\"\"model_baseline= Pipeline(\n",
        "    steps=[(\"preprocessor\", preprocessor), (\"DUM\", TransformedTargetRegressor(regressor= BaggingRegressor(random_state=0, n_jobs=-1) ,func=np.log1p, inverse_func=np.expm1))]\n",
        ")\"\"\"\n",
        " \n",
        "\"\"\"dummy_param_grid = {'DUM__regressor__base_estimator': [ ElasticNet(alpha=1.5), LinearSVR()],\n",
        "          'DUM__regressor__n_estimators': [20,50,100],\n",
        "          'DUM__regressor__max_samples': [0.5,1.0, 2],\n",
        "          'DUM__regressor__max_features': [0.5,1.0, 2],\n",
        "          'DUM__regressor__bootstrap': [True, False],\n",
        "          'DUM__regressor__bootstrap_features': [True, False]}\"\"\"\n",
        "\n",
        "\n",
        "model_baseline= Pipeline(\n",
        "    steps=[(\"preprocessor\", preprocessor), (\"DUM\", TransformedTargetRegressor(regressor= DummyRegressor()  ,func=np.log1p, inverse_func=np.expm1))]\n",
        ")\n",
        "\n",
        "dummy_param_grid = [ {\"DUM__regressor__strategy\": [\"mean\"]} ]   \n",
        "\n",
        "myscore = ('r2','neg_mean_absolute_error')\n",
        "dummy_grid_search = GridSearchCV(estimator=model_baseline,\n",
        "        param_grid=dummy_param_grid,\n",
        "        scoring=myscore, refit='neg_mean_absolute_error', n_jobs=-1,\n",
        "        cv=cv,return_train_score=True) \n",
        "#cross_val_score(model_baseline, X_train, Y_train['SiteEnergyUse(kBtu)'], cv=cv,scoring=r2)"
      ],
      "metadata": {
        "id": "BHjBXpFa3Aop"
      },
      "execution_count": 347,
      "outputs": []
    },
    {
      "cell_type": "code",
      "source": [
        "dumy_model=dummy_grid_search.fit (X_train, Y_train['SiteEnergyUse(kBtu)'])"
      ],
      "metadata": {
        "id": "7SsKzIfm5hkH"
      },
      "execution_count": 348,
      "outputs": []
    },
    {
      "cell_type": "code",
      "source": [
        "y_test = Y_test['SiteEnergyUse(kBtu)']\n",
        "y_pred= dummy_grid_search.predict(X_test)\n",
        "print ( \"R2 : \" , round(r2_score (y_test, y_pred),2) ,  \"| MAE :\", round(mean_absolute_error (y_test, y_pred),2), ' | RMSE :', np.sqrt(round(mean_squared_error (y_test, y_pred),2) ))"
      ],
      "metadata": {
        "colab": {
          "base_uri": "https://localhost:8080/"
        },
        "id": "44Pl9YD81UaT",
        "outputId": "991d212c-09cc-4947-ffda-40ebdee21677"
      },
      "execution_count": 349,
      "outputs": [
        {
          "output_type": "stream",
          "name": "stdout",
          "text": [
            "R2 :  -0.06 | MAE : 6429863.54  | RMSE : 19107085.00222643\n"
          ]
        }
      ]
    },
    {
      "cell_type": "code",
      "source": [
        "y_train = Y_train['SiteEnergyUse(kBtu)']\n",
        "y_pred_train= dummy_grid_search.predict(X_train)\n",
        "print ( \"R2 : \" , round(r2_score (y_train, y_pred_train),2) ,  \"| MAE :\", round(mean_absolute_error (y_train, y_pred_train),2), ' | RMSE :', np.sqrt(round(mean_squared_error (y_train, y_pred_train),2) ))"
      ],
      "metadata": {
        "colab": {
          "base_uri": "https://localhost:8080/"
        },
        "id": "rpClxE6asEzI",
        "outputId": "f788e938-a9c3-4114-c564-40466e3ba7d2"
      },
      "execution_count": 350,
      "outputs": [
        {
          "output_type": "stream",
          "name": "stdout",
          "text": [
            "R2 :  -0.06 | MAE : 6327332.56  | RMSE : 19405602.063545022\n"
          ]
        }
      ]
    },
    {
      "cell_type": "markdown",
      "source": [
        "Qualité prédictive de notre modèle baseline."
      ],
      "metadata": {
        "id": "u2nmV_o569AI"
      }
    },
    {
      "cell_type": "code",
      "execution_count": 351,
      "metadata": {
        "id": "mcV-GyLyRhK-",
        "colab": {
          "base_uri": "https://localhost:8080/",
          "height": 363
        },
        "outputId": "93489719-62d3-4d25-bc29-e1478e1478c5"
      },
      "outputs": [
        {
          "output_type": "execute_result",
          "data": {
            "text/plain": [
              "<matplotlib.axes._subplots.AxesSubplot at 0x7f45d65baca0>"
            ]
          },
          "metadata": {},
          "execution_count": 351
        },
        {
          "output_type": "display_data",
          "data": {
            "text/plain": [
              "<Figure size 1152x360 with 1 Axes>"
            ],
            "image/png": "[encoded data removed]"
          },
          "metadata": {
            "needs_background": "light"
          }
        }
      ],
      "source": [
        "# traçage de y_test versus y_pred\n",
        "# l'idéal c'est que tous les points doivent le plus possible être aliognés sur la droite.\n",
        "\n",
        "plt.figure(figsize=(16,5))\n",
        "p1 = max(max(y_test), max(y_pred))\n",
        "p2 = min(min(y_test), min(y_pred))\n",
        "plt.plot([p1, p2], [p1, p2], 'b-')\n",
        "sns.scatterplot(x=y_test, y=y_pred)"
      ]
    },
    {
      "cell_type": "code",
      "source": [
        "print ( \"R2 : \" , round(r2_score (y_test, y_pred),2) ,  \"| MAE :\", round(mean_absolute_error (y_test, y_pred),2), ' | RMSE :', np.sqrt(round(mean_squared_error (y_test, y_pred),2) ))"
      ],
      "metadata": {
        "colab": {
          "base_uri": "https://localhost:8080/"
        },
        "id": "pxiZ-gHPBCIF",
        "outputId": "d7bda827-b721-4146-aff0-726e802025a9"
      },
      "execution_count": 352,
      "outputs": [
        {
          "output_type": "stream",
          "name": "stdout",
          "text": [
            "R2 :  -0.06 | MAE : 6429863.54  | RMSE : 19107085.00222643\n"
          ]
        }
      ]
    },
    {
      "cell_type": "markdown",
      "source": [
        "### Code get feauture name"
      ],
      "metadata": {
        "id": "qim3IO47XmUn"
      }
    },
    {
      "cell_type": "code",
      "source": [
        "# Code copié à partir du site : https://bbakiu.medium.com/extracting-feature-names-from-the-columntransformer-f1bed520aeba\n",
        "import warnings\n",
        "\n",
        "from sklearn.pipeline import Pipeline\n",
        "\n",
        "def get_feature_names(column_transformer):\n",
        "    \"\"\"Get feature names from all transformers.\n",
        "    Returns\n",
        "    -------\n",
        "    feature_names : list of strings\n",
        "        Names of the features produced by transform.\n",
        "    \"\"\"\n",
        "    \n",
        "    \n",
        "    # Get columns and bin edges\n",
        "    def pair_bin_edges_columns(bins_edges, columns):\n",
        "        all_edge_column = []\n",
        "        for index in range(len(columns)):\n",
        "            bin_edge = bins_edges[index]\n",
        "            column = columns[index]\n",
        "            \n",
        "            pair_bin_edge = []\n",
        "            # match consecutive bin edges together\n",
        "            for first, second in zip(bin_edge, bin_edge[1:]):\n",
        "                pair_bin_edge.append((first, second))\n",
        "            \n",
        "            bin_edge_column = [column +\": [\"+ str(edge[0]) +\", \"+ str(edge[1])+\")\"  for edge in pair_bin_edge]\n",
        "            all_edge_column.extend(bin_edge_column)\n",
        "        return all_edge_column\n",
        "    \n",
        "    \n",
        "    \n",
        "    # Turn loopkup into function for better handling with pipeline later\n",
        "    def get_names(trans):\n",
        "        # >> Original get_feature_names() method\n",
        "        if trans == 'drop' or (\n",
        "                hasattr(column, '__len__') and not len(column)):\n",
        "            return []\n",
        "        if trans == 'passthrough':\n",
        "            if hasattr(column_transformer, '_df_columns'):\n",
        "                if ((not isinstance(column, slice))\n",
        "                        and all(isinstance(col, str) for col in column)):\n",
        "                    return column\n",
        "                else:\n",
        "                    return column_transformer._df_columns[column]\n",
        "            else:\n",
        "                indices = np.arange(column_transformer._n_features)\n",
        "                return ['x%d' % i for i in indices[column]]\n",
        "        if not hasattr(trans, 'get_feature_names'):\n",
        "        # >>> Change: Return input column names if no method avaiable\n",
        "            # Turn error into a warning\n",
        "            warnings.warn(\"Transformer %s (type %s) does not \"\n",
        "                                 \"provide get_feature_names. \"\n",
        "                                 \"Will return input column names if available\"\n",
        "                                 % (str(name), type(trans).__name__))\n",
        "            # For transformers without a get_features_names method, use the input\n",
        "            # names to the column transformer\n",
        "            \n",
        "            # For transformers that create bins\n",
        "            if hasattr(trans, 'bin_edges_'):\n",
        "                bins_edges = trans.bin_edges_\n",
        "                pairs_edges_columns = pair_bin_edges_columns(bins_edges, column)\n",
        "            if column is None:\n",
        "                return []\n",
        "            else:\n",
        "                return [name + \"__\" + f for f in pairs_edges_columns]\n",
        "        return [name + \"__\" + f for f in trans.get_feature_names(column)]\n",
        "    \n",
        "    ### Start of processing\n",
        "    feature_names = []\n",
        "    \n",
        "    # Allow transformers to be pipelines. Pipeline steps are named differently, so preprocessing is needed\n",
        "    if type(column_transformer) == Pipeline:\n",
        "        l_transformers = [(name, trans, None, None) for step, name, trans in column_transformer._iter()]\n",
        "    else:\n",
        "        # For column transformers, follow the original method\n",
        "        l_transformers = list(column_transformer._iter(fitted=True))\n",
        "    \n",
        "    for name, trans, column, _ in l_transformers:\n",
        "        if type(trans) == Pipeline:\n",
        "            # Recursive call on pipeline\n",
        "            _names = get_feature_names(trans)\n",
        "            # if pipeline has no transformer that returns names\n",
        "            if len(_names)==0:\n",
        "                _names = [name + \"__\" + f for f in column]\n",
        "            feature_names.extend(_names)\n",
        "        else:\n",
        "            feature_names.extend(get_names(trans))\n",
        "    \n",
        "    return feature_names"
      ],
      "metadata": {
        "id": "YP0gOSUkXlxy"
      },
      "execution_count": 353,
      "outputs": []
    },
    {
      "cell_type": "markdown",
      "source": [],
      "metadata": {
        "id": "Ni3g5feRi-N1"
      }
    },
    {
      "cell_type": "code",
      "source": [
        "#feat_importances.plot(kind='barh(a'\"')"
      ],
      "metadata": {
        "id": "OPDqLxpfwITr"
      },
      "execution_count": 354,
      "outputs": []
    },
    {
      "cell_type": "markdown",
      "source": [
        "### GridSearch pour les différents modèles \n",
        "---"
      ],
      "metadata": {
        "id": "F8ZjOuNmDClO"
      }
    },
    {
      "cell_type": "markdown",
      "metadata": {
        "id": "xVz3PRKYGRd3"
      },
      "source": [
        "Pipeline, paramètre  et Gridsearch de tous les modèles à tester. J'ai en premier effectué un RandomisedSearch pour détecter les meilleurs hyperparamètre pour chaque modèle, puis j'ai effectué un GridSearch avec les paramètres trouvés avec le RandomisedSearch. Cela premet de réduire le temps d'execution de notre code vu qu'on peut être amené à l'excuter plusieurs fois."
      ]
    },
    {
      "cell_type": "code",
      "execution_count": 355,
      "metadata": {
        "id": "4V7lVYxOuXJK"
      },
      "outputs": [],
      "source": [
        "#Régression linéaire multiple\n",
        "from sklearn.compose import TransformedTargetRegressor\n",
        "from sklearn.model_selection import RandomizedSearchCV\n",
        "nb_split = 5\n",
        "score = ['accuracy','neg_mean_absolute_error']\n",
        "\n",
        "pipe_lr = Pipeline(\n",
        "    steps=[(\"preprocessor\", preprocessor), (\"LR\", TransformedTargetRegressor(regressor=LinearRegression(), func=np.log1p, inverse_func=np.expm1) )]\n",
        ")\n",
        "\n",
        "myscore = ('r2','neg_mean_absolute_error','neg_mean_squared_error')\n",
        "\n",
        "lr_param_grid = [ {\"LR__regressor__fit_intercept\": [True, False]}   ] \n",
        "\n",
        "\n",
        "lr_grid_search = GridSearchCV(estimator=pipe_lr,\n",
        "        param_grid=lr_param_grid, refit='neg_mean_absolute_error',\n",
        "        scoring=myscore, n_jobs=-1,\n",
        "        cv=nb_split,return_train_score=True)\n",
        "\n",
        "\n",
        "#Elastic Net\n",
        "\n",
        "pipe_elastic = Pipeline(\n",
        "    steps=[(\"preprocessor\", preprocessor), (\"ELN\", TransformedTargetRegressor(regressor=ElasticNet() ,func=np.log, inverse_func=np.exp) )]\n",
        ")\n",
        "## Paramaètre du randomize search\n",
        "\"\"\"elastic_param_grid = [     {\"ELN__regressor__max_iter\": [10, 100, 1000],\n",
        "                            \"ELN__regressor__alpha\": np.logspace(-5, 5, num=10),  # alpha plus grand --- - 5 à 5 , augmenter la granularité\n",
        "                             \"ELN__regressor__l1_ratio\": np.arange(0.0, 1.1, 0.1) } ]   \"\"\"\n",
        "\n",
        "elastic_param_grid ={'ELN__regressor__alpha': [1.5],\n",
        " 'ELN__regressor__l1_ratio':[ 0.0 ],\n",
        " 'ELN__regressor__max_iter': [100]}\n",
        "\n",
        "elastic_grid_search = GridSearchCV(estimator=pipe_elastic,\n",
        "        param_grid=elastic_param_grid,\n",
        "        scoring=myscore, refit='neg_mean_absolute_error', n_jobs=-1,\n",
        "        cv=nb_split,return_train_score=True) \n",
        "\n",
        "# Linear SVM\n",
        "pipe_lsvr =Pipeline(\n",
        "    steps=[(\"preprocessor\", preprocessor), (\"LSVR\", TransformedTargetRegressor(regressor=LinearSVR() ,func=np.log, inverse_func=np.exp) )]\n",
        ")\n",
        "\n",
        "\"\"\"lsvr_param_grid = [      {'LSVR__regressor__C' : np.logspace(-4, 0, 5),\n",
        "                          'LSVR__regressor__epsilon' : [0, 0.01, 0.1, 0.5, 1, 2],\n",
        "                         'LSVR__regressor__loss' : [\"epsilon_insensitive\",\"squared_epsilon_insensitive\"],\n",
        "                          'LSVR__regressor__max_iter': [10, 100, 1000]}   ] \"\"\"\n",
        "\n",
        "\n",
        "lsvr_param_grid ={'LSVR__regressor__C': [0.1],\n",
        " 'LSVR__regressor__epsilon': [0.01],\n",
        " 'LSVR__regressor__loss': ['squared_epsilon_insensitive'],\n",
        " 'LSVR__regressor__max_iter': [10]}\n",
        "\n",
        "\n",
        "\n",
        "lsvr_grid_search = GridSearchCV(estimator=pipe_lsvr,\n",
        "        param_grid=lsvr_param_grid,\n",
        "        scoring=myscore, refit='neg_mean_absolute_error', n_jobs=-1,\n",
        "        cv=nb_split, return_train_score=True)\n",
        "\n",
        "\n",
        "# Random Forest\n",
        "pipe_rfr= Pipeline(\n",
        "    steps=[(\"preprocessor\", preprocessor), (\"RFR\", TransformedTargetRegressor(regressor=RandomForestRegressor() ,func=np.log, inverse_func=np.exp) )]\n",
        ")\n",
        "\n",
        "# Paramètre pour le Randomize search\n",
        "\"\"\"rfr_param_grid = [ {'RFR__regressor__max_features' : ['sqrt', 'log2'],\n",
        "                   'RFR__regressor__max_depth': [15, 25, 200],\n",
        "                   'RFR__regressor__min_samples_split': [2, 7, 8],\n",
        "                   'RFR__regressor__bootstrap' : [True, False],\n",
        "                   'RFR__regressor__min_samples_leaf': [1,2,5]}\"\"\"\n",
        "\n",
        "rfr_param_grid={'RFR__regressor__bootstrap': [False],\n",
        "                'RFR__regressor__max_depth': [25,50],\n",
        "                'RFR__regressor__max_features': ['sqrt'],\n",
        "                'RFR__regressor__min_samples_leaf': [1],\n",
        "                'RFR__regressor__min_samples_split': [2]}\n",
        "                                                      \n",
        "rfr_grid_search = GridSearchCV(estimator=pipe_rfr,\n",
        "       param_grid=rfr_param_grid,\n",
        "        scoring=myscore, refit='neg_mean_absolute_error', n_jobs=-1,\n",
        "        cv=nb_split, return_train_score=True)                                                  \n",
        "                                                 \n",
        "# Rajouter une métrique pour GridSearch\n",
        "# Xgboost Regressor\n",
        "\n",
        "\n",
        "pipe_extra = Pipeline(\n",
        "    steps=[(\"preprocessor\", preprocessor), (\"MLP\", TransformedTargetRegressor(regressor=ExtraTreesRegressor(random_state=0) ,func=np.log, inverse_func=np.exp) ) ] \n",
        ")\n",
        "\n",
        "## Paramaètre du randomize search\n",
        "\"\"\"  {'MLP__regressor__n_estimators':[350,500],\n",
        "         'MLP__regressor__max_depth':[8,9,10],\n",
        "         'MLP__regressor__min_samples_split':[3,4,6],\n",
        "         'MLP__regressor__min_samples_leaf':[2,3,4],\n",
        "         'MLP__regressor__max_features':[0.95],\n",
        "         'MLP__regressor__min_impurity_decrease':[1e-5,1e-4,0]}  \"\"\"\n",
        "\n",
        "## Paramètre choisis  pour le gridsearch après le Randomize search\n",
        "param_grid_mlp = {'MLP__regressor__n_estimators': [350],\n",
        " 'MLP__regressor__min_samples_split':[ 3],\n",
        " 'MLP__regressor__min_samples_leaf': [2],\n",
        " 'MLP__regressor__min_impurity_decrease': [1e-05],\n",
        " 'MLP__regressor__max_features': [0.95],\n",
        " 'MLP__regressor__max_depth': [10]}\n",
        "\n",
        "\n",
        "\n",
        "\n",
        "extraTree_grid_search = GridSearchCV(estimator=pipe_extra,\n",
        "        param_grid =param_grid_mlp,\n",
        "        scoring=myscore, refit='neg_mean_absolute_error', n_jobs=-1,\n",
        "        cv=nb_split, return_train_score=True) \n",
        "\n",
        "# Gradient boost\n",
        "pipe_gb= Pipeline(\n",
        "    steps=[(\"preprocessor\", preprocessor), (\"GB\", TransformedTargetRegressor(regressor=GradientBoostingRegressor() ,func=np.log, inverse_func=np.exp) )]\n",
        ")\n",
        "\n",
        "# Paramètre du randomized Search\n",
        "\"\"\"param_grid_GrBoostR = [{'GB__regressor__n_estimators': [350,500,700], \n",
        "                        'GB__regressor__max_depth': [5,6,7], \n",
        "                        'GB__regressor__min_samples_split': [2,3,4], \n",
        "                        'GB__regressor__learning_rate': [0.01,0.1], \n",
        "                        'GB__regressor__loss': ['ls'],\n",
        "                       \"GB__regressor__random_state\" : [0]\n",
        "                       }] \"\"\"\n",
        "\n",
        "param_grid_GrBoostR={'GB__regressor__random_state': [0],\n",
        "                    'GB__regressor__n_estimators': [350],\n",
        "                    'GB__regressor__min_samples_split': [3],\n",
        "                    'GB__regressor__max_depth': [5],\n",
        "                    'GB__regressor__loss': ['ls'],\n",
        "                    'GB__regressor__learning_rate': [0.1]}\n",
        "\n",
        "gb_grid_search =  GridSearchCV(estimator=pipe_gb,\n",
        "         param_grid=param_grid_GrBoostR,\n",
        "        scoring=myscore, refit='neg_mean_absolute_error', n_jobs=-1,\n",
        "        cv=nb_split, return_train_score=True)   \n"
      ]
    },
    {
      "cell_type": "markdown",
      "source": [
        "Architecture de base de chaque modèle"
      ],
      "metadata": {
        "id": "a8xWezA2Qup2"
      }
    },
    {
      "cell_type": "code",
      "source": [
        "lr_grid_search"
      ],
      "metadata": {
        "colab": {
          "base_uri": "https://localhost:8080/",
          "height": 233
        },
        "id": "D92TyAjdQyK1",
        "outputId": "5e20840b-d648-4fc7-dabb-e01652515d72"
      },
      "execution_count": 356,
      "outputs": [
        {
          "output_type": "execute_result",
          "data": {
            "text/plain": [
              "GridSearchCV(cv=5,\n",
              "             estimator=Pipeline(steps=[('preprocessor',\n",
              "                                        ColumnTransformer(n_jobs=-1,\n",
              "                                                          remainder='passthrough',\n",
              "                                                          transformers=[('numerical_pipeline',\n",
              "                                                                         Pipeline(steps=[('scale',\n",
              "                                                                                          StandardScaler())]),\n",
              "                                                                         ['NumberofBuildings',\n",
              "                                                                          'NumberofFloors',\n",
              "                                                                          'PropertyGFATotal',\n",
              "                                                                          'ENERGYSTARScore',\n",
              "                                                                          'age_batiment',\n",
              "                                                                          'Ratio_parkingParSurface',\n",
              "                                                                          'pr_steam',\n",
              "                                                                          'pr_natural',\n",
              "                                                                          'pr_elec']),\n",
              "                                                                        ('cat...\n",
              "                                                                         ['PrimaryPropertyType',\n",
              "                                                                          'LargestPropertyUseType'])])),\n",
              "                                       ('LR',\n",
              "                                        TransformedTargetRegressor(func=<ufunc 'log1p'>,\n",
              "                                                                   inverse_func=<ufunc 'expm1'>,\n",
              "                                                                   regressor=LinearRegression()))]),\n",
              "             n_jobs=-1,\n",
              "             param_grid=[{'LR__regressor__fit_intercept': [True, False]}],\n",
              "             refit='neg_mean_absolute_error', return_train_score=True,\n",
              "             scoring=('r2', 'neg_mean_absolute_error',\n",
              "                      'neg_mean_squared_error'))"
            ],
            "text/html": [
              "<style>#sk-816b8ca8-12c7-412e-ba79-fb34100c81d6 {color: black;background-color: white;}#sk-816b8ca8-12c7-412e-ba79-fb34100c81d6 pre{padding: 0;}#sk-816b8ca8-12c7-412e-ba79-fb34100c81d6 div.sk-toggleable {background-color: white;}#sk-816b8ca8-12c7-412e-ba79-fb34100c81d6 label.sk-toggleable__label {cursor: pointer;display: block;width: 100%;margin-bottom: 0;padding: 0.3em;box-sizing: border-box;text-align: center;}#sk-816b8ca8-12c7-412e-ba79-fb34100c81d6 label.sk-toggleable__label-arrow:before {content: \"▸\";float: left;margin-right: 0.25em;color: #696969;}#sk-816b8ca8-12c7-412e-ba79-fb34100c81d6 label.sk-toggleable__label-arrow:hover:before {color: black;}#sk-816b8ca8-12c7-412e-ba79-fb34100c81d6 div.sk-estimator:hover label.sk-toggleable__label-arrow:before {color: black;}#sk-816b8ca8-12c7-412e-ba79-fb34100c81d6 div.sk-toggleable__content {max-height: 0;max-width: 0;overflow: hidden;text-align: left;background-color: #f0f8ff;}#sk-816b8ca8-12c7-412e-ba79-fb34100c81d6 div.sk-toggleable__content pre {margin: 0.2em;color: black;border-radius: 0.25em;background-color: #f0f8ff;}#sk-816b8ca8-12c7-412e-ba79-fb34100c81d6 input.sk-toggleable__control:checked~div.sk-toggleable__content {max-height: 200px;max-width: 100%;overflow: auto;}#sk-816b8ca8-12c7-412e-ba79-fb34100c81d6 input.sk-toggleable__control:checked~label.sk-toggleable__label-arrow:before {content: \"▾\";}#sk-816b8ca8-12c7-412e-ba79-fb34100c81d6 div.sk-estimator input.sk-toggleable__control:checked~label.sk-toggleable__label {background-color: #d4ebff;}#sk-816b8ca8-12c7-412e-ba79-fb34100c81d6 div.sk-label input.sk-toggleable__control:checked~label.sk-toggleable__label {background-color: #d4ebff;}#sk-816b8ca8-12c7-412e-ba79-fb34100c81d6 input.sk-hidden--visually {border: 0;clip: rect(1px 1px 1px 1px);clip: rect(1px, 1px, 1px, 1px);height: 1px;margin: -1px;overflow: hidden;padding: 0;position: absolute;width: 1px;}#sk-816b8ca8-12c7-412e-ba79-fb34100c81d6 div.sk-estimator {font-family: monospace;background-color: #f0f8ff;border: 1px dotted black;border-radius: 0.25em;box-sizing: border-box;margin-bottom: 0.5em;}#sk-816b8ca8-12c7-412e-ba79-fb34100c81d6 div.sk-estimator:hover {background-color: #d4ebff;}#sk-816b8ca8-12c7-412e-ba79-fb34100c81d6 div.sk-parallel-item::after {content: \"\";width: 100%;border-bottom: 1px solid gray;flex-grow: 1;}#sk-816b8ca8-12c7-412e-ba79-fb34100c81d6 div.sk-label:hover label.sk-toggleable__label {background-color: #d4ebff;}#sk-816b8ca8-12c7-412e-ba79-fb34100c81d6 div.sk-serial::before {content: \"\";position: absolute;border-left: 1px solid gray;box-sizing: border-box;top: 2em;bottom: 0;left: 50%;}#sk-816b8ca8-12c7-412e-ba79-fb34100c81d6 div.sk-serial {display: flex;flex-direction: column;align-items: center;background-color: white;padding-right: 0.2em;padding-left: 0.2em;}#sk-816b8ca8-12c7-412e-ba79-fb34100c81d6 div.sk-item {z-index: 1;}#sk-816b8ca8-12c7-412e-ba79-fb34100c81d6 div.sk-parallel {display: flex;align-items: stretch;justify-content: center;background-color: white;}#sk-816b8ca8-12c7-412e-ba79-fb34100c81d6 div.sk-parallel::before {content: \"\";position: absolute;border-left: 1px solid gray;box-sizing: border-box;top: 2em;bottom: 0;left: 50%;}#sk-816b8ca8-12c7-412e-ba79-fb34100c81d6 div.sk-parallel-item {display: flex;flex-direction: column;position: relative;background-color: white;}#sk-816b8ca8-12c7-412e-ba79-fb34100c81d6 div.sk-parallel-item:first-child::after {align-self: flex-end;width: 50%;}#sk-816b8ca8-12c7-412e-ba79-fb34100c81d6 div.sk-parallel-item:last-child::after {align-self: flex-start;width: 50%;}#sk-816b8ca8-12c7-412e-ba79-fb34100c81d6 div.sk-parallel-item:only-child::after {width: 0;}#sk-816b8ca8-12c7-412e-ba79-fb34100c81d6 div.sk-dashed-wrapped {border: 1px dashed gray;margin: 0 0.4em 0.5em 0.4em;box-sizing: border-box;padding-bottom: 0.4em;background-color: white;position: relative;}#sk-816b8ca8-12c7-412e-ba79-fb34100c81d6 div.sk-label label {font-family: monospace;font-weight: bold;background-color: white;display: inline-block;line-height: 1.2em;}#sk-816b8ca8-12c7-412e-ba79-fb34100c81d6 div.sk-label-container {position: relative;z-index: 2;text-align: center;}#sk-816b8ca8-12c7-412e-ba79-fb34100c81d6 div.sk-container {/* jupyter's `normalize.less` sets `[hidden] { display: none; }` but bootstrap.min.css set `[hidden] { display: none !important; }` so we also need the `!important` here to be able to override the default hidden behavior on the sphinx rendered scikit-learn.org. See: https://github.com/scikit-learn/scikit-learn/issues/21755 */display: inline-block !important;position: relative;}#sk-816b8ca8-12c7-412e-ba79-fb34100c81d6 div.sk-text-repr-fallback {display: none;}</style><div id=\"sk-816b8ca8-12c7-412e-ba79-fb34100c81d6\" class=\"sk-top-container\"><div class=\"sk-text-repr-fallback\"><pre>GridSearchCV(cv=5,\n",
              "             estimator=Pipeline(steps=[(&#x27;preprocessor&#x27;,\n",
              "                                        ColumnTransformer(n_jobs=-1,\n",
              "                                                          remainder=&#x27;passthrough&#x27;,\n",
              "                                                          transformers=[(&#x27;numerical_pipeline&#x27;,\n",
              "                                                                         Pipeline(steps=[(&#x27;scale&#x27;,\n",
              "                                                                                          StandardScaler())]),\n",
              "                                                                         [&#x27;NumberofBuildings&#x27;,\n",
              "                                                                          &#x27;NumberofFloors&#x27;,\n",
              "                                                                          &#x27;PropertyGFATotal&#x27;,\n",
              "                                                                          &#x27;ENERGYSTARScore&#x27;,\n",
              "                                                                          &#x27;age_batiment&#x27;,\n",
              "                                                                          &#x27;Ratio_parkingParSurface&#x27;,\n",
              "                                                                          &#x27;pr_steam&#x27;,\n",
              "                                                                          &#x27;pr_natural&#x27;,\n",
              "                                                                          &#x27;pr_elec&#x27;]),\n",
              "                                                                        (&#x27;cat...\n",
              "                                                                         [&#x27;PrimaryPropertyType&#x27;,\n",
              "                                                                          &#x27;LargestPropertyUseType&#x27;])])),\n",
              "                                       (&#x27;LR&#x27;,\n",
              "                                        TransformedTargetRegressor(func=&lt;ufunc &#x27;log1p&#x27;&gt;,\n",
              "                                                                   inverse_func=&lt;ufunc &#x27;expm1&#x27;&gt;,\n",
              "                                                                   regressor=LinearRegression()))]),\n",
              "             n_jobs=-1,\n",
              "             param_grid=[{&#x27;LR__regressor__fit_intercept&#x27;: [True, False]}],\n",
              "             refit=&#x27;neg_mean_absolute_error&#x27;, return_train_score=True,\n",
              "             scoring=(&#x27;r2&#x27;, &#x27;neg_mean_absolute_error&#x27;,\n",
              "                      &#x27;neg_mean_squared_error&#x27;))</pre><b>Please rerun this cell to show the HTML repr or trust the notebook.</b></div><div class=\"sk-container\" hidden><div class=\"sk-item sk-dashed-wrapped\"><div class=\"sk-label-container\"><div class=\"sk-label sk-toggleable\"><input class=\"sk-toggleable__control sk-hidden--visually\" id=\"c0a77488-4b20-4553-a9b1-760a358728cc\" type=\"checkbox\" ><label for=\"c0a77488-4b20-4553-a9b1-760a358728cc\" class=\"sk-toggleable__label sk-toggleable__label-arrow\">GridSearchCV</label><div class=\"sk-toggleable__content\"><pre>GridSearchCV(cv=5,\n",
              "             estimator=Pipeline(steps=[(&#x27;preprocessor&#x27;,\n",
              "                                        ColumnTransformer(n_jobs=-1,\n",
              "                                                          remainder=&#x27;passthrough&#x27;,\n",
              "                                                          transformers=[(&#x27;numerical_pipeline&#x27;,\n",
              "                                                                         Pipeline(steps=[(&#x27;scale&#x27;,\n",
              "                                                                                          StandardScaler())]),\n",
              "                                                                         [&#x27;NumberofBuildings&#x27;,\n",
              "                                                                          &#x27;NumberofFloors&#x27;,\n",
              "                                                                          &#x27;PropertyGFATotal&#x27;,\n",
              "                                                                          &#x27;ENERGYSTARScore&#x27;,\n",
              "                                                                          &#x27;age_batiment&#x27;,\n",
              "                                                                          &#x27;Ratio_parkingParSurface&#x27;,\n",
              "                                                                          &#x27;pr_steam&#x27;,\n",
              "                                                                          &#x27;pr_natural&#x27;,\n",
              "                                                                          &#x27;pr_elec&#x27;]),\n",
              "                                                                        (&#x27;cat...\n",
              "                                                                         [&#x27;PrimaryPropertyType&#x27;,\n",
              "                                                                          &#x27;LargestPropertyUseType&#x27;])])),\n",
              "                                       (&#x27;LR&#x27;,\n",
              "                                        TransformedTargetRegressor(func=&lt;ufunc &#x27;log1p&#x27;&gt;,\n",
              "                                                                   inverse_func=&lt;ufunc &#x27;expm1&#x27;&gt;,\n",
              "                                                                   regressor=LinearRegression()))]),\n",
              "             n_jobs=-1,\n",
              "             param_grid=[{&#x27;LR__regressor__fit_intercept&#x27;: [True, False]}],\n",
              "             refit=&#x27;neg_mean_absolute_error&#x27;, return_train_score=True,\n",
              "             scoring=(&#x27;r2&#x27;, &#x27;neg_mean_absolute_error&#x27;,\n",
              "                      &#x27;neg_mean_squared_error&#x27;))</pre></div></div></div><div class=\"sk-parallel\"><div class=\"sk-parallel-item\"><div class=\"sk-item\"><div class=\"sk-serial\"><div class=\"sk-item\"><div class=\"sk-serial\"><div class=\"sk-item sk-dashed-wrapped\"><div class=\"sk-label-container\"><div class=\"sk-label sk-toggleable\"><input class=\"sk-toggleable__control sk-hidden--visually\" id=\"82fe0fd9-8fd9-4ab0-8b08-1262baab553d\" type=\"checkbox\" ><label for=\"82fe0fd9-8fd9-4ab0-8b08-1262baab553d\" class=\"sk-toggleable__label sk-toggleable__label-arrow\">preprocessor: ColumnTransformer</label><div class=\"sk-toggleable__content\"><pre>ColumnTransformer(n_jobs=-1, remainder=&#x27;passthrough&#x27;,\n",
              "                  transformers=[(&#x27;numerical_pipeline&#x27;,\n",
              "                                 Pipeline(steps=[(&#x27;scale&#x27;, StandardScaler())]),\n",
              "                                 [&#x27;NumberofBuildings&#x27;, &#x27;NumberofFloors&#x27;,\n",
              "                                  &#x27;PropertyGFATotal&#x27;, &#x27;ENERGYSTARScore&#x27;,\n",
              "                                  &#x27;age_batiment&#x27;, &#x27;Ratio_parkingParSurface&#x27;,\n",
              "                                  &#x27;pr_steam&#x27;, &#x27;pr_natural&#x27;, &#x27;pr_elec&#x27;]),\n",
              "                                (&#x27;categorical_pipeline=&#x27;,\n",
              "                                 Pipeline(steps=[(&#x27;one-hot&#x27;, OneHotEncoder())]),\n",
              "                                 [&#x27;PrimaryPropertyType&#x27;,\n",
              "                                  &#x27;LargestPropertyUseType&#x27;])])</pre></div></div></div><div class=\"sk-parallel\"><div class=\"sk-parallel-item\"><div class=\"sk-item\"><div class=\"sk-label-container\"><div class=\"sk-label sk-toggleable\"><input class=\"sk-toggleable__control sk-hidden--visually\" id=\"6841fe29-4424-4664-b9cb-817853ad2758\" type=\"checkbox\" ><label for=\"6841fe29-4424-4664-b9cb-817853ad2758\" class=\"sk-toggleable__label sk-toggleable__label-arrow\">numerical_pipeline</label><div class=\"sk-toggleable__content\"><pre>[&#x27;NumberofBuildings&#x27;, &#x27;NumberofFloors&#x27;, &#x27;PropertyGFATotal&#x27;, &#x27;ENERGYSTARScore&#x27;, &#x27;age_batiment&#x27;, &#x27;Ratio_parkingParSurface&#x27;, &#x27;pr_steam&#x27;, &#x27;pr_natural&#x27;, &#x27;pr_elec&#x27;]</pre></div></div></div><div class=\"sk-serial\"><div class=\"sk-item\"><div class=\"sk-serial\"><div class=\"sk-item\"><div class=\"sk-estimator sk-toggleable\"><input class=\"sk-toggleable__control sk-hidden--visually\" id=\"b39591ee-7b51-44fc-9a41-91972ac45ce5\" type=\"checkbox\" ><label for=\"b39591ee-7b51-44fc-9a41-91972ac45ce5\" class=\"sk-toggleable__label sk-toggleable__label-arrow\">StandardScaler</label><div class=\"sk-toggleable__content\"><pre>StandardScaler()</pre></div></div></div></div></div></div></div></div><div class=\"sk-parallel-item\"><div class=\"sk-item\"><div class=\"sk-label-container\"><div class=\"sk-label sk-toggleable\"><input class=\"sk-toggleable__control sk-hidden--visually\" id=\"5c8d2d80-4e95-4de7-b30d-ff63a8e2c0dd\" type=\"checkbox\" ><label for=\"5c8d2d80-4e95-4de7-b30d-ff63a8e2c0dd\" class=\"sk-toggleable__label sk-toggleable__label-arrow\">categorical_pipeline=</label><div class=\"sk-toggleable__content\"><pre>[&#x27;PrimaryPropertyType&#x27;, &#x27;LargestPropertyUseType&#x27;]</pre></div></div></div><div class=\"sk-serial\"><div class=\"sk-item\"><div class=\"sk-serial\"><div class=\"sk-item\"><div class=\"sk-estimator sk-toggleable\"><input class=\"sk-toggleable__control sk-hidden--visually\" id=\"9dab6bb6-b5f9-43f6-a1ed-2b783c31c8e1\" type=\"checkbox\" ><label for=\"9dab6bb6-b5f9-43f6-a1ed-2b783c31c8e1\" class=\"sk-toggleable__label sk-toggleable__label-arrow\">OneHotEncoder</label><div class=\"sk-toggleable__content\"><pre>OneHotEncoder()</pre></div></div></div></div></div></div></div></div><div class=\"sk-parallel-item\"><div class=\"sk-item\"><div class=\"sk-label-container\"><div class=\"sk-label sk-toggleable\"><input class=\"sk-toggleable__control sk-hidden--visually\" id=\"f080f6f3-b342-4417-8414-62a9b3c836cb\" type=\"checkbox\" ><label for=\"f080f6f3-b342-4417-8414-62a9b3c836cb\" class=\"sk-toggleable__label sk-toggleable__label-arrow\">remainder</label><div class=\"sk-toggleable__content\"><pre></pre></div></div></div><div class=\"sk-serial\"><div class=\"sk-item\"><div class=\"sk-estimator sk-toggleable\"><input class=\"sk-toggleable__control sk-hidden--visually\" id=\"5d4043be-9f8a-464d-83cb-2485af685a6f\" type=\"checkbox\" ><label for=\"5d4043be-9f8a-464d-83cb-2485af685a6f\" class=\"sk-toggleable__label sk-toggleable__label-arrow\">passthrough</label><div class=\"sk-toggleable__content\"><pre>passthrough</pre></div></div></div></div></div></div></div></div><div class=\"sk-item sk-dashed-wrapped\"><div class=\"sk-label-container\"><div class=\"sk-label sk-toggleable\"><input class=\"sk-toggleable__control sk-hidden--visually\" id=\"3ddc3ad0-0f75-46aa-9fe6-57e5aa2ad016\" type=\"checkbox\" ><label for=\"3ddc3ad0-0f75-46aa-9fe6-57e5aa2ad016\" class=\"sk-toggleable__label sk-toggleable__label-arrow\">LR: TransformedTargetRegressor</label><div class=\"sk-toggleable__content\"><pre>TransformedTargetRegressor(func=&lt;ufunc &#x27;log1p&#x27;&gt;, inverse_func=&lt;ufunc &#x27;expm1&#x27;&gt;,\n",
              "                           regressor=LinearRegression())</pre></div></div></div><div class=\"sk-parallel\"><div class=\"sk-parallel-item\"><div class=\"sk-item\"><div class=\"sk-serial\"><div class=\"sk-item\"><div class=\"sk-estimator sk-toggleable\"><input class=\"sk-toggleable__control sk-hidden--visually\" id=\"ee446e6c-c8d3-4e96-a4bb-e9b606c36444\" type=\"checkbox\" ><label for=\"ee446e6c-c8d3-4e96-a4bb-e9b606c36444\" class=\"sk-toggleable__label sk-toggleable__label-arrow\">LinearRegression</label><div class=\"sk-toggleable__content\"><pre>LinearRegression()</pre></div></div></div></div></div></div></div></div></div></div></div></div></div></div></div></div></div>"
            ]
          },
          "metadata": {},
          "execution_count": 356
        }
      ]
    },
    {
      "cell_type": "markdown",
      "metadata": {
        "id": "04BwXAcKHWTY"
      },
      "source": [
        "### Entrainement des modèles et choix des meilleurs modèles après le GridSearch\n",
        "---"
      ]
    },
    {
      "cell_type": "code",
      "execution_count": 357,
      "metadata": {
        "id": "m0pQHZrB1zyz"
      },
      "outputs": [],
      "source": [
        "global target\n",
        "global R\n",
        "global lr_grid_search_model , elastic_grid_search_model, lsvr_grid_search_model, rfr_grid_search_model , mlp_grid_search_model, gb_grid_search_model\n",
        "target = ['SiteEnergyUse(kBtu)', 'SiteEnergyUse(kBtu)']\n"
      ]
    },
    {
      "cell_type": "code",
      "source": [
        "def train_model (model) :\n",
        "  mymod = model.fit(X_train,Y_train['SiteEnergyUse(kBtu)'])\n",
        "  y_test = Y_test['SiteEnergyUse(kBtu)']\n",
        "  y_pred= mymod.predict(X_test)\n",
        "  print ( \"R2 : \" , round(r2_score (y_test, y_pred),2) ,  \"| MAE :\", round(mean_absolute_error (y_test, y_pred),2), ' | RMSE :', round( np.sqrt(mean_squared_error (y_test, y_pred)),2))\n",
        "  return mymod.best_params_\n"
      ],
      "metadata": {
        "id": "YobjUIrYDAWK"
      },
      "execution_count": 358,
      "outputs": []
    },
    {
      "cell_type": "code",
      "source": [
        "%%time\n",
        "#target_x =target[0]\n",
        "lr_grid_search_model = lr_grid_search.fit(X_train,Y_train['SiteEnergyUse(kBtu)'])\n",
        "elastic_grid_search_model = elastic_grid_search.fit(X_train,Y_train['SiteEnergyUse(kBtu)'])\n",
        "lsvr_grid_search_model = lsvr_grid_search.fit(X_train,Y_train['SiteEnergyUse(kBtu)'])\n",
        "rfr_grid_search_model = rfr_grid_search.fit(X_train,Y_train['SiteEnergyUse(kBtu)'])\n",
        "mlp_grid_search_model = extraTree_grid_search.fit(X_train,Y_train['SiteEnergyUse(kBtu)'])\n",
        "gb_grid_search_model = gb_grid_search.fit(X_train,Y_train['SiteEnergyUse(kBtu)'])"
      ],
      "metadata": {
        "colab": {
          "base_uri": "https://localhost:8080/"
        },
        "id": "2U6Du9QrOsfg",
        "outputId": "ff49868b-1a45-401a-b4d9-89d5397940e1"
      },
      "execution_count": 359,
      "outputs": [
        {
          "output_type": "stream",
          "name": "stdout",
          "text": [
            "CPU times: user 6.67 s, sys: 55.4 ms, total: 6.73 s\n",
            "Wall time: 45.5 s\n"
          ]
        }
      ]
    },
    {
      "cell_type": "markdown",
      "source": [
        "On met tous nos modèles dans un dictionnaire"
      ],
      "metadata": {
        "id": "EBLWCbN_Q2sG"
      }
    },
    {
      "cell_type": "code",
      "execution_count": 360,
      "metadata": {
        "id": "ksYni_mhYIol"
      },
      "outputs": [],
      "source": [
        "modele ={ 'Linear Regression': lr_grid_search_model, 'Elastic Net' : elastic_grid_search_model , 'Linear SVR': lsvr_grid_search_model ,\n",
        "         'RandomForest':rfr_grid_search_model, 'ExtraTree Regressor':mlp_grid_search_model,'GradientBoost' : gb_grid_search_model}"
      ]
    },
    {
      "cell_type": "markdown",
      "metadata": {
        "id": "50q9ALdtMVTv"
      },
      "source": [
        "###  Choix du meilleur modèle pour la variable target SiteEnergyUse(kBtu)\n",
        "---"
      ]
    },
    {
      "cell_type": "markdown",
      "source": [
        "Metrics de la cross validation du Gridsearch des meilleurs modèles trouvés"
      ],
      "metadata": {
        "id": "KnLJjpH-g2qc"
      }
    },
    {
      "cell_type": "code",
      "execution_count": 361,
      "metadata": {
        "colab": {
          "base_uri": "https://localhost:8080/",
          "height": 237
        },
        "id": "ar3IjCel3Gue",
        "outputId": "d3c7ab33-aaee-47f9-9bb9-a10e8ff12e6c"
      },
      "outputs": [
        {
          "output_type": "execute_result",
          "data": {
            "text/plain": [
              "               Modèles  fit time   MAE (moyen)   MSE (moyen)  R2 (moyen)  \\\n",
              "0     LinearRegression  0.109089  1.856052e+07  1.382858e+17 -161.270299   \n",
              "0           ElasticNet  0.109196  5.227897e+06  2.806912e+14    0.182791   \n",
              "0           Linear SVR  0.045306  2.375258e+07  1.570976e+17 -258.300599   \n",
              "0         RandomForest  1.668892  3.497187e+06  2.073824e+14    0.480736   \n",
              "0  Extratree Regressor  4.966326  3.225074e+06  1.834118e+14    0.572884   \n",
              "0        GradientBoost  3.070142  3.141721e+06  1.797540e+14    0.576081   \n",
              "\n",
              "        std_MAE                                             params  \n",
              "0  1.423435e+06             {'LR__regressor__fit_intercept': True}  \n",
              "0  2.442778e+05  {'ELN__regressor__alpha': 1.5, 'ELN__regressor...  \n",
              "0  3.738290e+06  {'LSVR__regressor__C': 0.1, 'LSVR__regressor__...  \n",
              "0  5.664635e+03  {'RFR__regressor__bootstrap': False, 'RFR__reg...  \n",
              "0  7.818406e+04  {'MLP__regressor__max_depth': 10, 'MLP__regres...  \n",
              "0  2.494843e+04  {'GB__regressor__learning_rate': 0.1, 'GB__reg...  "
            ],
            "text/html": [
              "\n",
              "  <div id=\"df-9d452dbc-73c7-461a-ae13-9637891593dc\">\n",
              "    <div class=\"colab-df-container\">\n",
              "      <div>\n",
              "<style scoped>\n",
              "    .dataframe tbody tr th:only-of-type {\n",
              "        vertical-align: middle;\n",
              "    }\n",
              "\n",
              "    .dataframe tbody tr th {\n",
              "        vertical-align: top;\n",
              "    }\n",
              "\n",
              "    .dataframe thead th {\n",
              "        text-align: right;\n",
              "    }\n",
              "</style>\n",
              "<table border=\"1\" class=\"dataframe\">\n",
              "  <thead>\n",
              "    <tr style=\"text-align: right;\">\n",
              "      <th></th>\n",
              "      <th>Modèles</th>\n",
              "      <th>fit time</th>\n",
              "      <th>MAE (moyen)</th>\n",
              "      <th>MSE (moyen)</th>\n",
              "      <th>R2 (moyen)</th>\n",
              "      <th>std_MAE</th>\n",
              "      <th>params</th>\n",
              "    </tr>\n",
              "  </thead>\n",
              "  <tbody>\n",
              "    <tr>\n",
              "      <th>0</th>\n",
              "      <td>LinearRegression</td>\n",
              "      <td>0.109089</td>\n",
              "      <td>1.856052e+07</td>\n",
              "      <td>1.382858e+17</td>\n",
              "      <td>-161.270299</td>\n",
              "      <td>1.423435e+06</td>\n",
              "      <td>{'LR__regressor__fit_intercept': True}</td>\n",
              "    </tr>\n",
              "    <tr>\n",
              "      <th>0</th>\n",
              "      <td>ElasticNet</td>\n",
              "      <td>0.109196</td>\n",
              "      <td>5.227897e+06</td>\n",
              "      <td>2.806912e+14</td>\n",
              "      <td>0.182791</td>\n",
              "      <td>2.442778e+05</td>\n",
              "      <td>{'ELN__regressor__alpha': 1.5, 'ELN__regressor...</td>\n",
              "    </tr>\n",
              "    <tr>\n",
              "      <th>0</th>\n",
              "      <td>Linear SVR</td>\n",
              "      <td>0.045306</td>\n",
              "      <td>2.375258e+07</td>\n",
              "      <td>1.570976e+17</td>\n",
              "      <td>-258.300599</td>\n",
              "      <td>3.738290e+06</td>\n",
              "      <td>{'LSVR__regressor__C': 0.1, 'LSVR__regressor__...</td>\n",
              "    </tr>\n",
              "    <tr>\n",
              "      <th>0</th>\n",
              "      <td>RandomForest</td>\n",
              "      <td>1.668892</td>\n",
              "      <td>3.497187e+06</td>\n",
              "      <td>2.073824e+14</td>\n",
              "      <td>0.480736</td>\n",
              "      <td>5.664635e+03</td>\n",
              "      <td>{'RFR__regressor__bootstrap': False, 'RFR__reg...</td>\n",
              "    </tr>\n",
              "    <tr>\n",
              "      <th>0</th>\n",
              "      <td>Extratree Regressor</td>\n",
              "      <td>4.966326</td>\n",
              "      <td>3.225074e+06</td>\n",
              "      <td>1.834118e+14</td>\n",
              "      <td>0.572884</td>\n",
              "      <td>7.818406e+04</td>\n",
              "      <td>{'MLP__regressor__max_depth': 10, 'MLP__regres...</td>\n",
              "    </tr>\n",
              "    <tr>\n",
              "      <th>0</th>\n",
              "      <td>GradientBoost</td>\n",
              "      <td>3.070142</td>\n",
              "      <td>3.141721e+06</td>\n",
              "      <td>1.797540e+14</td>\n",
              "      <td>0.576081</td>\n",
              "      <td>2.494843e+04</td>\n",
              "      <td>{'GB__regressor__learning_rate': 0.1, 'GB__reg...</td>\n",
              "    </tr>\n",
              "  </tbody>\n",
              "</table>\n",
              "</div>\n",
              "      <button class=\"colab-df-convert\" onclick=\"convertToInteractive('df-9d452dbc-73c7-461a-ae13-9637891593dc')\"\n",
              "              title=\"Convert this dataframe to an interactive table.\"\n",
              "              style=\"display:none;\">\n",
              "        \n",
              "  <svg xmlns=\"http://www.w3.org/2000/svg\" height=\"24px\"viewBox=\"0 0 24 24\"\n",
              "       width=\"24px\">\n",
              "    <path d=\"M0 0h24v24H0V0z\" fill=\"none\"/>\n",
              "    <path d=\"M18.56 5.44l.94 2.06.94-2.06 2.06-.94-2.06-.94-.94-2.06-.94 2.06-2.06.94zm-11 1L8.5 8.5l.94-2.06 2.06-.94-2.06-.94L8.5 2.5l-.94 2.06-2.06.94zm10 10l.94 2.06.94-2.06 2.06-.94-2.06-.94-.94-2.06-.94 2.06-2.06.94z\"/><path d=\"M17.41 7.96l-1.37-1.37c-.4-.4-.92-.59-1.43-.59-.52 0-1.04.2-1.43.59L10.3 9.45l-7.72 7.72c-.78.78-.78 2.05 0 2.83L4 21.41c.39.39.9.59 1.41.59.51 0 1.02-.2 1.41-.59l7.78-7.78 2.81-2.81c.8-.78.8-2.07 0-2.86zM5.41 20L4 18.59l7.72-7.72 1.47 1.35L5.41 20z\"/>\n",
              "  </svg>\n",
              "      </button>\n",
              "      \n",
              "  <style>\n",
              "    .colab-df-container {\n",
              "      display:flex;\n",
              "      flex-wrap:wrap;\n",
              "      gap: 12px;\n",
              "    }\n",
              "\n",
              "    .colab-df-convert {\n",
              "      background-color: #E8F0FE;\n",
              "      border: none;\n",
              "      border-radius: 50%;\n",
              "      cursor: pointer;\n",
              "      display: none;\n",
              "      fill: #1967D2;\n",
              "      height: 32px;\n",
              "      padding: 0 0 0 0;\n",
              "      width: 32px;\n",
              "    }\n",
              "\n",
              "    .colab-df-convert:hover {\n",
              "      background-color: #E2EBFA;\n",
              "      box-shadow: 0px 1px 2px rgba(60, 64, 67, 0.3), 0px 1px 3px 1px rgba(60, 64, 67, 0.15);\n",
              "      fill: #174EA6;\n",
              "    }\n",
              "\n",
              "    [theme=dark] .colab-df-convert {\n",
              "      background-color: #3B4455;\n",
              "      fill: #D2E3FC;\n",
              "    }\n",
              "\n",
              "    [theme=dark] .colab-df-convert:hover {\n",
              "      background-color: #434B5C;\n",
              "      box-shadow: 0px 1px 3px 1px rgba(0, 0, 0, 0.15);\n",
              "      filter: drop-shadow(0px 1px 2px rgba(0, 0, 0, 0.3));\n",
              "      fill: #FFFFFF;\n",
              "    }\n",
              "  </style>\n",
              "\n",
              "      <script>\n",
              "        const buttonEl =\n",
              "          document.querySelector('#df-9d452dbc-73c7-461a-ae13-9637891593dc button.colab-df-convert');\n",
              "        buttonEl.style.display =\n",
              "          google.colab.kernel.accessAllowed ? 'block' : 'none';\n",
              "\n",
              "        async function convertToInteractive(key) {\n",
              "          const element = document.querySelector('#df-9d452dbc-73c7-461a-ae13-9637891593dc');\n",
              "          const dataTable =\n",
              "            await google.colab.kernel.invokeFunction('convertToInteractive',\n",
              "                                                     [key], {});\n",
              "          if (!dataTable) return;\n",
              "\n",
              "          const docLinkHtml = 'Like what you see? Visit the ' +\n",
              "            '<a target=\"_blank\" href=https://colab.research.google.com/notebooks/data_table.ipynb>data table notebook</a>'\n",
              "            + ' to learn more about interactive tables.';\n",
              "          element.innerHTML = '';\n",
              "          dataTable['output_type'] = 'display_data';\n",
              "          await google.colab.output.renderOutput(dataTable, element);\n",
              "          const docLink = document.createElement('div');\n",
              "          docLink.innerHTML = docLinkHtml;\n",
              "          element.appendChild(docLink);\n",
              "        }\n",
              "      </script>\n",
              "    </div>\n",
              "  </div>\n",
              "  "
            ]
          },
          "metadata": {},
          "execution_count": 361
        }
      ],
      "source": [
        "a=pd.DataFrame(lr_grid_search_model.cv_results_)[[\t'mean_fit_time', 'mean_test_neg_mean_absolute_error','mean_test_neg_mean_squared_error','mean_test_r2'\t,'std_train_neg_mean_absolute_error','params', ]].head(1)\n",
        "b=pd.DataFrame(elastic_grid_search_model.cv_results_)[[\t'mean_fit_time', 'mean_test_neg_mean_absolute_error','mean_test_neg_mean_squared_error','mean_test_r2'\t,'std_train_neg_mean_absolute_error','params',]].head(1)\n",
        "c=pd.DataFrame(lsvr_grid_search_model.cv_results_)[['mean_fit_time', 'mean_test_neg_mean_absolute_error','mean_test_neg_mean_squared_error','mean_test_r2'\t,'std_train_neg_mean_absolute_error','params',\t]].head(1)\n",
        "d=pd.DataFrame(rfr_grid_search_model.cv_results_)[[\t'mean_fit_time', 'mean_test_neg_mean_absolute_error','mean_test_neg_mean_squared_error','mean_test_r2'\t,'std_train_neg_mean_absolute_error','params',]].head(1)\n",
        "e=pd.DataFrame(mlp_grid_search_model.cv_results_)[[\t'mean_fit_time', 'mean_test_neg_mean_absolute_error','mean_test_neg_mean_squared_error','mean_test_r2'\t,'std_train_neg_mean_absolute_error','params',]].head(1)\n",
        "f=pd.DataFrame(gb_grid_search_model.cv_results_)[[\t'mean_fit_time', 'mean_test_neg_mean_absolute_error','mean_test_neg_mean_squared_error','mean_test_r2'\t,'std_train_neg_mean_absolute_error','params',]].head(1)\n",
        "\n",
        "R=pd.concat([a, b,c,d,e,f])\n",
        "R[\"Modèles\"] = ['LinearRegression', 'ElasticNet', 'Linear SVR', 'RandomForest', 'Extratree Regressor', 'GradientBoost']\n",
        "\n",
        "cols =R.columns.tolist()\n",
        "cols = cols[-1:] + cols[:-1]\n",
        "R= R[cols] \n",
        "R.rename(columns={'mean_fit_time' :'fit time', 'mean_test_neg_mean_absolute_error' : 'MAE (moyen)','mean_test_neg_mean_squared_error' : 'MSE (moyen)','mean_test_r2' :'R2 (moyen)'\t,'std_train_neg_mean_absolute_error': 'std_MAE'}, inplace=True)\n",
        "R['MAE (moyen)'] = -R['MAE (moyen)']\n",
        "R['MSE (moyen)'] = -R['MSE (moyen)']\n",
        "R\n",
        "#R['RMSE'] = -R['RMSE']"
      ]
    },
    {
      "cell_type": "markdown",
      "source": [
        "### Qualité de prediction du meilleur modèle choisi après le GridSearch.\n",
        "---"
      ],
      "metadata": {
        "id": "Gg_wAU3egPBW"
      }
    },
    {
      "cell_type": "code",
      "source": [
        "# Metrics sur le train set\n",
        "dict_train={}\n",
        "for m in modele.keys() :\n",
        "  y_pred =modele[m].best_estimator_.predict(X_train)\n",
        "  dict_train[m] = [round(mean_squared_error(Y_train['SiteEnergyUse(kBtu)'],y_pred),3) , round(np.sqrt(mean_squared_error(Y_train['SiteEnergyUse(kBtu)'],y_pred)) ,2), round((mean_absolute_error(Y_train['SiteEnergyUse(kBtu)'],y_pred)),2),round((r2_score(Y_train['SiteEnergyUse(kBtu)'],y_pred)),2)  ]\n",
        "\n",
        "# Metrics sur les test set\n",
        "dict_test={}\n",
        "\n",
        "for m in modele.keys() :\n",
        "  y_pred =modele[m].best_estimator_.predict(X_test)\n",
        "  dict_test[m] = [ round(mean_squared_error(Y_test['SiteEnergyUse(kBtu)'],y_pred),3) ,round(np.sqrt(mean_squared_error(Y_test['SiteEnergyUse(kBtu)'],y_pred)) ,2), round((mean_absolute_error(Y_test['SiteEnergyUse(kBtu)'],y_pred)),2),round((r2_score(Y_test['SiteEnergyUse(kBtu)'],y_pred)),2) ]\n",
        "\n"
      ],
      "metadata": {
        "id": "rn-gKdSukDat"
      },
      "execution_count": 362,
      "outputs": []
    },
    {
      "cell_type": "markdown",
      "source": [
        "### Qualité de prédiction de chaque modèle du GridSearch sur le test set et le train set \n",
        "---"
      ],
      "metadata": {
        "id": "PiZpbGjKdqaC"
      }
    },
    {
      "cell_type": "code",
      "source": [
        "#Prédiction sur le train set\n",
        "print (\"                           Metrics sur le Train set\")\n",
        "metrics=pd.DataFrame(dict_train)\n",
        "metrics.index = ([\"MSE\",\"RMSE\",\"MAE\",\"R2\"])\n",
        "display(metrics.T)\n",
        "\n",
        "print(\"\\n\")\n",
        "# Prédiction sur le test set\n",
        "print (\"                           Metrics sur le Test set\")\n",
        "metrics=pd.DataFrame(dict_test)\n",
        "metrics.index = ([\"MSE\",\"RMSE\",\"MAE\",\"R2\"])\n",
        "display(metrics.T)\n"
      ],
      "metadata": {
        "colab": {
          "base_uri": "https://localhost:8080/",
          "height": 531
        },
        "id": "MxLIjo-EikVt",
        "outputId": "4eb06653-0f69-4490-ff35-c933d29d1b72"
      },
      "execution_count": 363,
      "outputs": [
        {
          "output_type": "stream",
          "name": "stdout",
          "text": [
            "                           Metrics sur le Train set\n"
          ]
        },
        {
          "output_type": "display_data",
          "data": {
            "text/plain": [
              "                              MSE          RMSE          MAE     R2\n",
              "Linear Regression    1.389203e+16  1.178645e+08   9328032.50 -38.07\n",
              "Elastic Net          2.764813e+14  1.662773e+07   5207249.06   0.22\n",
              "Linear SVR           1.827302e+16  1.351777e+08  11913351.10 -50.40\n",
              "RandomForest         1.239513e+09  3.520672e+04      4696.99   1.00\n",
              "ExtraTree Regressor  4.836043e+13  6.954166e+06   1952986.53   0.86\n",
              "GradientBoost        1.231822e+12  1.109875e+06    458467.41   1.00"
            ],
            "text/html": [
              "\n",
              "  <div id=\"df-989acc38-58d2-4331-8ed6-532ef491aff5\">\n",
              "    <div class=\"colab-df-container\">\n",
              "      <div>\n",
              "<style scoped>\n",
              "    .dataframe tbody tr th:only-of-type {\n",
              "        vertical-align: middle;\n",
              "    }\n",
              "\n",
              "    .dataframe tbody tr th {\n",
              "        vertical-align: top;\n",
              "    }\n",
              "\n",
              "    .dataframe thead th {\n",
              "        text-align: right;\n",
              "    }\n",
              "</style>\n",
              "<table border=\"1\" class=\"dataframe\">\n",
              "  <thead>\n",
              "    <tr style=\"text-align: right;\">\n",
              "      <th></th>\n",
              "      <th>MSE</th>\n",
              "      <th>RMSE</th>\n",
              "      <th>MAE</th>\n",
              "      <th>R2</th>\n",
              "    </tr>\n",
              "  </thead>\n",
              "  <tbody>\n",
              "    <tr>\n",
              "      <th>Linear Regression</th>\n",
              "      <td>1.389203e+16</td>\n",
              "      <td>1.178645e+08</td>\n",
              "      <td>9328032.50</td>\n",
              "      <td>-38.07</td>\n",
              "    </tr>\n",
              "    <tr>\n",
              "      <th>Elastic Net</th>\n",
              "      <td>2.764813e+14</td>\n",
              "      <td>1.662773e+07</td>\n",
              "      <td>5207249.06</td>\n",
              "      <td>0.22</td>\n",
              "    </tr>\n",
              "    <tr>\n",
              "      <th>Linear SVR</th>\n",
              "      <td>1.827302e+16</td>\n",
              "      <td>1.351777e+08</td>\n",
              "      <td>11913351.10</td>\n",
              "      <td>-50.40</td>\n",
              "    </tr>\n",
              "    <tr>\n",
              "      <th>RandomForest</th>\n",
              "      <td>1.239513e+09</td>\n",
              "      <td>3.520672e+04</td>\n",
              "      <td>4696.99</td>\n",
              "      <td>1.00</td>\n",
              "    </tr>\n",
              "    <tr>\n",
              "      <th>ExtraTree Regressor</th>\n",
              "      <td>4.836043e+13</td>\n",
              "      <td>6.954166e+06</td>\n",
              "      <td>1952986.53</td>\n",
              "      <td>0.86</td>\n",
              "    </tr>\n",
              "    <tr>\n",
              "      <th>GradientBoost</th>\n",
              "      <td>1.231822e+12</td>\n",
              "      <td>1.109875e+06</td>\n",
              "      <td>458467.41</td>\n",
              "      <td>1.00</td>\n",
              "    </tr>\n",
              "  </tbody>\n",
              "</table>\n",
              "</div>\n",
              "      <button class=\"colab-df-convert\" onclick=\"convertToInteractive('df-989acc38-58d2-4331-8ed6-532ef491aff5')\"\n",
              "              title=\"Convert this dataframe to an interactive table.\"\n",
              "              style=\"display:none;\">\n",
              "        \n",
              "  <svg xmlns=\"http://www.w3.org/2000/svg\" height=\"24px\"viewBox=\"0 0 24 24\"\n",
              "       width=\"24px\">\n",
              "    <path d=\"M0 0h24v24H0V0z\" fill=\"none\"/>\n",
              "    <path d=\"M18.56 5.44l.94 2.06.94-2.06 2.06-.94-2.06-.94-.94-2.06-.94 2.06-2.06.94zm-11 1L8.5 8.5l.94-2.06 2.06-.94-2.06-.94L8.5 2.5l-.94 2.06-2.06.94zm10 10l.94 2.06.94-2.06 2.06-.94-2.06-.94-.94-2.06-.94 2.06-2.06.94z\"/><path d=\"M17.41 7.96l-1.37-1.37c-.4-.4-.92-.59-1.43-.59-.52 0-1.04.2-1.43.59L10.3 9.45l-7.72 7.72c-.78.78-.78 2.05 0 2.83L4 21.41c.39.39.9.59 1.41.59.51 0 1.02-.2 1.41-.59l7.78-7.78 2.81-2.81c.8-.78.8-2.07 0-2.86zM5.41 20L4 18.59l7.72-7.72 1.47 1.35L5.41 20z\"/>\n",
              "  </svg>\n",
              "      </button>\n",
              "      \n",
              "  <style>\n",
              "    .colab-df-container {\n",
              "      display:flex;\n",
              "      flex-wrap:wrap;\n",
              "      gap: 12px;\n",
              "    }\n",
              "\n",
              "    .colab-df-convert {\n",
              "      background-color: #E8F0FE;\n",
              "      border: none;\n",
              "      border-radius: 50%;\n",
              "      cursor: pointer;\n",
              "      display: none;\n",
              "      fill: #1967D2;\n",
              "      height: 32px;\n",
              "      padding: 0 0 0 0;\n",
              "      width: 32px;\n",
              "    }\n",
              "\n",
              "    .colab-df-convert:hover {\n",
              "      background-color: #E2EBFA;\n",
              "      box-shadow: 0px 1px 2px rgba(60, 64, 67, 0.3), 0px 1px 3px 1px rgba(60, 64, 67, 0.15);\n",
              "      fill: #174EA6;\n",
              "    }\n",
              "\n",
              "    [theme=dark] .colab-df-convert {\n",
              "      background-color: #3B4455;\n",
              "      fill: #D2E3FC;\n",
              "    }\n",
              "\n",
              "    [theme=dark] .colab-df-convert:hover {\n",
              "      background-color: #434B5C;\n",
              "      box-shadow: 0px 1px 3px 1px rgba(0, 0, 0, 0.15);\n",
              "      filter: drop-shadow(0px 1px 2px rgba(0, 0, 0, 0.3));\n",
              "      fill: #FFFFFF;\n",
              "    }\n",
              "  </style>\n",
              "\n",
              "      <script>\n",
              "        const buttonEl =\n",
              "          document.querySelector('#df-989acc38-58d2-4331-8ed6-532ef491aff5 button.colab-df-convert');\n",
              "        buttonEl.style.display =\n",
              "          google.colab.kernel.accessAllowed ? 'block' : 'none';\n",
              "\n",
              "        async function convertToInteractive(key) {\n",
              "          const element = document.querySelector('#df-989acc38-58d2-4331-8ed6-532ef491aff5');\n",
              "          const dataTable =\n",
              "            await google.colab.kernel.invokeFunction('convertToInteractive',\n",
              "                                                     [key], {});\n",
              "          if (!dataTable) return;\n",
              "\n",
              "          const docLinkHtml = 'Like what you see? Visit the ' +\n",
              "            '<a target=\"_blank\" href=https://colab.research.google.com/notebooks/data_table.ipynb>data table notebook</a>'\n",
              "            + ' to learn more about interactive tables.';\n",
              "          element.innerHTML = '';\n",
              "          dataTable['output_type'] = 'display_data';\n",
              "          await google.colab.output.renderOutput(dataTable, element);\n",
              "          const docLink = document.createElement('div');\n",
              "          docLink.innerHTML = docLinkHtml;\n",
              "          element.appendChild(docLink);\n",
              "        }\n",
              "      </script>\n",
              "    </div>\n",
              "  </div>\n",
              "  "
            ]
          },
          "metadata": {}
        },
        {
          "output_type": "stream",
          "name": "stdout",
          "text": [
            "\n",
            "\n",
            "                           Metrics sur le Test set\n"
          ]
        },
        {
          "output_type": "display_data",
          "data": {
            "text/plain": [
              "                              MSE         RMSE         MAE    R2\n",
              "Linear Regression    3.927385e+14  19817630.11  4577263.70 -0.14\n",
              "Elastic Net          3.121517e+14  17667814.32  5501142.83  0.09\n",
              "Linear SVR           1.188194e+15  34470191.25  6053175.15 -2.46\n",
              "RandomForest         1.334252e+14  11550982.43  3416703.38  0.61\n",
              "ExtraTree Regressor  1.201544e+14  10961497.44  3399096.72  0.65\n",
              "GradientBoost        3.596329e+13   5996940.21  2501317.50  0.90"
            ],
            "text/html": [
              "\n",
              "  <div id=\"df-80bf4de9-175e-409f-a3a6-65d87af9702a\">\n",
              "    <div class=\"colab-df-container\">\n",
              "      <div>\n",
              "<style scoped>\n",
              "    .dataframe tbody tr th:only-of-type {\n",
              "        vertical-align: middle;\n",
              "    }\n",
              "\n",
              "    .dataframe tbody tr th {\n",
              "        vertical-align: top;\n",
              "    }\n",
              "\n",
              "    .dataframe thead th {\n",
              "        text-align: right;\n",
              "    }\n",
              "</style>\n",
              "<table border=\"1\" class=\"dataframe\">\n",
              "  <thead>\n",
              "    <tr style=\"text-align: right;\">\n",
              "      <th></th>\n",
              "      <th>MSE</th>\n",
              "      <th>RMSE</th>\n",
              "      <th>MAE</th>\n",
              "      <th>R2</th>\n",
              "    </tr>\n",
              "  </thead>\n",
              "  <tbody>\n",
              "    <tr>\n",
              "      <th>Linear Regression</th>\n",
              "      <td>3.927385e+14</td>\n",
              "      <td>19817630.11</td>\n",
              "      <td>4577263.70</td>\n",
              "      <td>-0.14</td>\n",
              "    </tr>\n",
              "    <tr>\n",
              "      <th>Elastic Net</th>\n",
              "      <td>3.121517e+14</td>\n",
              "      <td>17667814.32</td>\n",
              "      <td>5501142.83</td>\n",
              "      <td>0.09</td>\n",
              "    </tr>\n",
              "    <tr>\n",
              "      <th>Linear SVR</th>\n",
              "      <td>1.188194e+15</td>\n",
              "      <td>34470191.25</td>\n",
              "      <td>6053175.15</td>\n",
              "      <td>-2.46</td>\n",
              "    </tr>\n",
              "    <tr>\n",
              "      <th>RandomForest</th>\n",
              "      <td>1.334252e+14</td>\n",
              "      <td>11550982.43</td>\n",
              "      <td>3416703.38</td>\n",
              "      <td>0.61</td>\n",
              "    </tr>\n",
              "    <tr>\n",
              "      <th>ExtraTree Regressor</th>\n",
              "      <td>1.201544e+14</td>\n",
              "      <td>10961497.44</td>\n",
              "      <td>3399096.72</td>\n",
              "      <td>0.65</td>\n",
              "    </tr>\n",
              "    <tr>\n",
              "      <th>GradientBoost</th>\n",
              "      <td>3.596329e+13</td>\n",
              "      <td>5996940.21</td>\n",
              "      <td>2501317.50</td>\n",
              "      <td>0.90</td>\n",
              "    </tr>\n",
              "  </tbody>\n",
              "</table>\n",
              "</div>\n",
              "      <button class=\"colab-df-convert\" onclick=\"convertToInteractive('df-80bf4de9-175e-409f-a3a6-65d87af9702a')\"\n",
              "              title=\"Convert this dataframe to an interactive table.\"\n",
              "              style=\"display:none;\">\n",
              "        \n",
              "  <svg xmlns=\"http://www.w3.org/2000/svg\" height=\"24px\"viewBox=\"0 0 24 24\"\n",
              "       width=\"24px\">\n",
              "    <path d=\"M0 0h24v24H0V0z\" fill=\"none\"/>\n",
              "    <path d=\"M18.56 5.44l.94 2.06.94-2.06 2.06-.94-2.06-.94-.94-2.06-.94 2.06-2.06.94zm-11 1L8.5 8.5l.94-2.06 2.06-.94-2.06-.94L8.5 2.5l-.94 2.06-2.06.94zm10 10l.94 2.06.94-2.06 2.06-.94-2.06-.94-.94-2.06-.94 2.06-2.06.94z\"/><path d=\"M17.41 7.96l-1.37-1.37c-.4-.4-.92-.59-1.43-.59-.52 0-1.04.2-1.43.59L10.3 9.45l-7.72 7.72c-.78.78-.78 2.05 0 2.83L4 21.41c.39.39.9.59 1.41.59.51 0 1.02-.2 1.41-.59l7.78-7.78 2.81-2.81c.8-.78.8-2.07 0-2.86zM5.41 20L4 18.59l7.72-7.72 1.47 1.35L5.41 20z\"/>\n",
              "  </svg>\n",
              "      </button>\n",
              "      \n",
              "  <style>\n",
              "    .colab-df-container {\n",
              "      display:flex;\n",
              "      flex-wrap:wrap;\n",
              "      gap: 12px;\n",
              "    }\n",
              "\n",
              "    .colab-df-convert {\n",
              "      background-color: #E8F0FE;\n",
              "      border: none;\n",
              "      border-radius: 50%;\n",
              "      cursor: pointer;\n",
              "      display: none;\n",
              "      fill: #1967D2;\n",
              "      height: 32px;\n",
              "      padding: 0 0 0 0;\n",
              "      width: 32px;\n",
              "    }\n",
              "\n",
              "    .colab-df-convert:hover {\n",
              "      background-color: #E2EBFA;\n",
              "      box-shadow: 0px 1px 2px rgba(60, 64, 67, 0.3), 0px 1px 3px 1px rgba(60, 64, 67, 0.15);\n",
              "      fill: #174EA6;\n",
              "    }\n",
              "\n",
              "    [theme=dark] .colab-df-convert {\n",
              "      background-color: #3B4455;\n",
              "      fill: #D2E3FC;\n",
              "    }\n",
              "\n",
              "    [theme=dark] .colab-df-convert:hover {\n",
              "      background-color: #434B5C;\n",
              "      box-shadow: 0px 1px 3px 1px rgba(0, 0, 0, 0.15);\n",
              "      filter: drop-shadow(0px 1px 2px rgba(0, 0, 0, 0.3));\n",
              "      fill: #FFFFFF;\n",
              "    }\n",
              "  </style>\n",
              "\n",
              "      <script>\n",
              "        const buttonEl =\n",
              "          document.querySelector('#df-80bf4de9-175e-409f-a3a6-65d87af9702a button.colab-df-convert');\n",
              "        buttonEl.style.display =\n",
              "          google.colab.kernel.accessAllowed ? 'block' : 'none';\n",
              "\n",
              "        async function convertToInteractive(key) {\n",
              "          const element = document.querySelector('#df-80bf4de9-175e-409f-a3a6-65d87af9702a');\n",
              "          const dataTable =\n",
              "            await google.colab.kernel.invokeFunction('convertToInteractive',\n",
              "                                                     [key], {});\n",
              "          if (!dataTable) return;\n",
              "\n",
              "          const docLinkHtml = 'Like what you see? Visit the ' +\n",
              "            '<a target=\"_blank\" href=https://colab.research.google.com/notebooks/data_table.ipynb>data table notebook</a>'\n",
              "            + ' to learn more about interactive tables.';\n",
              "          element.innerHTML = '';\n",
              "          dataTable['output_type'] = 'display_data';\n",
              "          await google.colab.output.renderOutput(dataTable, element);\n",
              "          const docLink = document.createElement('div');\n",
              "          docLink.innerHTML = docLinkHtml;\n",
              "          element.appendChild(docLink);\n",
              "        }\n",
              "      </script>\n",
              "    </div>\n",
              "  </div>\n",
              "  "
            ]
          },
          "metadata": {}
        }
      ]
    },
    {
      "cell_type": "markdown",
      "source": [
        "Avec la graphique ci-dessus, on constate que le modèle GradientBoost offre le meilleur score **MAE** et un meilleur $R^2$ (~0.8) . On rentiendra ce modèle pour la modélisation de la \n",
        "variable **TotalGHGEmissions** est donc le modèle GradientBoost."
      ],
      "metadata": {
        "id": "1zlWT-u1nxjK"
      }
    },
    {
      "cell_type": "markdown",
      "metadata": {
        "id": "Q5pSbt6tzfYB"
      },
      "source": [
        "### Temps d'entrainement de chaque modèles\n",
        "---"
      ]
    },
    {
      "cell_type": "code",
      "execution_count": 364,
      "metadata": {
        "colab": {
          "base_uri": "https://localhost:8080/",
          "height": 417
        },
        "id": "rI4_tDO-aS3F",
        "outputId": "b0e2983f-8e48-45d9-c91a-251714659516"
      },
      "outputs": [
        {
          "output_type": "display_data",
          "data": {
            "text/html": [
              "<html>\n",
              "<head><meta charset=\"utf-8\" /></head>\n",
              "<body>\n",
              "    <div>            <script src=\"https://cdnjs.cloudflare.com/ajax/libs/mathjax/2.7.5/MathJax.js?config=TeX-AMS-MML_SVG\"></script><script type=\"text/javascript\">if (window.MathJax) {MathJax.Hub.Config({SVG: {font: \"STIX-Web\"}});}</script>                <script type=\"text/javascript\">window.PlotlyConfig = {MathJaxConfig: 'local'};</script>\n",
              "        <script src=\"https://cdn.plot.ly/plotly-2.8.3.min.js\"></script>                <div id=\"49825c42-b286-4e89-b2a0-354f9264c4a8\" class=\"plotly-graph-div\" style=\"height:400px; width:700px;\"></div>            <script type=\"text/javascript\">                                    window.PLOTLYENV=window.PLOTLYENV || {};                                    if (document.getElementById(\"49825c42-b286-4e89-b2a0-354f9264c4a8\")) {                    Plotly.newPlot(                        \"49825c42-b286-4e89-b2a0-354f9264c4a8\",                        [{\"name\":\"temps entra\\u00eenement\",\"x\":[\"LinearRegression\",\"ElasticNet\",\"Linear SVR\",\"RandomForest\",\"Extratree Regressor\",\"GradientBoost\"],\"y\":[0.10908880233764648,0.10919618606567383,0.045305633544921876,1.6688918590545654,4.966325664520264,3.0701416969299316],\"type\":\"bar\"}],                        {\"template\":{\"data\":{\"bar\":[{\"error_x\":{\"color\":\"#2a3f5f\"},\"error_y\":{\"color\":\"#2a3f5f\"},\"marker\":{\"line\":{\"color\":\"#E5ECF6\",\"width\":0.5},\"pattern\":{\"fillmode\":\"overlay\",\"size\":10,\"solidity\":0.2}},\"type\":\"bar\"}],\"barpolar\":[{\"marker\":{\"line\":{\"color\":\"#E5ECF6\",\"width\":0.5},\"pattern\":{\"fillmode\":\"overlay\",\"size\":10,\"solidity\":0.2}},\"type\":\"barpolar\"}],\"carpet\":[{\"aaxis\":{\"endlinecolor\":\"#2a3f5f\",\"gridcolor\":\"white\",\"linecolor\":\"white\",\"minorgridcolor\":\"white\",\"startlinecolor\":\"#2a3f5f\"},\"baxis\":{\"endlinecolor\":\"#2a3f5f\",\"gridcolor\":\"white\",\"linecolor\":\"white\",\"minorgridcolor\":\"white\",\"startlinecolor\":\"#2a3f5f\"},\"type\":\"carpet\"}],\"choropleth\":[{\"colorbar\":{\"outlinewidth\":0,\"ticks\":\"\"},\"type\":\"choropleth\"}],\"contour\":[{\"colorbar\":{\"outlinewidth\":0,\"ticks\":\"\"},\"colorscale\":[[0.0,\"#0d0887\"],[0.1111111111111111,\"#46039f\"],[0.2222222222222222,\"#7201a8\"],[0.3333333333333333,\"#9c179e\"],[0.4444444444444444,\"#bd3786\"],[0.5555555555555556,\"#d8576b\"],[0.6666666666666666,\"#ed7953\"],[0.7777777777777778,\"#fb9f3a\"],[0.8888888888888888,\"#fdca26\"],[1.0,\"#f0f921\"]],\"type\":\"contour\"}],\"contourcarpet\":[{\"colorbar\":{\"outlinewidth\":0,\"ticks\":\"\"},\"type\":\"contourcarpet\"}],\"heatmap\":[{\"colorbar\":{\"outlinewidth\":0,\"ticks\":\"\"},\"colorscale\":[[0.0,\"#0d0887\"],[0.1111111111111111,\"#46039f\"],[0.2222222222222222,\"#7201a8\"],[0.3333333333333333,\"#9c179e\"],[0.4444444444444444,\"#bd3786\"],[0.5555555555555556,\"#d8576b\"],[0.6666666666666666,\"#ed7953\"],[0.7777777777777778,\"#fb9f3a\"],[0.8888888888888888,\"#fdca26\"],[1.0,\"#f0f921\"]],\"type\":\"heatmap\"}],\"heatmapgl\":[{\"colorbar\":{\"outlinewidth\":0,\"ticks\":\"\"},\"colorscale\":[[0.0,\"#0d0887\"],[0.1111111111111111,\"#46039f\"],[0.2222222222222222,\"#7201a8\"],[0.3333333333333333,\"#9c179e\"],[0.4444444444444444,\"#bd3786\"],[0.5555555555555556,\"#d8576b\"],[0.6666666666666666,\"#ed7953\"],[0.7777777777777778,\"#fb9f3a\"],[0.8888888888888888,\"#fdca26\"],[1.0,\"#f0f921\"]],\"type\":\"heatmapgl\"}],\"histogram\":[{\"marker\":{\"pattern\":{\"fillmode\":\"overlay\",\"size\":10,\"solidity\":0.2}},\"type\":\"histogram\"}],\"histogram2d\":[{\"colorbar\":{\"outlinewidth\":0,\"ticks\":\"\"},\"colorscale\":[[0.0,\"#0d0887\"],[0.1111111111111111,\"#46039f\"],[0.2222222222222222,\"#7201a8\"],[0.3333333333333333,\"#9c179e\"],[0.4444444444444444,\"#bd3786\"],[0.5555555555555556,\"#d8576b\"],[0.6666666666666666,\"#ed7953\"],[0.7777777777777778,\"#fb9f3a\"],[0.8888888888888888,\"#fdca26\"],[1.0,\"#f0f921\"]],\"type\":\"histogram2d\"}],\"histogram2dcontour\":[{\"colorbar\":{\"outlinewidth\":0,\"ticks\":\"\"},\"colorscale\":[[0.0,\"#0d0887\"],[0.1111111111111111,\"#46039f\"],[0.2222222222222222,\"#7201a8\"],[0.3333333333333333,\"#9c179e\"],[0.4444444444444444,\"#bd3786\"],[0.5555555555555556,\"#d8576b\"],[0.6666666666666666,\"#ed7953\"],[0.7777777777777778,\"#fb9f3a\"],[0.8888888888888888,\"#fdca26\"],[1.0,\"#f0f921\"]],\"type\":\"histogram2dcontour\"}],\"mesh3d\":[{\"colorbar\":{\"outlinewidth\":0,\"ticks\":\"\"},\"type\":\"mesh3d\"}],\"parcoords\":[{\"line\":{\"colorbar\":{\"outlinewidth\":0,\"ticks\":\"\"}},\"type\":\"parcoords\"}],\"pie\":[{\"automargin\":true,\"type\":\"pie\"}],\"scatter\":[{\"marker\":{\"colorbar\":{\"outlinewidth\":0,\"ticks\":\"\"}},\"type\":\"scatter\"}],\"scatter3d\":[{\"line\":{\"colorbar\":{\"outlinewidth\":0,\"ticks\":\"\"}},\"marker\":{\"colorbar\":{\"outlinewidth\":0,\"ticks\":\"\"}},\"type\":\"scatter3d\"}],\"scattercarpet\":[{\"marker\":{\"colorbar\":{\"outlinewidth\":0,\"ticks\":\"\"}},\"type\":\"scattercarpet\"}],\"scattergeo\":[{\"marker\":{\"colorbar\":{\"outlinewidth\":0,\"ticks\":\"\"}},\"type\":\"scattergeo\"}],\"scattergl\":[{\"marker\":{\"colorbar\":{\"outlinewidth\":0,\"ticks\":\"\"}},\"type\":\"scattergl\"}],\"scattermapbox\":[{\"marker\":{\"colorbar\":{\"outlinewidth\":0,\"ticks\":\"\"}},\"type\":\"scattermapbox\"}],\"scatterpolar\":[{\"marker\":{\"colorbar\":{\"outlinewidth\":0,\"ticks\":\"\"}},\"type\":\"scatterpolar\"}],\"scatterpolargl\":[{\"marker\":{\"colorbar\":{\"outlinewidth\":0,\"ticks\":\"\"}},\"type\":\"scatterpolargl\"}],\"scatterternary\":[{\"marker\":{\"colorbar\":{\"outlinewidth\":0,\"ticks\":\"\"}},\"type\":\"scatterternary\"}],\"surface\":[{\"colorbar\":{\"outlinewidth\":0,\"ticks\":\"\"},\"colorscale\":[[0.0,\"#0d0887\"],[0.1111111111111111,\"#46039f\"],[0.2222222222222222,\"#7201a8\"],[0.3333333333333333,\"#9c179e\"],[0.4444444444444444,\"#bd3786\"],[0.5555555555555556,\"#d8576b\"],[0.6666666666666666,\"#ed7953\"],[0.7777777777777778,\"#fb9f3a\"],[0.8888888888888888,\"#fdca26\"],[1.0,\"#f0f921\"]],\"type\":\"surface\"}],\"table\":[{\"cells\":{\"fill\":{\"color\":\"#EBF0F8\"},\"line\":{\"color\":\"white\"}},\"header\":{\"fill\":{\"color\":\"#C8D4E3\"},\"line\":{\"color\":\"white\"}},\"type\":\"table\"}]},\"layout\":{\"annotationdefaults\":{\"arrowcolor\":\"#2a3f5f\",\"arrowhead\":0,\"arrowwidth\":1},\"autotypenumbers\":\"strict\",\"coloraxis\":{\"colorbar\":{\"outlinewidth\":0,\"ticks\":\"\"}},\"colorscale\":{\"diverging\":[[0,\"#8e0152\"],[0.1,\"#c51b7d\"],[0.2,\"#de77ae\"],[0.3,\"#f1b6da\"],[0.4,\"#fde0ef\"],[0.5,\"#f7f7f7\"],[0.6,\"#e6f5d0\"],[0.7,\"#b8e186\"],[0.8,\"#7fbc41\"],[0.9,\"#4d9221\"],[1,\"#276419\"]],\"sequential\":[[0.0,\"#0d0887\"],[0.1111111111111111,\"#46039f\"],[0.2222222222222222,\"#7201a8\"],[0.3333333333333333,\"#9c179e\"],[0.4444444444444444,\"#bd3786\"],[0.5555555555555556,\"#d8576b\"],[0.6666666666666666,\"#ed7953\"],[0.7777777777777778,\"#fb9f3a\"],[0.8888888888888888,\"#fdca26\"],[1.0,\"#f0f921\"]],\"sequentialminus\":[[0.0,\"#0d0887\"],[0.1111111111111111,\"#46039f\"],[0.2222222222222222,\"#7201a8\"],[0.3333333333333333,\"#9c179e\"],[0.4444444444444444,\"#bd3786\"],[0.5555555555555556,\"#d8576b\"],[0.6666666666666666,\"#ed7953\"],[0.7777777777777778,\"#fb9f3a\"],[0.8888888888888888,\"#fdca26\"],[1.0,\"#f0f921\"]]},\"colorway\":[\"#636efa\",\"#EF553B\",\"#00cc96\",\"#ab63fa\",\"#FFA15A\",\"#19d3f3\",\"#FF6692\",\"#B6E880\",\"#FF97FF\",\"#FECB52\"],\"font\":{\"color\":\"#2a3f5f\"},\"geo\":{\"bgcolor\":\"white\",\"lakecolor\":\"white\",\"landcolor\":\"#E5ECF6\",\"showlakes\":true,\"showland\":true,\"subunitcolor\":\"white\"},\"hoverlabel\":{\"align\":\"left\"},\"hovermode\":\"closest\",\"mapbox\":{\"style\":\"light\"},\"paper_bgcolor\":\"white\",\"plot_bgcolor\":\"#E5ECF6\",\"polar\":{\"angularaxis\":{\"gridcolor\":\"white\",\"linecolor\":\"white\",\"ticks\":\"\"},\"bgcolor\":\"#E5ECF6\",\"radialaxis\":{\"gridcolor\":\"white\",\"linecolor\":\"white\",\"ticks\":\"\"}},\"scene\":{\"xaxis\":{\"backgroundcolor\":\"#E5ECF6\",\"gridcolor\":\"white\",\"gridwidth\":2,\"linecolor\":\"white\",\"showbackground\":true,\"ticks\":\"\",\"zerolinecolor\":\"white\"},\"yaxis\":{\"backgroundcolor\":\"#E5ECF6\",\"gridcolor\":\"white\",\"gridwidth\":2,\"linecolor\":\"white\",\"showbackground\":true,\"ticks\":\"\",\"zerolinecolor\":\"white\"},\"zaxis\":{\"backgroundcolor\":\"#E5ECF6\",\"gridcolor\":\"white\",\"gridwidth\":2,\"linecolor\":\"white\",\"showbackground\":true,\"ticks\":\"\",\"zerolinecolor\":\"white\"}},\"shapedefaults\":{\"line\":{\"color\":\"#2a3f5f\"}},\"ternary\":{\"aaxis\":{\"gridcolor\":\"white\",\"linecolor\":\"white\",\"ticks\":\"\"},\"baxis\":{\"gridcolor\":\"white\",\"linecolor\":\"white\",\"ticks\":\"\"},\"bgcolor\":\"#E5ECF6\",\"caxis\":{\"gridcolor\":\"white\",\"linecolor\":\"white\",\"ticks\":\"\"}},\"title\":{\"x\":0.05},\"xaxis\":{\"automargin\":true,\"gridcolor\":\"white\",\"linecolor\":\"white\",\"ticks\":\"\",\"title\":{\"standoff\":15},\"zerolinecolor\":\"white\",\"zerolinewidth\":2},\"yaxis\":{\"automargin\":true,\"gridcolor\":\"white\",\"linecolor\":\"white\",\"ticks\":\"\",\"title\":{\"standoff\":15},\"zerolinecolor\":\"white\",\"zerolinewidth\":2}}},\"barmode\":\"group\",\"autosize\":false,\"width\":700,\"height\":400},                        {\"responsive\": true}                    ).then(function(){\n",
              "                            \n",
              "var gd = document.getElementById('49825c42-b286-4e89-b2a0-354f9264c4a8');\n",
              "var x = new MutationObserver(function (mutations, observer) {{\n",
              "        var display = window.getComputedStyle(gd).display;\n",
              "        if (!display || display === 'none') {{\n",
              "            console.log([gd, 'removed!']);\n",
              "            Plotly.purge(gd);\n",
              "            observer.disconnect();\n",
              "        }}\n",
              "}});\n",
              "\n",
              "// Listen for the removal of the full notebook cells\n",
              "var notebookContainer = gd.closest('#notebook-container');\n",
              "if (notebookContainer) {{\n",
              "    x.observe(notebookContainer, {childList: true});\n",
              "}}\n",
              "\n",
              "// Listen for the clearing of the current output cell\n",
              "var outputEl = gd.closest('.output');\n",
              "if (outputEl) {{\n",
              "    x.observe(outputEl, {childList: true});\n",
              "}}\n",
              "\n",
              "                        })                };                            </script>        </div>\n",
              "</body>\n",
              "</html>"
            ]
          },
          "metadata": {}
        }
      ],
      "source": [
        "import plotly.graph_objects as go\n",
        "fig = go.Figure([ go.Bar(name='temps entraînement',x=R['Modèles'], y=R['fit time'])])\n",
        "fig.update_layout(barmode='group',autosize=False, width=700, height=400)\n",
        "\n",
        "fig.show()"
      ]
    },
    {
      "cell_type": "markdown",
      "metadata": {
        "id": "29syXkGJqSq1"
      },
      "source": [
        "### Code pour tracer les performances sur train et le test set de la cross validation du grid search"
      ]
    },
    {
      "cell_type": "code",
      "execution_count": 365,
      "metadata": {
        "id": "t7cC92BQo3Of"
      },
      "outputs": [],
      "source": [
        "import plotly.express as px\n",
        "def trace_mae(mymodel) :\n",
        "  t1=pd.DataFrame(mymodel.cv_results_)[[\"split0_train_neg_mean_absolute_error\",\t\"split1_train_neg_mean_absolute_error\",\"split2_train_neg_mean_absolute_error\",\t\"split3_train_neg_mean_absolute_error\",\t\"split4_train_neg_mean_absolute_error\"\t,\"rank_test_neg_mean_absolute_error\"]].sort_values(by='rank_test_neg_mean_absolute_error').head(1)\n",
        "  t1=pd.DataFrame(mymodel.cv_results_)[[\"split0_train_neg_mean_absolute_error\",\t\"split1_train_neg_mean_absolute_error\",\"split2_train_neg_mean_absolute_error\",\t\"split3_train_neg_mean_absolute_error\",\"split4_train_neg_mean_absolute_error\"]]\n",
        "  t2= pd.DataFrame(mymodel.cv_results_)[[\"split0_test_neg_mean_absolute_error\",\t\"split1_test_neg_mean_absolute_error\",\"split2_test_neg_mean_absolute_error\",\t\"split3_test_neg_mean_absolute_error\",\t\"split4_test_neg_mean_absolute_error\"\t,\"rank_test_neg_mean_absolute_error\"]].sort_values(by='rank_test_neg_mean_absolute_error').head(1)\n",
        "  t2= pd.DataFrame(mymodel.cv_results_)[[\"split0_test_neg_mean_absolute_error\",\t\"split1_test_neg_mean_absolute_error\",\"split2_test_neg_mean_absolute_error\",\t\"split3_test_neg_mean_absolute_error\",\t\"split4_test_neg_mean_absolute_error\"]]\n",
        "\n",
        "  df1_transposed = t1.T\n",
        "  df1_transposed \n",
        "  df2_transposed = t2.T\n",
        "  final=pd.concat ([df1_transposed,df2_transposed ])\n",
        "  final[\"Split_cross validation\"] = list(range(nb_split)) + list(range(nb_split))\n",
        "  final.rename(columns={0: \"MAE\"}, inplace=True)\n",
        "  final=final.reset_index()\n",
        "  final [\"color\"] = np.where( final[\"index\"].str.contains(\"test\"), \"test\", \"train\")\n",
        "  final\n",
        "\n",
        "  fig = px.line( final, x='Split_cross validation',y='MAE', color='color', symbol=\"color\",width=800, height=400)\n",
        "  fig.show()\n",
        "\n",
        "def trace_r2(mymodel) :\n",
        "    t1=pd.DataFrame(mymodel.cv_results_)[[\"split0_train_r2\",\t\"split1_train_r2\",\"split2_train_r2\",\t\"split3_train_r2\",\t\"split4_train_r2\"\t,\"rank_test_neg_mean_absolute_error\"]].sort_values(by='rank_test_neg_mean_absolute_error').head(1)\n",
        "    t1=pd.DataFrame(mymodel.cv_results_)[[\"split0_train_r2\",\t\"split1_train_r2\",\"split2_train_r2\",\t\"split3_train_r2\",\"split4_train_r2\"]]\n",
        "    t2= pd.DataFrame(mymodel.cv_results_)[[\"split0_test_r2\",\t\"split1_test_r2\",\"split2_test_r2\",\t\"split3_test_r2\",\t\"split4_test_r2\"\t,\"rank_test_neg_mean_absolute_error\"]].sort_values(by='rank_test_neg_mean_absolute_error').head(1)\n",
        "    t2= pd.DataFrame(mymodel.cv_results_)[[\"split0_test_r2\",\t\"split1_test_r2\",\"split2_test_r2\",\t\"split3_test_r2\",\t\"split4_test_r2\"]]\n",
        "\n",
        "    df1_transposed = t1.T\n",
        "    df1_transposed \n",
        "    df2_transposed = t2.T\n",
        "    final=pd.concat ([df1_transposed,df2_transposed ])\n",
        "    final[\"Split_cross validation\"] = list(range(nb_split)) + list(range(nb_split))\n",
        "    final.rename(columns={0: \"R2\"}, inplace=True)\n",
        "    final=final.reset_index()\n",
        "    final [\"color\"] = np.where( final[\"index\"].str.contains(\"test\"), \"test\", \"train\")\n",
        "    final\n",
        "\n",
        "    fig = px.line( final, x='Split_cross validation',y='R2', color='color', symbol=\"color\",width=800, height=400)\n",
        "    fig.show()\n",
        "\n"
      ]
    },
    {
      "cell_type": "markdown",
      "metadata": {
        "id": "BwjXW9cHq0IU"
      },
      "source": [
        "### Performance de notre modèle selectionné dans le train et le test set de chaque split de la cross-validation du Gridsearch\n"
      ]
    },
    {
      "cell_type": "code",
      "execution_count": 366,
      "metadata": {
        "colab": {
          "base_uri": "https://localhost:8080/",
          "height": 817
        },
        "id": "Y4UpBIZDqoHu",
        "outputId": "292af3e5-66a4-4842-e9c7-8964e048a326"
      },
      "outputs": [
        {
          "output_type": "display_data",
          "data": {
            "text/html": [
              "<html>\n",
              "<head><meta charset=\"utf-8\" /></head>\n",
              "<body>\n",
              "    <div>            <script src=\"https://cdnjs.cloudflare.com/ajax/libs/mathjax/2.7.5/MathJax.js?config=TeX-AMS-MML_SVG\"></script><script type=\"text/javascript\">if (window.MathJax) {MathJax.Hub.Config({SVG: {font: \"STIX-Web\"}});}</script>                <script type=\"text/javascript\">window.PlotlyConfig = {MathJaxConfig: 'local'};</script>\n",
              "        <script src=\"https://cdn.plot.ly/plotly-2.8.3.min.js\"></script>                <div id=\"740d540e-dd2a-4852-b927-3fd1d4751c43\" class=\"plotly-graph-div\" style=\"height:400px; width:800px;\"></div>            <script type=\"text/javascript\">                                    window.PLOTLYENV=window.PLOTLYENV || {};                                    if (document.getElementById(\"740d540e-dd2a-4852-b927-3fd1d4751c43\")) {                    Plotly.newPlot(                        \"740d540e-dd2a-4852-b927-3fd1d4751c43\",                        [{\"hovertemplate\":\"color=train<br>Split_cross validation=%{x}<br>MAE=%{y}<extra></extra>\",\"legendgroup\":\"train\",\"line\":{\"color\":\"#636efa\",\"dash\":\"solid\"},\"marker\":{\"symbol\":\"circle\"},\"mode\":\"markers+lines\",\"name\":\"train\",\"orientation\":\"v\",\"showlegend\":true,\"x\":[0,1,2,3,4],\"xaxis\":\"x\",\"y\":[-343105.73325055116,-418974.6516399064,-366202.1613509742,-377718.8175279178,-366173.36638397677],\"yaxis\":\"y\",\"type\":\"scatter\"},{\"hovertemplate\":\"color=test<br>Split_cross validation=%{x}<br>MAE=%{y}<extra></extra>\",\"legendgroup\":\"test\",\"line\":{\"color\":\"#EF553B\",\"dash\":\"solid\"},\"marker\":{\"symbol\":\"diamond\"},\"mode\":\"markers+lines\",\"name\":\"test\",\"orientation\":\"v\",\"showlegend\":true,\"x\":[0,1,2,3,4],\"xaxis\":\"x\",\"y\":[-3524089.648923042,-2654062.22467031,-4631656.174147124,-2307657.475813285,-2591139.223083719],\"yaxis\":\"y\",\"type\":\"scatter\"}],                        {\"template\":{\"data\":{\"bar\":[{\"error_x\":{\"color\":\"#2a3f5f\"},\"error_y\":{\"color\":\"#2a3f5f\"},\"marker\":{\"line\":{\"color\":\"#E5ECF6\",\"width\":0.5},\"pattern\":{\"fillmode\":\"overlay\",\"size\":10,\"solidity\":0.2}},\"type\":\"bar\"}],\"barpolar\":[{\"marker\":{\"line\":{\"color\":\"#E5ECF6\",\"width\":0.5},\"pattern\":{\"fillmode\":\"overlay\",\"size\":10,\"solidity\":0.2}},\"type\":\"barpolar\"}],\"carpet\":[{\"aaxis\":{\"endlinecolor\":\"#2a3f5f\",\"gridcolor\":\"white\",\"linecolor\":\"white\",\"minorgridcolor\":\"white\",\"startlinecolor\":\"#2a3f5f\"},\"baxis\":{\"endlinecolor\":\"#2a3f5f\",\"gridcolor\":\"white\",\"linecolor\":\"white\",\"minorgridcolor\":\"white\",\"startlinecolor\":\"#2a3f5f\"},\"type\":\"carpet\"}],\"choropleth\":[{\"colorbar\":{\"outlinewidth\":0,\"ticks\":\"\"},\"type\":\"choropleth\"}],\"contour\":[{\"colorbar\":{\"outlinewidth\":0,\"ticks\":\"\"},\"colorscale\":[[0.0,\"#0d0887\"],[0.1111111111111111,\"#46039f\"],[0.2222222222222222,\"#7201a8\"],[0.3333333333333333,\"#9c179e\"],[0.4444444444444444,\"#bd3786\"],[0.5555555555555556,\"#d8576b\"],[0.6666666666666666,\"#ed7953\"],[0.7777777777777778,\"#fb9f3a\"],[0.8888888888888888,\"#fdca26\"],[1.0,\"#f0f921\"]],\"type\":\"contour\"}],\"contourcarpet\":[{\"colorbar\":{\"outlinewidth\":0,\"ticks\":\"\"},\"type\":\"contourcarpet\"}],\"heatmap\":[{\"colorbar\":{\"outlinewidth\":0,\"ticks\":\"\"},\"colorscale\":[[0.0,\"#0d0887\"],[0.1111111111111111,\"#46039f\"],[0.2222222222222222,\"#7201a8\"],[0.3333333333333333,\"#9c179e\"],[0.4444444444444444,\"#bd3786\"],[0.5555555555555556,\"#d8576b\"],[0.6666666666666666,\"#ed7953\"],[0.7777777777777778,\"#fb9f3a\"],[0.8888888888888888,\"#fdca26\"],[1.0,\"#f0f921\"]],\"type\":\"heatmap\"}],\"heatmapgl\":[{\"colorbar\":{\"outlinewidth\":0,\"ticks\":\"\"},\"colorscale\":[[0.0,\"#0d0887\"],[0.1111111111111111,\"#46039f\"],[0.2222222222222222,\"#7201a8\"],[0.3333333333333333,\"#9c179e\"],[0.4444444444444444,\"#bd3786\"],[0.5555555555555556,\"#d8576b\"],[0.6666666666666666,\"#ed7953\"],[0.7777777777777778,\"#fb9f3a\"],[0.8888888888888888,\"#fdca26\"],[1.0,\"#f0f921\"]],\"type\":\"heatmapgl\"}],\"histogram\":[{\"marker\":{\"pattern\":{\"fillmode\":\"overlay\",\"size\":10,\"solidity\":0.2}},\"type\":\"histogram\"}],\"histogram2d\":[{\"colorbar\":{\"outlinewidth\":0,\"ticks\":\"\"},\"colorscale\":[[0.0,\"#0d0887\"],[0.1111111111111111,\"#46039f\"],[0.2222222222222222,\"#7201a8\"],[0.3333333333333333,\"#9c179e\"],[0.4444444444444444,\"#bd3786\"],[0.5555555555555556,\"#d8576b\"],[0.6666666666666666,\"#ed7953\"],[0.7777777777777778,\"#fb9f3a\"],[0.8888888888888888,\"#fdca26\"],[1.0,\"#f0f921\"]],\"type\":\"histogram2d\"}],\"histogram2dcontour\":[{\"colorbar\":{\"outlinewidth\":0,\"ticks\":\"\"},\"colorscale\":[[0.0,\"#0d0887\"],[0.1111111111111111,\"#46039f\"],[0.2222222222222222,\"#7201a8\"],[0.3333333333333333,\"#9c179e\"],[0.4444444444444444,\"#bd3786\"],[0.5555555555555556,\"#d8576b\"],[0.6666666666666666,\"#ed7953\"],[0.7777777777777778,\"#fb9f3a\"],[0.8888888888888888,\"#fdca26\"],[1.0,\"#f0f921\"]],\"type\":\"histogram2dcontour\"}],\"mesh3d\":[{\"colorbar\":{\"outlinewidth\":0,\"ticks\":\"\"},\"type\":\"mesh3d\"}],\"parcoords\":[{\"line\":{\"colorbar\":{\"outlinewidth\":0,\"ticks\":\"\"}},\"type\":\"parcoords\"}],\"pie\":[{\"automargin\":true,\"type\":\"pie\"}],\"scatter\":[{\"marker\":{\"colorbar\":{\"outlinewidth\":0,\"ticks\":\"\"}},\"type\":\"scatter\"}],\"scatter3d\":[{\"line\":{\"colorbar\":{\"outlinewidth\":0,\"ticks\":\"\"}},\"marker\":{\"colorbar\":{\"outlinewidth\":0,\"ticks\":\"\"}},\"type\":\"scatter3d\"}],\"scattercarpet\":[{\"marker\":{\"colorbar\":{\"outlinewidth\":0,\"ticks\":\"\"}},\"type\":\"scattercarpet\"}],\"scattergeo\":[{\"marker\":{\"colorbar\":{\"outlinewidth\":0,\"ticks\":\"\"}},\"type\":\"scattergeo\"}],\"scattergl\":[{\"marker\":{\"colorbar\":{\"outlinewidth\":0,\"ticks\":\"\"}},\"type\":\"scattergl\"}],\"scattermapbox\":[{\"marker\":{\"colorbar\":{\"outlinewidth\":0,\"ticks\":\"\"}},\"type\":\"scattermapbox\"}],\"scatterpolar\":[{\"marker\":{\"colorbar\":{\"outlinewidth\":0,\"ticks\":\"\"}},\"type\":\"scatterpolar\"}],\"scatterpolargl\":[{\"marker\":{\"colorbar\":{\"outlinewidth\":0,\"ticks\":\"\"}},\"type\":\"scatterpolargl\"}],\"scatterternary\":[{\"marker\":{\"colorbar\":{\"outlinewidth\":0,\"ticks\":\"\"}},\"type\":\"scatterternary\"}],\"surface\":[{\"colorbar\":{\"outlinewidth\":0,\"ticks\":\"\"},\"colorscale\":[[0.0,\"#0d0887\"],[0.1111111111111111,\"#46039f\"],[0.2222222222222222,\"#7201a8\"],[0.3333333333333333,\"#9c179e\"],[0.4444444444444444,\"#bd3786\"],[0.5555555555555556,\"#d8576b\"],[0.6666666666666666,\"#ed7953\"],[0.7777777777777778,\"#fb9f3a\"],[0.8888888888888888,\"#fdca26\"],[1.0,\"#f0f921\"]],\"type\":\"surface\"}],\"table\":[{\"cells\":{\"fill\":{\"color\":\"#EBF0F8\"},\"line\":{\"color\":\"white\"}},\"header\":{\"fill\":{\"color\":\"#C8D4E3\"},\"line\":{\"color\":\"white\"}},\"type\":\"table\"}]},\"layout\":{\"annotationdefaults\":{\"arrowcolor\":\"#2a3f5f\",\"arrowhead\":0,\"arrowwidth\":1},\"autotypenumbers\":\"strict\",\"coloraxis\":{\"colorbar\":{\"outlinewidth\":0,\"ticks\":\"\"}},\"colorscale\":{\"diverging\":[[0,\"#8e0152\"],[0.1,\"#c51b7d\"],[0.2,\"#de77ae\"],[0.3,\"#f1b6da\"],[0.4,\"#fde0ef\"],[0.5,\"#f7f7f7\"],[0.6,\"#e6f5d0\"],[0.7,\"#b8e186\"],[0.8,\"#7fbc41\"],[0.9,\"#4d9221\"],[1,\"#276419\"]],\"sequential\":[[0.0,\"#0d0887\"],[0.1111111111111111,\"#46039f\"],[0.2222222222222222,\"#7201a8\"],[0.3333333333333333,\"#9c179e\"],[0.4444444444444444,\"#bd3786\"],[0.5555555555555556,\"#d8576b\"],[0.6666666666666666,\"#ed7953\"],[0.7777777777777778,\"#fb9f3a\"],[0.8888888888888888,\"#fdca26\"],[1.0,\"#f0f921\"]],\"sequentialminus\":[[0.0,\"#0d0887\"],[0.1111111111111111,\"#46039f\"],[0.2222222222222222,\"#7201a8\"],[0.3333333333333333,\"#9c179e\"],[0.4444444444444444,\"#bd3786\"],[0.5555555555555556,\"#d8576b\"],[0.6666666666666666,\"#ed7953\"],[0.7777777777777778,\"#fb9f3a\"],[0.8888888888888888,\"#fdca26\"],[1.0,\"#f0f921\"]]},\"colorway\":[\"#636efa\",\"#EF553B\",\"#00cc96\",\"#ab63fa\",\"#FFA15A\",\"#19d3f3\",\"#FF6692\",\"#B6E880\",\"#FF97FF\",\"#FECB52\"],\"font\":{\"color\":\"#2a3f5f\"},\"geo\":{\"bgcolor\":\"white\",\"lakecolor\":\"white\",\"landcolor\":\"#E5ECF6\",\"showlakes\":true,\"showland\":true,\"subunitcolor\":\"white\"},\"hoverlabel\":{\"align\":\"left\"},\"hovermode\":\"closest\",\"mapbox\":{\"style\":\"light\"},\"paper_bgcolor\":\"white\",\"plot_bgcolor\":\"#E5ECF6\",\"polar\":{\"angularaxis\":{\"gridcolor\":\"white\",\"linecolor\":\"white\",\"ticks\":\"\"},\"bgcolor\":\"#E5ECF6\",\"radialaxis\":{\"gridcolor\":\"white\",\"linecolor\":\"white\",\"ticks\":\"\"}},\"scene\":{\"xaxis\":{\"backgroundcolor\":\"#E5ECF6\",\"gridcolor\":\"white\",\"gridwidth\":2,\"linecolor\":\"white\",\"showbackground\":true,\"ticks\":\"\",\"zerolinecolor\":\"white\"},\"yaxis\":{\"backgroundcolor\":\"#E5ECF6\",\"gridcolor\":\"white\",\"gridwidth\":2,\"linecolor\":\"white\",\"showbackground\":true,\"ticks\":\"\",\"zerolinecolor\":\"white\"},\"zaxis\":{\"backgroundcolor\":\"#E5ECF6\",\"gridcolor\":\"white\",\"gridwidth\":2,\"linecolor\":\"white\",\"showbackground\":true,\"ticks\":\"\",\"zerolinecolor\":\"white\"}},\"shapedefaults\":{\"line\":{\"color\":\"#2a3f5f\"}},\"ternary\":{\"aaxis\":{\"gridcolor\":\"white\",\"linecolor\":\"white\",\"ticks\":\"\"},\"baxis\":{\"gridcolor\":\"white\",\"linecolor\":\"white\",\"ticks\":\"\"},\"bgcolor\":\"#E5ECF6\",\"caxis\":{\"gridcolor\":\"white\",\"linecolor\":\"white\",\"ticks\":\"\"}},\"title\":{\"x\":0.05},\"xaxis\":{\"automargin\":true,\"gridcolor\":\"white\",\"linecolor\":\"white\",\"ticks\":\"\",\"title\":{\"standoff\":15},\"zerolinecolor\":\"white\",\"zerolinewidth\":2},\"yaxis\":{\"automargin\":true,\"gridcolor\":\"white\",\"linecolor\":\"white\",\"ticks\":\"\",\"title\":{\"standoff\":15},\"zerolinecolor\":\"white\",\"zerolinewidth\":2}}},\"xaxis\":{\"anchor\":\"y\",\"domain\":[0.0,1.0],\"title\":{\"text\":\"Split_cross validation\"}},\"yaxis\":{\"anchor\":\"x\",\"domain\":[0.0,1.0],\"title\":{\"text\":\"MAE\"}},\"legend\":{\"title\":{\"text\":\"color\"},\"tracegroupgap\":0},\"margin\":{\"t\":60},\"height\":400,\"width\":800},                        {\"responsive\": true}                    ).then(function(){\n",
              "                            \n",
              "var gd = document.getElementById('740d540e-dd2a-4852-b927-3fd1d4751c43');\n",
              "var x = new MutationObserver(function (mutations, observer) {{\n",
              "        var display = window.getComputedStyle(gd).display;\n",
              "        if (!display || display === 'none') {{\n",
              "            console.log([gd, 'removed!']);\n",
              "            Plotly.purge(gd);\n",
              "            observer.disconnect();\n",
              "        }}\n",
              "}});\n",
              "\n",
              "// Listen for the removal of the full notebook cells\n",
              "var notebookContainer = gd.closest('#notebook-container');\n",
              "if (notebookContainer) {{\n",
              "    x.observe(notebookContainer, {childList: true});\n",
              "}}\n",
              "\n",
              "// Listen for the clearing of the current output cell\n",
              "var outputEl = gd.closest('.output');\n",
              "if (outputEl) {{\n",
              "    x.observe(outputEl, {childList: true});\n",
              "}}\n",
              "\n",
              "                        })                };                            </script>        </div>\n",
              "</body>\n",
              "</html>"
            ]
          },
          "metadata": {}
        },
        {
          "output_type": "display_data",
          "data": {
            "text/html": [
              "<html>\n",
              "<head><meta charset=\"utf-8\" /></head>\n",
              "<body>\n",
              "    <div>            <script src=\"https://cdnjs.cloudflare.com/ajax/libs/mathjax/2.7.5/MathJax.js?config=TeX-AMS-MML_SVG\"></script><script type=\"text/javascript\">if (window.MathJax) {MathJax.Hub.Config({SVG: {font: \"STIX-Web\"}});}</script>                <script type=\"text/javascript\">window.PlotlyConfig = {MathJaxConfig: 'local'};</script>\n",
              "        <script src=\"https://cdn.plot.ly/plotly-2.8.3.min.js\"></script>                <div id=\"d2489e64-1398-475e-a1f1-108e7393104e\" class=\"plotly-graph-div\" style=\"height:400px; width:800px;\"></div>            <script type=\"text/javascript\">                                    window.PLOTLYENV=window.PLOTLYENV || {};                                    if (document.getElementById(\"d2489e64-1398-475e-a1f1-108e7393104e\")) {                    Plotly.newPlot(                        \"d2489e64-1398-475e-a1f1-108e7393104e\",                        [{\"hovertemplate\":\"color=train<br>Split_cross validation=%{x}<br>R2=%{y}<extra></extra>\",\"legendgroup\":\"train\",\"line\":{\"color\":\"#636efa\",\"dash\":\"solid\"},\"marker\":{\"symbol\":\"circle\"},\"mode\":\"markers+lines\",\"name\":\"train\",\"orientation\":\"v\",\"showlegend\":true,\"x\":[0,1,2,3,4],\"xaxis\":\"x\",\"y\":[0.9978827433814311,0.9965865986116021,0.9962472451420259,0.9983245175759774,0.9980553265824841],\"yaxis\":\"y\",\"type\":\"scatter\"},{\"hovertemplate\":\"color=test<br>Split_cross validation=%{x}<br>R2=%{y}<extra></extra>\",\"legendgroup\":\"test\",\"line\":{\"color\":\"#EF553B\",\"dash\":\"solid\"},\"marker\":{\"symbol\":\"diamond\"},\"mode\":\"markers+lines\",\"name\":\"test\",\"orientation\":\"v\",\"showlegend\":true,\"x\":[0,1,2,3,4],\"xaxis\":\"x\",\"y\":[0.24922153277657355,0.6786813468577308,0.4803411086268772,0.7110012231602414,0.7611596072956461],\"yaxis\":\"y\",\"type\":\"scatter\"}],                        {\"template\":{\"data\":{\"bar\":[{\"error_x\":{\"color\":\"#2a3f5f\"},\"error_y\":{\"color\":\"#2a3f5f\"},\"marker\":{\"line\":{\"color\":\"#E5ECF6\",\"width\":0.5},\"pattern\":{\"fillmode\":\"overlay\",\"size\":10,\"solidity\":0.2}},\"type\":\"bar\"}],\"barpolar\":[{\"marker\":{\"line\":{\"color\":\"#E5ECF6\",\"width\":0.5},\"pattern\":{\"fillmode\":\"overlay\",\"size\":10,\"solidity\":0.2}},\"type\":\"barpolar\"}],\"carpet\":[{\"aaxis\":{\"endlinecolor\":\"#2a3f5f\",\"gridcolor\":\"white\",\"linecolor\":\"white\",\"minorgridcolor\":\"white\",\"startlinecolor\":\"#2a3f5f\"},\"baxis\":{\"endlinecolor\":\"#2a3f5f\",\"gridcolor\":\"white\",\"linecolor\":\"white\",\"minorgridcolor\":\"white\",\"startlinecolor\":\"#2a3f5f\"},\"type\":\"carpet\"}],\"choropleth\":[{\"colorbar\":{\"outlinewidth\":0,\"ticks\":\"\"},\"type\":\"choropleth\"}],\"contour\":[{\"colorbar\":{\"outlinewidth\":0,\"ticks\":\"\"},\"colorscale\":[[0.0,\"#0d0887\"],[0.1111111111111111,\"#46039f\"],[0.2222222222222222,\"#7201a8\"],[0.3333333333333333,\"#9c179e\"],[0.4444444444444444,\"#bd3786\"],[0.5555555555555556,\"#d8576b\"],[0.6666666666666666,\"#ed7953\"],[0.7777777777777778,\"#fb9f3a\"],[0.8888888888888888,\"#fdca26\"],[1.0,\"#f0f921\"]],\"type\":\"contour\"}],\"contourcarpet\":[{\"colorbar\":{\"outlinewidth\":0,\"ticks\":\"\"},\"type\":\"contourcarpet\"}],\"heatmap\":[{\"colorbar\":{\"outlinewidth\":0,\"ticks\":\"\"},\"colorscale\":[[0.0,\"#0d0887\"],[0.1111111111111111,\"#46039f\"],[0.2222222222222222,\"#7201a8\"],[0.3333333333333333,\"#9c179e\"],[0.4444444444444444,\"#bd3786\"],[0.5555555555555556,\"#d8576b\"],[0.6666666666666666,\"#ed7953\"],[0.7777777777777778,\"#fb9f3a\"],[0.8888888888888888,\"#fdca26\"],[1.0,\"#f0f921\"]],\"type\":\"heatmap\"}],\"heatmapgl\":[{\"colorbar\":{\"outlinewidth\":0,\"ticks\":\"\"},\"colorscale\":[[0.0,\"#0d0887\"],[0.1111111111111111,\"#46039f\"],[0.2222222222222222,\"#7201a8\"],[0.3333333333333333,\"#9c179e\"],[0.4444444444444444,\"#bd3786\"],[0.5555555555555556,\"#d8576b\"],[0.6666666666666666,\"#ed7953\"],[0.7777777777777778,\"#fb9f3a\"],[0.8888888888888888,\"#fdca26\"],[1.0,\"#f0f921\"]],\"type\":\"heatmapgl\"}],\"histogram\":[{\"marker\":{\"pattern\":{\"fillmode\":\"overlay\",\"size\":10,\"solidity\":0.2}},\"type\":\"histogram\"}],\"histogram2d\":[{\"colorbar\":{\"outlinewidth\":0,\"ticks\":\"\"},\"colorscale\":[[0.0,\"#0d0887\"],[0.1111111111111111,\"#46039f\"],[0.2222222222222222,\"#7201a8\"],[0.3333333333333333,\"#9c179e\"],[0.4444444444444444,\"#bd3786\"],[0.5555555555555556,\"#d8576b\"],[0.6666666666666666,\"#ed7953\"],[0.7777777777777778,\"#fb9f3a\"],[0.8888888888888888,\"#fdca26\"],[1.0,\"#f0f921\"]],\"type\":\"histogram2d\"}],\"histogram2dcontour\":[{\"colorbar\":{\"outlinewidth\":0,\"ticks\":\"\"},\"colorscale\":[[0.0,\"#0d0887\"],[0.1111111111111111,\"#46039f\"],[0.2222222222222222,\"#7201a8\"],[0.3333333333333333,\"#9c179e\"],[0.4444444444444444,\"#bd3786\"],[0.5555555555555556,\"#d8576b\"],[0.6666666666666666,\"#ed7953\"],[0.7777777777777778,\"#fb9f3a\"],[0.8888888888888888,\"#fdca26\"],[1.0,\"#f0f921\"]],\"type\":\"histogram2dcontour\"}],\"mesh3d\":[{\"colorbar\":{\"outlinewidth\":0,\"ticks\":\"\"},\"type\":\"mesh3d\"}],\"parcoords\":[{\"line\":{\"colorbar\":{\"outlinewidth\":0,\"ticks\":\"\"}},\"type\":\"parcoords\"}],\"pie\":[{\"automargin\":true,\"type\":\"pie\"}],\"scatter\":[{\"marker\":{\"colorbar\":{\"outlinewidth\":0,\"ticks\":\"\"}},\"type\":\"scatter\"}],\"scatter3d\":[{\"line\":{\"colorbar\":{\"outlinewidth\":0,\"ticks\":\"\"}},\"marker\":{\"colorbar\":{\"outlinewidth\":0,\"ticks\":\"\"}},\"type\":\"scatter3d\"}],\"scattercarpet\":[{\"marker\":{\"colorbar\":{\"outlinewidth\":0,\"ticks\":\"\"}},\"type\":\"scattercarpet\"}],\"scattergeo\":[{\"marker\":{\"colorbar\":{\"outlinewidth\":0,\"ticks\":\"\"}},\"type\":\"scattergeo\"}],\"scattergl\":[{\"marker\":{\"colorbar\":{\"outlinewidth\":0,\"ticks\":\"\"}},\"type\":\"scattergl\"}],\"scattermapbox\":[{\"marker\":{\"colorbar\":{\"outlinewidth\":0,\"ticks\":\"\"}},\"type\":\"scattermapbox\"}],\"scatterpolar\":[{\"marker\":{\"colorbar\":{\"outlinewidth\":0,\"ticks\":\"\"}},\"type\":\"scatterpolar\"}],\"scatterpolargl\":[{\"marker\":{\"colorbar\":{\"outlinewidth\":0,\"ticks\":\"\"}},\"type\":\"scatterpolargl\"}],\"scatterternary\":[{\"marker\":{\"colorbar\":{\"outlinewidth\":0,\"ticks\":\"\"}},\"type\":\"scatterternary\"}],\"surface\":[{\"colorbar\":{\"outlinewidth\":0,\"ticks\":\"\"},\"colorscale\":[[0.0,\"#0d0887\"],[0.1111111111111111,\"#46039f\"],[0.2222222222222222,\"#7201a8\"],[0.3333333333333333,\"#9c179e\"],[0.4444444444444444,\"#bd3786\"],[0.5555555555555556,\"#d8576b\"],[0.6666666666666666,\"#ed7953\"],[0.7777777777777778,\"#fb9f3a\"],[0.8888888888888888,\"#fdca26\"],[1.0,\"#f0f921\"]],\"type\":\"surface\"}],\"table\":[{\"cells\":{\"fill\":{\"color\":\"#EBF0F8\"},\"line\":{\"color\":\"white\"}},\"header\":{\"fill\":{\"color\":\"#C8D4E3\"},\"line\":{\"color\":\"white\"}},\"type\":\"table\"}]},\"layout\":{\"annotationdefaults\":{\"arrowcolor\":\"#2a3f5f\",\"arrowhead\":0,\"arrowwidth\":1},\"autotypenumbers\":\"strict\",\"coloraxis\":{\"colorbar\":{\"outlinewidth\":0,\"ticks\":\"\"}},\"colorscale\":{\"diverging\":[[0,\"#8e0152\"],[0.1,\"#c51b7d\"],[0.2,\"#de77ae\"],[0.3,\"#f1b6da\"],[0.4,\"#fde0ef\"],[0.5,\"#f7f7f7\"],[0.6,\"#e6f5d0\"],[0.7,\"#b8e186\"],[0.8,\"#7fbc41\"],[0.9,\"#4d9221\"],[1,\"#276419\"]],\"sequential\":[[0.0,\"#0d0887\"],[0.1111111111111111,\"#46039f\"],[0.2222222222222222,\"#7201a8\"],[0.3333333333333333,\"#9c179e\"],[0.4444444444444444,\"#bd3786\"],[0.5555555555555556,\"#d8576b\"],[0.6666666666666666,\"#ed7953\"],[0.7777777777777778,\"#fb9f3a\"],[0.8888888888888888,\"#fdca26\"],[1.0,\"#f0f921\"]],\"sequentialminus\":[[0.0,\"#0d0887\"],[0.1111111111111111,\"#46039f\"],[0.2222222222222222,\"#7201a8\"],[0.3333333333333333,\"#9c179e\"],[0.4444444444444444,\"#bd3786\"],[0.5555555555555556,\"#d8576b\"],[0.6666666666666666,\"#ed7953\"],[0.7777777777777778,\"#fb9f3a\"],[0.8888888888888888,\"#fdca26\"],[1.0,\"#f0f921\"]]},\"colorway\":[\"#636efa\",\"#EF553B\",\"#00cc96\",\"#ab63fa\",\"#FFA15A\",\"#19d3f3\",\"#FF6692\",\"#B6E880\",\"#FF97FF\",\"#FECB52\"],\"font\":{\"color\":\"#2a3f5f\"},\"geo\":{\"bgcolor\":\"white\",\"lakecolor\":\"white\",\"landcolor\":\"#E5ECF6\",\"showlakes\":true,\"showland\":true,\"subunitcolor\":\"white\"},\"hoverlabel\":{\"align\":\"left\"},\"hovermode\":\"closest\",\"mapbox\":{\"style\":\"light\"},\"paper_bgcolor\":\"white\",\"plot_bgcolor\":\"#E5ECF6\",\"polar\":{\"angularaxis\":{\"gridcolor\":\"white\",\"linecolor\":\"white\",\"ticks\":\"\"},\"bgcolor\":\"#E5ECF6\",\"radialaxis\":{\"gridcolor\":\"white\",\"linecolor\":\"white\",\"ticks\":\"\"}},\"scene\":{\"xaxis\":{\"backgroundcolor\":\"#E5ECF6\",\"gridcolor\":\"white\",\"gridwidth\":2,\"linecolor\":\"white\",\"showbackground\":true,\"ticks\":\"\",\"zerolinecolor\":\"white\"},\"yaxis\":{\"backgroundcolor\":\"#E5ECF6\",\"gridcolor\":\"white\",\"gridwidth\":2,\"linecolor\":\"white\",\"showbackground\":true,\"ticks\":\"\",\"zerolinecolor\":\"white\"},\"zaxis\":{\"backgroundcolor\":\"#E5ECF6\",\"gridcolor\":\"white\",\"gridwidth\":2,\"linecolor\":\"white\",\"showbackground\":true,\"ticks\":\"\",\"zerolinecolor\":\"white\"}},\"shapedefaults\":{\"line\":{\"color\":\"#2a3f5f\"}},\"ternary\":{\"aaxis\":{\"gridcolor\":\"white\",\"linecolor\":\"white\",\"ticks\":\"\"},\"baxis\":{\"gridcolor\":\"white\",\"linecolor\":\"white\",\"ticks\":\"\"},\"bgcolor\":\"#E5ECF6\",\"caxis\":{\"gridcolor\":\"white\",\"linecolor\":\"white\",\"ticks\":\"\"}},\"title\":{\"x\":0.05},\"xaxis\":{\"automargin\":true,\"gridcolor\":\"white\",\"linecolor\":\"white\",\"ticks\":\"\",\"title\":{\"standoff\":15},\"zerolinecolor\":\"white\",\"zerolinewidth\":2},\"yaxis\":{\"automargin\":true,\"gridcolor\":\"white\",\"linecolor\":\"white\",\"ticks\":\"\",\"title\":{\"standoff\":15},\"zerolinecolor\":\"white\",\"zerolinewidth\":2}}},\"xaxis\":{\"anchor\":\"y\",\"domain\":[0.0,1.0],\"title\":{\"text\":\"Split_cross validation\"}},\"yaxis\":{\"anchor\":\"x\",\"domain\":[0.0,1.0],\"title\":{\"text\":\"R2\"}},\"legend\":{\"title\":{\"text\":\"color\"},\"tracegroupgap\":0},\"margin\":{\"t\":60},\"height\":400,\"width\":800},                        {\"responsive\": true}                    ).then(function(){\n",
              "                            \n",
              "var gd = document.getElementById('d2489e64-1398-475e-a1f1-108e7393104e');\n",
              "var x = new MutationObserver(function (mutations, observer) {{\n",
              "        var display = window.getComputedStyle(gd).display;\n",
              "        if (!display || display === 'none') {{\n",
              "            console.log([gd, 'removed!']);\n",
              "            Plotly.purge(gd);\n",
              "            observer.disconnect();\n",
              "        }}\n",
              "}});\n",
              "\n",
              "// Listen for the removal of the full notebook cells\n",
              "var notebookContainer = gd.closest('#notebook-container');\n",
              "if (notebookContainer) {{\n",
              "    x.observe(notebookContainer, {childList: true});\n",
              "}}\n",
              "\n",
              "// Listen for the clearing of the current output cell\n",
              "var outputEl = gd.closest('.output');\n",
              "if (outputEl) {{\n",
              "    x.observe(outputEl, {childList: true});\n",
              "}}\n",
              "\n",
              "                        })                };                            </script>        </div>\n",
              "</body>\n",
              "</html>"
            ]
          },
          "metadata": {}
        }
      ],
      "source": [
        "trace_mae(gb_grid_search_model)\n",
        "trace_r2(gb_grid_search_model)"
      ]
    },
    {
      "cell_type": "markdown",
      "metadata": {
        "id": "t2mTAnlipVsY"
      },
      "source": [
        "On voit bien ici que la performance du modèle sur les données se rapproche de celle sur les données de test. On peut ne pas envisager un overffiting de notre modèle séléctionné."
      ]
    },
    {
      "cell_type": "markdown",
      "source": [
        "### Feature importance du meilleur modèle\n",
        "---"
      ],
      "metadata": {
        "id": "4TveYy4sngas"
      }
    },
    {
      "cell_type": "code",
      "source": [
        "#Poids de chaque feature dans le modèle\n",
        "feature_importance_value1=gb_grid_search_model.best_estimator_.named_steps['GB'].regressor_.feature_importances_ \n",
        "\n",
        "#Noms de features utilisés dans le modèle\n",
        "feature_names = get_feature_names(gb_grid_search_model.best_estimator_.named_steps['preprocessor'])\n",
        "\n",
        "#Dataframe regroupant les features et leur poids\n",
        "feat_importances1= pd.Series(feature_importance_value1 , index=feature_names)"
      ],
      "metadata": {
        "id": "jhFa1vsRnk3E"
      },
      "execution_count": 367,
      "outputs": []
    },
    {
      "cell_type": "code",
      "source": [
        "#Création et transposition de la dataframe feature importance\n",
        "feat_importances1= pd.DataFrame(feat_importances1).transpose()\n",
        "\n",
        "#Agrégation des features qui proviennent de la même variable qualitative\n",
        "feat_importances1['PrimaryPropertyType']= feat_importances1[list(feat_importances1.filter(regex='one-hot__x0'))].sum(axis=1)\n",
        "feat_importances1['LargestPropertyUseType']= feat_importances1[list(feat_importances1.filter(regex='one-hot__x1'))].sum(axis=1)\n",
        "#feat_importances1[\"BuildingType\"]= feat_importances1[list(feat_importances1.filter(regex='one-hot__x2'))].sum(axis=1)\n",
        "\n",
        "# Colonnes à supprimer \n",
        "unwanted = feat_importances1.columns[feat_importances1.columns.str.startswith('one-hot__x')]\n",
        "feat_importances1.drop(unwanted, axis=1, inplace=True)\n",
        "\n",
        "#On ramène la dataFrame à sa forme initiale\n",
        "feat_importances1= pd.DataFrame(feat_importances1).transpose()\n",
        "\n",
        "#On renomme et reformate les valeurs de la colonne feature\n",
        "df2=feat_importances1.reset_index().rename(columns={\"index\": \"features\", 0: \"poids\"})\n",
        "df2['features']=df2['features'].str.replace('numerical_pipeline__','')\n"
      ],
      "metadata": {
        "id": "F3D648VTnzkL"
      },
      "execution_count": 368,
      "outputs": []
    },
    {
      "cell_type": "markdown",
      "source": [
        "### Tracé feature importance"
      ],
      "metadata": {
        "id": "3SJGPitbut-H"
      }
    },
    {
      "cell_type": "code",
      "source": [
        "#On trace le graphique du feature importance \n",
        "plt.figure(figsize=(25.2,5))\n",
        "sns.barplot(x='features', y='poids', data=df2.sort_values(by='poids', ascending=False))"
      ],
      "metadata": {
        "colab": {
          "base_uri": "https://localhost:8080/",
          "height": 353
        },
        "id": "2DlOQQcluxyC",
        "outputId": "7e02a8d6-3cd6-47dc-8915-3201036d990e"
      },
      "execution_count": 369,
      "outputs": [
        {
          "output_type": "execute_result",
          "data": {
            "text/plain": [
              "<matplotlib.axes._subplots.AxesSubplot at 0x7f45c4239e80>"
            ]
          },
          "metadata": {},
          "execution_count": 369
        },
        {
          "output_type": "display_data",
          "data": {
            "text/plain": [
              "<Figure size 1814.4x360 with 1 Axes>"
            ],
            "image/png": "[encoded data removed]"
          },
          "metadata": {
            "needs_background": "light"
          }
        }
      ]
    },
    {
      "cell_type": "markdown",
      "source": [
        "On voit sur ce graphique les features qui ont plus d'impact sur notre modèle.\n",
        "\n",
        "A partir de ce graphique, nous pouvons décider de supprimer les features qui ont très peu d'importance. On obtiendra un modèle plus simple et sans doute avec une moindre variance. \n",
        "\n",
        "On peut  aussi regarder sur quelles données le meilleurs modèle fait de grosses erreur, et essayer de comprendre pourquoi: des donnée atypique ? manque-t-il un feature pour les capter ?  Données abbérentes ? faut-il les supprimmer ? "
      ],
      "metadata": {
        "id": "cB4fjM-0xFp3"
      }
    },
    {
      "cell_type": "markdown",
      "metadata": {
        "id": "t-SP0uyMwfZP"
      },
      "source": [
        "### Valeurs prédites vs Valeurs réelles de notre meilleur modèle.\n",
        "---"
      ]
    },
    {
      "cell_type": "code",
      "source": [
        "y_pred =gb_grid_search_model.best_estimator_.predict(X_test)\n",
        "plt.figure(figsize=(18,7))\n",
        "y_test=Y_test[target[0]]\n",
        "# traçage de y_test versus y_pred\n",
        "# l'idéal aurait dû être une ligne droite\n",
        "p1 = max(max(y_test), max(y_pred))\n",
        "p2 = min(min(y_test), min(y_pred))\n",
        "plt.plot([p1, p2], [p1, p2], 'b-')\n",
        "sns.scatterplot(x=y_test, y=y_pred)"
      ],
      "metadata": {
        "colab": {
          "base_uri": "https://localhost:8080/",
          "height": 471
        },
        "id": "t1UnlB2H2iTk",
        "outputId": "101130fe-ea44-49e8-ddd0-df508db1db44"
      },
      "execution_count": 370,
      "outputs": [
        {
          "output_type": "execute_result",
          "data": {
            "text/plain": [
              "<matplotlib.axes._subplots.AxesSubplot at 0x7f45c3dd8370>"
            ]
          },
          "metadata": {},
          "execution_count": 370
        },
        {
          "output_type": "display_data",
          "data": {
            "text/plain": [
              "<Figure size 1296x504 with 1 Axes>"
            ],
            "image/png": "[encoded data removed]"
          },
          "metadata": {
            "needs_background": "light"
          }
        }
      ]
    },
    {
      "cell_type": "markdown",
      "metadata": {
        "id": "tYRsWvBkgNgw"
      },
      "source": [
        "# <ins>Importance de EnergyStarScore pour la variable target SiteEnergyUse(kBtu)</ins>"
      ]
    },
    {
      "cell_type": "markdown",
      "metadata": {
        "id": "un0GydpI_qPT"
      },
      "source": [
        "Nous allons voir si EnergyStar a un impact sur les modèles. On enlève la variable ENERGYSTARScore"
      ]
    },
    {
      "cell_type": "markdown",
      "metadata": {
        "id": "O1YM8_U6DoOz"
      },
      "source": [
        "### GridSearch"
      ]
    },
    {
      "cell_type": "code",
      "execution_count": 371,
      "metadata": {
        "id": "xAc-DP62_01V"
      },
      "outputs": [],
      "source": [
        "#X1= data_model[['NumberofBuildings','NumberofFloors','PropertyGFATotal','age_batiment','PrimaryPropertyType','Ratio_parkingParSurface']]\n",
        "#Y1 = data_model[['SiteEnergyUse(kBtu)','SiteEnergyUse(kBtu)']]\n",
        "\n",
        "# Création de piepeline pour les features numériques et catégoriels   ----  'SiteEnergyUse(kBtu)','SiteEnergyUse(kBtu)',\n",
        "numerical_features1  =  ['NumberofBuildings','NumberofFloors','PropertyGFATotal','age_batiment','Ratio_parkingParSurface','pr_steam','pr_natural','pr_elec']\n",
        "categorical_features1  = ['PrimaryPropertyType','LargestPropertyUseType'] #'LargestPropertyUseType',\"BuildingType\"\n",
        "\n",
        "\n",
        "\n",
        "numerical_pipeline1 = Pipeline(steps=[\n",
        "      #('impute', SimpleImputer(strategy='mean')),\n",
        "      ('scale', StandardScaler())   \n",
        "  ])\n",
        "categorical_pipeline1= Pipeline(steps=[\n",
        "      #('impute', SimpleImputer(strategy='most_frequent')),\n",
        "      ('one-hot',OneHotEncoder())\n",
        "  ])\n",
        "\n",
        "  # Création d'un ColumnTransformer pour appliquer un pipeline pour chaque type de colonne\n",
        "\n",
        "preprocessor = ColumnTransformer(transformers=[\n",
        "      ('numerical_pipeline1',numerical_pipeline1,numerical_features1),\n",
        "      ('categorical_pipeline1=',categorical_pipeline1,categorical_features1 )\n",
        "      ],\n",
        "      remainder='passthrough',\n",
        "      n_jobs=-1,\n",
        "      )\n",
        "\n",
        "#X = data_model.drop(['SiteEnergyUse(kBtu)','SiteEnergyUse(kBtu)'], axis=1)\n",
        "#Y = data_model[['SiteEnergyUse(kBtu)','SiteEnergyUse(kBtu)']]\n",
        "\n",
        "#Régression linéaire multiple\n",
        "from sklearn.compose import TransformedTargetRegressor\n",
        "from sklearn.model_selection import RandomizedSearchCV\n",
        "nb_split = 5\n",
        "score = ['accuracy','neg_mean_absolute_error']\n",
        "\n",
        "pipe_lr = Pipeline(\n",
        "    steps=[(\"preprocessor\", preprocessor), (\"LR\", TransformedTargetRegressor(regressor=LinearRegression(), func=np.log1p, inverse_func=np.expm1) )]\n",
        ")\n",
        "\n",
        "myscore = ('r2','neg_mean_absolute_error')\n",
        "\n",
        "lr_param_grid = [ {\"LR__regressor__fit_intercept\": [True, False]}   ] \n",
        "\n",
        "\n",
        "lr_grid_search1 = GridSearchCV(estimator=pipe_lr,\n",
        "        param_grid=lr_param_grid, refit='neg_mean_absolute_error',\n",
        "        scoring=myscore, n_jobs=-1,\n",
        "        cv=nb_split,return_train_score=True)\n",
        "\n",
        "\n",
        "#Elastic Net\n",
        "\n",
        "pipe_elastic = Pipeline(\n",
        "    steps=[(\"preprocessor\", preprocessor), (\"ELN\", TransformedTargetRegressor(regressor=ElasticNet() ,func=np.log, inverse_func=np.exp) )]\n",
        ")\n",
        "## Paramaètre du randomize search\n",
        "\"\"\"elastic_param_grid = [     {\"ELN__regressor__max_iter\": [10, 100, 1000],\n",
        "                            \"ELN__regressor__alpha\": np.logspace(-5, 5, num=10),  # alpha plus grand --- - 5 à 5 , augmenter la granularité\n",
        "                             \"ELN__regressor__l1_ratio\": np.arange(0.0, 1.1, 0.1) } ]   \"\"\"\n",
        "\n",
        "elastic_param_grid ={'ELN__regressor__alpha': [0.0],\n",
        " 'ELN__regressor__l1_ratio':[ 0.0 ],\n",
        " 'ELN__regressor__max_iter': [100]}\n",
        "\n",
        "elastic_grid_search1 = GridSearchCV(estimator=pipe_elastic,\n",
        "        param_grid=elastic_param_grid,\n",
        "        scoring=myscore, refit='neg_mean_absolute_error', n_jobs=-1,\n",
        "        cv=nb_split,return_train_score=True) \n",
        "\n",
        "# Linear SVM\n",
        "pipe_lsvr =Pipeline(\n",
        "    steps=[(\"preprocessor\", preprocessor), (\"LSVR\", TransformedTargetRegressor(regressor=LinearSVR() ,func=np.log, inverse_func=np.exp) )]\n",
        ")\n",
        "\n",
        "\"\"\"lsvr_param_grid = [      {'LSVR__regressor__C' : np.logspace(-4, 0, 5),\n",
        "                          'LSVR__regressor__epsilon' : [0, 0.01, 0.1, 0.5, 1, 2],\n",
        "                         'LSVR__regressor__loss' : [\"epsilon_insensitive\",\"squared_epsilon_insensitive\"],\n",
        "                          'LSVR__regressor__max_iter': [10, 100, 1000]}   ]  \"\"\"\n",
        "\n",
        "\n",
        "lsvr_param_grid ={'LSVR__regressor__C': [0.01],\n",
        " 'LSVR__regressor__epsilon': [1],\n",
        " 'LSVR__regressor__loss': ['epsilon_insensitive'],\n",
        " 'LSVR__regressor__max_iter': [10]}\n",
        "\n",
        "lsvr_grid_search1 = GridSearchCV(estimator=pipe_lsvr,\n",
        "        param_grid=lsvr_param_grid,\n",
        "        scoring=myscore, refit='neg_mean_absolute_error', n_jobs=-1,\n",
        "        cv=nb_split, return_train_score=True)\n",
        "\n",
        "\n",
        "# Random Forest\n",
        "pipe_rfr= Pipeline(\n",
        "    steps=[(\"preprocessor\", preprocessor), (\"RFR\", TransformedTargetRegressor(regressor=RandomForestRegressor() ,func=np.log, inverse_func=np.exp) )]\n",
        ")\n",
        "\n",
        "# Paramètre pour le Randomize search\n",
        "\"\"\"rfr_param_grid = [ {'RFR__regressor__max_features' : ['sqrt', 'log2'],\n",
        "                   'RFR__regressor__max_depth': [15, 25, 200],\n",
        "                   'RFR__regressor__min_samples_split': [2, 7, 8],\n",
        "                   'RFR__regressor__bootstrap' : [True, False],\n",
        "                   'RFR__regressor__min_samples_leaf': [1,2,5]}\"\"\"\n",
        "\n",
        "rfr_param_grid={'RFR__regressor__bootstrap': [False],\n",
        "                'RFR__regressor__max_depth': [25,50],\n",
        "                'RFR__regressor__max_features': ['sqrt'],\n",
        "                'RFR__regressor__min_samples_leaf': [1],\n",
        "                'RFR__regressor__min_samples_split': [2]}\n",
        "                                                      \n",
        "rfr_grid_search1 = GridSearchCV(estimator=pipe_rfr,\n",
        "       param_grid=rfr_param_grid,\n",
        "        scoring=myscore, refit='neg_mean_absolute_error', n_jobs=-1,\n",
        "        cv=nb_split, return_train_score=True)                                                  \n",
        "                                                 \n",
        "# Rajouter une métrique pour GridSearch\n",
        "# Xgboost Regressor\n",
        "\n",
        "\n",
        "pipe_extra = Pipeline(\n",
        "    steps=[(\"preprocessor\", preprocessor), (\"MLP\", TransformedTargetRegressor(regressor=ExtraTreesRegressor(random_state=0) ,func=np.log, inverse_func=np.exp) ) ] \n",
        ")\n",
        "\n",
        "## Paramaètre du randomize search\n",
        "\"\"\"  {'MLP__regressor__n_estimators':[350,500],\n",
        "         'MLP__regressor__max_depth':[8,9,10],\n",
        "         'MLP__regressor__min_samples_split':[3,4,6],\n",
        "         'MLP__regressor__min_samples_leaf':[2,3,4],\n",
        "         'MLP__regressor__max_features':[0.95],\n",
        "         'MLP__regressor__min_impurity_decrease':[1e-5,1e-4,0]}  \"\"\"\n",
        "\n",
        "## Paramètre choisis  pour le gridsearch après le Randomize search\n",
        "param_grid_mlp = {'MLP__regressor__n_estimators': [350],\n",
        " 'MLP__regressor__min_samples_split':[ 3],\n",
        " 'MLP__regressor__min_samples_leaf': [2],\n",
        " 'MLP__regressor__min_impurity_decrease': [1e-05],\n",
        " 'MLP__regressor__max_features': [0.95],\n",
        " 'MLP__regressor__max_depth': [10]}\n",
        "\n",
        "\n",
        "\n",
        "\n",
        "extraTree_grid_search1 = GridSearchCV(estimator=pipe_extra,\n",
        "        param_grid =param_grid_mlp,\n",
        "        scoring=myscore, refit='neg_mean_absolute_error', n_jobs=-1,\n",
        "        cv=nb_split, return_train_score=True) \n",
        "\n",
        "# Gradient boost\n",
        "pipe_gb= Pipeline(\n",
        "    steps=[(\"preprocessor\", preprocessor), (\"GB\", TransformedTargetRegressor(regressor=GradientBoostingRegressor() ,func=np.log, inverse_func=np.exp) )]\n",
        ")\n",
        "\n",
        "# Paramètre du randomized Search\n",
        "\"\"\"param_grid_GrBoostR = [{'GB__regressor__n_estimators': [350,500,700], \n",
        "                        'GB__regressor__max_depth': [5,6,7], \n",
        "                        'GB__regressor__min_samples_split': [2,3,4], \n",
        "                        'GB__regressor__learning_rate': [0.01,0.1], \n",
        "                        'GB__regressor__loss': ['ls'],\n",
        "                       \"GB__regressor__random_state\" : [0]\n",
        "                       }] \"\"\"\n",
        "\n",
        "param_grid_GrBoostR={'GB__regressor__random_state': [0],\n",
        "                    'GB__regressor__n_estimators': [350],\n",
        "                    'GB__regressor__min_samples_split': [3],\n",
        "                    'GB__regressor__max_depth': [5],\n",
        "                    'GB__regressor__loss': ['ls'],\n",
        "                    'GB__regressor__learning_rate': [0.1]}\n",
        "\n",
        "gb_grid_search1 =  GridSearchCV(estimator=pipe_gb,\n",
        "         param_grid=param_grid_GrBoostR,\n",
        "        scoring=myscore, refit='neg_mean_absolute_error', n_jobs=-1,\n",
        "        cv=nb_split, return_train_score=True)   \n",
        "\n",
        "\n",
        "\n",
        "\n",
        "\n",
        "import warnings\n",
        "warnings.filterwarnings('ignore')\n",
        "\n",
        "\n",
        "\n",
        "target = ['SiteEnergyUse(kBtu)', 'SiteEnergyUse(kBtu)']\n",
        "\n",
        "global R1, y_test_predict1,lr_grid_search_model1 ,elastic_grid_search_model1,lsvr_grid_search_model1 , rfr_grid_search_model1\n",
        "\n",
        "\n",
        "lr_grid_search_model1 = lr_grid_search1.fit(X_train,Y_train['SiteEnergyUse(kBtu)'])\n",
        "elastic_grid_search_model1 = elastic_grid_search1.fit(X_train,Y_train['SiteEnergyUse(kBtu)'])\n",
        "lsvr_grid_search_model1 = lsvr_grid_search1.fit(X_train,Y_train['SiteEnergyUse(kBtu)'])\n",
        "rfr_grid_search_model1 = rfr_grid_search1.fit(X_train,Y_train['SiteEnergyUse(kBtu)'])\n",
        "extraTree_grid_search_model1 = extraTree_grid_search1.fit(X_train,Y_train['SiteEnergyUse(kBtu)'])\n",
        "gb_grid_search_model1 = gb_grid_search1.fit(X_train,Y_train['SiteEnergyUse(kBtu)'])\n"
      ]
    },
    {
      "cell_type": "markdown",
      "metadata": {
        "id": "_EtgXWzrMyeR"
      },
      "source": [
        "### Impact de EnergyStarUse sur SiteEnergyUse(kBtu)\n",
        "---"
      ]
    },
    {
      "cell_type": "code",
      "execution_count": 372,
      "metadata": {
        "colab": {
          "base_uri": "https://localhost:8080/",
          "height": 112
        },
        "id": "sk1muw_qz4BP",
        "outputId": "01a04450-b8fc-4699-8494-c2fded5a4ce3"
      },
      "outputs": [
        {
          "output_type": "execute_result",
          "data": {
            "text/plain": [
              "  Metrics  Modèle avec EnergyStarScore  Modèle sans EnergyStarScore\n",
              "0      R2                        0.895                        0.903\n",
              "1     MAE                  2501317.502                  2438275.522"
            ],
            "text/html": [
              "\n",
              "  <div id=\"df-833fa1f8-2138-44b6-a17e-812fd5b768d7\">\n",
              "    <div class=\"colab-df-container\">\n",
              "      <div>\n",
              "<style scoped>\n",
              "    .dataframe tbody tr th:only-of-type {\n",
              "        vertical-align: middle;\n",
              "    }\n",
              "\n",
              "    .dataframe tbody tr th {\n",
              "        vertical-align: top;\n",
              "    }\n",
              "\n",
              "    .dataframe thead th {\n",
              "        text-align: right;\n",
              "    }\n",
              "</style>\n",
              "<table border=\"1\" class=\"dataframe\">\n",
              "  <thead>\n",
              "    <tr style=\"text-align: right;\">\n",
              "      <th></th>\n",
              "      <th>Metrics</th>\n",
              "      <th>Modèle avec EnergyStarScore</th>\n",
              "      <th>Modèle sans EnergyStarScore</th>\n",
              "    </tr>\n",
              "  </thead>\n",
              "  <tbody>\n",
              "    <tr>\n",
              "      <th>0</th>\n",
              "      <td>R2</td>\n",
              "      <td>0.895</td>\n",
              "      <td>0.903</td>\n",
              "    </tr>\n",
              "    <tr>\n",
              "      <th>1</th>\n",
              "      <td>MAE</td>\n",
              "      <td>2501317.502</td>\n",
              "      <td>2438275.522</td>\n",
              "    </tr>\n",
              "  </tbody>\n",
              "</table>\n",
              "</div>\n",
              "      <button class=\"colab-df-convert\" onclick=\"convertToInteractive('df-833fa1f8-2138-44b6-a17e-812fd5b768d7')\"\n",
              "              title=\"Convert this dataframe to an interactive table.\"\n",
              "              style=\"display:none;\">\n",
              "        \n",
              "  <svg xmlns=\"http://www.w3.org/2000/svg\" height=\"24px\"viewBox=\"0 0 24 24\"\n",
              "       width=\"24px\">\n",
              "    <path d=\"M0 0h24v24H0V0z\" fill=\"none\"/>\n",
              "    <path d=\"M18.56 5.44l.94 2.06.94-2.06 2.06-.94-2.06-.94-.94-2.06-.94 2.06-2.06.94zm-11 1L8.5 8.5l.94-2.06 2.06-.94-2.06-.94L8.5 2.5l-.94 2.06-2.06.94zm10 10l.94 2.06.94-2.06 2.06-.94-2.06-.94-.94-2.06-.94 2.06-2.06.94z\"/><path d=\"M17.41 7.96l-1.37-1.37c-.4-.4-.92-.59-1.43-.59-.52 0-1.04.2-1.43.59L10.3 9.45l-7.72 7.72c-.78.78-.78 2.05 0 2.83L4 21.41c.39.39.9.59 1.41.59.51 0 1.02-.2 1.41-.59l7.78-7.78 2.81-2.81c.8-.78.8-2.07 0-2.86zM5.41 20L4 18.59l7.72-7.72 1.47 1.35L5.41 20z\"/>\n",
              "  </svg>\n",
              "      </button>\n",
              "      \n",
              "  <style>\n",
              "    .colab-df-container {\n",
              "      display:flex;\n",
              "      flex-wrap:wrap;\n",
              "      gap: 12px;\n",
              "    }\n",
              "\n",
              "    .colab-df-convert {\n",
              "      background-color: #E8F0FE;\n",
              "      border: none;\n",
              "      border-radius: 50%;\n",
              "      cursor: pointer;\n",
              "      display: none;\n",
              "      fill: #1967D2;\n",
              "      height: 32px;\n",
              "      padding: 0 0 0 0;\n",
              "      width: 32px;\n",
              "    }\n",
              "\n",
              "    .colab-df-convert:hover {\n",
              "      background-color: #E2EBFA;\n",
              "      box-shadow: 0px 1px 2px rgba(60, 64, 67, 0.3), 0px 1px 3px 1px rgba(60, 64, 67, 0.15);\n",
              "      fill: #174EA6;\n",
              "    }\n",
              "\n",
              "    [theme=dark] .colab-df-convert {\n",
              "      background-color: #3B4455;\n",
              "      fill: #D2E3FC;\n",
              "    }\n",
              "\n",
              "    [theme=dark] .colab-df-convert:hover {\n",
              "      background-color: #434B5C;\n",
              "      box-shadow: 0px 1px 3px 1px rgba(0, 0, 0, 0.15);\n",
              "      filter: drop-shadow(0px 1px 2px rgba(0, 0, 0, 0.3));\n",
              "      fill: #FFFFFF;\n",
              "    }\n",
              "  </style>\n",
              "\n",
              "      <script>\n",
              "        const buttonEl =\n",
              "          document.querySelector('#df-833fa1f8-2138-44b6-a17e-812fd5b768d7 button.colab-df-convert');\n",
              "        buttonEl.style.display =\n",
              "          google.colab.kernel.accessAllowed ? 'block' : 'none';\n",
              "\n",
              "        async function convertToInteractive(key) {\n",
              "          const element = document.querySelector('#df-833fa1f8-2138-44b6-a17e-812fd5b768d7');\n",
              "          const dataTable =\n",
              "            await google.colab.kernel.invokeFunction('convertToInteractive',\n",
              "                                                     [key], {});\n",
              "          if (!dataTable) return;\n",
              "\n",
              "          const docLinkHtml = 'Like what you see? Visit the ' +\n",
              "            '<a target=\"_blank\" href=https://colab.research.google.com/notebooks/data_table.ipynb>data table notebook</a>'\n",
              "            + ' to learn more about interactive tables.';\n",
              "          element.innerHTML = '';\n",
              "          dataTable['output_type'] = 'display_data';\n",
              "          await google.colab.output.renderOutput(dataTable, element);\n",
              "          const docLink = document.createElement('div');\n",
              "          docLink.innerHTML = docLinkHtml;\n",
              "          element.appendChild(docLink);\n",
              "        }\n",
              "      </script>\n",
              "    </div>\n",
              "  </div>\n",
              "  "
            ]
          },
          "metadata": {},
          "execution_count": 372
        }
      ],
      "source": [
        "#Prédiction sans energyStarScore\n",
        "y_test_predict1 = gb_grid_search_model1.predict(X_test)\n",
        "\n",
        "v_avec =  [round((r2_score(Y_test['SiteEnergyUse(kBtu)'],y_pred)),3), round((mean_absolute_error(Y_test['SiteEnergyUse(kBtu)'],y_pred)),3)]\n",
        "v_sans=[round((r2_score(Y_test['SiteEnergyUse(kBtu)'],y_test_predict1)),3), round((mean_absolute_error(Y_test['SiteEnergyUse(kBtu)'],y_test_predict1)),3)]\n",
        "\n",
        "pd.DataFrame({ \"Metrics\": [\"R2\", \"MAE\"], \"Modèle avec EnergyStarScore\" : v_avec, \"Modèle sans EnergyStarScore\" : v_sans })\n"
      ]
    },
    {
      "cell_type": "code",
      "source": [
        "print( \"Evolution MAE\", round(((v_sans[1] -v_avec[1]) /v_avec[1])*100,2), \"%\" )\n",
        "print( \"Evolution MAE\", round( ((v_sans[0] -v_avec[0]) /v_avec[0])*100,2)  )"
      ],
      "metadata": {
        "colab": {
          "base_uri": "https://localhost:8080/"
        },
        "id": "biW_nrJka8Ev",
        "outputId": "4ea5d980-9fd3-4445-8db6-42bc22a302c2"
      },
      "execution_count": 373,
      "outputs": [
        {
          "output_type": "stream",
          "name": "stdout",
          "text": [
            "Evolution MAE -2.52 %\n",
            "Evolution MAE 0.89\n"
          ]
        }
      ]
    },
    {
      "cell_type": "markdown",
      "source": [
        "Sans l'energyStarScore le MAE baisse de 2.5%  et le R2 s'améliore de 0.89%"
      ],
      "metadata": {
        "id": "ITlbCgDxb7rO"
      }
    },
    {
      "cell_type": "markdown",
      "metadata": {
        "id": "Z4hDUlls5VsB"
      },
      "source": [
        "Conclusion : L'energyStar Score n'a pas trop impact sur la qualité du modèle."
      ]
    }
  ],
  "metadata": {
    "colab": {
      "collapsed_sections": [
        "E_GKV7SxtloJ",
        "LHDm8e3PC2lS",
        "xUdpWnpQ8dRf",
        "NmzJT3pNEQbf",
        "qim3IO47XmUn",
        "29syXkGJqSq1"
      ],
      "provenance": []
    },
    "kernelspec": {
      "display_name": "Python 3",
      "name": "python3"
    },
    "language_info": {
      "name": "python"
    }
  },
  "nbformat": 4,
  "nbformat_minor": 0
}