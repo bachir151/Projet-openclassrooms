{
  "cells": [
    {
      "cell_type": "markdown",
      "source": [
        "# <ins> Prédiction de l'émission de CO2 (TotalGHGEmissions) </ins>"
      ],
      "metadata": {
        "id": "9xRUap4rhKfd"
      }
    },
    {
      "cell_type": "markdown",
      "metadata": {
        "id": "69eS1vnzTyPM"
      },
      "source": [
        "Import des bibliothèques "
      ]
    },
    {
      "cell_type": "code",
      "source": [
        "!pip install plotly  #Installation de plotly pour l'affichage des certains graphiques"
      ],
      "metadata": {
        "id": "9G4E2fhBexui"
      },
      "execution_count": null,
      "outputs": []
    },
    {
      "cell_type": "code",
      "execution_count": 69,
      "metadata": {
        "id": "Y_NKsNnNTfnh"
      },
      "outputs": [],
      "source": [
        "import pandas as pd\n",
        "import numpy as np \n",
        "import matplotlib.pyplot as plt\n",
        "import seaborn as sns \n",
        "import plotly.express as px\n",
        "import plotly.graph_objects as go\n",
        "import warnings\n",
        "from sklearn.impute import SimpleImputer\n",
        "from sklearn.preprocessing import OneHotEncoder, StandardScaler, MinMaxScaler, RobustScaler\n",
        "from sklearn.compose import *\n",
        "from sklearn.pipeline import Pipeline\n",
        "from sklearn.model_selection import train_test_split\n",
        "from sklearn.linear_model import *\n",
        "from sklearn.dummy import DummyRegressor\n",
        "from sklearn.svm import LinearSVR\n",
        "import xgboost as xgb\n",
        "from sklearn.model_selection import RandomizedSearchCV\n",
        "from sklearn.ensemble import RandomForestRegressor\n",
        "from sklearn.linear_model import Ridge, Lasso\n",
        "from sklearn.metrics import *\n",
        "from sklearn.model_selection import GridSearchCV\n",
        "from sklearn.compose import TransformedTargetRegressor\n",
        "from sklearn import set_config\n",
        "set_config(display='diagram')\n",
        "from sklearn.ensemble import *\n",
        "warnings.filterwarnings('ignore')\n",
        "\n",
        "#plot distribution de la target et voir le scaler à utiliser "
      ]
    },
    {
      "cell_type": "markdown",
      "metadata": {
        "id": "jRV9TFCtUahR"
      },
      "source": [
        "Téléchargement du jeu de données"
      ]
    },
    {
      "cell_type": "code",
      "source": [
        "data_model =pd.read_csv('https://raw.githubusercontent.com/bachir151/Projet-openclassrooms/master/P3/data.csv',on_bad_lines='skip')\n",
        "data_model =data_model.drop(['Unnamed: 0'], axis=1)\n",
        "#data_model =data_model.drop(['index'], axis=1)\n",
        "data_model.head()"
      ],
      "metadata": {
        "colab": {
          "base_uri": "https://localhost:8080/",
          "height": 299
        },
        "id": "PJKXMM63MOvm",
        "outputId": "1f007edf-bac0-41c7-8816-186654c78e04"
      },
      "execution_count": 70,
      "outputs": [
        {
          "output_type": "execute_result",
          "data": {
            "text/plain": [
              "   SiteEnergyUse(kBtu)  TotalGHGEmissions  NumberofBuildings  NumberofFloors  \\\n",
              "0            7226362.5             249.98                1.0              12   \n",
              "1            8387933.0             295.86                1.0              11   \n",
              "2           72587024.0            2089.28                1.0              41   \n",
              "3            6794584.0             286.43                1.0              10   \n",
              "4           14172606.0             505.01                1.0              18   \n",
              "\n",
              "   PropertyGFATotal  PropertyGFAParking  PropertyGFABuilding(s)  \\\n",
              "0             88434                   0                   88434   \n",
              "1            103566               15064                   88502   \n",
              "2            956110              196718                  759392   \n",
              "3             61320                   0                   61320   \n",
              "4            175580               62000                  113580   \n",
              "\n",
              "   ENERGYSTARScore  age_batiment LargestPropertyUseType  ...    BuildingType  \\\n",
              "0             60.0            89                  Hotel  ...  NonResidential   \n",
              "1             61.0            20                  Hotel  ...  NonResidential   \n",
              "2             43.0            47                  Hotel  ...  NonResidential   \n",
              "3             56.0            90                  Hotel  ...  NonResidential   \n",
              "4             75.0            36                  Hotel  ...  NonResidential   \n",
              "\n",
              "  Ratio_buildingParSurface  Ratio_parkingParSurface  SurfaceParetage  \\\n",
              "0                     1.00                    0.000       6802.61538   \n",
              "1                     0.85                   14.545       8630.50000   \n",
              "2                     0.79                   20.575      22764.52381   \n",
              "3                     1.00                    0.000       5574.54545   \n",
              "4                     0.65                   35.312       9241.05263   \n",
              "\n",
              "   ComplianceStatus   Outlier is_energyStarImputed  pr_steam  pr_natural  \\\n",
              "0         Compliant  inconnue                False  0.277302    0.176638   \n",
              "1         Compliant  inconnue                False  0.000000    0.613391   \n",
              "2         Compliant  inconnue                False  0.297113    0.020579   \n",
              "3         Compliant  inconnue                False  0.325913    0.266567   \n",
              "4         Compliant  inconnue                False  0.000000    0.621198   \n",
              "\n",
              "    pr_elec  \n",
              "0  0.546060  \n",
              "1  0.386609  \n",
              "2  0.682307  \n",
              "3  0.407519  \n",
              "4  0.378802  \n",
              "\n",
              "[5 rows x 21 columns]"
            ],
            "text/html": [
              "\n",
              "  <div id=\"df-a49d144a-1ff0-4459-b6a3-e2f6cda8a142\">\n",
              "    <div class=\"colab-df-container\">\n",
              "      <div>\n",
              "<style scoped>\n",
              "    .dataframe tbody tr th:only-of-type {\n",
              "        vertical-align: middle;\n",
              "    }\n",
              "\n",
              "    .dataframe tbody tr th {\n",
              "        vertical-align: top;\n",
              "    }\n",
              "\n",
              "    .dataframe thead th {\n",
              "        text-align: right;\n",
              "    }\n",
              "</style>\n",
              "<table border=\"1\" class=\"dataframe\">\n",
              "  <thead>\n",
              "    <tr style=\"text-align: right;\">\n",
              "      <th></th>\n",
              "      <th>SiteEnergyUse(kBtu)</th>\n",
              "      <th>TotalGHGEmissions</th>\n",
              "      <th>NumberofBuildings</th>\n",
              "      <th>NumberofFloors</th>\n",
              "      <th>PropertyGFATotal</th>\n",
              "      <th>PropertyGFAParking</th>\n",
              "      <th>PropertyGFABuilding(s)</th>\n",
              "      <th>ENERGYSTARScore</th>\n",
              "      <th>age_batiment</th>\n",
              "      <th>LargestPropertyUseType</th>\n",
              "      <th>...</th>\n",
              "      <th>BuildingType</th>\n",
              "      <th>Ratio_buildingParSurface</th>\n",
              "      <th>Ratio_parkingParSurface</th>\n",
              "      <th>SurfaceParetage</th>\n",
              "      <th>ComplianceStatus</th>\n",
              "      <th>Outlier</th>\n",
              "      <th>is_energyStarImputed</th>\n",
              "      <th>pr_steam</th>\n",
              "      <th>pr_natural</th>\n",
              "      <th>pr_elec</th>\n",
              "    </tr>\n",
              "  </thead>\n",
              "  <tbody>\n",
              "    <tr>\n",
              "      <th>0</th>\n",
              "      <td>7226362.5</td>\n",
              "      <td>249.98</td>\n",
              "      <td>1.0</td>\n",
              "      <td>12</td>\n",
              "      <td>88434</td>\n",
              "      <td>0</td>\n",
              "      <td>88434</td>\n",
              "      <td>60.0</td>\n",
              "      <td>89</td>\n",
              "      <td>Hotel</td>\n",
              "      <td>...</td>\n",
              "      <td>NonResidential</td>\n",
              "      <td>1.00</td>\n",
              "      <td>0.000</td>\n",
              "      <td>6802.61538</td>\n",
              "      <td>Compliant</td>\n",
              "      <td>inconnue</td>\n",
              "      <td>False</td>\n",
              "      <td>0.277302</td>\n",
              "      <td>0.176638</td>\n",
              "      <td>0.546060</td>\n",
              "    </tr>\n",
              "    <tr>\n",
              "      <th>1</th>\n",
              "      <td>8387933.0</td>\n",
              "      <td>295.86</td>\n",
              "      <td>1.0</td>\n",
              "      <td>11</td>\n",
              "      <td>103566</td>\n",
              "      <td>15064</td>\n",
              "      <td>88502</td>\n",
              "      <td>61.0</td>\n",
              "      <td>20</td>\n",
              "      <td>Hotel</td>\n",
              "      <td>...</td>\n",
              "      <td>NonResidential</td>\n",
              "      <td>0.85</td>\n",
              "      <td>14.545</td>\n",
              "      <td>8630.50000</td>\n",
              "      <td>Compliant</td>\n",
              "      <td>inconnue</td>\n",
              "      <td>False</td>\n",
              "      <td>0.000000</td>\n",
              "      <td>0.613391</td>\n",
              "      <td>0.386609</td>\n",
              "    </tr>\n",
              "    <tr>\n",
              "      <th>2</th>\n",
              "      <td>72587024.0</td>\n",
              "      <td>2089.28</td>\n",
              "      <td>1.0</td>\n",
              "      <td>41</td>\n",
              "      <td>956110</td>\n",
              "      <td>196718</td>\n",
              "      <td>759392</td>\n",
              "      <td>43.0</td>\n",
              "      <td>47</td>\n",
              "      <td>Hotel</td>\n",
              "      <td>...</td>\n",
              "      <td>NonResidential</td>\n",
              "      <td>0.79</td>\n",
              "      <td>20.575</td>\n",
              "      <td>22764.52381</td>\n",
              "      <td>Compliant</td>\n",
              "      <td>inconnue</td>\n",
              "      <td>False</td>\n",
              "      <td>0.297113</td>\n",
              "      <td>0.020579</td>\n",
              "      <td>0.682307</td>\n",
              "    </tr>\n",
              "    <tr>\n",
              "      <th>3</th>\n",
              "      <td>6794584.0</td>\n",
              "      <td>286.43</td>\n",
              "      <td>1.0</td>\n",
              "      <td>10</td>\n",
              "      <td>61320</td>\n",
              "      <td>0</td>\n",
              "      <td>61320</td>\n",
              "      <td>56.0</td>\n",
              "      <td>90</td>\n",
              "      <td>Hotel</td>\n",
              "      <td>...</td>\n",
              "      <td>NonResidential</td>\n",
              "      <td>1.00</td>\n",
              "      <td>0.000</td>\n",
              "      <td>5574.54545</td>\n",
              "      <td>Compliant</td>\n",
              "      <td>inconnue</td>\n",
              "      <td>False</td>\n",
              "      <td>0.325913</td>\n",
              "      <td>0.266567</td>\n",
              "      <td>0.407519</td>\n",
              "    </tr>\n",
              "    <tr>\n",
              "      <th>4</th>\n",
              "      <td>14172606.0</td>\n",
              "      <td>505.01</td>\n",
              "      <td>1.0</td>\n",
              "      <td>18</td>\n",
              "      <td>175580</td>\n",
              "      <td>62000</td>\n",
              "      <td>113580</td>\n",
              "      <td>75.0</td>\n",
              "      <td>36</td>\n",
              "      <td>Hotel</td>\n",
              "      <td>...</td>\n",
              "      <td>NonResidential</td>\n",
              "      <td>0.65</td>\n",
              "      <td>35.312</td>\n",
              "      <td>9241.05263</td>\n",
              "      <td>Compliant</td>\n",
              "      <td>inconnue</td>\n",
              "      <td>False</td>\n",
              "      <td>0.000000</td>\n",
              "      <td>0.621198</td>\n",
              "      <td>0.378802</td>\n",
              "    </tr>\n",
              "  </tbody>\n",
              "</table>\n",
              "<p>5 rows × 21 columns</p>\n",
              "</div>\n",
              "      <button class=\"colab-df-convert\" onclick=\"convertToInteractive('df-a49d144a-1ff0-4459-b6a3-e2f6cda8a142')\"\n",
              "              title=\"Convert this dataframe to an interactive table.\"\n",
              "              style=\"display:none;\">\n",
              "        \n",
              "  <svg xmlns=\"http://www.w3.org/2000/svg\" height=\"24px\"viewBox=\"0 0 24 24\"\n",
              "       width=\"24px\">\n",
              "    <path d=\"M0 0h24v24H0V0z\" fill=\"none\"/>\n",
              "    <path d=\"M18.56 5.44l.94 2.06.94-2.06 2.06-.94-2.06-.94-.94-2.06-.94 2.06-2.06.94zm-11 1L8.5 8.5l.94-2.06 2.06-.94-2.06-.94L8.5 2.5l-.94 2.06-2.06.94zm10 10l.94 2.06.94-2.06 2.06-.94-2.06-.94-.94-2.06-.94 2.06-2.06.94z\"/><path d=\"M17.41 7.96l-1.37-1.37c-.4-.4-.92-.59-1.43-.59-.52 0-1.04.2-1.43.59L10.3 9.45l-7.72 7.72c-.78.78-.78 2.05 0 2.83L4 21.41c.39.39.9.59 1.41.59.51 0 1.02-.2 1.41-.59l7.78-7.78 2.81-2.81c.8-.78.8-2.07 0-2.86zM5.41 20L4 18.59l7.72-7.72 1.47 1.35L5.41 20z\"/>\n",
              "  </svg>\n",
              "      </button>\n",
              "      \n",
              "  <style>\n",
              "    .colab-df-container {\n",
              "      display:flex;\n",
              "      flex-wrap:wrap;\n",
              "      gap: 12px;\n",
              "    }\n",
              "\n",
              "    .colab-df-convert {\n",
              "      background-color: #E8F0FE;\n",
              "      border: none;\n",
              "      border-radius: 50%;\n",
              "      cursor: pointer;\n",
              "      display: none;\n",
              "      fill: #1967D2;\n",
              "      height: 32px;\n",
              "      padding: 0 0 0 0;\n",
              "      width: 32px;\n",
              "    }\n",
              "\n",
              "    .colab-df-convert:hover {\n",
              "      background-color: #E2EBFA;\n",
              "      box-shadow: 0px 1px 2px rgba(60, 64, 67, 0.3), 0px 1px 3px 1px rgba(60, 64, 67, 0.15);\n",
              "      fill: #174EA6;\n",
              "    }\n",
              "\n",
              "    [theme=dark] .colab-df-convert {\n",
              "      background-color: #3B4455;\n",
              "      fill: #D2E3FC;\n",
              "    }\n",
              "\n",
              "    [theme=dark] .colab-df-convert:hover {\n",
              "      background-color: #434B5C;\n",
              "      box-shadow: 0px 1px 3px 1px rgba(0, 0, 0, 0.15);\n",
              "      filter: drop-shadow(0px 1px 2px rgba(0, 0, 0, 0.3));\n",
              "      fill: #FFFFFF;\n",
              "    }\n",
              "  </style>\n",
              "\n",
              "      <script>\n",
              "        const buttonEl =\n",
              "          document.querySelector('#df-a49d144a-1ff0-4459-b6a3-e2f6cda8a142 button.colab-df-convert');\n",
              "        buttonEl.style.display =\n",
              "          google.colab.kernel.accessAllowed ? 'block' : 'none';\n",
              "\n",
              "        async function convertToInteractive(key) {\n",
              "          const element = document.querySelector('#df-a49d144a-1ff0-4459-b6a3-e2f6cda8a142');\n",
              "          const dataTable =\n",
              "            await google.colab.kernel.invokeFunction('convertToInteractive',\n",
              "                                                     [key], {});\n",
              "          if (!dataTable) return;\n",
              "\n",
              "          const docLinkHtml = 'Like what you see? Visit the ' +\n",
              "            '<a target=\"_blank\" href=https://colab.research.google.com/notebooks/data_table.ipynb>data table notebook</a>'\n",
              "            + ' to learn more about interactive tables.';\n",
              "          element.innerHTML = '';\n",
              "          dataTable['output_type'] = 'display_data';\n",
              "          await google.colab.output.renderOutput(dataTable, element);\n",
              "          const docLink = document.createElement('div');\n",
              "          docLink.innerHTML = docLinkHtml;\n",
              "          element.appendChild(docLink);\n",
              "        }\n",
              "      </script>\n",
              "    </div>\n",
              "  </div>\n",
              "  "
            ]
          },
          "metadata": {},
          "execution_count": 70
        }
      ]
    },
    {
      "cell_type": "markdown",
      "metadata": {
        "id": "nMtT7-s3TNuZ"
      },
      "source": [
        "#Modélisation : Prédiction de l'émission de CO2"
      ]
    },
    {
      "cell_type": "markdown",
      "metadata": {
        "id": "Br6s0rkDplHH"
      },
      "source": [
        "### Selection des variables\n",
        "---\n",
        "\n"
      ]
    },
    {
      "cell_type": "code",
      "execution_count": 71,
      "metadata": {
        "id": "LHrSUK8_phPL"
      },
      "outputs": [],
      "source": [
        "X= data_model[['NumberofBuildings','NumberofFloors', 'ENERGYSTARScore','PropertyGFATotal','age_batiment','PrimaryPropertyType','Ratio_parkingParSurface','LargestPropertyUseType','pr_steam','pr_natural','pr_elec']]\n",
        "Y = data_model[['SiteEnergyUse(kBtu)','TotalGHGEmissions']]"
      ]
    },
    {
      "cell_type": "markdown",
      "source": [
        "### Transformation logarithmique de notre variable **TotalGHGEmissions**\n",
        "---"
      ],
      "metadata": {
        "id": "LHDm8e3PC2lS"
      }
    },
    {
      "cell_type": "code",
      "execution_count": 72,
      "metadata": {
        "colab": {
          "base_uri": "https://localhost:8080/",
          "height": 513
        },
        "id": "jqoO5a8UpnpN",
        "outputId": "e95c81b4-5225-432b-c58d-dc514117dbdf"
      },
      "outputs": [
        {
          "output_type": "display_data",
          "data": {
            "text/plain": [
              "<Figure size 1440x576 with 2 Axes>"
            ],
            "image/png": "[encoded data removed]"
          },
          "metadata": {
            "needs_background": "light"
          }
        }
      ],
      "source": [
        "from sklearn.preprocessing import FunctionTransformer\n",
        "\n",
        "logtransformer = FunctionTransformer(np.log, inverse_func = np.exp, check_inverse = True)\n",
        "Y_log = logtransformer.transform(Y)\n",
        "fig, axes = plt.subplots(nrows=1, ncols=2, sharex=False, sharey=False, figsize=(20,8))\n",
        "sns.histplot(data=Y, x='TotalGHGEmissions', stat=\"density\", ax=axes[0])\n",
        "axes[0].set_title(\"Données initiales\", color='#2cb7b0')\n",
        "sns.histplot(data=Y_log, x='TotalGHGEmissions', stat=\"density\", ax=axes[1])\n",
        "axes[1].set_title(\"Transformation logarithme\", color='#2cb7b0')\n",
        "plt.show()"
      ]
    },
    {
      "cell_type": "markdown",
      "metadata": {
        "id": "PEKBx53EEy0p"
      },
      "source": [
        "Modèle baseline : Régression linéaire"
      ]
    },
    {
      "cell_type": "markdown",
      "source": [
        "### Création de Pipeline de transformation des variables : Scaling et One-hot encoding (pour les variables qualitatives).\n",
        "\n",
        "---"
      ],
      "metadata": {
        "id": "xGjdufsRDMgN"
      }
    },
    {
      "cell_type": "code",
      "execution_count": 73,
      "metadata": {
        "id": "H9UjM03WDs8t"
      },
      "outputs": [],
      "source": [
        "# Séparation des variables numériques et des variables qualitatives\n",
        "numerical_features  =  ['NumberofBuildings','NumberofFloors','PropertyGFATotal','ENERGYSTARScore','age_batiment','Ratio_parkingParSurface','pr_steam','pr_natural','pr_elec']\n",
        "categorical_features  = ['PrimaryPropertyType','LargestPropertyUseType'] \n",
        "\n",
        "global  X_train, X_test, Y_train, Y_test\n",
        "X_train, X_test, Y_train, Y_test = train_test_split(X, Y, test_size=0.2, random_state=35, shuffle=True)\n",
        "\n",
        "# Scaling\n",
        "numerical_pipeline = Pipeline(steps=[\n",
        "      #('impute', SimpleImputer(strategy='mean')),\n",
        "      ('scale', StandardScaler())   \n",
        "  ])\n",
        "\n",
        "#OneHotencoder\n",
        "categorical_pipeline= Pipeline(steps=[\n",
        "      #('impute', SimpleImputer(strategy='most_frequent')),\n",
        "      ('one-hot',OneHotEncoder())\n",
        "  ])\n",
        "\n",
        "\n",
        "# Création d'un ColumnTransformer pour appliquer un pipeline pour chaque type de colonne\n",
        "preprocessor = ColumnTransformer(transformers=[\n",
        "      ('numerical_pipeline',numerical_pipeline,numerical_features),\n",
        "      ('categorical_pipeline=',categorical_pipeline,categorical_features )\n",
        "      ],\n",
        "      remainder='passthrough',\n",
        "      n_jobs=-1,\n",
        "      )\n"
      ]
    },
    {
      "cell_type": "markdown",
      "source": [
        "### Modèle baseline  : DummyRegressor\n",
        "---"
      ],
      "metadata": {
        "id": "AEW055E23tNc"
      }
    },
    {
      "cell_type": "code",
      "source": [
        "from sklearn.model_selection import cross_val_score\n",
        "from sklearn.model_selection import KFold\n",
        "from sklearn.metrics import  make_scorer\n",
        "\n",
        "cv = KFold(n_splits=5, shuffle=True, random_state=45)\n",
        "\n",
        "model_baseline= Pipeline(\n",
        "    steps=[(\"preprocessor\", preprocessor), (\"DUM\", TransformedTargetRegressor(regressor= DummyRegressor()  ,func=np.log1p, inverse_func=np.expm1))]\n",
        ")\n",
        "\n",
        "dummy_param_grid = [ {\"DUM__regressor__strategy\": [\"mean\"]} ]   \n",
        "\n",
        "myscore = ('r2','neg_mean_absolute_error')\n",
        "dummy_grid_search = GridSearchCV(estimator=model_baseline,\n",
        "        param_grid=dummy_param_grid,\n",
        "        scoring=myscore, refit='neg_mean_absolute_error', n_jobs=-1,\n",
        "        cv=cv,return_train_score=True) \n",
        "\n",
        "#cross_val_score(model_baseline, X_train, Y_train['TotalGHGEmissions'], cv=cv,scoring=r2)"
      ],
      "metadata": {
        "id": "BHjBXpFa3Aop"
      },
      "execution_count": 74,
      "outputs": []
    },
    {
      "cell_type": "code",
      "source": [
        "dumy_model=dummy_grid_search.fit (X_train, Y_train['TotalGHGEmissions'])"
      ],
      "metadata": {
        "id": "7SsKzIfm5hkH"
      },
      "execution_count": 75,
      "outputs": []
    },
    {
      "cell_type": "markdown",
      "source": [
        "Metrics de notre modèle baseline"
      ],
      "metadata": {
        "id": "SBA3xBsb6GPy"
      }
    },
    {
      "cell_type": "code",
      "source": [
        "y_test = Y_test['TotalGHGEmissions']\n",
        "y_pred= dummy_grid_search.predict(X_test)\n",
        "print(\"Metrics de notre modèle baseline \\n\")\n",
        "print ( \"R2 : \" , round(r2_score (y_test, y_pred),2) ,  \"| MAE :\", round(mean_absolute_error (y_test, y_pred),2), ' | RMSE :', np.sqrt(round(mean_squared_error (y_test, y_pred),2) ))"
      ],
      "metadata": {
        "colab": {
          "base_uri": "https://localhost:8080/"
        },
        "id": "pxiZ-gHPBCIF",
        "outputId": "5c647ae0-8ce0-443c-8b7d-d304dbb3ec0f"
      },
      "execution_count": 76,
      "outputs": [
        {
          "output_type": "stream",
          "name": "stdout",
          "text": [
            "Metrics de notre modèle baseline \n",
            "\n",
            "R2 :  -0.11 | MAE : 102.71  | RMSE : 220.75882768306232\n"
          ]
        }
      ]
    },
    {
      "cell_type": "markdown",
      "source": [
        "Qualité prédictive de notre modèle baseline.\n"
      ],
      "metadata": {
        "id": "u2nmV_o569AI"
      }
    },
    {
      "cell_type": "code",
      "execution_count": 77,
      "metadata": {
        "colab": {
          "base_uri": "https://localhost:8080/",
          "height": 352
        },
        "id": "mcV-GyLyRhK-",
        "outputId": "f5805205-bcb4-4212-eb2b-875846dcfdd9"
      },
      "outputs": [
        {
          "output_type": "execute_result",
          "data": {
            "text/plain": [
              "<matplotlib.axes._subplots.AxesSubplot at 0x7f340dd7e8e0>"
            ]
          },
          "metadata": {},
          "execution_count": 77
        },
        {
          "output_type": "display_data",
          "data": {
            "text/plain": [
              "<Figure size 1152x360 with 1 Axes>"
            ],
            "image/png": "[encoded data removed]"
          },
          "metadata": {
            "needs_background": "light"
          }
        }
      ],
      "source": [
        "# traçage de y_test versus y_pred\n",
        "# l'idéal c'est que tous les points doivent le plus possible être aliognés sur la droite.\n",
        "\n",
        "plt.figure(figsize=(16,5))\n",
        "p1 = max(max(y_test), max(y_pred))\n",
        "p2 = min(min(y_test), min(y_pred))\n",
        "plt.plot([p1, p2], [p1, p2], 'b-')\n",
        "sns.scatterplot(x=y_test, y=y_pred)"
      ]
    },
    {
      "cell_type": "markdown",
      "source": [
        "### Pipeline de création des modèles à tester et GridSearch\n",
        "\n",
        "---"
      ],
      "metadata": {
        "id": "-8frYMcpCT95"
      }
    },
    {
      "cell_type": "markdown",
      "source": [
        "### Code get feauture name"
      ],
      "metadata": {
        "id": "qim3IO47XmUn"
      }
    },
    {
      "cell_type": "code",
      "source": [
        "# Code copié à partir du site : https://bbakiu.medium.com/extracting-feature-names-from-the-columntransformer-f1bed520aeba\n",
        "import warnings\n",
        "\n",
        "from sklearn.pipeline import Pipeline\n",
        "\n",
        "def get_feature_names(column_transformer):\n",
        "    \"\"\"Get feature names from all transformers.\n",
        "    Returns\n",
        "    -------\n",
        "    feature_names : list of strings\n",
        "        Names of the features produced by transform.\n",
        "    \"\"\"\n",
        "    \n",
        "    \n",
        "    # Get columns and bin edges\n",
        "    def pair_bin_edges_columns(bins_edges, columns):\n",
        "        all_edge_column = []\n",
        "        for index in range(len(columns)):\n",
        "            bin_edge = bins_edges[index]\n",
        "            column = columns[index]\n",
        "            \n",
        "            pair_bin_edge = []\n",
        "            # match consecutive bin edges together\n",
        "            for first, second in zip(bin_edge, bin_edge[1:]):\n",
        "                pair_bin_edge.append((first, second))\n",
        "            \n",
        "            bin_edge_column = [column +\": [\"+ str(edge[0]) +\", \"+ str(edge[1])+\")\"  for edge in pair_bin_edge]\n",
        "            all_edge_column.extend(bin_edge_column)\n",
        "        return all_edge_column\n",
        "    \n",
        "    \n",
        "    \n",
        "    # Turn loopkup into function for better handling with pipeline later\n",
        "    def get_names(trans):\n",
        "        # >> Original get_feature_names() method\n",
        "        if trans == 'drop' or (\n",
        "                hasattr(column, '__len__') and not len(column)):\n",
        "            return []\n",
        "        if trans == 'passthrough':\n",
        "            if hasattr(column_transformer, '_df_columns'):\n",
        "                if ((not isinstance(column, slice))\n",
        "                        and all(isinstance(col, str) for col in column)):\n",
        "                    return column\n",
        "                else:\n",
        "                    return column_transformer._df_columns[column]\n",
        "            else:\n",
        "                indices = np.arange(column_transformer._n_features)\n",
        "                return ['x%d' % i for i in indices[column]]\n",
        "        if not hasattr(trans, 'get_feature_names'):\n",
        "        # >>> Change: Return input column names if no method avaiable\n",
        "            # Turn error into a warning\n",
        "            warnings.warn(\"Transformer %s (type %s) does not \"\n",
        "                                 \"provide get_feature_names. \"\n",
        "                                 \"Will return input column names if available\"\n",
        "                                 % (str(name), type(trans).__name__))\n",
        "            # For transformers without a get_features_names method, use the input\n",
        "            # names to the column transformer\n",
        "            \n",
        "            # For transformers that create bins\n",
        "            if hasattr(trans, 'bin_edges_'):\n",
        "                bins_edges = trans.bin_edges_\n",
        "                pairs_edges_columns = pair_bin_edges_columns(bins_edges, column)\n",
        "            if column is None:\n",
        "                return []\n",
        "            else:\n",
        "                return [name + \"__\" + f for f in pairs_edges_columns]\n",
        "        return [name + \"__\" + f for f in trans.get_feature_names(column)]\n",
        "    \n",
        "    ### Start of processing\n",
        "    feature_names = []\n",
        "    \n",
        "    # Allow transformers to be pipelines. Pipeline steps are named differently, so preprocessing is needed\n",
        "    if type(column_transformer) == Pipeline:\n",
        "        l_transformers = [(name, trans, None, None) for step, name, trans in column_transformer._iter()]\n",
        "    else:\n",
        "        # For column transformers, follow the original method\n",
        "        l_transformers = list(column_transformer._iter(fitted=True))\n",
        "    \n",
        "    for name, trans, column, _ in l_transformers:\n",
        "        if type(trans) == Pipeline:\n",
        "            # Recursive call on pipeline\n",
        "            _names = get_feature_names(trans)\n",
        "            # if pipeline has no transformer that returns names\n",
        "            if len(_names)==0:\n",
        "                _names = [name + \"__\" + f for f in column]\n",
        "            feature_names.extend(_names)\n",
        "        else:\n",
        "            feature_names.extend(get_names(trans))\n",
        "    \n",
        "    return feature_names"
      ],
      "metadata": {
        "id": "YP0gOSUkXlxy"
      },
      "execution_count": 78,
      "outputs": []
    },
    {
      "cell_type": "markdown",
      "source": [],
      "metadata": {
        "id": "Ni3g5feRi-N1"
      }
    },
    {
      "cell_type": "code",
      "source": [
        "#feat_importances.plot(kind='barh(a'\"')"
      ],
      "metadata": {
        "id": "OPDqLxpfwITr"
      },
      "execution_count": 79,
      "outputs": []
    },
    {
      "cell_type": "markdown",
      "source": [
        "### GridSearch pour les différents modèles"
      ],
      "metadata": {
        "id": "F8ZjOuNmDClO"
      }
    },
    {
      "cell_type": "markdown",
      "metadata": {
        "id": "xVz3PRKYGRd3"
      },
      "source": [
        "Pipeline, paramètre  et Gridsearch de tous les modèles à tester. J'ai en premier effectué un RandomisedSearch pour détecter les meilleurs hyperparamètre pour chaque modèle, puis j'ai effectué un GridSearch avec les paramètres trouvés avec le RandomisedSearch. Cela premet de réduire le temps d'execution de notre code vu qu'on peut être amené à l'excuter plusieurs fois."
      ]
    },
    {
      "cell_type": "code",
      "execution_count": 80,
      "metadata": {
        "id": "4V7lVYxOuXJK"
      },
      "outputs": [],
      "source": [
        "#################             Régression linéaire multiple     ##########\n",
        "from sklearn.compose import TransformedTargetRegressor\n",
        "from sklearn.model_selection import RandomizedSearchCV\n",
        "nb_split = 5\n",
        "score = ['accuracy','neg_mean_absolute_error','neg_mean_squared_error']\n",
        "\n",
        "pipe_lr = Pipeline(\n",
        "    steps=[(\"preprocessor\", preprocessor), (\"LR\", TransformedTargetRegressor(regressor=LinearRegression(), func=np.log1p, inverse_func=np.expm1) )]\n",
        ")\n",
        "\n",
        "myscore = ('r2','neg_mean_absolute_error','neg_mean_squared_error')\n",
        "\n",
        "lr_param_grid = [ {\"LR__regressor__fit_intercept\": [True, False]}   ] \n",
        "\n",
        "\n",
        "lr_grid_search = GridSearchCV(estimator=pipe_lr,\n",
        "        param_grid=lr_param_grid, refit='neg_mean_absolute_error',\n",
        "        scoring=myscore, n_jobs=-1,\n",
        "        cv=nb_split,return_train_score=True)\n",
        "\n",
        "\n",
        "########################         Elastic Net           ######################\n",
        "\n",
        "pipe_elastic = Pipeline(\n",
        "    steps=[(\"preprocessor\", preprocessor), (\"ELN\", TransformedTargetRegressor(regressor=ElasticNet() ,func=np.log, inverse_func=np.exp) )]\n",
        ")\n",
        "## Paramaètre du randomize search\n",
        "\"\"\"elastic_param_grid = [     {\"ELN__regressor__max_iter\": [10, 100, 1000],\n",
        "                            \"ELN__regressor__alpha\": np.logspace(-5, 5, num=10),  # alpha plus grand --- - 5 à 5 , augmenter la granularité\n",
        "                             \"ELN__regressor__l1_ratio\": np.arange(0.0, 1.1, 0.1) } ]   \"\"\"\n",
        "\n",
        "elastic_param_grid ={'ELN__regressor__alpha': [0.9],\n",
        " 'ELN__regressor__l1_ratio':[ 0.0 ],\n",
        " 'ELN__regressor__max_iter': [100]}\n",
        "\n",
        "elastic_grid_search = GridSearchCV(estimator=pipe_elastic,\n",
        "        param_grid=elastic_param_grid,\n",
        "        scoring=myscore, refit='neg_mean_absolute_error', n_jobs=-1,\n",
        "        cv=nb_split,return_train_score=True) \n",
        "\n",
        "########################         Linear SVR           ######################\n",
        "pipe_lsvr =Pipeline(\n",
        "    steps=[(\"preprocessor\", preprocessor), (\"LinearSVR\", TransformedTargetRegressor(regressor=LinearSVR() ,func=np.log, inverse_func=np.exp) )]\n",
        ")\n",
        "lsvr_param_grid = [      {'LinearSVR__regressor__C' : np.logspace(-4, 0, 5),\n",
        "                          'LinearSVR__regressor__epsilon' : [0, 0.01, 0.1, 0.5, 1, 2],\n",
        "                         'LinearSVR__regressor__loss' : [\"epsilon_insensitive\",\"squared_epsilon_insensitive\"],\n",
        "                          'LinearSVR__regressor__max_iter': [10, 100, 1000]}   ] \n",
        "\n",
        "\n",
        "\"\"\"lsvr_param_grid ={'LinearSVR__regressor__C': [0.6],\n",
        " 'LinearSVR__regressor__epsilon': [1],\n",
        " 'LinearSVR__regressor__loss': ['epsilon_insensitive'],\n",
        " 'LinearSVR__regressor__max_iter': [10]}\"\"\"\n",
        "\n",
        "lsvr_grid_search = GridSearchCV(estimator=pipe_lsvr,\n",
        "        param_grid=lsvr_param_grid,\n",
        "        scoring=myscore, refit='neg_mean_absolute_error', n_jobs=-1,\n",
        "        cv=nb_split, return_train_score=True)\n",
        "\n",
        "\n",
        "########################         Random Forest           ######################\n",
        "pipe_rfr= Pipeline(\n",
        "    steps=[(\"preprocessor\", preprocessor), (\"RandomForest\", TransformedTargetRegressor(regressor=RandomForestRegressor() ,func=np.log, inverse_func=np.exp) )]\n",
        ")\n",
        "\n",
        "# Paramètre pour le Randomize search\n",
        "\"\"\"rfr_param_grid = [ {'RandomForest__regressor__max_features' : ['sqrt', 'log2'],\n",
        "                   'RandomForest__regressor__max_depth': [15, 25, 200],\n",
        "                   'RandomForest__regressor__min_samples_split': [2, 7, 8],\n",
        "                   'RandomForest__regressor__bootstrap' : [True, False],\n",
        "                   'RandomForest__regressor__min_samples_leaf': [1,2,5]}\"\"\"\n",
        "\n",
        "rfr_param_grid={'RandomForest__regressor__bootstrap': [False],\n",
        "                'RandomForest__regressor__max_depth': [25,50],\n",
        "                'RandomForest__regressor__max_features': ['sqrt'],\n",
        "                'RandomForest__regressor__min_samples_leaf': [1],\n",
        "                'RandomForest__regressor__min_samples_split': [2]}\n",
        "                                                      \n",
        "rfr_grid_search = GridSearchCV(estimator=pipe_rfr,\n",
        "       param_grid=rfr_param_grid,\n",
        "        scoring=myscore, refit='neg_mean_absolute_error', n_jobs=-1,\n",
        "        cv=nb_split, return_train_score=True)                                                  \n",
        "                                                 \n",
        "########################         ExtratreeRegressor          ######################\n",
        "\n",
        "\n",
        "pipe_extra = Pipeline(\n",
        "    steps=[(\"preprocessor\", preprocessor), (\"ExtraTree\", TransformedTargetRegressor(regressor=ExtraTreesRegressor(random_state=0) ,func=np.log, inverse_func=np.exp) ) ] \n",
        ")\n",
        "\n",
        "## Paramaètre du randomize search\n",
        "\"\"\"  {'ExtraTree__regressor__n_estimators':[350,500],\n",
        "         'ExtraTree__regressor__max_depth':[8,9,10],\n",
        "         'ExtraTree__regressor__min_samples_split':[3,4,6],\n",
        "         'ExtraTree__regressor__min_samples_leaf':[2,3,4],\n",
        "         'ExtraTree__regressor__max_features':[0.95],\n",
        "         'ExtraTree__regressor__min_impurity_decrease':[1e-5,1e-4,0]}  \"\"\"\n",
        "\n",
        "## Paramètre choisis  pour le gridsearch après le Randomize search\n",
        "param_grid_mlp = {'ExtraTree__regressor__n_estimators': [350],\n",
        " 'ExtraTree__regressor__min_samples_split':[ 3],\n",
        " 'ExtraTree__regressor__min_samples_leaf': [2],\n",
        " 'ExtraTree__regressor__min_impurity_decrease': [1e-05],\n",
        " 'ExtraTree__regressor__max_features': [0.95],\n",
        " 'ExtraTree__regressor__max_depth': [10]}\n",
        "\n",
        "\n",
        "\n",
        "\n",
        "extraTree_grid_search = GridSearchCV(estimator=pipe_extra,\n",
        "        param_grid =param_grid_mlp,\n",
        "        scoring=myscore, refit='neg_mean_absolute_error', n_jobs=-1,\n",
        "        cv=nb_split, return_train_score=True) \n",
        "\n",
        "########################         XgBoost Regressor          #####################\n",
        "pipe_gb= Pipeline(\n",
        "    steps=[(\"preprocessor\", preprocessor), (\"GB\", TransformedTargetRegressor(regressor=GradientBoostingRegressor() ,func=np.log, inverse_func=np.exp) )]\n",
        ")\n",
        "\n",
        "# Paramètre du randomized Search\n",
        "\"\"\"param_grid_GrBoostR = [{'GB__regressor__n_estimators': [350,500,700], \n",
        "                        'GB__regressor__max_depth': [5,6,7], \n",
        "                        'GB__regressor__min_samples_split': [2,3,4], \n",
        "                        'GB__regressor__learning_rate': [0.01,0.1], \n",
        "                        'GB__regressor__loss': ['ls'],\n",
        "                       \"GB__regressor__random_state\" : [0]\n",
        "                       }] \"\"\"\n",
        "\n",
        "param_grid_GrBoostR={'GB__regressor__random_state': [0],\n",
        "                    'GB__regressor__n_estimators': [350],\n",
        "                    'GB__regressor__min_samples_split': [3],\n",
        "                    'GB__regressor__max_depth': [5],\n",
        "                    'GB__regressor__loss': ['ls'],\n",
        "                    'GB__regressor__learning_rate': [0.1]}\n",
        "\n",
        "gb_grid_search =  GridSearchCV(estimator=pipe_gb,\n",
        "         param_grid=param_grid_GrBoostR,\n",
        "        scoring=myscore, refit='neg_mean_absolute_error', n_jobs=-1,\n",
        "        cv=nb_split, return_train_score=True)   \n"
      ]
    },
    {
      "cell_type": "markdown",
      "source": [
        "Architecture de chaque modèle "
      ],
      "metadata": {
        "id": "jQcV_6JWP_rR"
      }
    },
    {
      "cell_type": "code",
      "source": [
        "lr_grid_search"
      ],
      "metadata": {
        "colab": {
          "base_uri": "https://localhost:8080/",
          "height": 233
        },
        "id": "P-IkCBAyQJW_",
        "outputId": "f12cac38-1a9d-4eb4-ee4f-da0218af50e3"
      },
      "execution_count": 81,
      "outputs": [
        {
          "output_type": "execute_result",
          "data": {
            "text/plain": [
              "GridSearchCV(cv=5,\n",
              "             estimator=Pipeline(steps=[('preprocessor',\n",
              "                                        ColumnTransformer(n_jobs=-1,\n",
              "                                                          remainder='passthrough',\n",
              "                                                          transformers=[('numerical_pipeline',\n",
              "                                                                         Pipeline(steps=[('scale',\n",
              "                                                                                          StandardScaler())]),\n",
              "                                                                         ['NumberofBuildings',\n",
              "                                                                          'NumberofFloors',\n",
              "                                                                          'PropertyGFATotal',\n",
              "                                                                          'ENERGYSTARScore',\n",
              "                                                                          'age_batiment',\n",
              "                                                                          'Ratio_parkingParSurface',\n",
              "                                                                          'pr_steam',\n",
              "                                                                          'pr_natural',\n",
              "                                                                          'pr_elec']),\n",
              "                                                                        ('cat...\n",
              "                                                                         ['PrimaryPropertyType',\n",
              "                                                                          'LargestPropertyUseType'])])),\n",
              "                                       ('LR',\n",
              "                                        TransformedTargetRegressor(func=<ufunc 'log1p'>,\n",
              "                                                                   inverse_func=<ufunc 'expm1'>,\n",
              "                                                                   regressor=LinearRegression()))]),\n",
              "             n_jobs=-1,\n",
              "             param_grid=[{'LR__regressor__fit_intercept': [True, False]}],\n",
              "             refit='neg_mean_absolute_error', return_train_score=True,\n",
              "             scoring=('r2', 'neg_mean_absolute_error',\n",
              "                      'neg_mean_squared_error'))"
            ],
            "text/html": [
              "<style>#sk-e7232b29-ef15-4f37-85d8-1e2298635b2c {color: black;background-color: white;}#sk-e7232b29-ef15-4f37-85d8-1e2298635b2c pre{padding: 0;}#sk-e7232b29-ef15-4f37-85d8-1e2298635b2c div.sk-toggleable {background-color: white;}#sk-e7232b29-ef15-4f37-85d8-1e2298635b2c label.sk-toggleable__label {cursor: pointer;display: block;width: 100%;margin-bottom: 0;padding: 0.3em;box-sizing: border-box;text-align: center;}#sk-e7232b29-ef15-4f37-85d8-1e2298635b2c label.sk-toggleable__label-arrow:before {content: \"▸\";float: left;margin-right: 0.25em;color: #696969;}#sk-e7232b29-ef15-4f37-85d8-1e2298635b2c label.sk-toggleable__label-arrow:hover:before {color: black;}#sk-e7232b29-ef15-4f37-85d8-1e2298635b2c div.sk-estimator:hover label.sk-toggleable__label-arrow:before {color: black;}#sk-e7232b29-ef15-4f37-85d8-1e2298635b2c div.sk-toggleable__content {max-height: 0;max-width: 0;overflow: hidden;text-align: left;background-color: #f0f8ff;}#sk-e7232b29-ef15-4f37-85d8-1e2298635b2c div.sk-toggleable__content pre {margin: 0.2em;color: black;border-radius: 0.25em;background-color: #f0f8ff;}#sk-e7232b29-ef15-4f37-85d8-1e2298635b2c input.sk-toggleable__control:checked~div.sk-toggleable__content {max-height: 200px;max-width: 100%;overflow: auto;}#sk-e7232b29-ef15-4f37-85d8-1e2298635b2c input.sk-toggleable__control:checked~label.sk-toggleable__label-arrow:before {content: \"▾\";}#sk-e7232b29-ef15-4f37-85d8-1e2298635b2c div.sk-estimator input.sk-toggleable__control:checked~label.sk-toggleable__label {background-color: #d4ebff;}#sk-e7232b29-ef15-4f37-85d8-1e2298635b2c div.sk-label input.sk-toggleable__control:checked~label.sk-toggleable__label {background-color: #d4ebff;}#sk-e7232b29-ef15-4f37-85d8-1e2298635b2c input.sk-hidden--visually {border: 0;clip: rect(1px 1px 1px 1px);clip: rect(1px, 1px, 1px, 1px);height: 1px;margin: -1px;overflow: hidden;padding: 0;position: absolute;width: 1px;}#sk-e7232b29-ef15-4f37-85d8-1e2298635b2c div.sk-estimator {font-family: monospace;background-color: #f0f8ff;border: 1px dotted black;border-radius: 0.25em;box-sizing: border-box;margin-bottom: 0.5em;}#sk-e7232b29-ef15-4f37-85d8-1e2298635b2c div.sk-estimator:hover {background-color: #d4ebff;}#sk-e7232b29-ef15-4f37-85d8-1e2298635b2c div.sk-parallel-item::after {content: \"\";width: 100%;border-bottom: 1px solid gray;flex-grow: 1;}#sk-e7232b29-ef15-4f37-85d8-1e2298635b2c div.sk-label:hover label.sk-toggleable__label {background-color: #d4ebff;}#sk-e7232b29-ef15-4f37-85d8-1e2298635b2c div.sk-serial::before {content: \"\";position: absolute;border-left: 1px solid gray;box-sizing: border-box;top: 2em;bottom: 0;left: 50%;}#sk-e7232b29-ef15-4f37-85d8-1e2298635b2c div.sk-serial {display: flex;flex-direction: column;align-items: center;background-color: white;padding-right: 0.2em;padding-left: 0.2em;}#sk-e7232b29-ef15-4f37-85d8-1e2298635b2c div.sk-item {z-index: 1;}#sk-e7232b29-ef15-4f37-85d8-1e2298635b2c div.sk-parallel {display: flex;align-items: stretch;justify-content: center;background-color: white;}#sk-e7232b29-ef15-4f37-85d8-1e2298635b2c div.sk-parallel::before {content: \"\";position: absolute;border-left: 1px solid gray;box-sizing: border-box;top: 2em;bottom: 0;left: 50%;}#sk-e7232b29-ef15-4f37-85d8-1e2298635b2c div.sk-parallel-item {display: flex;flex-direction: column;position: relative;background-color: white;}#sk-e7232b29-ef15-4f37-85d8-1e2298635b2c div.sk-parallel-item:first-child::after {align-self: flex-end;width: 50%;}#sk-e7232b29-ef15-4f37-85d8-1e2298635b2c div.sk-parallel-item:last-child::after {align-self: flex-start;width: 50%;}#sk-e7232b29-ef15-4f37-85d8-1e2298635b2c div.sk-parallel-item:only-child::after {width: 0;}#sk-e7232b29-ef15-4f37-85d8-1e2298635b2c div.sk-dashed-wrapped {border: 1px dashed gray;margin: 0 0.4em 0.5em 0.4em;box-sizing: border-box;padding-bottom: 0.4em;background-color: white;position: relative;}#sk-e7232b29-ef15-4f37-85d8-1e2298635b2c div.sk-label label {font-family: monospace;font-weight: bold;background-color: white;display: inline-block;line-height: 1.2em;}#sk-e7232b29-ef15-4f37-85d8-1e2298635b2c div.sk-label-container {position: relative;z-index: 2;text-align: center;}#sk-e7232b29-ef15-4f37-85d8-1e2298635b2c div.sk-container {/* jupyter's `normalize.less` sets `[hidden] { display: none; }` but bootstrap.min.css set `[hidden] { display: none !important; }` so we also need the `!important` here to be able to override the default hidden behavior on the sphinx rendered scikit-learn.org. See: https://github.com/scikit-learn/scikit-learn/issues/21755 */display: inline-block !important;position: relative;}#sk-e7232b29-ef15-4f37-85d8-1e2298635b2c div.sk-text-repr-fallback {display: none;}</style><div id=\"sk-e7232b29-ef15-4f37-85d8-1e2298635b2c\" class=\"sk-top-container\"><div class=\"sk-text-repr-fallback\"><pre>GridSearchCV(cv=5,\n",
              "             estimator=Pipeline(steps=[(&#x27;preprocessor&#x27;,\n",
              "                                        ColumnTransformer(n_jobs=-1,\n",
              "                                                          remainder=&#x27;passthrough&#x27;,\n",
              "                                                          transformers=[(&#x27;numerical_pipeline&#x27;,\n",
              "                                                                         Pipeline(steps=[(&#x27;scale&#x27;,\n",
              "                                                                                          StandardScaler())]),\n",
              "                                                                         [&#x27;NumberofBuildings&#x27;,\n",
              "                                                                          &#x27;NumberofFloors&#x27;,\n",
              "                                                                          &#x27;PropertyGFATotal&#x27;,\n",
              "                                                                          &#x27;ENERGYSTARScore&#x27;,\n",
              "                                                                          &#x27;age_batiment&#x27;,\n",
              "                                                                          &#x27;Ratio_parkingParSurface&#x27;,\n",
              "                                                                          &#x27;pr_steam&#x27;,\n",
              "                                                                          &#x27;pr_natural&#x27;,\n",
              "                                                                          &#x27;pr_elec&#x27;]),\n",
              "                                                                        (&#x27;cat...\n",
              "                                                                         [&#x27;PrimaryPropertyType&#x27;,\n",
              "                                                                          &#x27;LargestPropertyUseType&#x27;])])),\n",
              "                                       (&#x27;LR&#x27;,\n",
              "                                        TransformedTargetRegressor(func=&lt;ufunc &#x27;log1p&#x27;&gt;,\n",
              "                                                                   inverse_func=&lt;ufunc &#x27;expm1&#x27;&gt;,\n",
              "                                                                   regressor=LinearRegression()))]),\n",
              "             n_jobs=-1,\n",
              "             param_grid=[{&#x27;LR__regressor__fit_intercept&#x27;: [True, False]}],\n",
              "             refit=&#x27;neg_mean_absolute_error&#x27;, return_train_score=True,\n",
              "             scoring=(&#x27;r2&#x27;, &#x27;neg_mean_absolute_error&#x27;,\n",
              "                      &#x27;neg_mean_squared_error&#x27;))</pre><b>Please rerun this cell to show the HTML repr or trust the notebook.</b></div><div class=\"sk-container\" hidden><div class=\"sk-item sk-dashed-wrapped\"><div class=\"sk-label-container\"><div class=\"sk-label sk-toggleable\"><input class=\"sk-toggleable__control sk-hidden--visually\" id=\"cec0fd3a-e571-44a9-b131-1a16586456fa\" type=\"checkbox\" ><label for=\"cec0fd3a-e571-44a9-b131-1a16586456fa\" class=\"sk-toggleable__label sk-toggleable__label-arrow\">GridSearchCV</label><div class=\"sk-toggleable__content\"><pre>GridSearchCV(cv=5,\n",
              "             estimator=Pipeline(steps=[(&#x27;preprocessor&#x27;,\n",
              "                                        ColumnTransformer(n_jobs=-1,\n",
              "                                                          remainder=&#x27;passthrough&#x27;,\n",
              "                                                          transformers=[(&#x27;numerical_pipeline&#x27;,\n",
              "                                                                         Pipeline(steps=[(&#x27;scale&#x27;,\n",
              "                                                                                          StandardScaler())]),\n",
              "                                                                         [&#x27;NumberofBuildings&#x27;,\n",
              "                                                                          &#x27;NumberofFloors&#x27;,\n",
              "                                                                          &#x27;PropertyGFATotal&#x27;,\n",
              "                                                                          &#x27;ENERGYSTARScore&#x27;,\n",
              "                                                                          &#x27;age_batiment&#x27;,\n",
              "                                                                          &#x27;Ratio_parkingParSurface&#x27;,\n",
              "                                                                          &#x27;pr_steam&#x27;,\n",
              "                                                                          &#x27;pr_natural&#x27;,\n",
              "                                                                          &#x27;pr_elec&#x27;]),\n",
              "                                                                        (&#x27;cat...\n",
              "                                                                         [&#x27;PrimaryPropertyType&#x27;,\n",
              "                                                                          &#x27;LargestPropertyUseType&#x27;])])),\n",
              "                                       (&#x27;LR&#x27;,\n",
              "                                        TransformedTargetRegressor(func=&lt;ufunc &#x27;log1p&#x27;&gt;,\n",
              "                                                                   inverse_func=&lt;ufunc &#x27;expm1&#x27;&gt;,\n",
              "                                                                   regressor=LinearRegression()))]),\n",
              "             n_jobs=-1,\n",
              "             param_grid=[{&#x27;LR__regressor__fit_intercept&#x27;: [True, False]}],\n",
              "             refit=&#x27;neg_mean_absolute_error&#x27;, return_train_score=True,\n",
              "             scoring=(&#x27;r2&#x27;, &#x27;neg_mean_absolute_error&#x27;,\n",
              "                      &#x27;neg_mean_squared_error&#x27;))</pre></div></div></div><div class=\"sk-parallel\"><div class=\"sk-parallel-item\"><div class=\"sk-item\"><div class=\"sk-serial\"><div class=\"sk-item\"><div class=\"sk-serial\"><div class=\"sk-item sk-dashed-wrapped\"><div class=\"sk-label-container\"><div class=\"sk-label sk-toggleable\"><input class=\"sk-toggleable__control sk-hidden--visually\" id=\"095364f1-32c6-4aac-ba88-8cc3e0550d32\" type=\"checkbox\" ><label for=\"095364f1-32c6-4aac-ba88-8cc3e0550d32\" class=\"sk-toggleable__label sk-toggleable__label-arrow\">preprocessor: ColumnTransformer</label><div class=\"sk-toggleable__content\"><pre>ColumnTransformer(n_jobs=-1, remainder=&#x27;passthrough&#x27;,\n",
              "                  transformers=[(&#x27;numerical_pipeline&#x27;,\n",
              "                                 Pipeline(steps=[(&#x27;scale&#x27;, StandardScaler())]),\n",
              "                                 [&#x27;NumberofBuildings&#x27;, &#x27;NumberofFloors&#x27;,\n",
              "                                  &#x27;PropertyGFATotal&#x27;, &#x27;ENERGYSTARScore&#x27;,\n",
              "                                  &#x27;age_batiment&#x27;, &#x27;Ratio_parkingParSurface&#x27;,\n",
              "                                  &#x27;pr_steam&#x27;, &#x27;pr_natural&#x27;, &#x27;pr_elec&#x27;]),\n",
              "                                (&#x27;categorical_pipeline=&#x27;,\n",
              "                                 Pipeline(steps=[(&#x27;one-hot&#x27;, OneHotEncoder())]),\n",
              "                                 [&#x27;PrimaryPropertyType&#x27;,\n",
              "                                  &#x27;LargestPropertyUseType&#x27;])])</pre></div></div></div><div class=\"sk-parallel\"><div class=\"sk-parallel-item\"><div class=\"sk-item\"><div class=\"sk-label-container\"><div class=\"sk-label sk-toggleable\"><input class=\"sk-toggleable__control sk-hidden--visually\" id=\"74bb8ad1-c741-4bd4-b869-4dc66c02567f\" type=\"checkbox\" ><label for=\"74bb8ad1-c741-4bd4-b869-4dc66c02567f\" class=\"sk-toggleable__label sk-toggleable__label-arrow\">numerical_pipeline</label><div class=\"sk-toggleable__content\"><pre>[&#x27;NumberofBuildings&#x27;, &#x27;NumberofFloors&#x27;, &#x27;PropertyGFATotal&#x27;, &#x27;ENERGYSTARScore&#x27;, &#x27;age_batiment&#x27;, &#x27;Ratio_parkingParSurface&#x27;, &#x27;pr_steam&#x27;, &#x27;pr_natural&#x27;, &#x27;pr_elec&#x27;]</pre></div></div></div><div class=\"sk-serial\"><div class=\"sk-item\"><div class=\"sk-serial\"><div class=\"sk-item\"><div class=\"sk-estimator sk-toggleable\"><input class=\"sk-toggleable__control sk-hidden--visually\" id=\"45f82a44-d9a4-4444-985b-57b1d3f24627\" type=\"checkbox\" ><label for=\"45f82a44-d9a4-4444-985b-57b1d3f24627\" class=\"sk-toggleable__label sk-toggleable__label-arrow\">StandardScaler</label><div class=\"sk-toggleable__content\"><pre>StandardScaler()</pre></div></div></div></div></div></div></div></div><div class=\"sk-parallel-item\"><div class=\"sk-item\"><div class=\"sk-label-container\"><div class=\"sk-label sk-toggleable\"><input class=\"sk-toggleable__control sk-hidden--visually\" id=\"2c9687af-3792-4bc4-be68-031f475340c6\" type=\"checkbox\" ><label for=\"2c9687af-3792-4bc4-be68-031f475340c6\" class=\"sk-toggleable__label sk-toggleable__label-arrow\">categorical_pipeline=</label><div class=\"sk-toggleable__content\"><pre>[&#x27;PrimaryPropertyType&#x27;, &#x27;LargestPropertyUseType&#x27;]</pre></div></div></div><div class=\"sk-serial\"><div class=\"sk-item\"><div class=\"sk-serial\"><div class=\"sk-item\"><div class=\"sk-estimator sk-toggleable\"><input class=\"sk-toggleable__control sk-hidden--visually\" id=\"eeb78b1a-61f8-42bf-98f6-b73b937d3896\" type=\"checkbox\" ><label for=\"eeb78b1a-61f8-42bf-98f6-b73b937d3896\" class=\"sk-toggleable__label sk-toggleable__label-arrow\">OneHotEncoder</label><div class=\"sk-toggleable__content\"><pre>OneHotEncoder()</pre></div></div></div></div></div></div></div></div><div class=\"sk-parallel-item\"><div class=\"sk-item\"><div class=\"sk-label-container\"><div class=\"sk-label sk-toggleable\"><input class=\"sk-toggleable__control sk-hidden--visually\" id=\"e031ca33-38a5-4d98-aafa-aee9350009b9\" type=\"checkbox\" ><label for=\"e031ca33-38a5-4d98-aafa-aee9350009b9\" class=\"sk-toggleable__label sk-toggleable__label-arrow\">remainder</label><div class=\"sk-toggleable__content\"><pre></pre></div></div></div><div class=\"sk-serial\"><div class=\"sk-item\"><div class=\"sk-estimator sk-toggleable\"><input class=\"sk-toggleable__control sk-hidden--visually\" id=\"4bdb1d7f-2f98-4bb0-afb3-35b954f0a0c3\" type=\"checkbox\" ><label for=\"4bdb1d7f-2f98-4bb0-afb3-35b954f0a0c3\" class=\"sk-toggleable__label sk-toggleable__label-arrow\">passthrough</label><div class=\"sk-toggleable__content\"><pre>passthrough</pre></div></div></div></div></div></div></div></div><div class=\"sk-item sk-dashed-wrapped\"><div class=\"sk-label-container\"><div class=\"sk-label sk-toggleable\"><input class=\"sk-toggleable__control sk-hidden--visually\" id=\"0cb67c0a-0316-4096-871c-95b840f6724b\" type=\"checkbox\" ><label for=\"0cb67c0a-0316-4096-871c-95b840f6724b\" class=\"sk-toggleable__label sk-toggleable__label-arrow\">LR: TransformedTargetRegressor</label><div class=\"sk-toggleable__content\"><pre>TransformedTargetRegressor(func=&lt;ufunc &#x27;log1p&#x27;&gt;, inverse_func=&lt;ufunc &#x27;expm1&#x27;&gt;,\n",
              "                           regressor=LinearRegression())</pre></div></div></div><div class=\"sk-parallel\"><div class=\"sk-parallel-item\"><div class=\"sk-item\"><div class=\"sk-serial\"><div class=\"sk-item\"><div class=\"sk-estimator sk-toggleable\"><input class=\"sk-toggleable__control sk-hidden--visually\" id=\"a8965332-1806-450a-b54f-ef2f0a63e05d\" type=\"checkbox\" ><label for=\"a8965332-1806-450a-b54f-ef2f0a63e05d\" class=\"sk-toggleable__label sk-toggleable__label-arrow\">LinearRegression</label><div class=\"sk-toggleable__content\"><pre>LinearRegression()</pre></div></div></div></div></div></div></div></div></div></div></div></div></div></div></div></div></div>"
            ]
          },
          "metadata": {},
          "execution_count": 81
        }
      ]
    },
    {
      "cell_type": "markdown",
      "metadata": {
        "id": "04BwXAcKHWTY"
      },
      "source": [
        "### Entrainement des modèles et choix des meilleurs modèles après le GridSearch\n",
        "---"
      ]
    },
    {
      "cell_type": "code",
      "execution_count": 82,
      "metadata": {
        "id": "m0pQHZrB1zyz"
      },
      "outputs": [],
      "source": [
        "global target\n",
        "global R\n",
        "global lr_grid_search_model , elastic_grid_search_model, lsvr_grid_search_model, rfr_grid_search_model , mlp_grid_search_model, gb_grid_search_model\n",
        "target = ['TotalGHGEmissions', 'SiteEnergyUse(kBtu)']\n"
      ]
    },
    {
      "cell_type": "code",
      "source": [
        "def train_model (model) :\n",
        "  mymod = model.fit(X_train,Y_train['TotalGHGEmissions'])\n",
        "  y_test = Y_test['TotalGHGEmissions']\n",
        "  y_pred= mymod.predict(X_test)\n",
        "  print ( \"R2 : \" , round(r2_score (y_test, y_pred),2) ,  \"| MAE :\", round(mean_absolute_error (y_test, y_pred),2), ' | RMSE :', round( np.sqrt(mean_squared_error (y_test, y_pred)),2))\n",
        "  return mymod.best_params_\n"
      ],
      "metadata": {
        "id": "YobjUIrYDAWK"
      },
      "execution_count": 83,
      "outputs": []
    },
    {
      "cell_type": "code",
      "source": [
        "%%time\n",
        "target_x =target[0]\n",
        "lr_grid_search_model = lr_grid_search.fit(X_train,Y_train['TotalGHGEmissions'])\n",
        "elastic_grid_search_model = elastic_grid_search.fit(X_train,Y_train['TotalGHGEmissions'])\n",
        "lsvr_grid_search_model = lsvr_grid_search.fit(X_train,Y_train['TotalGHGEmissions'])\n",
        "rfr_grid_search_model = rfr_grid_search.fit(X_train,Y_train['TotalGHGEmissions'])\n",
        "mlp_grid_search_model = extraTree_grid_search.fit(X_train,Y_train['TotalGHGEmissions'])\n",
        "gb_grid_search_model = gb_grid_search.fit(X_train,Y_train['TotalGHGEmissions'])\n"
      ],
      "metadata": {
        "colab": {
          "base_uri": "https://localhost:8080/"
        },
        "id": "2U6Du9QrOsfg",
        "outputId": "0e7bf06d-f589-42f1-ae24-92b16e83945a"
      },
      "execution_count": 84,
      "outputs": [
        {
          "output_type": "stream",
          "name": "stdout",
          "text": [
            "CPU times: user 5.97 s, sys: 90.5 ms, total: 6.06 s\n",
            "Wall time: 36.6 s\n"
          ]
        }
      ]
    },
    {
      "cell_type": "code",
      "execution_count": 85,
      "metadata": {
        "id": "ksYni_mhYIol"
      },
      "outputs": [],
      "source": [
        "modele ={ 'Linear Regression': lr_grid_search_model, 'Elastic Net' : elastic_grid_search_model , 'Linear SVR': lsvr_grid_search_model ,\n",
        "         'RandomForest':rfr_grid_search_model, 'ExtraTree Regressor':mlp_grid_search_model,'GradientBoost' : gb_grid_search_model}"
      ]
    },
    {
      "cell_type": "markdown",
      "metadata": {
        "id": "50q9ALdtMVTv"
      },
      "source": [
        "###  Choix du meilleur modèle pour la variable target TotalGHGEmissions \n",
        "---"
      ]
    },
    {
      "cell_type": "markdown",
      "source": [
        "Metrics de chaque modèle sur la cross validation du Gridsearch."
      ],
      "metadata": {
        "id": "KnLJjpH-g2qc"
      }
    },
    {
      "cell_type": "code",
      "execution_count": 86,
      "metadata": {
        "colab": {
          "base_uri": "https://localhost:8080/",
          "height": 237
        },
        "id": "ar3IjCel3Gue",
        "outputId": "6793a082-1d63-43ad-fc61-d3cbc9ff138a"
      },
      "outputs": [
        {
          "output_type": "execute_result",
          "data": {
            "text/plain": [
              "               Modèles  fit time  MAE (moyen)   MSE (moyen)  R2 (moyen)  \\\n",
              "0     LinearRegression  0.040679   358.736771  6.038515e+07  -95.299162   \n",
              "0           ElasticNet  0.033274   131.188903  2.986782e+05   -0.401125   \n",
              "0           Linear SVR  0.018322   175.550217  4.380052e+05   -0.132789   \n",
              "0         RandomForest  0.539696    84.223874  1.308057e+05    0.604828   \n",
              "0  Extratree Regressor  1.967041    82.772055  1.241124e+05    0.624078   \n",
              "0        GradientBoost  1.163265    69.930513  6.800470e+04    0.743358   \n",
              "\n",
              "     std_MAE                                             params  \n",
              "0  75.492529             {'LR__regressor__fit_intercept': True}  \n",
              "0   5.006879  {'ELN__regressor__alpha': 0.9, 'ELN__regressor...  \n",
              "0   5.752539  {'LinearSVR__regressor__C': 0.0001, 'LinearSVR...  \n",
              "0   0.192437  {'RandomForest__regressor__bootstrap': False, ...  \n",
              "0   1.769103  {'ExtraTree__regressor__max_depth': 10, 'Extra...  \n",
              "0   0.782055  {'GB__regressor__learning_rate': 0.1, 'GB__reg...  "
            ],
            "text/html": [
              "\n",
              "  <div id=\"df-900d3293-4242-4be6-92da-83d2d29685bf\">\n",
              "    <div class=\"colab-df-container\">\n",
              "      <div>\n",
              "<style scoped>\n",
              "    .dataframe tbody tr th:only-of-type {\n",
              "        vertical-align: middle;\n",
              "    }\n",
              "\n",
              "    .dataframe tbody tr th {\n",
              "        vertical-align: top;\n",
              "    }\n",
              "\n",
              "    .dataframe thead th {\n",
              "        text-align: right;\n",
              "    }\n",
              "</style>\n",
              "<table border=\"1\" class=\"dataframe\">\n",
              "  <thead>\n",
              "    <tr style=\"text-align: right;\">\n",
              "      <th></th>\n",
              "      <th>Modèles</th>\n",
              "      <th>fit time</th>\n",
              "      <th>MAE (moyen)</th>\n",
              "      <th>MSE (moyen)</th>\n",
              "      <th>R2 (moyen)</th>\n",
              "      <th>std_MAE</th>\n",
              "      <th>params</th>\n",
              "    </tr>\n",
              "  </thead>\n",
              "  <tbody>\n",
              "    <tr>\n",
              "      <th>0</th>\n",
              "      <td>LinearRegression</td>\n",
              "      <td>0.040679</td>\n",
              "      <td>358.736771</td>\n",
              "      <td>6.038515e+07</td>\n",
              "      <td>-95.299162</td>\n",
              "      <td>75.492529</td>\n",
              "      <td>{'LR__regressor__fit_intercept': True}</td>\n",
              "    </tr>\n",
              "    <tr>\n",
              "      <th>0</th>\n",
              "      <td>ElasticNet</td>\n",
              "      <td>0.033274</td>\n",
              "      <td>131.188903</td>\n",
              "      <td>2.986782e+05</td>\n",
              "      <td>-0.401125</td>\n",
              "      <td>5.006879</td>\n",
              "      <td>{'ELN__regressor__alpha': 0.9, 'ELN__regressor...</td>\n",
              "    </tr>\n",
              "    <tr>\n",
              "      <th>0</th>\n",
              "      <td>Linear SVR</td>\n",
              "      <td>0.018322</td>\n",
              "      <td>175.550217</td>\n",
              "      <td>4.380052e+05</td>\n",
              "      <td>-0.132789</td>\n",
              "      <td>5.752539</td>\n",
              "      <td>{'LinearSVR__regressor__C': 0.0001, 'LinearSVR...</td>\n",
              "    </tr>\n",
              "    <tr>\n",
              "      <th>0</th>\n",
              "      <td>RandomForest</td>\n",
              "      <td>0.539696</td>\n",
              "      <td>84.223874</td>\n",
              "      <td>1.308057e+05</td>\n",
              "      <td>0.604828</td>\n",
              "      <td>0.192437</td>\n",
              "      <td>{'RandomForest__regressor__bootstrap': False, ...</td>\n",
              "    </tr>\n",
              "    <tr>\n",
              "      <th>0</th>\n",
              "      <td>Extratree Regressor</td>\n",
              "      <td>1.967041</td>\n",
              "      <td>82.772055</td>\n",
              "      <td>1.241124e+05</td>\n",
              "      <td>0.624078</td>\n",
              "      <td>1.769103</td>\n",
              "      <td>{'ExtraTree__regressor__max_depth': 10, 'Extra...</td>\n",
              "    </tr>\n",
              "    <tr>\n",
              "      <th>0</th>\n",
              "      <td>GradientBoost</td>\n",
              "      <td>1.163265</td>\n",
              "      <td>69.930513</td>\n",
              "      <td>6.800470e+04</td>\n",
              "      <td>0.743358</td>\n",
              "      <td>0.782055</td>\n",
              "      <td>{'GB__regressor__learning_rate': 0.1, 'GB__reg...</td>\n",
              "    </tr>\n",
              "  </tbody>\n",
              "</table>\n",
              "</div>\n",
              "      <button class=\"colab-df-convert\" onclick=\"convertToInteractive('df-900d3293-4242-4be6-92da-83d2d29685bf')\"\n",
              "              title=\"Convert this dataframe to an interactive table.\"\n",
              "              style=\"display:none;\">\n",
              "        \n",
              "  <svg xmlns=\"http://www.w3.org/2000/svg\" height=\"24px\"viewBox=\"0 0 24 24\"\n",
              "       width=\"24px\">\n",
              "    <path d=\"M0 0h24v24H0V0z\" fill=\"none\"/>\n",
              "    <path d=\"M18.56 5.44l.94 2.06.94-2.06 2.06-.94-2.06-.94-.94-2.06-.94 2.06-2.06.94zm-11 1L8.5 8.5l.94-2.06 2.06-.94-2.06-.94L8.5 2.5l-.94 2.06-2.06.94zm10 10l.94 2.06.94-2.06 2.06-.94-2.06-.94-.94-2.06-.94 2.06-2.06.94z\"/><path d=\"M17.41 7.96l-1.37-1.37c-.4-.4-.92-.59-1.43-.59-.52 0-1.04.2-1.43.59L10.3 9.45l-7.72 7.72c-.78.78-.78 2.05 0 2.83L4 21.41c.39.39.9.59 1.41.59.51 0 1.02-.2 1.41-.59l7.78-7.78 2.81-2.81c.8-.78.8-2.07 0-2.86zM5.41 20L4 18.59l7.72-7.72 1.47 1.35L5.41 20z\"/>\n",
              "  </svg>\n",
              "      </button>\n",
              "      \n",
              "  <style>\n",
              "    .colab-df-container {\n",
              "      display:flex;\n",
              "      flex-wrap:wrap;\n",
              "      gap: 12px;\n",
              "    }\n",
              "\n",
              "    .colab-df-convert {\n",
              "      background-color: #E8F0FE;\n",
              "      border: none;\n",
              "      border-radius: 50%;\n",
              "      cursor: pointer;\n",
              "      display: none;\n",
              "      fill: #1967D2;\n",
              "      height: 32px;\n",
              "      padding: 0 0 0 0;\n",
              "      width: 32px;\n",
              "    }\n",
              "\n",
              "    .colab-df-convert:hover {\n",
              "      background-color: #E2EBFA;\n",
              "      box-shadow: 0px 1px 2px rgba(60, 64, 67, 0.3), 0px 1px 3px 1px rgba(60, 64, 67, 0.15);\n",
              "      fill: #174EA6;\n",
              "    }\n",
              "\n",
              "    [theme=dark] .colab-df-convert {\n",
              "      background-color: #3B4455;\n",
              "      fill: #D2E3FC;\n",
              "    }\n",
              "\n",
              "    [theme=dark] .colab-df-convert:hover {\n",
              "      background-color: #434B5C;\n",
              "      box-shadow: 0px 1px 3px 1px rgba(0, 0, 0, 0.15);\n",
              "      filter: drop-shadow(0px 1px 2px rgba(0, 0, 0, 0.3));\n",
              "      fill: #FFFFFF;\n",
              "    }\n",
              "  </style>\n",
              "\n",
              "      <script>\n",
              "        const buttonEl =\n",
              "          document.querySelector('#df-900d3293-4242-4be6-92da-83d2d29685bf button.colab-df-convert');\n",
              "        buttonEl.style.display =\n",
              "          google.colab.kernel.accessAllowed ? 'block' : 'none';\n",
              "\n",
              "        async function convertToInteractive(key) {\n",
              "          const element = document.querySelector('#df-900d3293-4242-4be6-92da-83d2d29685bf');\n",
              "          const dataTable =\n",
              "            await google.colab.kernel.invokeFunction('convertToInteractive',\n",
              "                                                     [key], {});\n",
              "          if (!dataTable) return;\n",
              "\n",
              "          const docLinkHtml = 'Like what you see? Visit the ' +\n",
              "            '<a target=\"_blank\" href=https://colab.research.google.com/notebooks/data_table.ipynb>data table notebook</a>'\n",
              "            + ' to learn more about interactive tables.';\n",
              "          element.innerHTML = '';\n",
              "          dataTable['output_type'] = 'display_data';\n",
              "          await google.colab.output.renderOutput(dataTable, element);\n",
              "          const docLink = document.createElement('div');\n",
              "          docLink.innerHTML = docLinkHtml;\n",
              "          element.appendChild(docLink);\n",
              "        }\n",
              "      </script>\n",
              "    </div>\n",
              "  </div>\n",
              "  "
            ]
          },
          "metadata": {},
          "execution_count": 86
        }
      ],
      "source": [
        "a=pd.DataFrame(lr_grid_search_model.cv_results_)[[\t'mean_fit_time', 'mean_test_neg_mean_absolute_error','mean_test_neg_mean_squared_error','mean_test_r2'\t,'std_train_neg_mean_absolute_error','params', ]].head(1)\n",
        "b=pd.DataFrame(elastic_grid_search_model.cv_results_)[[\t'mean_fit_time', 'mean_test_neg_mean_absolute_error','mean_test_neg_mean_squared_error','mean_test_r2'\t,'std_train_neg_mean_absolute_error','params',]].head(1)\n",
        "c=pd.DataFrame(lsvr_grid_search_model.cv_results_)[['mean_fit_time', 'mean_test_neg_mean_absolute_error','mean_test_neg_mean_squared_error','mean_test_r2'\t,'std_train_neg_mean_absolute_error','params',\t]].head(1)\n",
        "d=pd.DataFrame(rfr_grid_search_model.cv_results_)[[\t'mean_fit_time', 'mean_test_neg_mean_absolute_error','mean_test_neg_mean_squared_error','mean_test_r2'\t,'std_train_neg_mean_absolute_error','params',]].head(1)\n",
        "e=pd.DataFrame(mlp_grid_search_model.cv_results_)[[\t'mean_fit_time', 'mean_test_neg_mean_absolute_error','mean_test_neg_mean_squared_error','mean_test_r2'\t,'std_train_neg_mean_absolute_error','params',]].head(1)\n",
        "f=pd.DataFrame(gb_grid_search_model.cv_results_)[[\t'mean_fit_time', 'mean_test_neg_mean_absolute_error','mean_test_neg_mean_squared_error','mean_test_r2'\t,'std_train_neg_mean_absolute_error','params',]].head(1)\n",
        "\n",
        "R=pd.concat([a, b,c,d,e,f])\n",
        "R[\"Modèles\"] = ['LinearRegression', 'ElasticNet', 'Linear SVR', 'RandomForest', 'Extratree Regressor', 'GradientBoost']\n",
        "\n",
        "cols =R.columns.tolist()\n",
        "cols = cols[-1:] + cols[:-1]\n",
        "R= R[cols] \n",
        "R.rename(columns={'mean_fit_time' :'fit time', 'mean_test_neg_mean_absolute_error' : 'MAE (moyen)','mean_test_neg_mean_squared_error' : 'MSE (moyen)','mean_test_r2' :'R2 (moyen)'\t,'std_train_neg_mean_absolute_error': 'std_MAE'}, inplace=True)\n",
        "R['MAE (moyen)'] = -R['MAE (moyen)']\n",
        "R['MSE (moyen)'] = -R['MSE (moyen)']\n",
        "#R['RMSE'] = -R['RMSE']\n",
        "R"
      ]
    },
    {
      "cell_type": "markdown",
      "source": [
        "Le modèle qui offre de meilleurs performances sur la Cross-Validation du grid Search est le GradientBoost. Il a un MAE et MSE plus petit et R2 plus important que les autres modèles."
      ],
      "metadata": {
        "id": "hs14z3gs0GDg"
      }
    },
    {
      "cell_type": "markdown",
      "source": [
        "### Qualité de prediction du meilleur modèle choisi après le GridSearch : le modèle gradientBoost\n",
        "\n",
        "---"
      ],
      "metadata": {
        "id": "Gg_wAU3egPBW"
      }
    },
    {
      "cell_type": "code",
      "source": [
        "dict_train={}\n",
        "\n",
        "for m in modele.keys() :\n",
        "  y_pred =modele[m].best_estimator_.predict(X_train)\n",
        "  dict_train[m] = [round(mean_squared_error(Y_train['TotalGHGEmissions'],y_pred),3) , round(np.sqrt(mean_squared_error(Y_train['TotalGHGEmissions'],y_pred)) ,2), round((mean_absolute_error(Y_train['TotalGHGEmissions'],y_pred)),2),round((r2_score(Y_train['TotalGHGEmissions'],y_pred)),2)  ]\n",
        "\n",
        "\n",
        "dict_test={}\n",
        "\n",
        "for m in modele.keys() :\n",
        "  y_pred =modele[m].best_estimator_.predict(X_test)\n",
        "  dict_test[m] = [ round(mean_squared_error(Y_test['TotalGHGEmissions'],y_pred),3) ,round(np.sqrt(mean_squared_error(Y_test['TotalGHGEmissions'],y_pred)) ,2), round((mean_absolute_error(Y_test['TotalGHGEmissions'],y_pred)),2),round((r2_score(Y_test['TotalGHGEmissions'],y_pred)),2) ]\n"
      ],
      "metadata": {
        "id": "rn-gKdSukDat"
      },
      "execution_count": 87,
      "outputs": []
    },
    {
      "cell_type": "markdown",
      "source": [
        "### Qualité de prédiction de chaque modèle du modèle GradientBoost sur le test et le train set.\n",
        "----\n",
        "\n"
      ],
      "metadata": {
        "id": "PiZpbGjKdqaC"
      }
    },
    {
      "cell_type": "code",
      "source": [
        "#Prédiction sur le train set\n",
        "print (\"                           Metrics sur le Train set\")\n",
        "metrics=pd.DataFrame(dict_train)\n",
        "metrics.index = ([\"MSE\",\"RMSE\",\"MAE\",\"R2\"])\n",
        "display(metrics.T)\n",
        "print(\"\\n\")\n",
        "\n",
        "# Prédiction sur le test set\n",
        "print (\"                           Metrics sur le Test set\")\n",
        "metrics=pd.DataFrame(dict_test)\n",
        "metrics.index = ([\"MSE\",\"RMSE\",\"MAE\",\"R2\"])\n",
        "display(metrics.T)\n",
        "\n",
        "#= 8, 45(good) , 90  - 22  et 35 (very good), 0 (bon MAE pour gradient boost) , 80 (=comme le 8), 65 (gentil avec svr et elastic)"
      ],
      "metadata": {
        "colab": {
          "base_uri": "https://localhost:8080/",
          "height": 531
        },
        "id": "MxLIjo-EikVt",
        "outputId": "a39a46bb-2d8a-457b-e91c-b4e3b6220134"
      },
      "execution_count": 88,
      "outputs": [
        {
          "output_type": "stream",
          "name": "stdout",
          "text": [
            "                           Metrics sur le Train set\n"
          ]
        },
        {
          "output_type": "display_data",
          "data": {
            "text/plain": [
              "                              MSE     RMSE     MAE     R2\n",
              "Linear Regression    2.953098e+07  5434.24  269.99 -71.56\n",
              "Elastic Net          2.643180e+05   514.12  126.54   0.35\n",
              "Linear SVR           2.724566e+05   521.97  131.94   0.33\n",
              "RandomForest         5.698000e+00     2.39    0.28   1.00\n",
              "ExtraTree Regressor  2.390609e+04   154.62   45.22   0.94\n",
              "GradientBoost        6.635760e+02    25.76    9.73   1.00"
            ],
            "text/html": [
              "\n",
              "  <div id=\"df-aee9d523-7247-478c-96d9-03d02481e74f\">\n",
              "    <div class=\"colab-df-container\">\n",
              "      <div>\n",
              "<style scoped>\n",
              "    .dataframe tbody tr th:only-of-type {\n",
              "        vertical-align: middle;\n",
              "    }\n",
              "\n",
              "    .dataframe tbody tr th {\n",
              "        vertical-align: top;\n",
              "    }\n",
              "\n",
              "    .dataframe thead th {\n",
              "        text-align: right;\n",
              "    }\n",
              "</style>\n",
              "<table border=\"1\" class=\"dataframe\">\n",
              "  <thead>\n",
              "    <tr style=\"text-align: right;\">\n",
              "      <th></th>\n",
              "      <th>MSE</th>\n",
              "      <th>RMSE</th>\n",
              "      <th>MAE</th>\n",
              "      <th>R2</th>\n",
              "    </tr>\n",
              "  </thead>\n",
              "  <tbody>\n",
              "    <tr>\n",
              "      <th>Linear Regression</th>\n",
              "      <td>2.953098e+07</td>\n",
              "      <td>5434.24</td>\n",
              "      <td>269.99</td>\n",
              "      <td>-71.56</td>\n",
              "    </tr>\n",
              "    <tr>\n",
              "      <th>Elastic Net</th>\n",
              "      <td>2.643180e+05</td>\n",
              "      <td>514.12</td>\n",
              "      <td>126.54</td>\n",
              "      <td>0.35</td>\n",
              "    </tr>\n",
              "    <tr>\n",
              "      <th>Linear SVR</th>\n",
              "      <td>2.724566e+05</td>\n",
              "      <td>521.97</td>\n",
              "      <td>131.94</td>\n",
              "      <td>0.33</td>\n",
              "    </tr>\n",
              "    <tr>\n",
              "      <th>RandomForest</th>\n",
              "      <td>5.698000e+00</td>\n",
              "      <td>2.39</td>\n",
              "      <td>0.28</td>\n",
              "      <td>1.00</td>\n",
              "    </tr>\n",
              "    <tr>\n",
              "      <th>ExtraTree Regressor</th>\n",
              "      <td>2.390609e+04</td>\n",
              "      <td>154.62</td>\n",
              "      <td>45.22</td>\n",
              "      <td>0.94</td>\n",
              "    </tr>\n",
              "    <tr>\n",
              "      <th>GradientBoost</th>\n",
              "      <td>6.635760e+02</td>\n",
              "      <td>25.76</td>\n",
              "      <td>9.73</td>\n",
              "      <td>1.00</td>\n",
              "    </tr>\n",
              "  </tbody>\n",
              "</table>\n",
              "</div>\n",
              "      <button class=\"colab-df-convert\" onclick=\"convertToInteractive('df-aee9d523-7247-478c-96d9-03d02481e74f')\"\n",
              "              title=\"Convert this dataframe to an interactive table.\"\n",
              "              style=\"display:none;\">\n",
              "        \n",
              "  <svg xmlns=\"http://www.w3.org/2000/svg\" height=\"24px\"viewBox=\"0 0 24 24\"\n",
              "       width=\"24px\">\n",
              "    <path d=\"M0 0h24v24H0V0z\" fill=\"none\"/>\n",
              "    <path d=\"M18.56 5.44l.94 2.06.94-2.06 2.06-.94-2.06-.94-.94-2.06-.94 2.06-2.06.94zm-11 1L8.5 8.5l.94-2.06 2.06-.94-2.06-.94L8.5 2.5l-.94 2.06-2.06.94zm10 10l.94 2.06.94-2.06 2.06-.94-2.06-.94-.94-2.06-.94 2.06-2.06.94z\"/><path d=\"M17.41 7.96l-1.37-1.37c-.4-.4-.92-.59-1.43-.59-.52 0-1.04.2-1.43.59L10.3 9.45l-7.72 7.72c-.78.78-.78 2.05 0 2.83L4 21.41c.39.39.9.59 1.41.59.51 0 1.02-.2 1.41-.59l7.78-7.78 2.81-2.81c.8-.78.8-2.07 0-2.86zM5.41 20L4 18.59l7.72-7.72 1.47 1.35L5.41 20z\"/>\n",
              "  </svg>\n",
              "      </button>\n",
              "      \n",
              "  <style>\n",
              "    .colab-df-container {\n",
              "      display:flex;\n",
              "      flex-wrap:wrap;\n",
              "      gap: 12px;\n",
              "    }\n",
              "\n",
              "    .colab-df-convert {\n",
              "      background-color: #E8F0FE;\n",
              "      border: none;\n",
              "      border-radius: 50%;\n",
              "      cursor: pointer;\n",
              "      display: none;\n",
              "      fill: #1967D2;\n",
              "      height: 32px;\n",
              "      padding: 0 0 0 0;\n",
              "      width: 32px;\n",
              "    }\n",
              "\n",
              "    .colab-df-convert:hover {\n",
              "      background-color: #E2EBFA;\n",
              "      box-shadow: 0px 1px 2px rgba(60, 64, 67, 0.3), 0px 1px 3px 1px rgba(60, 64, 67, 0.15);\n",
              "      fill: #174EA6;\n",
              "    }\n",
              "\n",
              "    [theme=dark] .colab-df-convert {\n",
              "      background-color: #3B4455;\n",
              "      fill: #D2E3FC;\n",
              "    }\n",
              "\n",
              "    [theme=dark] .colab-df-convert:hover {\n",
              "      background-color: #434B5C;\n",
              "      box-shadow: 0px 1px 3px 1px rgba(0, 0, 0, 0.15);\n",
              "      filter: drop-shadow(0px 1px 2px rgba(0, 0, 0, 0.3));\n",
              "      fill: #FFFFFF;\n",
              "    }\n",
              "  </style>\n",
              "\n",
              "      <script>\n",
              "        const buttonEl =\n",
              "          document.querySelector('#df-aee9d523-7247-478c-96d9-03d02481e74f button.colab-df-convert');\n",
              "        buttonEl.style.display =\n",
              "          google.colab.kernel.accessAllowed ? 'block' : 'none';\n",
              "\n",
              "        async function convertToInteractive(key) {\n",
              "          const element = document.querySelector('#df-aee9d523-7247-478c-96d9-03d02481e74f');\n",
              "          const dataTable =\n",
              "            await google.colab.kernel.invokeFunction('convertToInteractive',\n",
              "                                                     [key], {});\n",
              "          if (!dataTable) return;\n",
              "\n",
              "          const docLinkHtml = 'Like what you see? Visit the ' +\n",
              "            '<a target=\"_blank\" href=https://colab.research.google.com/notebooks/data_table.ipynb>data table notebook</a>'\n",
              "            + ' to learn more about interactive tables.';\n",
              "          element.innerHTML = '';\n",
              "          dataTable['output_type'] = 'display_data';\n",
              "          await google.colab.output.renderOutput(dataTable, element);\n",
              "          const docLink = document.createElement('div');\n",
              "          docLink.innerHTML = docLinkHtml;\n",
              "          element.appendChild(docLink);\n",
              "        }\n",
              "      </script>\n",
              "    </div>\n",
              "  </div>\n",
              "  "
            ]
          },
          "metadata": {}
        },
        {
          "output_type": "stream",
          "name": "stdout",
          "text": [
            "\n",
            "\n",
            "                           Metrics sur le Test set\n"
          ]
        },
        {
          "output_type": "display_data",
          "data": {
            "text/plain": [
              "                           MSE    RMSE    MAE    R2\n",
              "Linear Regression    19324.040  139.01  63.04  0.56\n",
              "Elastic Net          37459.760  193.55  85.61  0.15\n",
              "Linear SVR           35682.754  188.90  85.77  0.19\n",
              "RandomForest         19531.043  139.75  56.82  0.55\n",
              "ExtraTree Regressor  13306.783  115.36  51.23  0.70\n",
              "GradientBoost         8308.751   91.15  44.29  0.81"
            ],
            "text/html": [
              "\n",
              "  <div id=\"df-ef559069-72b6-448b-a8b1-ad8a93784b95\">\n",
              "    <div class=\"colab-df-container\">\n",
              "      <div>\n",
              "<style scoped>\n",
              "    .dataframe tbody tr th:only-of-type {\n",
              "        vertical-align: middle;\n",
              "    }\n",
              "\n",
              "    .dataframe tbody tr th {\n",
              "        vertical-align: top;\n",
              "    }\n",
              "\n",
              "    .dataframe thead th {\n",
              "        text-align: right;\n",
              "    }\n",
              "</style>\n",
              "<table border=\"1\" class=\"dataframe\">\n",
              "  <thead>\n",
              "    <tr style=\"text-align: right;\">\n",
              "      <th></th>\n",
              "      <th>MSE</th>\n",
              "      <th>RMSE</th>\n",
              "      <th>MAE</th>\n",
              "      <th>R2</th>\n",
              "    </tr>\n",
              "  </thead>\n",
              "  <tbody>\n",
              "    <tr>\n",
              "      <th>Linear Regression</th>\n",
              "      <td>19324.040</td>\n",
              "      <td>139.01</td>\n",
              "      <td>63.04</td>\n",
              "      <td>0.56</td>\n",
              "    </tr>\n",
              "    <tr>\n",
              "      <th>Elastic Net</th>\n",
              "      <td>37459.760</td>\n",
              "      <td>193.55</td>\n",
              "      <td>85.61</td>\n",
              "      <td>0.15</td>\n",
              "    </tr>\n",
              "    <tr>\n",
              "      <th>Linear SVR</th>\n",
              "      <td>35682.754</td>\n",
              "      <td>188.90</td>\n",
              "      <td>85.77</td>\n",
              "      <td>0.19</td>\n",
              "    </tr>\n",
              "    <tr>\n",
              "      <th>RandomForest</th>\n",
              "      <td>19531.043</td>\n",
              "      <td>139.75</td>\n",
              "      <td>56.82</td>\n",
              "      <td>0.55</td>\n",
              "    </tr>\n",
              "    <tr>\n",
              "      <th>ExtraTree Regressor</th>\n",
              "      <td>13306.783</td>\n",
              "      <td>115.36</td>\n",
              "      <td>51.23</td>\n",
              "      <td>0.70</td>\n",
              "    </tr>\n",
              "    <tr>\n",
              "      <th>GradientBoost</th>\n",
              "      <td>8308.751</td>\n",
              "      <td>91.15</td>\n",
              "      <td>44.29</td>\n",
              "      <td>0.81</td>\n",
              "    </tr>\n",
              "  </tbody>\n",
              "</table>\n",
              "</div>\n",
              "      <button class=\"colab-df-convert\" onclick=\"convertToInteractive('df-ef559069-72b6-448b-a8b1-ad8a93784b95')\"\n",
              "              title=\"Convert this dataframe to an interactive table.\"\n",
              "              style=\"display:none;\">\n",
              "        \n",
              "  <svg xmlns=\"http://www.w3.org/2000/svg\" height=\"24px\"viewBox=\"0 0 24 24\"\n",
              "       width=\"24px\">\n",
              "    <path d=\"M0 0h24v24H0V0z\" fill=\"none\"/>\n",
              "    <path d=\"M18.56 5.44l.94 2.06.94-2.06 2.06-.94-2.06-.94-.94-2.06-.94 2.06-2.06.94zm-11 1L8.5 8.5l.94-2.06 2.06-.94-2.06-.94L8.5 2.5l-.94 2.06-2.06.94zm10 10l.94 2.06.94-2.06 2.06-.94-2.06-.94-.94-2.06-.94 2.06-2.06.94z\"/><path d=\"M17.41 7.96l-1.37-1.37c-.4-.4-.92-.59-1.43-.59-.52 0-1.04.2-1.43.59L10.3 9.45l-7.72 7.72c-.78.78-.78 2.05 0 2.83L4 21.41c.39.39.9.59 1.41.59.51 0 1.02-.2 1.41-.59l7.78-7.78 2.81-2.81c.8-.78.8-2.07 0-2.86zM5.41 20L4 18.59l7.72-7.72 1.47 1.35L5.41 20z\"/>\n",
              "  </svg>\n",
              "      </button>\n",
              "      \n",
              "  <style>\n",
              "    .colab-df-container {\n",
              "      display:flex;\n",
              "      flex-wrap:wrap;\n",
              "      gap: 12px;\n",
              "    }\n",
              "\n",
              "    .colab-df-convert {\n",
              "      background-color: #E8F0FE;\n",
              "      border: none;\n",
              "      border-radius: 50%;\n",
              "      cursor: pointer;\n",
              "      display: none;\n",
              "      fill: #1967D2;\n",
              "      height: 32px;\n",
              "      padding: 0 0 0 0;\n",
              "      width: 32px;\n",
              "    }\n",
              "\n",
              "    .colab-df-convert:hover {\n",
              "      background-color: #E2EBFA;\n",
              "      box-shadow: 0px 1px 2px rgba(60, 64, 67, 0.3), 0px 1px 3px 1px rgba(60, 64, 67, 0.15);\n",
              "      fill: #174EA6;\n",
              "    }\n",
              "\n",
              "    [theme=dark] .colab-df-convert {\n",
              "      background-color: #3B4455;\n",
              "      fill: #D2E3FC;\n",
              "    }\n",
              "\n",
              "    [theme=dark] .colab-df-convert:hover {\n",
              "      background-color: #434B5C;\n",
              "      box-shadow: 0px 1px 3px 1px rgba(0, 0, 0, 0.15);\n",
              "      filter: drop-shadow(0px 1px 2px rgba(0, 0, 0, 0.3));\n",
              "      fill: #FFFFFF;\n",
              "    }\n",
              "  </style>\n",
              "\n",
              "      <script>\n",
              "        const buttonEl =\n",
              "          document.querySelector('#df-ef559069-72b6-448b-a8b1-ad8a93784b95 button.colab-df-convert');\n",
              "        buttonEl.style.display =\n",
              "          google.colab.kernel.accessAllowed ? 'block' : 'none';\n",
              "\n",
              "        async function convertToInteractive(key) {\n",
              "          const element = document.querySelector('#df-ef559069-72b6-448b-a8b1-ad8a93784b95');\n",
              "          const dataTable =\n",
              "            await google.colab.kernel.invokeFunction('convertToInteractive',\n",
              "                                                     [key], {});\n",
              "          if (!dataTable) return;\n",
              "\n",
              "          const docLinkHtml = 'Like what you see? Visit the ' +\n",
              "            '<a target=\"_blank\" href=https://colab.research.google.com/notebooks/data_table.ipynb>data table notebook</a>'\n",
              "            + ' to learn more about interactive tables.';\n",
              "          element.innerHTML = '';\n",
              "          dataTable['output_type'] = 'display_data';\n",
              "          await google.colab.output.renderOutput(dataTable, element);\n",
              "          const docLink = document.createElement('div');\n",
              "          docLink.innerHTML = docLinkHtml;\n",
              "          element.appendChild(docLink);\n",
              "        }\n",
              "      </script>\n",
              "    </div>\n",
              "  </div>\n",
              "  "
            ]
          },
          "metadata": {}
        }
      ]
    },
    {
      "cell_type": "markdown",
      "source": [
        "Avec les résultats ci-dessus, on voit  que le modèle GradientBoost offre le meilleur score **MAE**  (environ 44) et un meilleur $R^2$ (~0.81) . On rentiendra ce modèle pour la modélisation de la \n",
        "variable **TotalGHGEmissions** est donc le modèle GradientBoost."
      ],
      "metadata": {
        "id": "1zlWT-u1nxjK"
      }
    },
    {
      "cell_type": "markdown",
      "metadata": {
        "id": "Q5pSbt6tzfYB"
      },
      "source": [
        "### Temps d'entrainement de chaque modèles\n",
        "---"
      ]
    },
    {
      "cell_type": "code",
      "execution_count": 89,
      "metadata": {
        "colab": {
          "base_uri": "https://localhost:8080/",
          "height": 417
        },
        "id": "rI4_tDO-aS3F",
        "outputId": "bfe9194e-bb89-43da-e321-6312294de14a"
      },
      "outputs": [
        {
          "output_type": "display_data",
          "data": {
            "text/html": [
              "<html>\n",
              "<head><meta charset=\"utf-8\" /></head>\n",
              "<body>\n",
              "    <div>            <script src=\"https://cdnjs.cloudflare.com/ajax/libs/mathjax/2.7.5/MathJax.js?config=TeX-AMS-MML_SVG\"></script><script type=\"text/javascript\">if (window.MathJax) {MathJax.Hub.Config({SVG: {font: \"STIX-Web\"}});}</script>                <script type=\"text/javascript\">window.PlotlyConfig = {MathJaxConfig: 'local'};</script>\n",
              "        <script src=\"https://cdn.plot.ly/plotly-2.8.3.min.js\"></script>                <div id=\"2b72a435-8f53-4bc5-828f-21030dc34cb6\" class=\"plotly-graph-div\" style=\"height:400px; width:700px;\"></div>            <script type=\"text/javascript\">                                    window.PLOTLYENV=window.PLOTLYENV || {};                                    if (document.getElementById(\"2b72a435-8f53-4bc5-828f-21030dc34cb6\")) {                    Plotly.newPlot(                        \"2b72a435-8f53-4bc5-828f-21030dc34cb6\",                        [{\"name\":\"temps entrainement\",\"x\":[\"LinearRegression\",\"ElasticNet\",\"Linear SVR\",\"RandomForest\",\"Extratree Regressor\",\"GradientBoost\"],\"y\":[0.040678787231445315,0.033273935317993164,0.018321800231933593,0.5396956443786621,1.9670413970947265,1.1632654666900635],\"type\":\"bar\"}],                        {\"template\":{\"data\":{\"bar\":[{\"error_x\":{\"color\":\"#2a3f5f\"},\"error_y\":{\"color\":\"#2a3f5f\"},\"marker\":{\"line\":{\"color\":\"#E5ECF6\",\"width\":0.5},\"pattern\":{\"fillmode\":\"overlay\",\"size\":10,\"solidity\":0.2}},\"type\":\"bar\"}],\"barpolar\":[{\"marker\":{\"line\":{\"color\":\"#E5ECF6\",\"width\":0.5},\"pattern\":{\"fillmode\":\"overlay\",\"size\":10,\"solidity\":0.2}},\"type\":\"barpolar\"}],\"carpet\":[{\"aaxis\":{\"endlinecolor\":\"#2a3f5f\",\"gridcolor\":\"white\",\"linecolor\":\"white\",\"minorgridcolor\":\"white\",\"startlinecolor\":\"#2a3f5f\"},\"baxis\":{\"endlinecolor\":\"#2a3f5f\",\"gridcolor\":\"white\",\"linecolor\":\"white\",\"minorgridcolor\":\"white\",\"startlinecolor\":\"#2a3f5f\"},\"type\":\"carpet\"}],\"choropleth\":[{\"colorbar\":{\"outlinewidth\":0,\"ticks\":\"\"},\"type\":\"choropleth\"}],\"contour\":[{\"colorbar\":{\"outlinewidth\":0,\"ticks\":\"\"},\"colorscale\":[[0.0,\"#0d0887\"],[0.1111111111111111,\"#46039f\"],[0.2222222222222222,\"#7201a8\"],[0.3333333333333333,\"#9c179e\"],[0.4444444444444444,\"#bd3786\"],[0.5555555555555556,\"#d8576b\"],[0.6666666666666666,\"#ed7953\"],[0.7777777777777778,\"#fb9f3a\"],[0.8888888888888888,\"#fdca26\"],[1.0,\"#f0f921\"]],\"type\":\"contour\"}],\"contourcarpet\":[{\"colorbar\":{\"outlinewidth\":0,\"ticks\":\"\"},\"type\":\"contourcarpet\"}],\"heatmap\":[{\"colorbar\":{\"outlinewidth\":0,\"ticks\":\"\"},\"colorscale\":[[0.0,\"#0d0887\"],[0.1111111111111111,\"#46039f\"],[0.2222222222222222,\"#7201a8\"],[0.3333333333333333,\"#9c179e\"],[0.4444444444444444,\"#bd3786\"],[0.5555555555555556,\"#d8576b\"],[0.6666666666666666,\"#ed7953\"],[0.7777777777777778,\"#fb9f3a\"],[0.8888888888888888,\"#fdca26\"],[1.0,\"#f0f921\"]],\"type\":\"heatmap\"}],\"heatmapgl\":[{\"colorbar\":{\"outlinewidth\":0,\"ticks\":\"\"},\"colorscale\":[[0.0,\"#0d0887\"],[0.1111111111111111,\"#46039f\"],[0.2222222222222222,\"#7201a8\"],[0.3333333333333333,\"#9c179e\"],[0.4444444444444444,\"#bd3786\"],[0.5555555555555556,\"#d8576b\"],[0.6666666666666666,\"#ed7953\"],[0.7777777777777778,\"#fb9f3a\"],[0.8888888888888888,\"#fdca26\"],[1.0,\"#f0f921\"]],\"type\":\"heatmapgl\"}],\"histogram\":[{\"marker\":{\"pattern\":{\"fillmode\":\"overlay\",\"size\":10,\"solidity\":0.2}},\"type\":\"histogram\"}],\"histogram2d\":[{\"colorbar\":{\"outlinewidth\":0,\"ticks\":\"\"},\"colorscale\":[[0.0,\"#0d0887\"],[0.1111111111111111,\"#46039f\"],[0.2222222222222222,\"#7201a8\"],[0.3333333333333333,\"#9c179e\"],[0.4444444444444444,\"#bd3786\"],[0.5555555555555556,\"#d8576b\"],[0.6666666666666666,\"#ed7953\"],[0.7777777777777778,\"#fb9f3a\"],[0.8888888888888888,\"#fdca26\"],[1.0,\"#f0f921\"]],\"type\":\"histogram2d\"}],\"histogram2dcontour\":[{\"colorbar\":{\"outlinewidth\":0,\"ticks\":\"\"},\"colorscale\":[[0.0,\"#0d0887\"],[0.1111111111111111,\"#46039f\"],[0.2222222222222222,\"#7201a8\"],[0.3333333333333333,\"#9c179e\"],[0.4444444444444444,\"#bd3786\"],[0.5555555555555556,\"#d8576b\"],[0.6666666666666666,\"#ed7953\"],[0.7777777777777778,\"#fb9f3a\"],[0.8888888888888888,\"#fdca26\"],[1.0,\"#f0f921\"]],\"type\":\"histogram2dcontour\"}],\"mesh3d\":[{\"colorbar\":{\"outlinewidth\":0,\"ticks\":\"\"},\"type\":\"mesh3d\"}],\"parcoords\":[{\"line\":{\"colorbar\":{\"outlinewidth\":0,\"ticks\":\"\"}},\"type\":\"parcoords\"}],\"pie\":[{\"automargin\":true,\"type\":\"pie\"}],\"scatter\":[{\"marker\":{\"colorbar\":{\"outlinewidth\":0,\"ticks\":\"\"}},\"type\":\"scatter\"}],\"scatter3d\":[{\"line\":{\"colorbar\":{\"outlinewidth\":0,\"ticks\":\"\"}},\"marker\":{\"colorbar\":{\"outlinewidth\":0,\"ticks\":\"\"}},\"type\":\"scatter3d\"}],\"scattercarpet\":[{\"marker\":{\"colorbar\":{\"outlinewidth\":0,\"ticks\":\"\"}},\"type\":\"scattercarpet\"}],\"scattergeo\":[{\"marker\":{\"colorbar\":{\"outlinewidth\":0,\"ticks\":\"\"}},\"type\":\"scattergeo\"}],\"scattergl\":[{\"marker\":{\"colorbar\":{\"outlinewidth\":0,\"ticks\":\"\"}},\"type\":\"scattergl\"}],\"scattermapbox\":[{\"marker\":{\"colorbar\":{\"outlinewidth\":0,\"ticks\":\"\"}},\"type\":\"scattermapbox\"}],\"scatterpolar\":[{\"marker\":{\"colorbar\":{\"outlinewidth\":0,\"ticks\":\"\"}},\"type\":\"scatterpolar\"}],\"scatterpolargl\":[{\"marker\":{\"colorbar\":{\"outlinewidth\":0,\"ticks\":\"\"}},\"type\":\"scatterpolargl\"}],\"scatterternary\":[{\"marker\":{\"colorbar\":{\"outlinewidth\":0,\"ticks\":\"\"}},\"type\":\"scatterternary\"}],\"surface\":[{\"colorbar\":{\"outlinewidth\":0,\"ticks\":\"\"},\"colorscale\":[[0.0,\"#0d0887\"],[0.1111111111111111,\"#46039f\"],[0.2222222222222222,\"#7201a8\"],[0.3333333333333333,\"#9c179e\"],[0.4444444444444444,\"#bd3786\"],[0.5555555555555556,\"#d8576b\"],[0.6666666666666666,\"#ed7953\"],[0.7777777777777778,\"#fb9f3a\"],[0.8888888888888888,\"#fdca26\"],[1.0,\"#f0f921\"]],\"type\":\"surface\"}],\"table\":[{\"cells\":{\"fill\":{\"color\":\"#EBF0F8\"},\"line\":{\"color\":\"white\"}},\"header\":{\"fill\":{\"color\":\"#C8D4E3\"},\"line\":{\"color\":\"white\"}},\"type\":\"table\"}]},\"layout\":{\"annotationdefaults\":{\"arrowcolor\":\"#2a3f5f\",\"arrowhead\":0,\"arrowwidth\":1},\"autotypenumbers\":\"strict\",\"coloraxis\":{\"colorbar\":{\"outlinewidth\":0,\"ticks\":\"\"}},\"colorscale\":{\"diverging\":[[0,\"#8e0152\"],[0.1,\"#c51b7d\"],[0.2,\"#de77ae\"],[0.3,\"#f1b6da\"],[0.4,\"#fde0ef\"],[0.5,\"#f7f7f7\"],[0.6,\"#e6f5d0\"],[0.7,\"#b8e186\"],[0.8,\"#7fbc41\"],[0.9,\"#4d9221\"],[1,\"#276419\"]],\"sequential\":[[0.0,\"#0d0887\"],[0.1111111111111111,\"#46039f\"],[0.2222222222222222,\"#7201a8\"],[0.3333333333333333,\"#9c179e\"],[0.4444444444444444,\"#bd3786\"],[0.5555555555555556,\"#d8576b\"],[0.6666666666666666,\"#ed7953\"],[0.7777777777777778,\"#fb9f3a\"],[0.8888888888888888,\"#fdca26\"],[1.0,\"#f0f921\"]],\"sequentialminus\":[[0.0,\"#0d0887\"],[0.1111111111111111,\"#46039f\"],[0.2222222222222222,\"#7201a8\"],[0.3333333333333333,\"#9c179e\"],[0.4444444444444444,\"#bd3786\"],[0.5555555555555556,\"#d8576b\"],[0.6666666666666666,\"#ed7953\"],[0.7777777777777778,\"#fb9f3a\"],[0.8888888888888888,\"#fdca26\"],[1.0,\"#f0f921\"]]},\"colorway\":[\"#636efa\",\"#EF553B\",\"#00cc96\",\"#ab63fa\",\"#FFA15A\",\"#19d3f3\",\"#FF6692\",\"#B6E880\",\"#FF97FF\",\"#FECB52\"],\"font\":{\"color\":\"#2a3f5f\"},\"geo\":{\"bgcolor\":\"white\",\"lakecolor\":\"white\",\"landcolor\":\"#E5ECF6\",\"showlakes\":true,\"showland\":true,\"subunitcolor\":\"white\"},\"hoverlabel\":{\"align\":\"left\"},\"hovermode\":\"closest\",\"mapbox\":{\"style\":\"light\"},\"paper_bgcolor\":\"white\",\"plot_bgcolor\":\"#E5ECF6\",\"polar\":{\"angularaxis\":{\"gridcolor\":\"white\",\"linecolor\":\"white\",\"ticks\":\"\"},\"bgcolor\":\"#E5ECF6\",\"radialaxis\":{\"gridcolor\":\"white\",\"linecolor\":\"white\",\"ticks\":\"\"}},\"scene\":{\"xaxis\":{\"backgroundcolor\":\"#E5ECF6\",\"gridcolor\":\"white\",\"gridwidth\":2,\"linecolor\":\"white\",\"showbackground\":true,\"ticks\":\"\",\"zerolinecolor\":\"white\"},\"yaxis\":{\"backgroundcolor\":\"#E5ECF6\",\"gridcolor\":\"white\",\"gridwidth\":2,\"linecolor\":\"white\",\"showbackground\":true,\"ticks\":\"\",\"zerolinecolor\":\"white\"},\"zaxis\":{\"backgroundcolor\":\"#E5ECF6\",\"gridcolor\":\"white\",\"gridwidth\":2,\"linecolor\":\"white\",\"showbackground\":true,\"ticks\":\"\",\"zerolinecolor\":\"white\"}},\"shapedefaults\":{\"line\":{\"color\":\"#2a3f5f\"}},\"ternary\":{\"aaxis\":{\"gridcolor\":\"white\",\"linecolor\":\"white\",\"ticks\":\"\"},\"baxis\":{\"gridcolor\":\"white\",\"linecolor\":\"white\",\"ticks\":\"\"},\"bgcolor\":\"#E5ECF6\",\"caxis\":{\"gridcolor\":\"white\",\"linecolor\":\"white\",\"ticks\":\"\"}},\"title\":{\"x\":0.05},\"xaxis\":{\"automargin\":true,\"gridcolor\":\"white\",\"linecolor\":\"white\",\"ticks\":\"\",\"title\":{\"standoff\":15},\"zerolinecolor\":\"white\",\"zerolinewidth\":2},\"yaxis\":{\"automargin\":true,\"gridcolor\":\"white\",\"linecolor\":\"white\",\"ticks\":\"\",\"title\":{\"standoff\":15},\"zerolinecolor\":\"white\",\"zerolinewidth\":2}}},\"barmode\":\"group\",\"autosize\":false,\"width\":700,\"height\":400},                        {\"responsive\": true}                    ).then(function(){\n",
              "                            \n",
              "var gd = document.getElementById('2b72a435-8f53-4bc5-828f-21030dc34cb6');\n",
              "var x = new MutationObserver(function (mutations, observer) {{\n",
              "        var display = window.getComputedStyle(gd).display;\n",
              "        if (!display || display === 'none') {{\n",
              "            console.log([gd, 'removed!']);\n",
              "            Plotly.purge(gd);\n",
              "            observer.disconnect();\n",
              "        }}\n",
              "}});\n",
              "\n",
              "// Listen for the removal of the full notebook cells\n",
              "var notebookContainer = gd.closest('#notebook-container');\n",
              "if (notebookContainer) {{\n",
              "    x.observe(notebookContainer, {childList: true});\n",
              "}}\n",
              "\n",
              "// Listen for the clearing of the current output cell\n",
              "var outputEl = gd.closest('.output');\n",
              "if (outputEl) {{\n",
              "    x.observe(outputEl, {childList: true});\n",
              "}}\n",
              "\n",
              "                        })                };                            </script>        </div>\n",
              "</body>\n",
              "</html>"
            ]
          },
          "metadata": {}
        }
      ],
      "source": [
        "import plotly.graph_objects as go\n",
        "fig = go.Figure([ go.Bar(name='temps entrainement',x=R['Modèles'], y=R['fit time'])])\n",
        "fig.update_layout(barmode='group',autosize=False, width=700, height=400)\n",
        "\n",
        "fig.show()"
      ]
    },
    {
      "cell_type": "markdown",
      "metadata": {
        "id": "ar69QiVzpECt"
      },
      "source": [
        "Observons les scores obtenus sur les différents splits de la Cross-validation du GridSearch."
      ]
    },
    {
      "cell_type": "markdown",
      "metadata": {
        "id": "29syXkGJqSq1"
      },
      "source": [
        "### Code pour tracer les performances sur train et le test set de la cross validation du grid search"
      ]
    },
    {
      "cell_type": "code",
      "execution_count": 90,
      "metadata": {
        "id": "t7cC92BQo3Of"
      },
      "outputs": [],
      "source": [
        "import plotly.express as px\n",
        "def trace_mae(mymodel) :\n",
        "  t1=pd.DataFrame(mymodel.cv_results_)[[\"split0_train_neg_mean_absolute_error\",\t\"split1_train_neg_mean_absolute_error\",\"split2_train_neg_mean_absolute_error\",\t\"split3_train_neg_mean_absolute_error\",\t\"split4_train_neg_mean_absolute_error\"\t,\"rank_test_neg_mean_absolute_error\"]].sort_values(by='rank_test_neg_mean_absolute_error').head(1)\n",
        "  t1=pd.DataFrame(mymodel.cv_results_)[[\"split0_train_neg_mean_absolute_error\",\t\"split1_train_neg_mean_absolute_error\",\"split2_train_neg_mean_absolute_error\",\t\"split3_train_neg_mean_absolute_error\",\"split4_train_neg_mean_absolute_error\"]]\n",
        "  t2= pd.DataFrame(mymodel.cv_results_)[[\"split0_test_neg_mean_absolute_error\",\t\"split1_test_neg_mean_absolute_error\",\"split2_test_neg_mean_absolute_error\",\t\"split3_test_neg_mean_absolute_error\",\t\"split4_test_neg_mean_absolute_error\"\t,\"rank_test_neg_mean_absolute_error\"]].sort_values(by='rank_test_neg_mean_absolute_error').head(1)\n",
        "  t2= pd.DataFrame(mymodel.cv_results_)[[\"split0_test_neg_mean_absolute_error\",\t\"split1_test_neg_mean_absolute_error\",\"split2_test_neg_mean_absolute_error\",\t\"split3_test_neg_mean_absolute_error\",\t\"split4_test_neg_mean_absolute_error\"]]\n",
        "\n",
        "  df1_transposed = t1.T\n",
        "  df1_transposed \n",
        "  df2_transposed = t2.T\n",
        "  final=pd.concat ([df1_transposed,df2_transposed ])\n",
        "  final[\"Split_cross validation\"] = list(range(nb_split)) + list(range(nb_split))\n",
        "  final.rename(columns={0: \"MAE\"}, inplace=True)\n",
        "  final=final.reset_index()\n",
        "  final [\"color\"] = np.where( final[\"index\"].str.contains(\"test\"), \"test\", \"train\")\n",
        "  final\n",
        "\n",
        "  fig = px.line( final, x='Split_cross validation',y='MAE', color='color', symbol=\"color\",width=800, height=400)\n",
        "  fig.show()\n",
        "\n",
        "def trace_r2(mymodel) :\n",
        "    t1=pd.DataFrame(mymodel.cv_results_)[[\"split0_train_r2\",\t\"split1_train_r2\",\"split2_train_r2\",\t\"split3_train_r2\",\t\"split4_train_r2\"\t,\"rank_test_neg_mean_absolute_error\"]].sort_values(by='rank_test_neg_mean_absolute_error').head(1)\n",
        "    t1=pd.DataFrame(mymodel.cv_results_)[[\"split0_train_r2\",\t\"split1_train_r2\",\"split2_train_r2\",\t\"split3_train_r2\",\"split4_train_r2\"]]\n",
        "    t2= pd.DataFrame(mymodel.cv_results_)[[\"split0_test_r2\",\t\"split1_test_r2\",\"split2_test_r2\",\t\"split3_test_r2\",\t\"split4_test_r2\"\t,\"rank_test_neg_mean_absolute_error\"]].sort_values(by='rank_test_neg_mean_absolute_error').head(1)\n",
        "    t2= pd.DataFrame(mymodel.cv_results_)[[\"split0_test_r2\",\t\"split1_test_r2\",\"split2_test_r2\",\t\"split3_test_r2\",\t\"split4_test_r2\"]]\n",
        "\n",
        "    df1_transposed = t1.T\n",
        "    df1_transposed \n",
        "    df2_transposed = t2.T\n",
        "    final=pd.concat ([df1_transposed,df2_transposed ])\n",
        "    final[\"Split_cross validation\"] = list(range(nb_split)) + list(range(nb_split))\n",
        "    final.rename(columns={0: \"R2\"}, inplace=True)\n",
        "    final=final.reset_index()\n",
        "    final [\"color\"] = np.where( final[\"index\"].str.contains(\"test\"), \"test\", \"train\")\n",
        "    final\n",
        "\n",
        "    fig = px.line( final, x='Split_cross validation',y='R2', color='color', symbol=\"color\",width=800, height=400)\n",
        "    fig.show()\n",
        "\n"
      ]
    },
    {
      "cell_type": "markdown",
      "metadata": {
        "id": "BwjXW9cHq0IU"
      },
      "source": [
        "### Performance de notre modèle selectionné dans le train et le test set de  chaque split de la crossvalidation du Gridsearch"
      ]
    },
    {
      "cell_type": "code",
      "execution_count": 91,
      "metadata": {
        "colab": {
          "base_uri": "https://localhost:8080/",
          "height": 817
        },
        "id": "Y4UpBIZDqoHu",
        "outputId": "fe5b09bc-2a69-42c9-8d5d-1e427feeeb5a"
      },
      "outputs": [
        {
          "output_type": "display_data",
          "data": {
            "text/html": [
              "<html>\n",
              "<head><meta charset=\"utf-8\" /></head>\n",
              "<body>\n",
              "    <div>            <script src=\"https://cdnjs.cloudflare.com/ajax/libs/mathjax/2.7.5/MathJax.js?config=TeX-AMS-MML_SVG\"></script><script type=\"text/javascript\">if (window.MathJax) {MathJax.Hub.Config({SVG: {font: \"STIX-Web\"}});}</script>                <script type=\"text/javascript\">window.PlotlyConfig = {MathJaxConfig: 'local'};</script>\n",
              "        <script src=\"https://cdn.plot.ly/plotly-2.8.3.min.js\"></script>                <div id=\"513f73cc-26f0-4860-81e8-455331dd81ff\" class=\"plotly-graph-div\" style=\"height:400px; width:800px;\"></div>            <script type=\"text/javascript\">                                    window.PLOTLYENV=window.PLOTLYENV || {};                                    if (document.getElementById(\"513f73cc-26f0-4860-81e8-455331dd81ff\")) {                    Plotly.newPlot(                        \"513f73cc-26f0-4860-81e8-455331dd81ff\",                        [{\"hovertemplate\":\"color=train<br>Split_cross validation=%{x}<br>MAE=%{y}<extra></extra>\",\"legendgroup\":\"train\",\"line\":{\"color\":\"#636efa\",\"dash\":\"solid\"},\"marker\":{\"symbol\":\"circle\"},\"mode\":\"markers+lines\",\"name\":\"train\",\"orientation\":\"v\",\"showlegend\":true,\"x\":[0,1,2,3,4],\"xaxis\":\"x\",\"y\":[-42.64885009702703,-45.37345344780675,-46.977277086236015,-43.651360395104696,-47.0885817179842],\"yaxis\":\"y\",\"type\":\"scatter\"},{\"hovertemplate\":\"color=test<br>Split_cross validation=%{x}<br>MAE=%{y}<extra></extra>\",\"legendgroup\":\"test\",\"line\":{\"color\":\"#EF553B\",\"dash\":\"solid\"},\"marker\":{\"symbol\":\"diamond\"},\"mode\":\"markers+lines\",\"name\":\"test\",\"orientation\":\"v\",\"showlegend\":true,\"x\":[0,1,2,3,4],\"xaxis\":\"x\",\"y\":[-80.33906764663936,-65.51448204545714,-80.18594694233633,-117.71646529781576,-70.10431483686172],\"yaxis\":\"y\",\"type\":\"scatter\"}],                        {\"template\":{\"data\":{\"bar\":[{\"error_x\":{\"color\":\"#2a3f5f\"},\"error_y\":{\"color\":\"#2a3f5f\"},\"marker\":{\"line\":{\"color\":\"#E5ECF6\",\"width\":0.5},\"pattern\":{\"fillmode\":\"overlay\",\"size\":10,\"solidity\":0.2}},\"type\":\"bar\"}],\"barpolar\":[{\"marker\":{\"line\":{\"color\":\"#E5ECF6\",\"width\":0.5},\"pattern\":{\"fillmode\":\"overlay\",\"size\":10,\"solidity\":0.2}},\"type\":\"barpolar\"}],\"carpet\":[{\"aaxis\":{\"endlinecolor\":\"#2a3f5f\",\"gridcolor\":\"white\",\"linecolor\":\"white\",\"minorgridcolor\":\"white\",\"startlinecolor\":\"#2a3f5f\"},\"baxis\":{\"endlinecolor\":\"#2a3f5f\",\"gridcolor\":\"white\",\"linecolor\":\"white\",\"minorgridcolor\":\"white\",\"startlinecolor\":\"#2a3f5f\"},\"type\":\"carpet\"}],\"choropleth\":[{\"colorbar\":{\"outlinewidth\":0,\"ticks\":\"\"},\"type\":\"choropleth\"}],\"contour\":[{\"colorbar\":{\"outlinewidth\":0,\"ticks\":\"\"},\"colorscale\":[[0.0,\"#0d0887\"],[0.1111111111111111,\"#46039f\"],[0.2222222222222222,\"#7201a8\"],[0.3333333333333333,\"#9c179e\"],[0.4444444444444444,\"#bd3786\"],[0.5555555555555556,\"#d8576b\"],[0.6666666666666666,\"#ed7953\"],[0.7777777777777778,\"#fb9f3a\"],[0.8888888888888888,\"#fdca26\"],[1.0,\"#f0f921\"]],\"type\":\"contour\"}],\"contourcarpet\":[{\"colorbar\":{\"outlinewidth\":0,\"ticks\":\"\"},\"type\":\"contourcarpet\"}],\"heatmap\":[{\"colorbar\":{\"outlinewidth\":0,\"ticks\":\"\"},\"colorscale\":[[0.0,\"#0d0887\"],[0.1111111111111111,\"#46039f\"],[0.2222222222222222,\"#7201a8\"],[0.3333333333333333,\"#9c179e\"],[0.4444444444444444,\"#bd3786\"],[0.5555555555555556,\"#d8576b\"],[0.6666666666666666,\"#ed7953\"],[0.7777777777777778,\"#fb9f3a\"],[0.8888888888888888,\"#fdca26\"],[1.0,\"#f0f921\"]],\"type\":\"heatmap\"}],\"heatmapgl\":[{\"colorbar\":{\"outlinewidth\":0,\"ticks\":\"\"},\"colorscale\":[[0.0,\"#0d0887\"],[0.1111111111111111,\"#46039f\"],[0.2222222222222222,\"#7201a8\"],[0.3333333333333333,\"#9c179e\"],[0.4444444444444444,\"#bd3786\"],[0.5555555555555556,\"#d8576b\"],[0.6666666666666666,\"#ed7953\"],[0.7777777777777778,\"#fb9f3a\"],[0.8888888888888888,\"#fdca26\"],[1.0,\"#f0f921\"]],\"type\":\"heatmapgl\"}],\"histogram\":[{\"marker\":{\"pattern\":{\"fillmode\":\"overlay\",\"size\":10,\"solidity\":0.2}},\"type\":\"histogram\"}],\"histogram2d\":[{\"colorbar\":{\"outlinewidth\":0,\"ticks\":\"\"},\"colorscale\":[[0.0,\"#0d0887\"],[0.1111111111111111,\"#46039f\"],[0.2222222222222222,\"#7201a8\"],[0.3333333333333333,\"#9c179e\"],[0.4444444444444444,\"#bd3786\"],[0.5555555555555556,\"#d8576b\"],[0.6666666666666666,\"#ed7953\"],[0.7777777777777778,\"#fb9f3a\"],[0.8888888888888888,\"#fdca26\"],[1.0,\"#f0f921\"]],\"type\":\"histogram2d\"}],\"histogram2dcontour\":[{\"colorbar\":{\"outlinewidth\":0,\"ticks\":\"\"},\"colorscale\":[[0.0,\"#0d0887\"],[0.1111111111111111,\"#46039f\"],[0.2222222222222222,\"#7201a8\"],[0.3333333333333333,\"#9c179e\"],[0.4444444444444444,\"#bd3786\"],[0.5555555555555556,\"#d8576b\"],[0.6666666666666666,\"#ed7953\"],[0.7777777777777778,\"#fb9f3a\"],[0.8888888888888888,\"#fdca26\"],[1.0,\"#f0f921\"]],\"type\":\"histogram2dcontour\"}],\"mesh3d\":[{\"colorbar\":{\"outlinewidth\":0,\"ticks\":\"\"},\"type\":\"mesh3d\"}],\"parcoords\":[{\"line\":{\"colorbar\":{\"outlinewidth\":0,\"ticks\":\"\"}},\"type\":\"parcoords\"}],\"pie\":[{\"automargin\":true,\"type\":\"pie\"}],\"scatter\":[{\"marker\":{\"colorbar\":{\"outlinewidth\":0,\"ticks\":\"\"}},\"type\":\"scatter\"}],\"scatter3d\":[{\"line\":{\"colorbar\":{\"outlinewidth\":0,\"ticks\":\"\"}},\"marker\":{\"colorbar\":{\"outlinewidth\":0,\"ticks\":\"\"}},\"type\":\"scatter3d\"}],\"scattercarpet\":[{\"marker\":{\"colorbar\":{\"outlinewidth\":0,\"ticks\":\"\"}},\"type\":\"scattercarpet\"}],\"scattergeo\":[{\"marker\":{\"colorbar\":{\"outlinewidth\":0,\"ticks\":\"\"}},\"type\":\"scattergeo\"}],\"scattergl\":[{\"marker\":{\"colorbar\":{\"outlinewidth\":0,\"ticks\":\"\"}},\"type\":\"scattergl\"}],\"scattermapbox\":[{\"marker\":{\"colorbar\":{\"outlinewidth\":0,\"ticks\":\"\"}},\"type\":\"scattermapbox\"}],\"scatterpolar\":[{\"marker\":{\"colorbar\":{\"outlinewidth\":0,\"ticks\":\"\"}},\"type\":\"scatterpolar\"}],\"scatterpolargl\":[{\"marker\":{\"colorbar\":{\"outlinewidth\":0,\"ticks\":\"\"}},\"type\":\"scatterpolargl\"}],\"scatterternary\":[{\"marker\":{\"colorbar\":{\"outlinewidth\":0,\"ticks\":\"\"}},\"type\":\"scatterternary\"}],\"surface\":[{\"colorbar\":{\"outlinewidth\":0,\"ticks\":\"\"},\"colorscale\":[[0.0,\"#0d0887\"],[0.1111111111111111,\"#46039f\"],[0.2222222222222222,\"#7201a8\"],[0.3333333333333333,\"#9c179e\"],[0.4444444444444444,\"#bd3786\"],[0.5555555555555556,\"#d8576b\"],[0.6666666666666666,\"#ed7953\"],[0.7777777777777778,\"#fb9f3a\"],[0.8888888888888888,\"#fdca26\"],[1.0,\"#f0f921\"]],\"type\":\"surface\"}],\"table\":[{\"cells\":{\"fill\":{\"color\":\"#EBF0F8\"},\"line\":{\"color\":\"white\"}},\"header\":{\"fill\":{\"color\":\"#C8D4E3\"},\"line\":{\"color\":\"white\"}},\"type\":\"table\"}]},\"layout\":{\"annotationdefaults\":{\"arrowcolor\":\"#2a3f5f\",\"arrowhead\":0,\"arrowwidth\":1},\"autotypenumbers\":\"strict\",\"coloraxis\":{\"colorbar\":{\"outlinewidth\":0,\"ticks\":\"\"}},\"colorscale\":{\"diverging\":[[0,\"#8e0152\"],[0.1,\"#c51b7d\"],[0.2,\"#de77ae\"],[0.3,\"#f1b6da\"],[0.4,\"#fde0ef\"],[0.5,\"#f7f7f7\"],[0.6,\"#e6f5d0\"],[0.7,\"#b8e186\"],[0.8,\"#7fbc41\"],[0.9,\"#4d9221\"],[1,\"#276419\"]],\"sequential\":[[0.0,\"#0d0887\"],[0.1111111111111111,\"#46039f\"],[0.2222222222222222,\"#7201a8\"],[0.3333333333333333,\"#9c179e\"],[0.4444444444444444,\"#bd3786\"],[0.5555555555555556,\"#d8576b\"],[0.6666666666666666,\"#ed7953\"],[0.7777777777777778,\"#fb9f3a\"],[0.8888888888888888,\"#fdca26\"],[1.0,\"#f0f921\"]],\"sequentialminus\":[[0.0,\"#0d0887\"],[0.1111111111111111,\"#46039f\"],[0.2222222222222222,\"#7201a8\"],[0.3333333333333333,\"#9c179e\"],[0.4444444444444444,\"#bd3786\"],[0.5555555555555556,\"#d8576b\"],[0.6666666666666666,\"#ed7953\"],[0.7777777777777778,\"#fb9f3a\"],[0.8888888888888888,\"#fdca26\"],[1.0,\"#f0f921\"]]},\"colorway\":[\"#636efa\",\"#EF553B\",\"#00cc96\",\"#ab63fa\",\"#FFA15A\",\"#19d3f3\",\"#FF6692\",\"#B6E880\",\"#FF97FF\",\"#FECB52\"],\"font\":{\"color\":\"#2a3f5f\"},\"geo\":{\"bgcolor\":\"white\",\"lakecolor\":\"white\",\"landcolor\":\"#E5ECF6\",\"showlakes\":true,\"showland\":true,\"subunitcolor\":\"white\"},\"hoverlabel\":{\"align\":\"left\"},\"hovermode\":\"closest\",\"mapbox\":{\"style\":\"light\"},\"paper_bgcolor\":\"white\",\"plot_bgcolor\":\"#E5ECF6\",\"polar\":{\"angularaxis\":{\"gridcolor\":\"white\",\"linecolor\":\"white\",\"ticks\":\"\"},\"bgcolor\":\"#E5ECF6\",\"radialaxis\":{\"gridcolor\":\"white\",\"linecolor\":\"white\",\"ticks\":\"\"}},\"scene\":{\"xaxis\":{\"backgroundcolor\":\"#E5ECF6\",\"gridcolor\":\"white\",\"gridwidth\":2,\"linecolor\":\"white\",\"showbackground\":true,\"ticks\":\"\",\"zerolinecolor\":\"white\"},\"yaxis\":{\"backgroundcolor\":\"#E5ECF6\",\"gridcolor\":\"white\",\"gridwidth\":2,\"linecolor\":\"white\",\"showbackground\":true,\"ticks\":\"\",\"zerolinecolor\":\"white\"},\"zaxis\":{\"backgroundcolor\":\"#E5ECF6\",\"gridcolor\":\"white\",\"gridwidth\":2,\"linecolor\":\"white\",\"showbackground\":true,\"ticks\":\"\",\"zerolinecolor\":\"white\"}},\"shapedefaults\":{\"line\":{\"color\":\"#2a3f5f\"}},\"ternary\":{\"aaxis\":{\"gridcolor\":\"white\",\"linecolor\":\"white\",\"ticks\":\"\"},\"baxis\":{\"gridcolor\":\"white\",\"linecolor\":\"white\",\"ticks\":\"\"},\"bgcolor\":\"#E5ECF6\",\"caxis\":{\"gridcolor\":\"white\",\"linecolor\":\"white\",\"ticks\":\"\"}},\"title\":{\"x\":0.05},\"xaxis\":{\"automargin\":true,\"gridcolor\":\"white\",\"linecolor\":\"white\",\"ticks\":\"\",\"title\":{\"standoff\":15},\"zerolinecolor\":\"white\",\"zerolinewidth\":2},\"yaxis\":{\"automargin\":true,\"gridcolor\":\"white\",\"linecolor\":\"white\",\"ticks\":\"\",\"title\":{\"standoff\":15},\"zerolinecolor\":\"white\",\"zerolinewidth\":2}}},\"xaxis\":{\"anchor\":\"y\",\"domain\":[0.0,1.0],\"title\":{\"text\":\"Split_cross validation\"}},\"yaxis\":{\"anchor\":\"x\",\"domain\":[0.0,1.0],\"title\":{\"text\":\"MAE\"}},\"legend\":{\"title\":{\"text\":\"color\"},\"tracegroupgap\":0},\"margin\":{\"t\":60},\"height\":400,\"width\":800},                        {\"responsive\": true}                    ).then(function(){\n",
              "                            \n",
              "var gd = document.getElementById('513f73cc-26f0-4860-81e8-455331dd81ff');\n",
              "var x = new MutationObserver(function (mutations, observer) {{\n",
              "        var display = window.getComputedStyle(gd).display;\n",
              "        if (!display || display === 'none') {{\n",
              "            console.log([gd, 'removed!']);\n",
              "            Plotly.purge(gd);\n",
              "            observer.disconnect();\n",
              "        }}\n",
              "}});\n",
              "\n",
              "// Listen for the removal of the full notebook cells\n",
              "var notebookContainer = gd.closest('#notebook-container');\n",
              "if (notebookContainer) {{\n",
              "    x.observe(notebookContainer, {childList: true});\n",
              "}}\n",
              "\n",
              "// Listen for the clearing of the current output cell\n",
              "var outputEl = gd.closest('.output');\n",
              "if (outputEl) {{\n",
              "    x.observe(outputEl, {childList: true});\n",
              "}}\n",
              "\n",
              "                        })                };                            </script>        </div>\n",
              "</body>\n",
              "</html>"
            ]
          },
          "metadata": {}
        },
        {
          "output_type": "display_data",
          "data": {
            "text/html": [
              "<html>\n",
              "<head><meta charset=\"utf-8\" /></head>\n",
              "<body>\n",
              "    <div>            <script src=\"https://cdnjs.cloudflare.com/ajax/libs/mathjax/2.7.5/MathJax.js?config=TeX-AMS-MML_SVG\"></script><script type=\"text/javascript\">if (window.MathJax) {MathJax.Hub.Config({SVG: {font: \"STIX-Web\"}});}</script>                <script type=\"text/javascript\">window.PlotlyConfig = {MathJaxConfig: 'local'};</script>\n",
              "        <script src=\"https://cdn.plot.ly/plotly-2.8.3.min.js\"></script>                <div id=\"0ef94c3f-4727-4846-9c40-701df671c111\" class=\"plotly-graph-div\" style=\"height:400px; width:800px;\"></div>            <script type=\"text/javascript\">                                    window.PLOTLYENV=window.PLOTLYENV || {};                                    if (document.getElementById(\"0ef94c3f-4727-4846-9c40-701df671c111\")) {                    Plotly.newPlot(                        \"0ef94c3f-4727-4846-9c40-701df671c111\",                        [{\"hovertemplate\":\"color=train<br>Split_cross validation=%{x}<br>R2=%{y}<extra></extra>\",\"legendgroup\":\"train\",\"line\":{\"color\":\"#636efa\",\"dash\":\"solid\"},\"marker\":{\"symbol\":\"circle\"},\"mode\":\"markers+lines\",\"name\":\"train\",\"orientation\":\"v\",\"showlegend\":true,\"x\":[0,1,2,3,4],\"xaxis\":\"x\",\"y\":[0.9513277292682311,0.9452977740754386,0.9041879528004956,0.9221028128194747,0.9187341102614022],\"yaxis\":\"y\",\"type\":\"scatter\"},{\"hovertemplate\":\"color=test<br>Split_cross validation=%{x}<br>R2=%{y}<extra></extra>\",\"legendgroup\":\"test\",\"line\":{\"color\":\"#EF553B\",\"dash\":\"solid\"},\"marker\":{\"symbol\":\"diamond\"},\"mode\":\"markers+lines\",\"name\":\"test\",\"orientation\":\"v\",\"showlegend\":true,\"x\":[0,1,2,3,4],\"xaxis\":\"x\",\"y\":[0.6066073650736721,0.4229553463824013,0.7536418147564555,0.538890019575623,0.7982966391742375],\"yaxis\":\"y\",\"type\":\"scatter\"}],                        {\"template\":{\"data\":{\"bar\":[{\"error_x\":{\"color\":\"#2a3f5f\"},\"error_y\":{\"color\":\"#2a3f5f\"},\"marker\":{\"line\":{\"color\":\"#E5ECF6\",\"width\":0.5},\"pattern\":{\"fillmode\":\"overlay\",\"size\":10,\"solidity\":0.2}},\"type\":\"bar\"}],\"barpolar\":[{\"marker\":{\"line\":{\"color\":\"#E5ECF6\",\"width\":0.5},\"pattern\":{\"fillmode\":\"overlay\",\"size\":10,\"solidity\":0.2}},\"type\":\"barpolar\"}],\"carpet\":[{\"aaxis\":{\"endlinecolor\":\"#2a3f5f\",\"gridcolor\":\"white\",\"linecolor\":\"white\",\"minorgridcolor\":\"white\",\"startlinecolor\":\"#2a3f5f\"},\"baxis\":{\"endlinecolor\":\"#2a3f5f\",\"gridcolor\":\"white\",\"linecolor\":\"white\",\"minorgridcolor\":\"white\",\"startlinecolor\":\"#2a3f5f\"},\"type\":\"carpet\"}],\"choropleth\":[{\"colorbar\":{\"outlinewidth\":0,\"ticks\":\"\"},\"type\":\"choropleth\"}],\"contour\":[{\"colorbar\":{\"outlinewidth\":0,\"ticks\":\"\"},\"colorscale\":[[0.0,\"#0d0887\"],[0.1111111111111111,\"#46039f\"],[0.2222222222222222,\"#7201a8\"],[0.3333333333333333,\"#9c179e\"],[0.4444444444444444,\"#bd3786\"],[0.5555555555555556,\"#d8576b\"],[0.6666666666666666,\"#ed7953\"],[0.7777777777777778,\"#fb9f3a\"],[0.8888888888888888,\"#fdca26\"],[1.0,\"#f0f921\"]],\"type\":\"contour\"}],\"contourcarpet\":[{\"colorbar\":{\"outlinewidth\":0,\"ticks\":\"\"},\"type\":\"contourcarpet\"}],\"heatmap\":[{\"colorbar\":{\"outlinewidth\":0,\"ticks\":\"\"},\"colorscale\":[[0.0,\"#0d0887\"],[0.1111111111111111,\"#46039f\"],[0.2222222222222222,\"#7201a8\"],[0.3333333333333333,\"#9c179e\"],[0.4444444444444444,\"#bd3786\"],[0.5555555555555556,\"#d8576b\"],[0.6666666666666666,\"#ed7953\"],[0.7777777777777778,\"#fb9f3a\"],[0.8888888888888888,\"#fdca26\"],[1.0,\"#f0f921\"]],\"type\":\"heatmap\"}],\"heatmapgl\":[{\"colorbar\":{\"outlinewidth\":0,\"ticks\":\"\"},\"colorscale\":[[0.0,\"#0d0887\"],[0.1111111111111111,\"#46039f\"],[0.2222222222222222,\"#7201a8\"],[0.3333333333333333,\"#9c179e\"],[0.4444444444444444,\"#bd3786\"],[0.5555555555555556,\"#d8576b\"],[0.6666666666666666,\"#ed7953\"],[0.7777777777777778,\"#fb9f3a\"],[0.8888888888888888,\"#fdca26\"],[1.0,\"#f0f921\"]],\"type\":\"heatmapgl\"}],\"histogram\":[{\"marker\":{\"pattern\":{\"fillmode\":\"overlay\",\"size\":10,\"solidity\":0.2}},\"type\":\"histogram\"}],\"histogram2d\":[{\"colorbar\":{\"outlinewidth\":0,\"ticks\":\"\"},\"colorscale\":[[0.0,\"#0d0887\"],[0.1111111111111111,\"#46039f\"],[0.2222222222222222,\"#7201a8\"],[0.3333333333333333,\"#9c179e\"],[0.4444444444444444,\"#bd3786\"],[0.5555555555555556,\"#d8576b\"],[0.6666666666666666,\"#ed7953\"],[0.7777777777777778,\"#fb9f3a\"],[0.8888888888888888,\"#fdca26\"],[1.0,\"#f0f921\"]],\"type\":\"histogram2d\"}],\"histogram2dcontour\":[{\"colorbar\":{\"outlinewidth\":0,\"ticks\":\"\"},\"colorscale\":[[0.0,\"#0d0887\"],[0.1111111111111111,\"#46039f\"],[0.2222222222222222,\"#7201a8\"],[0.3333333333333333,\"#9c179e\"],[0.4444444444444444,\"#bd3786\"],[0.5555555555555556,\"#d8576b\"],[0.6666666666666666,\"#ed7953\"],[0.7777777777777778,\"#fb9f3a\"],[0.8888888888888888,\"#fdca26\"],[1.0,\"#f0f921\"]],\"type\":\"histogram2dcontour\"}],\"mesh3d\":[{\"colorbar\":{\"outlinewidth\":0,\"ticks\":\"\"},\"type\":\"mesh3d\"}],\"parcoords\":[{\"line\":{\"colorbar\":{\"outlinewidth\":0,\"ticks\":\"\"}},\"type\":\"parcoords\"}],\"pie\":[{\"automargin\":true,\"type\":\"pie\"}],\"scatter\":[{\"marker\":{\"colorbar\":{\"outlinewidth\":0,\"ticks\":\"\"}},\"type\":\"scatter\"}],\"scatter3d\":[{\"line\":{\"colorbar\":{\"outlinewidth\":0,\"ticks\":\"\"}},\"marker\":{\"colorbar\":{\"outlinewidth\":0,\"ticks\":\"\"}},\"type\":\"scatter3d\"}],\"scattercarpet\":[{\"marker\":{\"colorbar\":{\"outlinewidth\":0,\"ticks\":\"\"}},\"type\":\"scattercarpet\"}],\"scattergeo\":[{\"marker\":{\"colorbar\":{\"outlinewidth\":0,\"ticks\":\"\"}},\"type\":\"scattergeo\"}],\"scattergl\":[{\"marker\":{\"colorbar\":{\"outlinewidth\":0,\"ticks\":\"\"}},\"type\":\"scattergl\"}],\"scattermapbox\":[{\"marker\":{\"colorbar\":{\"outlinewidth\":0,\"ticks\":\"\"}},\"type\":\"scattermapbox\"}],\"scatterpolar\":[{\"marker\":{\"colorbar\":{\"outlinewidth\":0,\"ticks\":\"\"}},\"type\":\"scatterpolar\"}],\"scatterpolargl\":[{\"marker\":{\"colorbar\":{\"outlinewidth\":0,\"ticks\":\"\"}},\"type\":\"scatterpolargl\"}],\"scatterternary\":[{\"marker\":{\"colorbar\":{\"outlinewidth\":0,\"ticks\":\"\"}},\"type\":\"scatterternary\"}],\"surface\":[{\"colorbar\":{\"outlinewidth\":0,\"ticks\":\"\"},\"colorscale\":[[0.0,\"#0d0887\"],[0.1111111111111111,\"#46039f\"],[0.2222222222222222,\"#7201a8\"],[0.3333333333333333,\"#9c179e\"],[0.4444444444444444,\"#bd3786\"],[0.5555555555555556,\"#d8576b\"],[0.6666666666666666,\"#ed7953\"],[0.7777777777777778,\"#fb9f3a\"],[0.8888888888888888,\"#fdca26\"],[1.0,\"#f0f921\"]],\"type\":\"surface\"}],\"table\":[{\"cells\":{\"fill\":{\"color\":\"#EBF0F8\"},\"line\":{\"color\":\"white\"}},\"header\":{\"fill\":{\"color\":\"#C8D4E3\"},\"line\":{\"color\":\"white\"}},\"type\":\"table\"}]},\"layout\":{\"annotationdefaults\":{\"arrowcolor\":\"#2a3f5f\",\"arrowhead\":0,\"arrowwidth\":1},\"autotypenumbers\":\"strict\",\"coloraxis\":{\"colorbar\":{\"outlinewidth\":0,\"ticks\":\"\"}},\"colorscale\":{\"diverging\":[[0,\"#8e0152\"],[0.1,\"#c51b7d\"],[0.2,\"#de77ae\"],[0.3,\"#f1b6da\"],[0.4,\"#fde0ef\"],[0.5,\"#f7f7f7\"],[0.6,\"#e6f5d0\"],[0.7,\"#b8e186\"],[0.8,\"#7fbc41\"],[0.9,\"#4d9221\"],[1,\"#276419\"]],\"sequential\":[[0.0,\"#0d0887\"],[0.1111111111111111,\"#46039f\"],[0.2222222222222222,\"#7201a8\"],[0.3333333333333333,\"#9c179e\"],[0.4444444444444444,\"#bd3786\"],[0.5555555555555556,\"#d8576b\"],[0.6666666666666666,\"#ed7953\"],[0.7777777777777778,\"#fb9f3a\"],[0.8888888888888888,\"#fdca26\"],[1.0,\"#f0f921\"]],\"sequentialminus\":[[0.0,\"#0d0887\"],[0.1111111111111111,\"#46039f\"],[0.2222222222222222,\"#7201a8\"],[0.3333333333333333,\"#9c179e\"],[0.4444444444444444,\"#bd3786\"],[0.5555555555555556,\"#d8576b\"],[0.6666666666666666,\"#ed7953\"],[0.7777777777777778,\"#fb9f3a\"],[0.8888888888888888,\"#fdca26\"],[1.0,\"#f0f921\"]]},\"colorway\":[\"#636efa\",\"#EF553B\",\"#00cc96\",\"#ab63fa\",\"#FFA15A\",\"#19d3f3\",\"#FF6692\",\"#B6E880\",\"#FF97FF\",\"#FECB52\"],\"font\":{\"color\":\"#2a3f5f\"},\"geo\":{\"bgcolor\":\"white\",\"lakecolor\":\"white\",\"landcolor\":\"#E5ECF6\",\"showlakes\":true,\"showland\":true,\"subunitcolor\":\"white\"},\"hoverlabel\":{\"align\":\"left\"},\"hovermode\":\"closest\",\"mapbox\":{\"style\":\"light\"},\"paper_bgcolor\":\"white\",\"plot_bgcolor\":\"#E5ECF6\",\"polar\":{\"angularaxis\":{\"gridcolor\":\"white\",\"linecolor\":\"white\",\"ticks\":\"\"},\"bgcolor\":\"#E5ECF6\",\"radialaxis\":{\"gridcolor\":\"white\",\"linecolor\":\"white\",\"ticks\":\"\"}},\"scene\":{\"xaxis\":{\"backgroundcolor\":\"#E5ECF6\",\"gridcolor\":\"white\",\"gridwidth\":2,\"linecolor\":\"white\",\"showbackground\":true,\"ticks\":\"\",\"zerolinecolor\":\"white\"},\"yaxis\":{\"backgroundcolor\":\"#E5ECF6\",\"gridcolor\":\"white\",\"gridwidth\":2,\"linecolor\":\"white\",\"showbackground\":true,\"ticks\":\"\",\"zerolinecolor\":\"white\"},\"zaxis\":{\"backgroundcolor\":\"#E5ECF6\",\"gridcolor\":\"white\",\"gridwidth\":2,\"linecolor\":\"white\",\"showbackground\":true,\"ticks\":\"\",\"zerolinecolor\":\"white\"}},\"shapedefaults\":{\"line\":{\"color\":\"#2a3f5f\"}},\"ternary\":{\"aaxis\":{\"gridcolor\":\"white\",\"linecolor\":\"white\",\"ticks\":\"\"},\"baxis\":{\"gridcolor\":\"white\",\"linecolor\":\"white\",\"ticks\":\"\"},\"bgcolor\":\"#E5ECF6\",\"caxis\":{\"gridcolor\":\"white\",\"linecolor\":\"white\",\"ticks\":\"\"}},\"title\":{\"x\":0.05},\"xaxis\":{\"automargin\":true,\"gridcolor\":\"white\",\"linecolor\":\"white\",\"ticks\":\"\",\"title\":{\"standoff\":15},\"zerolinecolor\":\"white\",\"zerolinewidth\":2},\"yaxis\":{\"automargin\":true,\"gridcolor\":\"white\",\"linecolor\":\"white\",\"ticks\":\"\",\"title\":{\"standoff\":15},\"zerolinecolor\":\"white\",\"zerolinewidth\":2}}},\"xaxis\":{\"anchor\":\"y\",\"domain\":[0.0,1.0],\"title\":{\"text\":\"Split_cross validation\"}},\"yaxis\":{\"anchor\":\"x\",\"domain\":[0.0,1.0],\"title\":{\"text\":\"R2\"}},\"legend\":{\"title\":{\"text\":\"color\"},\"tracegroupgap\":0},\"margin\":{\"t\":60},\"height\":400,\"width\":800},                        {\"responsive\": true}                    ).then(function(){\n",
              "                            \n",
              "var gd = document.getElementById('0ef94c3f-4727-4846-9c40-701df671c111');\n",
              "var x = new MutationObserver(function (mutations, observer) {{\n",
              "        var display = window.getComputedStyle(gd).display;\n",
              "        if (!display || display === 'none') {{\n",
              "            console.log([gd, 'removed!']);\n",
              "            Plotly.purge(gd);\n",
              "            observer.disconnect();\n",
              "        }}\n",
              "}});\n",
              "\n",
              "// Listen for the removal of the full notebook cells\n",
              "var notebookContainer = gd.closest('#notebook-container');\n",
              "if (notebookContainer) {{\n",
              "    x.observe(notebookContainer, {childList: true});\n",
              "}}\n",
              "\n",
              "// Listen for the clearing of the current output cell\n",
              "var outputEl = gd.closest('.output');\n",
              "if (outputEl) {{\n",
              "    x.observe(outputEl, {childList: true});\n",
              "}}\n",
              "\n",
              "                        })                };                            </script>        </div>\n",
              "</body>\n",
              "</html>"
            ]
          },
          "metadata": {}
        }
      ],
      "source": [
        "trace_mae(mlp_grid_search_model)\n",
        "trace_r2(mlp_grid_search_model)"
      ]
    },
    {
      "cell_type": "markdown",
      "metadata": {
        "id": "t2mTAnlipVsY"
      },
      "source": [
        "On voit bien ici que la performance du modèle GradientBoost s'entraîne bien sur les différents split de la cross-validation."
      ]
    },
    {
      "cell_type": "markdown",
      "source": [
        "### Feature importance du meilleur modèle\n",
        "---"
      ],
      "metadata": {
        "id": "4TveYy4sngas"
      }
    },
    {
      "cell_type": "code",
      "source": [
        "#Poids de chaque feature dans le modèle\n",
        "feature_importance_value1=gb_grid_search_model.best_estimator_.named_steps[\"GB\"].regressor_.feature_importances_ \n",
        "\n",
        "#Noms de features utilisés dans le modèle\n",
        "feature_names = get_feature_names(gb_grid_search_model.best_estimator_.named_steps['preprocessor'])\n",
        "\n",
        "#Dataframe regroupant les features et leur poids\n",
        "feat_importances1= pd.Series(feature_importance_value1 , index=feature_names)"
      ],
      "metadata": {
        "id": "jhFa1vsRnk3E"
      },
      "execution_count": 92,
      "outputs": []
    },
    {
      "cell_type": "code",
      "source": [
        "#Création et transposition de la dataframe feature importance\n",
        "feat_importances1= pd.DataFrame(feat_importances1).transpose()\n",
        "\n",
        "#Agrégation des features par appartenance à une catégorie\n",
        "feat_importances1['PrimaryPropertyType']= feat_importances1[list(feat_importances1.filter(regex='one-hot__x0'))].sum(axis=1)\n",
        "feat_importances1['LargestPropertyUseType']= feat_importances1[list(feat_importances1.filter(regex='one-hot__x1'))].sum(axis=1)\n",
        "#feat_importances1[\"BuildingType\"]= feat_importances1[list(feat_importances1.filter(regex='one-hot__x2'))].sum(axis=1)\n",
        "\n",
        "# Colonnes à supprimer \n",
        "unwanted = feat_importances1.columns[feat_importances1.columns.str.startswith('one-hot__x')]\n",
        "feat_importances1.drop(unwanted, axis=1, inplace=True)\n",
        "\n",
        "#On ramène la dataFrame à sa forme initiale\n",
        "feat_importances1= pd.DataFrame(feat_importances1).transpose()\n",
        "\n",
        "#On renomme et reformate les valeurs de la colonne feature\n",
        "df2=feat_importances1.reset_index().rename(columns={\"index\": \"features\", 0: \"poids\"})\n",
        "df2['features']=df2['features'].str.replace('numerical_pipeline__','')\n"
      ],
      "metadata": {
        "id": "F3D648VTnzkL"
      },
      "execution_count": 93,
      "outputs": []
    },
    {
      "cell_type": "markdown",
      "source": [
        "### Tracé feature importance"
      ],
      "metadata": {
        "id": "3SJGPitbut-H"
      }
    },
    {
      "cell_type": "code",
      "source": [
        "#On trace le graphique du feature importance \n",
        "plt.figure(figsize=(23,5))\n",
        "sns.barplot(x='features', y='poids', data=df2.sort_values(by='poids', ascending=False))"
      ],
      "metadata": {
        "colab": {
          "base_uri": "https://localhost:8080/",
          "height": 353
        },
        "id": "2DlOQQcluxyC",
        "outputId": "57cec5ec-8988-4697-efbf-2f294ee63dd5"
      },
      "execution_count": 94,
      "outputs": [
        {
          "output_type": "execute_result",
          "data": {
            "text/plain": [
              "<matplotlib.axes._subplots.AxesSubplot at 0x7f33fc21f640>"
            ]
          },
          "metadata": {},
          "execution_count": 94
        },
        {
          "output_type": "display_data",
          "data": {
            "text/plain": [
              "<Figure size 1656x360 with 1 Axes>"
            ],
            "image/png": "[encoded data removed]"
          },
          "metadata": {
            "needs_background": "light"
          }
        }
      ]
    },
    {
      "cell_type": "markdown",
      "source": [
        "On voit sur ce graphique les features qui ont plus d'impact sur notre modèle.\n",
        "\n",
        "A partir de ce graphique, nous pouvons décider de supprimer les features qui ont très peu d'importance. On obtiendra un modèle plus simple et sans doute avec une moindre variance. \n",
        "\n",
        "On peut  aussi regarder sur quelles données le meilleurs modèle fait de grosses erreur, et essayer de comprendre pourquoi: des donnée atypique ? manque-t-il un feature pour les capter ?  Données abbérentes ? faut-il les supprimmer ? "
      ],
      "metadata": {
        "id": "cB4fjM-0xFp3"
      }
    },
    {
      "cell_type": "markdown",
      "metadata": {
        "id": "t-SP0uyMwfZP"
      },
      "source": [
        "### Valeurs prédites vs Valeurs réelles de notre meilleur modèle.\n",
        "---"
      ]
    },
    {
      "cell_type": "code",
      "source": [
        "y_pred =gb_grid_search_model.best_estimator_.predict(X_test)\n",
        "plt.figure(figsize=(18,7))\n",
        "y_test=Y_test[target[0]]\n",
        "# traçage de y_test versus y_pred\n",
        "# l'idéal aurait dû être une ligne droite\n",
        "p1 = max(max(y_test), max(y_pred))\n",
        "p2 = min(min(y_test), min(y_pred))\n",
        "plt.plot([p1, p2], [p1, p2], 'b-')\n",
        "sns.scatterplot(x=y_test, y=y_pred)"
      ],
      "metadata": {
        "colab": {
          "base_uri": "https://localhost:8080/",
          "height": 460
        },
        "id": "t1UnlB2H2iTk",
        "outputId": "b1db0dcf-ce00-4eca-ca8d-469d10a89e29"
      },
      "execution_count": 95,
      "outputs": [
        {
          "output_type": "execute_result",
          "data": {
            "text/plain": [
              "<matplotlib.axes._subplots.AxesSubplot at 0x7f340ceb7790>"
            ]
          },
          "metadata": {},
          "execution_count": 95
        },
        {
          "output_type": "display_data",
          "data": {
            "text/plain": [
              "<Figure size 1296x504 with 1 Axes>"
            ],
            "image/png": "[encoded data removed]"
          },
          "metadata": {
            "needs_background": "light"
          }
        }
      ]
    },
    {
      "cell_type": "markdown",
      "source": [
        "Les points s'alignent relativement bien sur la droite. La qualitéa de prédictions de notre modèle n'est pas mal."
      ],
      "metadata": {
        "id": "_iaG6umr-q_-"
      }
    },
    {
      "cell_type": "markdown",
      "metadata": {
        "id": "tYRsWvBkgNgw"
      },
      "source": [
        "# <ins>Importance de EnergysStarScore pour la variable target TOtalGHGEmissions</ins>"
      ]
    },
    {
      "cell_type": "markdown",
      "metadata": {
        "id": "LG9wjFz3_ePv"
      },
      "source": [
        "Nous allons voir si EnergyStar a un impact sur les modèles "
      ]
    },
    {
      "cell_type": "markdown",
      "metadata": {
        "id": "un0GydpI_qPT"
      },
      "source": [
        "On enlève la variable ENERGYSTARScore"
      ]
    },
    {
      "cell_type": "markdown",
      "metadata": {
        "id": "O1YM8_U6DoOz"
      },
      "source": [
        "###Run du code"
      ]
    },
    {
      "cell_type": "code",
      "execution_count": 96,
      "metadata": {
        "id": "xAc-DP62_01V"
      },
      "outputs": [],
      "source": [
        "# Création de piepeline pour les features numériques et catégoriels   ----  'SiteEnergyUse(kBtu)','TotalGHGEmissions',\n",
        "numerical_features1  =  ['NumberofBuildings','NumberofFloors','PropertyGFATotal','age_batiment','Ratio_parkingParSurface','pr_steam','pr_natural','pr_elec']\n",
        "categorical_features1  = ['PrimaryPropertyType','LargestPropertyUseType'] #'LargestPropertyUseType',\"BuildingType\"\n",
        "\n",
        "\n",
        "\n",
        "numerical_pipeline1 = Pipeline(steps=[\n",
        "      #('impute', SimpleImputer(strategy='mean')),\n",
        "      ('scale', StandardScaler())   \n",
        "  ])\n",
        "categorical_pipeline1= Pipeline(steps=[\n",
        "      #('impute', SimpleImputer(strategy='most_frequent')),\n",
        "      ('one-hot',OneHotEncoder())\n",
        "  ])\n",
        "\n",
        "  # Création d'un ColumnTransformer pour appliquer un pipeline pour chaque type de colonne\n",
        "\n",
        "preprocessor = ColumnTransformer(transformers=[\n",
        "      ('numerical_pipeline1',numerical_pipeline1,numerical_features1),\n",
        "      ('categorical_pipeline1=',categorical_pipeline1,categorical_features1 )\n",
        "      ],\n",
        "      remainder='passthrough',\n",
        "      n_jobs=-1,\n",
        "      )\n",
        "\n",
        "#X = data_model.drop(['SiteEnergyUse(kBtu)','TotalGHGEmissions'], axis=1)\n",
        "#Y = data_model[['SiteEnergyUse(kBtu)','TotalGHGEmissions']]\n",
        "\n",
        "#Régression linéaire multiple\n",
        "from sklearn.compose import TransformedTargetRegressor\n",
        "from sklearn.model_selection import RandomizedSearchCV\n",
        "nb_split = 5\n",
        "score = ['accuracy','neg_mean_absolute_error']\n",
        "\n",
        "pipe_lr = Pipeline(\n",
        "    steps=[(\"preprocessor\", preprocessor), (\"LR\", TransformedTargetRegressor(regressor=LinearRegression(), func=np.log1p, inverse_func=np.expm1) )]\n",
        ")\n",
        "\n",
        "myscore = ('r2','neg_mean_absolute_error')\n",
        "\n",
        "lr_param_grid = [ {\"LR__regressor__fit_intercept\": [True, False]}   ] \n",
        "\n",
        "\n",
        "lr_grid_search1 = GridSearchCV(estimator=pipe_lr,\n",
        "        param_grid=lr_param_grid, refit='neg_mean_absolute_error',\n",
        "        scoring=myscore, n_jobs=-1,\n",
        "        cv=nb_split,return_train_score=True)\n",
        "\n",
        "\n",
        "#Elastic Net\n",
        "\n",
        "pipe_elastic = Pipeline(\n",
        "    steps=[(\"preprocessor\", preprocessor), (\"ELN\", TransformedTargetRegressor(regressor=ElasticNet() ,func=np.log, inverse_func=np.exp) )]\n",
        ")\n",
        "## Paramaètre du randomize search\n",
        "\"\"\"elastic_param_grid = [     {\"ELN__regressor__max_iter\": [10, 100, 1000],\n",
        "                            \"ELN__regressor__alpha\": np.logspace(-5, 5, num=10),  # alpha plus grand --- - 5 à 5 , augmenter la granularité\n",
        "                             \"ELN__regressor__l1_ratio\": np.arange(0.0, 1.1, 0.1) } ]   \"\"\"\n",
        "\n",
        "elastic_param_grid ={'ELN__regressor__alpha': [0.0],\n",
        " 'ELN__regressor__l1_ratio':[ 0.0 ],\n",
        " 'ELN__regressor__max_iter': [100]}\n",
        "\n",
        "elastic_grid_search1 = GridSearchCV(estimator=pipe_elastic,\n",
        "        param_grid=elastic_param_grid,\n",
        "        scoring=myscore, refit='neg_mean_absolute_error', n_jobs=-1,\n",
        "        cv=nb_split,return_train_score=True) \n",
        "\n",
        "# Linear SVM\n",
        "pipe_lsvr =Pipeline(\n",
        "    steps=[(\"preprocessor\", preprocessor), (\"LSVR\", TransformedTargetRegressor(regressor=LinearSVR() ,func=np.log, inverse_func=np.exp) )]\n",
        ")\n",
        "\n",
        "\"\"\"lsvr_param_grid = [      {'LSVR__regressor__C' : np.logspace(-4, 0, 5),\n",
        "                          'LSVR__regressor__epsilon' : [0, 0.01, 0.1, 0.5, 1, 2],\n",
        "                         'LSVR__regressor__loss' : [\"epsilon_insensitive\",\"squared_epsilon_insensitive\"],\n",
        "                          'LSVR__regressor__max_iter': [10, 100, 1000]}   ]  \"\"\"\n",
        "\n",
        "\n",
        "lsvr_param_grid ={'LSVR__regressor__C': [0.01],\n",
        " 'LSVR__regressor__epsilon': [1],\n",
        " 'LSVR__regressor__loss': ['epsilon_insensitive'],\n",
        " 'LSVR__regressor__max_iter': [10]}\n",
        "\n",
        "lsvr_grid_search1 = GridSearchCV(estimator=pipe_lsvr,\n",
        "        param_grid=lsvr_param_grid,\n",
        "        scoring=myscore, refit='neg_mean_absolute_error', n_jobs=-1,\n",
        "        cv=nb_split, return_train_score=True)\n",
        "\n",
        "\n",
        "# Random Forest\n",
        "pipe_rfr= Pipeline(\n",
        "    steps=[(\"preprocessor\", preprocessor), (\"RFR\", TransformedTargetRegressor(regressor=RandomForestRegressor() ,func=np.log, inverse_func=np.exp) )]\n",
        ")\n",
        "\n",
        "# Paramètre pour le Randomize search\n",
        "\"\"\"rfr_param_grid = [ {'RFR__regressor__max_features' : ['sqrt', 'log2'],\n",
        "                   'RFR__regressor__max_depth': [15, 25, 200],\n",
        "                   'RFR__regressor__min_samples_split': [2, 7, 8],\n",
        "                   'RFR__regressor__bootstrap' : [True, False],\n",
        "                   'RFR__regressor__min_samples_leaf': [1,2,5]}\"\"\"\n",
        "\n",
        "rfr_param_grid={'RFR__regressor__bootstrap': [False],\n",
        "                'RFR__regressor__max_depth': [25,50],\n",
        "                'RFR__regressor__max_features': ['sqrt'],\n",
        "                'RFR__regressor__min_samples_leaf': [1],\n",
        "                'RFR__regressor__min_samples_split': [2]}\n",
        "                                                      \n",
        "rfr_grid_search1 = GridSearchCV(estimator=pipe_rfr,\n",
        "       param_grid=rfr_param_grid,\n",
        "        scoring=myscore, refit='neg_mean_absolute_error', n_jobs=-1,\n",
        "        cv=nb_split, return_train_score=True)                                                  \n",
        "                                                 \n",
        "# Rajouter une métrique pour GridSearch\n",
        "# Xgboost Regressor\n",
        "\n",
        "\n",
        "pipe_extra = Pipeline(\n",
        "    steps=[(\"preprocessor\", preprocessor), (\"MLP\", TransformedTargetRegressor(regressor=ExtraTreesRegressor(random_state=0) ,func=np.log, inverse_func=np.exp) ) ] \n",
        ")\n",
        "\n",
        "## Paramaètre du randomize search\n",
        "\"\"\"  {'MLP__regressor__n_estimators':[350,500],\n",
        "         'MLP__regressor__max_depth':[8,9,10],\n",
        "         'MLP__regressor__min_samples_split':[3,4,6],\n",
        "         'MLP__regressor__min_samples_leaf':[2,3,4],\n",
        "         'MLP__regressor__max_features':[0.95],\n",
        "         'MLP__regressor__min_impurity_decrease':[1e-5,1e-4,0]}  \"\"\"\n",
        "\n",
        "## Paramètre choisis  pour le gridsearch après le Randomize search\n",
        "param_grid_mlp = {'MLP__regressor__n_estimators': [350],\n",
        " 'MLP__regressor__min_samples_split':[ 3],\n",
        " 'MLP__regressor__min_samples_leaf': [2],\n",
        " 'MLP__regressor__min_impurity_decrease': [1e-05],\n",
        " 'MLP__regressor__max_features': [0.95],\n",
        " 'MLP__regressor__max_depth': [10]}\n",
        "\n",
        "\n",
        "\n",
        "\n",
        "extraTree_grid_search1 = GridSearchCV(estimator=pipe_extra,\n",
        "        param_grid =param_grid_mlp,\n",
        "        scoring=myscore, refit='neg_mean_absolute_error', n_jobs=-1,\n",
        "        cv=nb_split, return_train_score=True) \n",
        "\n",
        "# Gradient boost\n",
        "pipe_gb= Pipeline(\n",
        "    steps=[(\"preprocessor\", preprocessor), (\"GB\", TransformedTargetRegressor(regressor=GradientBoostingRegressor() ,func=np.log, inverse_func=np.exp) )]\n",
        ")\n",
        "\n",
        "# Paramètre du randomized Search\n",
        "\"\"\"param_grid_GrBoostR = [{'GB__regressor__n_estimators': [350,500,700], \n",
        "                        'GB__regressor__max_depth': [5,6,7], \n",
        "                        'GB__regressor__min_samples_split': [2,3,4], \n",
        "                        'GB__regressor__learning_rate': [0.01,0.1], \n",
        "                        'GB__regressor__loss': ['ls'],\n",
        "                       \"GB__regressor__random_state\" : [0]\n",
        "                       }] \"\"\"\n",
        "\n",
        "param_grid_GrBoostR={'GB__regressor__random_state': [0],\n",
        "                    'GB__regressor__n_estimators': [350],\n",
        "                    'GB__regressor__min_samples_split': [3],\n",
        "                    'GB__regressor__max_depth': [5],\n",
        "                    'GB__regressor__loss': ['ls'],\n",
        "                    'GB__regressor__learning_rate': [0.1]}\n",
        "\n",
        "gb_grid_search1 =  GridSearchCV(estimator=pipe_gb,\n",
        "         param_grid=param_grid_GrBoostR,\n",
        "        scoring=myscore, refit='neg_mean_absolute_error', n_jobs=-1,\n",
        "        cv=nb_split, return_train_score=True)   \n",
        "\n",
        "\n",
        "\n",
        "\n",
        "\n",
        "import warnings\n",
        "warnings.filterwarnings('ignore')\n",
        "\n",
        "\n",
        "\n",
        "target = ['TotalGHGEmissions', 'SiteEnergyUse(kBtu)']\n",
        "\n",
        "global R1, y_test_predict1,lr_grid_search_model1 ,elastic_grid_search_model1,lsvr_grid_search_model1 , rfr_grid_search_model1\n",
        "\n",
        "\n",
        "\n",
        "lr_grid_search_model1 = lr_grid_search1.fit(X_train,Y_train['TotalGHGEmissions'])\n",
        "elastic_grid_search_model1 = elastic_grid_search1.fit(X_train,Y_train['TotalGHGEmissions'])\n",
        "lsvr_grid_search_model1 = lsvr_grid_search1.fit(X_train,Y_train['TotalGHGEmissions'])\n",
        "rfr_grid_search_model1 = rfr_grid_search1.fit(X_train,Y_train['TotalGHGEmissions'])\n",
        "extraTree_grid_search_model1 = extraTree_grid_search1.fit(X_train,Y_train['TotalGHGEmissions'])\n",
        "gb_grid_search_model1 = gb_grid_search1.fit(X_train,Y_train['TotalGHGEmissions'])\n"
      ]
    },
    {
      "cell_type": "markdown",
      "metadata": {
        "id": "_EtgXWzrMyeR"
      },
      "source": [
        "### Impact de EnergyStarUse sur TotalGHGEmissions\n",
        "---"
      ]
    },
    {
      "cell_type": "code",
      "execution_count": 97,
      "metadata": {
        "colab": {
          "base_uri": "https://localhost:8080/",
          "height": 112
        },
        "id": "sk1muw_qz4BP",
        "outputId": "7f70334d-d771-4a7c-fe55-ecec039ac593"
      },
      "outputs": [
        {
          "output_type": "execute_result",
          "data": {
            "text/plain": [
              "  Metrics  Modèle avec EnergyStarScore  Modèle sans EnergyStarScore\n",
              "0      R2                        0.811                        0.812\n",
              "1     MAE                       44.292                       43.746"
            ],
            "text/html": [
              "\n",
              "  <div id=\"df-760fdd9f-c7be-44b0-9813-c7baf78c1e70\">\n",
              "    <div class=\"colab-df-container\">\n",
              "      <div>\n",
              "<style scoped>\n",
              "    .dataframe tbody tr th:only-of-type {\n",
              "        vertical-align: middle;\n",
              "    }\n",
              "\n",
              "    .dataframe tbody tr th {\n",
              "        vertical-align: top;\n",
              "    }\n",
              "\n",
              "    .dataframe thead th {\n",
              "        text-align: right;\n",
              "    }\n",
              "</style>\n",
              "<table border=\"1\" class=\"dataframe\">\n",
              "  <thead>\n",
              "    <tr style=\"text-align: right;\">\n",
              "      <th></th>\n",
              "      <th>Metrics</th>\n",
              "      <th>Modèle avec EnergyStarScore</th>\n",
              "      <th>Modèle sans EnergyStarScore</th>\n",
              "    </tr>\n",
              "  </thead>\n",
              "  <tbody>\n",
              "    <tr>\n",
              "      <th>0</th>\n",
              "      <td>R2</td>\n",
              "      <td>0.811</td>\n",
              "      <td>0.812</td>\n",
              "    </tr>\n",
              "    <tr>\n",
              "      <th>1</th>\n",
              "      <td>MAE</td>\n",
              "      <td>44.292</td>\n",
              "      <td>43.746</td>\n",
              "    </tr>\n",
              "  </tbody>\n",
              "</table>\n",
              "</div>\n",
              "      <button class=\"colab-df-convert\" onclick=\"convertToInteractive('df-760fdd9f-c7be-44b0-9813-c7baf78c1e70')\"\n",
              "              title=\"Convert this dataframe to an interactive table.\"\n",
              "              style=\"display:none;\">\n",
              "        \n",
              "  <svg xmlns=\"http://www.w3.org/2000/svg\" height=\"24px\"viewBox=\"0 0 24 24\"\n",
              "       width=\"24px\">\n",
              "    <path d=\"M0 0h24v24H0V0z\" fill=\"none\"/>\n",
              "    <path d=\"M18.56 5.44l.94 2.06.94-2.06 2.06-.94-2.06-.94-.94-2.06-.94 2.06-2.06.94zm-11 1L8.5 8.5l.94-2.06 2.06-.94-2.06-.94L8.5 2.5l-.94 2.06-2.06.94zm10 10l.94 2.06.94-2.06 2.06-.94-2.06-.94-.94-2.06-.94 2.06-2.06.94z\"/><path d=\"M17.41 7.96l-1.37-1.37c-.4-.4-.92-.59-1.43-.59-.52 0-1.04.2-1.43.59L10.3 9.45l-7.72 7.72c-.78.78-.78 2.05 0 2.83L4 21.41c.39.39.9.59 1.41.59.51 0 1.02-.2 1.41-.59l7.78-7.78 2.81-2.81c.8-.78.8-2.07 0-2.86zM5.41 20L4 18.59l7.72-7.72 1.47 1.35L5.41 20z\"/>\n",
              "  </svg>\n",
              "      </button>\n",
              "      \n",
              "  <style>\n",
              "    .colab-df-container {\n",
              "      display:flex;\n",
              "      flex-wrap:wrap;\n",
              "      gap: 12px;\n",
              "    }\n",
              "\n",
              "    .colab-df-convert {\n",
              "      background-color: #E8F0FE;\n",
              "      border: none;\n",
              "      border-radius: 50%;\n",
              "      cursor: pointer;\n",
              "      display: none;\n",
              "      fill: #1967D2;\n",
              "      height: 32px;\n",
              "      padding: 0 0 0 0;\n",
              "      width: 32px;\n",
              "    }\n",
              "\n",
              "    .colab-df-convert:hover {\n",
              "      background-color: #E2EBFA;\n",
              "      box-shadow: 0px 1px 2px rgba(60, 64, 67, 0.3), 0px 1px 3px 1px rgba(60, 64, 67, 0.15);\n",
              "      fill: #174EA6;\n",
              "    }\n",
              "\n",
              "    [theme=dark] .colab-df-convert {\n",
              "      background-color: #3B4455;\n",
              "      fill: #D2E3FC;\n",
              "    }\n",
              "\n",
              "    [theme=dark] .colab-df-convert:hover {\n",
              "      background-color: #434B5C;\n",
              "      box-shadow: 0px 1px 3px 1px rgba(0, 0, 0, 0.15);\n",
              "      filter: drop-shadow(0px 1px 2px rgba(0, 0, 0, 0.3));\n",
              "      fill: #FFFFFF;\n",
              "    }\n",
              "  </style>\n",
              "\n",
              "      <script>\n",
              "        const buttonEl =\n",
              "          document.querySelector('#df-760fdd9f-c7be-44b0-9813-c7baf78c1e70 button.colab-df-convert');\n",
              "        buttonEl.style.display =\n",
              "          google.colab.kernel.accessAllowed ? 'block' : 'none';\n",
              "\n",
              "        async function convertToInteractive(key) {\n",
              "          const element = document.querySelector('#df-760fdd9f-c7be-44b0-9813-c7baf78c1e70');\n",
              "          const dataTable =\n",
              "            await google.colab.kernel.invokeFunction('convertToInteractive',\n",
              "                                                     [key], {});\n",
              "          if (!dataTable) return;\n",
              "\n",
              "          const docLinkHtml = 'Like what you see? Visit the ' +\n",
              "            '<a target=\"_blank\" href=https://colab.research.google.com/notebooks/data_table.ipynb>data table notebook</a>'\n",
              "            + ' to learn more about interactive tables.';\n",
              "          element.innerHTML = '';\n",
              "          dataTable['output_type'] = 'display_data';\n",
              "          await google.colab.output.renderOutput(dataTable, element);\n",
              "          const docLink = document.createElement('div');\n",
              "          docLink.innerHTML = docLinkHtml;\n",
              "          element.appendChild(docLink);\n",
              "        }\n",
              "      </script>\n",
              "    </div>\n",
              "  </div>\n",
              "  "
            ]
          },
          "metadata": {},
          "execution_count": 97
        }
      ],
      "source": [
        "#Prédiction sans energyStarScore\n",
        "y_test_predict1 = gb_grid_search_model1.predict(X_test)\n",
        "\n",
        "v_avec =  [round((r2_score(Y_test['TotalGHGEmissions'],y_pred)),3), round((mean_absolute_error(Y_test['TotalGHGEmissions'],y_pred)),3)]\n",
        "v_sans=[round((r2_score(Y_test['TotalGHGEmissions'],y_test_predict1)),3), round((mean_absolute_error(Y_test['TotalGHGEmissions'],y_test_predict1)),3)]\n",
        "\n",
        "pd.DataFrame({ \"Metrics\": [\"R2\", \"MAE\"], \"Modèle avec EnergyStarScore\" : v_avec, \"Modèle sans EnergyStarScore\" : v_sans })\n"
      ]
    },
    {
      "cell_type": "markdown",
      "metadata": {
        "id": "Z4hDUlls5VsB"
      },
      "source": [
        "Conclusion : L'energyStar Score n'a pas trop impact sur la qualité du modèle."
      ]
    },
    {
      "cell_type": "markdown",
      "source": [
        "# ANNEXE : Dans cette annexe on analyse en profondeur les raisons pour lesquels nos modèles linéaires (linerRegression, Elastic Net, LinearSVR) n'offrent pas de bonnes performances. Vous trouverez à la fin l'explication de chaque modèle utilisé."
      ],
      "metadata": {
        "id": "uolYyLe8dO5C"
      }
    },
    {
      "cell_type": "markdown",
      "source": [
        "Création du dataset pour une regression avec Statsmodels."
      ],
      "metadata": {
        "id": "ugnzpsZuduXF"
      }
    },
    {
      "cell_type": "code",
      "source": [
        "%matplotlib inline\n",
        "from scipy import stats\n",
        "import statsmodels.api as sm\n",
        "from sklearn import linear_model"
      ],
      "metadata": {
        "id": "7WRawEucTQHH"
      },
      "execution_count": 98,
      "outputs": []
    },
    {
      "cell_type": "code",
      "source": [
        "data_for_lr =data_model[['TotalGHGEmissions','NumberofBuildings','NumberofFloors','PropertyGFATotal','age_batiment','Ratio_parkingParSurface','pr_steam','pr_natural','pr_elec','PrimaryPropertyType','LargestPropertyUseType']]\n",
        "data_for_lr0 =data_for_lr[['TotalGHGEmissions','NumberofBuildings','NumberofFloors','PropertyGFATotal','age_batiment','Ratio_parkingParSurface','pr_steam','pr_natural']]"
      ],
      "metadata": {
        "id": "WGunWRgyTaDi"
      },
      "execution_count": 99,
      "outputs": []
    },
    {
      "cell_type": "code",
      "source": [
        "dummies = pd.get_dummies(data_for_lr[['PrimaryPropertyType']])   # On n'inclut pas 'LargestPropertyUseType' dans le modèle car cette variable n'apporte aucune information pertinente\n",
        "data_for_lr1= pd.concat([data_for_lr0, dummies], axis=1)\n",
        "data_for_lr1.head()"
      ],
      "metadata": {
        "colab": {
          "base_uri": "https://localhost:8080/",
          "height": 317
        },
        "id": "yxDP5sfGUfkX",
        "outputId": "39eac084-8376-47bc-fad9-7a3662ada8f2"
      },
      "execution_count": 100,
      "outputs": [
        {
          "output_type": "execute_result",
          "data": {
            "text/plain": [
              "   TotalGHGEmissions  NumberofBuildings  NumberofFloors  PropertyGFATotal  \\\n",
              "0             249.98                1.0              12             88434   \n",
              "1             295.86                1.0              11            103566   \n",
              "2            2089.28                1.0              41            956110   \n",
              "3             286.43                1.0              10             61320   \n",
              "4             505.01                1.0              18            175580   \n",
              "\n",
              "   age_batiment  Ratio_parkingParSurface  pr_steam  pr_natural  \\\n",
              "0            89                    0.000  0.277302    0.176638   \n",
              "1            20                   14.545  0.000000    0.613391   \n",
              "2            47                   20.575  0.297113    0.020579   \n",
              "3            90                    0.000  0.325913    0.266567   \n",
              "4            36                   35.312  0.000000    0.621198   \n",
              "\n",
              "   PrimaryPropertyType_Distribution Center  PrimaryPropertyType_Hospital  ...  \\\n",
              "0                                        0                             0  ...   \n",
              "1                                        0                             0  ...   \n",
              "2                                        0                             0  ...   \n",
              "3                                        0                             0  ...   \n",
              "4                                        0                             0  ...   \n",
              "\n",
              "   PrimaryPropertyType_Residence Hall  PrimaryPropertyType_Restaurant  \\\n",
              "0                                   0                               0   \n",
              "1                                   0                               0   \n",
              "2                                   0                               0   \n",
              "3                                   0                               0   \n",
              "4                                   0                               0   \n",
              "\n",
              "   PrimaryPropertyType_Retail Store  \\\n",
              "0                                 0   \n",
              "1                                 0   \n",
              "2                                 0   \n",
              "3                                 0   \n",
              "4                                 0   \n",
              "\n",
              "   PrimaryPropertyType_Self-Storage Facility  \\\n",
              "0                                          0   \n",
              "1                                          0   \n",
              "2                                          0   \n",
              "3                                          0   \n",
              "4                                          0   \n",
              "\n",
              "   PrimaryPropertyType_Senior Care Community  \\\n",
              "0                                          0   \n",
              "1                                          0   \n",
              "2                                          0   \n",
              "3                                          0   \n",
              "4                                          0   \n",
              "\n",
              "   PrimaryPropertyType_Small- and Mid-Sized Office  \\\n",
              "0                                                0   \n",
              "1                                                0   \n",
              "2                                                0   \n",
              "3                                                0   \n",
              "4                                                0   \n",
              "\n",
              "   PrimaryPropertyType_Supermarket / Grocery Store  \\\n",
              "0                                                0   \n",
              "1                                                0   \n",
              "2                                                0   \n",
              "3                                                0   \n",
              "4                                                0   \n",
              "\n",
              "   PrimaryPropertyType_University  PrimaryPropertyType_Warehouse  \\\n",
              "0                               0                              0   \n",
              "1                               0                              0   \n",
              "2                               0                              0   \n",
              "3                               0                              0   \n",
              "4                               0                              0   \n",
              "\n",
              "   PrimaryPropertyType_Worship Facility  \n",
              "0                                     0  \n",
              "1                                     0  \n",
              "2                                     0  \n",
              "3                                     0  \n",
              "4                                     0  \n",
              "\n",
              "[5 rows x 28 columns]"
            ],
            "text/html": [
              "\n",
              "  <div id=\"df-a1c1030d-0103-4a40-a6bd-204509610180\">\n",
              "    <div class=\"colab-df-container\">\n",
              "      <div>\n",
              "<style scoped>\n",
              "    .dataframe tbody tr th:only-of-type {\n",
              "        vertical-align: middle;\n",
              "    }\n",
              "\n",
              "    .dataframe tbody tr th {\n",
              "        vertical-align: top;\n",
              "    }\n",
              "\n",
              "    .dataframe thead th {\n",
              "        text-align: right;\n",
              "    }\n",
              "</style>\n",
              "<table border=\"1\" class=\"dataframe\">\n",
              "  <thead>\n",
              "    <tr style=\"text-align: right;\">\n",
              "      <th></th>\n",
              "      <th>TotalGHGEmissions</th>\n",
              "      <th>NumberofBuildings</th>\n",
              "      <th>NumberofFloors</th>\n",
              "      <th>PropertyGFATotal</th>\n",
              "      <th>age_batiment</th>\n",
              "      <th>Ratio_parkingParSurface</th>\n",
              "      <th>pr_steam</th>\n",
              "      <th>pr_natural</th>\n",
              "      <th>PrimaryPropertyType_Distribution Center</th>\n",
              "      <th>PrimaryPropertyType_Hospital</th>\n",
              "      <th>...</th>\n",
              "      <th>PrimaryPropertyType_Residence Hall</th>\n",
              "      <th>PrimaryPropertyType_Restaurant</th>\n",
              "      <th>PrimaryPropertyType_Retail Store</th>\n",
              "      <th>PrimaryPropertyType_Self-Storage Facility</th>\n",
              "      <th>PrimaryPropertyType_Senior Care Community</th>\n",
              "      <th>PrimaryPropertyType_Small- and Mid-Sized Office</th>\n",
              "      <th>PrimaryPropertyType_Supermarket / Grocery Store</th>\n",
              "      <th>PrimaryPropertyType_University</th>\n",
              "      <th>PrimaryPropertyType_Warehouse</th>\n",
              "      <th>PrimaryPropertyType_Worship Facility</th>\n",
              "    </tr>\n",
              "  </thead>\n",
              "  <tbody>\n",
              "    <tr>\n",
              "      <th>0</th>\n",
              "      <td>249.98</td>\n",
              "      <td>1.0</td>\n",
              "      <td>12</td>\n",
              "      <td>88434</td>\n",
              "      <td>89</td>\n",
              "      <td>0.000</td>\n",
              "      <td>0.277302</td>\n",
              "      <td>0.176638</td>\n",
              "      <td>0</td>\n",
              "      <td>0</td>\n",
              "      <td>...</td>\n",
              "      <td>0</td>\n",
              "      <td>0</td>\n",
              "      <td>0</td>\n",
              "      <td>0</td>\n",
              "      <td>0</td>\n",
              "      <td>0</td>\n",
              "      <td>0</td>\n",
              "      <td>0</td>\n",
              "      <td>0</td>\n",
              "      <td>0</td>\n",
              "    </tr>\n",
              "    <tr>\n",
              "      <th>1</th>\n",
              "      <td>295.86</td>\n",
              "      <td>1.0</td>\n",
              "      <td>11</td>\n",
              "      <td>103566</td>\n",
              "      <td>20</td>\n",
              "      <td>14.545</td>\n",
              "      <td>0.000000</td>\n",
              "      <td>0.613391</td>\n",
              "      <td>0</td>\n",
              "      <td>0</td>\n",
              "      <td>...</td>\n",
              "      <td>0</td>\n",
              "      <td>0</td>\n",
              "      <td>0</td>\n",
              "      <td>0</td>\n",
              "      <td>0</td>\n",
              "      <td>0</td>\n",
              "      <td>0</td>\n",
              "      <td>0</td>\n",
              "      <td>0</td>\n",
              "      <td>0</td>\n",
              "    </tr>\n",
              "    <tr>\n",
              "      <th>2</th>\n",
              "      <td>2089.28</td>\n",
              "      <td>1.0</td>\n",
              "      <td>41</td>\n",
              "      <td>956110</td>\n",
              "      <td>47</td>\n",
              "      <td>20.575</td>\n",
              "      <td>0.297113</td>\n",
              "      <td>0.020579</td>\n",
              "      <td>0</td>\n",
              "      <td>0</td>\n",
              "      <td>...</td>\n",
              "      <td>0</td>\n",
              "      <td>0</td>\n",
              "      <td>0</td>\n",
              "      <td>0</td>\n",
              "      <td>0</td>\n",
              "      <td>0</td>\n",
              "      <td>0</td>\n",
              "      <td>0</td>\n",
              "      <td>0</td>\n",
              "      <td>0</td>\n",
              "    </tr>\n",
              "    <tr>\n",
              "      <th>3</th>\n",
              "      <td>286.43</td>\n",
              "      <td>1.0</td>\n",
              "      <td>10</td>\n",
              "      <td>61320</td>\n",
              "      <td>90</td>\n",
              "      <td>0.000</td>\n",
              "      <td>0.325913</td>\n",
              "      <td>0.266567</td>\n",
              "      <td>0</td>\n",
              "      <td>0</td>\n",
              "      <td>...</td>\n",
              "      <td>0</td>\n",
              "      <td>0</td>\n",
              "      <td>0</td>\n",
              "      <td>0</td>\n",
              "      <td>0</td>\n",
              "      <td>0</td>\n",
              "      <td>0</td>\n",
              "      <td>0</td>\n",
              "      <td>0</td>\n",
              "      <td>0</td>\n",
              "    </tr>\n",
              "    <tr>\n",
              "      <th>4</th>\n",
              "      <td>505.01</td>\n",
              "      <td>1.0</td>\n",
              "      <td>18</td>\n",
              "      <td>175580</td>\n",
              "      <td>36</td>\n",
              "      <td>35.312</td>\n",
              "      <td>0.000000</td>\n",
              "      <td>0.621198</td>\n",
              "      <td>0</td>\n",
              "      <td>0</td>\n",
              "      <td>...</td>\n",
              "      <td>0</td>\n",
              "      <td>0</td>\n",
              "      <td>0</td>\n",
              "      <td>0</td>\n",
              "      <td>0</td>\n",
              "      <td>0</td>\n",
              "      <td>0</td>\n",
              "      <td>0</td>\n",
              "      <td>0</td>\n",
              "      <td>0</td>\n",
              "    </tr>\n",
              "  </tbody>\n",
              "</table>\n",
              "<p>5 rows × 28 columns</p>\n",
              "</div>\n",
              "      <button class=\"colab-df-convert\" onclick=\"convertToInteractive('df-a1c1030d-0103-4a40-a6bd-204509610180')\"\n",
              "              title=\"Convert this dataframe to an interactive table.\"\n",
              "              style=\"display:none;\">\n",
              "        \n",
              "  <svg xmlns=\"http://www.w3.org/2000/svg\" height=\"24px\"viewBox=\"0 0 24 24\"\n",
              "       width=\"24px\">\n",
              "    <path d=\"M0 0h24v24H0V0z\" fill=\"none\"/>\n",
              "    <path d=\"M18.56 5.44l.94 2.06.94-2.06 2.06-.94-2.06-.94-.94-2.06-.94 2.06-2.06.94zm-11 1L8.5 8.5l.94-2.06 2.06-.94-2.06-.94L8.5 2.5l-.94 2.06-2.06.94zm10 10l.94 2.06.94-2.06 2.06-.94-2.06-.94-.94-2.06-.94 2.06-2.06.94z\"/><path d=\"M17.41 7.96l-1.37-1.37c-.4-.4-.92-.59-1.43-.59-.52 0-1.04.2-1.43.59L10.3 9.45l-7.72 7.72c-.78.78-.78 2.05 0 2.83L4 21.41c.39.39.9.59 1.41.59.51 0 1.02-.2 1.41-.59l7.78-7.78 2.81-2.81c.8-.78.8-2.07 0-2.86zM5.41 20L4 18.59l7.72-7.72 1.47 1.35L5.41 20z\"/>\n",
              "  </svg>\n",
              "      </button>\n",
              "      \n",
              "  <style>\n",
              "    .colab-df-container {\n",
              "      display:flex;\n",
              "      flex-wrap:wrap;\n",
              "      gap: 12px;\n",
              "    }\n",
              "\n",
              "    .colab-df-convert {\n",
              "      background-color: #E8F0FE;\n",
              "      border: none;\n",
              "      border-radius: 50%;\n",
              "      cursor: pointer;\n",
              "      display: none;\n",
              "      fill: #1967D2;\n",
              "      height: 32px;\n",
              "      padding: 0 0 0 0;\n",
              "      width: 32px;\n",
              "    }\n",
              "\n",
              "    .colab-df-convert:hover {\n",
              "      background-color: #E2EBFA;\n",
              "      box-shadow: 0px 1px 2px rgba(60, 64, 67, 0.3), 0px 1px 3px 1px rgba(60, 64, 67, 0.15);\n",
              "      fill: #174EA6;\n",
              "    }\n",
              "\n",
              "    [theme=dark] .colab-df-convert {\n",
              "      background-color: #3B4455;\n",
              "      fill: #D2E3FC;\n",
              "    }\n",
              "\n",
              "    [theme=dark] .colab-df-convert:hover {\n",
              "      background-color: #434B5C;\n",
              "      box-shadow: 0px 1px 3px 1px rgba(0, 0, 0, 0.15);\n",
              "      filter: drop-shadow(0px 1px 2px rgba(0, 0, 0, 0.3));\n",
              "      fill: #FFFFFF;\n",
              "    }\n",
              "  </style>\n",
              "\n",
              "      <script>\n",
              "        const buttonEl =\n",
              "          document.querySelector('#df-a1c1030d-0103-4a40-a6bd-204509610180 button.colab-df-convert');\n",
              "        buttonEl.style.display =\n",
              "          google.colab.kernel.accessAllowed ? 'block' : 'none';\n",
              "\n",
              "        async function convertToInteractive(key) {\n",
              "          const element = document.querySelector('#df-a1c1030d-0103-4a40-a6bd-204509610180');\n",
              "          const dataTable =\n",
              "            await google.colab.kernel.invokeFunction('convertToInteractive',\n",
              "                                                     [key], {});\n",
              "          if (!dataTable) return;\n",
              "\n",
              "          const docLinkHtml = 'Like what you see? Visit the ' +\n",
              "            '<a target=\"_blank\" href=https://colab.research.google.com/notebooks/data_table.ipynb>data table notebook</a>'\n",
              "            + ' to learn more about interactive tables.';\n",
              "          element.innerHTML = '';\n",
              "          dataTable['output_type'] = 'display_data';\n",
              "          await google.colab.output.renderOutput(dataTable, element);\n",
              "          const docLink = document.createElement('div');\n",
              "          docLink.innerHTML = docLinkHtml;\n",
              "          element.appendChild(docLink);\n",
              "        }\n",
              "      </script>\n",
              "    </div>\n",
              "  </div>\n",
              "  "
            ]
          },
          "metadata": {},
          "execution_count": 100
        }
      ]
    },
    {
      "cell_type": "markdown",
      "source": [
        "Création du modèle linéaire et analyse statistique pour voir si modèle de regression linéaire multiple est pertinent pour nos données.\n"
      ],
      "metadata": {
        "id": "oXif-kVQdji_"
      }
    },
    {
      "cell_type": "code",
      "source": [
        "mydata= data_for_lr1\n",
        "X = mydata.loc[:, mydata.columns != 'TotalGHGEmissions']\n",
        "#X = sm.add_constant(X) # une autre façons d'ajouter une constante\n",
        "y = mydata['TotalGHGEmissions']\n",
        "\n",
        "model = sm.OLS(y, X)\n",
        "results = model.fit()\n",
        "print(results.summary())"
      ],
      "metadata": {
        "colab": {
          "base_uri": "https://localhost:8080/"
        },
        "id": "M3bF_woSbcRJ",
        "outputId": "1ec99a27-d1b4-440d-c768-941693228f1e"
      },
      "execution_count": 101,
      "outputs": [
        {
          "output_type": "stream",
          "name": "stdout",
          "text": [
            "                            OLS Regression Results                            \n",
            "==============================================================================\n",
            "Dep. Variable:      TotalGHGEmissions   R-squared:                       0.694\n",
            "Model:                            OLS   Adj. R-squared:                  0.689\n",
            "Method:                 Least Squares   F-statistic:                     127.5\n",
            "Date:                Sat, 11 Feb 2023   Prob (F-statistic):               0.00\n",
            "Time:                        03:09:03   Log-Likelihood:                -10687.\n",
            "No. Observations:                1487   AIC:                         2.143e+04\n",
            "Df Residuals:                    1460   BIC:                         2.157e+04\n",
            "Df Model:                          26                                         \n",
            "Covariance Type:            nonrobust                                         \n",
            "===================================================================================================================\n",
            "                                                      coef    std err          t      P>|t|      [0.025      0.975]\n",
            "-------------------------------------------------------------------------------------------------------------------\n",
            "NumberofBuildings                                 183.8027     16.958     10.839      0.000     150.538     217.067\n",
            "NumberofFloors                                     -7.7345      1.842     -4.199      0.000     -11.348      -4.121\n",
            "PropertyGFATotal                                    0.0013   6.77e-05     18.798      0.000       0.001       0.001\n",
            "age_batiment                                       -0.2965      0.288     -1.029      0.304      -0.862       0.269\n",
            "Ratio_parkingParSurface                            -1.2615      0.672     -1.877      0.061      -2.580       0.057\n",
            "pr_steam                                         1275.9140     98.358     12.972      0.000    1082.975    1468.853\n",
            "pr_natural                                        199.8735     38.013      5.258      0.000     125.308     274.439\n",
            "PrimaryPropertyType_Distribution Center          -260.8594     51.609     -5.055      0.000    -362.096    -159.623\n",
            "PrimaryPropertyType_Hospital                     3310.3652    129.858     25.492      0.000    3055.637    3565.094\n",
            "PrimaryPropertyType_Hotel                         -76.1148     50.659     -1.502      0.133    -175.487      23.258\n",
            "PrimaryPropertyType_K-12 School                  -267.3189     63.836     -4.188      0.000    -392.540    -142.098\n",
            "PrimaryPropertyType_Laboratory                    461.9409    106.059      4.355      0.000     253.896     669.986\n",
            "PrimaryPropertyType_Large Office                 -365.4557     41.922     -8.717      0.000    -447.690    -283.221\n",
            "PrimaryPropertyType_Medical Office               -130.2020     58.839     -2.213      0.027    -245.619     -14.785\n",
            "PrimaryPropertyType_Mixed Use Property           -172.7098     42.585     -4.056      0.000    -256.245     -89.175\n",
            "PrimaryPropertyType_Other                        -201.4284     35.962     -5.601      0.000    -271.970    -130.887\n",
            "PrimaryPropertyType_Refrigerated Warehouse       -172.6836     96.293     -1.793      0.073    -361.572      16.205\n",
            "PrimaryPropertyType_Residence Hall               -253.3340     75.549     -3.353      0.001    -401.529    -105.139\n",
            "PrimaryPropertyType_Restaurant                   -108.0982    102.789     -1.052      0.293    -309.729      93.532\n",
            "PrimaryPropertyType_Retail Store                 -209.1095     43.451     -4.813      0.000    -294.342    -123.877\n",
            "PrimaryPropertyType_Self-Storage Facility        -266.2014     67.368     -3.951      0.000    -398.350    -134.053\n",
            "PrimaryPropertyType_Senior Care Community         -13.7997     78.466     -0.176      0.860    -167.718     140.118\n",
            "PrimaryPropertyType_Small- and Mid-Sized Office  -206.5381     33.437     -6.177      0.000    -272.128    -140.948\n",
            "PrimaryPropertyType_Supermarket / Grocery Store   -56.7007     56.613     -1.002      0.317    -167.752      54.350\n",
            "PrimaryPropertyType_University                   -163.4806     88.811     -1.841      0.066    -337.692      10.731\n",
            "PrimaryPropertyType_Warehouse                    -251.0008     35.238     -7.123      0.000    -320.123    -181.878\n",
            "PrimaryPropertyType_Worship Facility             -268.3082     51.093     -5.251      0.000    -368.532    -168.084\n",
            "==============================================================================\n",
            "Omnibus:                     1166.557   Durbin-Watson:                   1.963\n",
            "Prob(Omnibus):                  0.000   Jarque-Bera (JB):           363271.928\n",
            "Skew:                           2.605   Prob(JB):                         0.00\n",
            "Kurtosis:                      79.394   Cond. No.                     4.26e+06\n",
            "==============================================================================\n",
            "\n",
            "Notes:\n",
            "[1] Standard Errors assume that the covariance matrix of the errors is correctly specified.\n",
            "[2] The condition number is large, 4.26e+06. This might indicate that there are\n",
            "strong multicollinearity or other numerical problems.\n"
          ]
        }
      ]
    },
    {
      "cell_type": "markdown",
      "source": [
        "Les mauvaises performances du modèle de Regression Linéaire peuvent être attribuées au fait ques les residus (erreurs de prédictions) ne suivent pas une loi normale (d'après le test de Jacques Bera $Prob(JB)<0.05$) et sont pas parfaitement décoréllées($Durbin-Watson = 1.962$). Pour avoir une explication détaillée des tests de  Jacques Bera et Durbin Watson, voir bas de page.\n",
        "\n",
        "Cepedant l'utilisation d'un modèle linéaire pour la modélisation ne manque de pertinence car ($Prob (F-statistic) < 0.05$)"
      ],
      "metadata": {
        "id": "WxiVIdf-_niM"
      }
    },
    {
      "cell_type": "markdown",
      "source": [
        "Création du modèle linéaire et analyse statistique pour voir si modèle **elastic Net** est pertinent pour nos données."
      ],
      "metadata": {
        "id": "MbSwi6MNeC_6"
      }
    },
    {
      "cell_type": "code",
      "source": [
        "model = sm.OLS(y, X)\n",
        "results = model.fit_regularized(method='elastic_net', alpha=0.1, L1_wt=1.0,refit=True)\n",
        "print(results.summary())"
      ],
      "metadata": {
        "colab": {
          "base_uri": "https://localhost:8080/"
        },
        "id": "4brp0czWhDgV",
        "outputId": "2cb789e7-4442-404d-c017-b60633c95d55"
      },
      "execution_count": 102,
      "outputs": [
        {
          "output_type": "stream",
          "name": "stdout",
          "text": [
            "                            OLS Regression Results                            \n",
            "==============================================================================\n",
            "Dep. Variable:      TotalGHGEmissions   R-squared:                       0.694\n",
            "Model:                            OLS   Adj. R-squared:                  0.689\n",
            "Method:                 Least Squares   F-statistic:                     132.4\n",
            "Date:                Sat, 11 Feb 2023   Prob (F-statistic):               0.00\n",
            "Time:                        03:09:04   Log-Likelihood:                -10688.\n",
            "No. Observations:                1487   AIC:                         2.143e+04\n",
            "Df Residuals:                    1462   BIC:                         2.157e+04\n",
            "Df Model:                          25                                         \n",
            "Covariance Type:            nonrobust                                         \n",
            "===================================================================================================================\n",
            "                                                      coef    std err          t      P>|t|      [0.025      0.975]\n",
            "-------------------------------------------------------------------------------------------------------------------\n",
            "NumberofBuildings                                 173.9677     15.875     10.958      0.000     142.827     205.108\n",
            "NumberofFloors                                     -8.4374      1.786     -4.725      0.000     -11.940      -4.935\n",
            "PropertyGFATotal                                    0.0013   6.77e-05     18.822      0.000       0.001       0.001\n",
            "age_batiment                                       -0.4560      0.272     -1.675      0.094      -0.990       0.078\n",
            "Ratio_parkingParSurface                            -1.5678      0.643     -2.437      0.015      -2.830      -0.306\n",
            "pr_steam                                         1254.8272     97.354     12.889      0.000    1063.858    1445.796\n",
            "pr_natural                                        176.2554     35.263      4.998      0.000     107.084     245.427\n",
            "PrimaryPropertyType_Distribution Center          -233.6523     48.969     -4.771      0.000    -329.709    -137.596\n",
            "PrimaryPropertyType_Hospital                     3374.4461    123.884     27.239      0.000    3131.437    3617.455\n",
            "PrimaryPropertyType_Hotel                                0          0        nan        nan           0           0\n",
            "PrimaryPropertyType_K-12 School                  -229.1478     59.590     -3.845      0.000    -346.040    -112.256\n",
            "PrimaryPropertyType_Laboratory                    494.0479    104.278      4.738      0.000     289.497     698.599\n",
            "PrimaryPropertyType_Large Office                 -333.0438     36.847     -9.039      0.000    -405.322    -260.765\n",
            "PrimaryPropertyType_Medical Office               -101.3425     56.155     -1.805      0.071    -211.496       8.811\n",
            "PrimaryPropertyType_Mixed Use Property           -141.1405     38.085     -3.706      0.000    -215.847     -66.434\n",
            "PrimaryPropertyType_Other                        -169.9193     30.527     -5.566      0.000    -229.801    -110.038\n",
            "PrimaryPropertyType_Refrigerated Warehouse       -150.4869     95.398     -1.577      0.115    -337.619      36.645\n",
            "PrimaryPropertyType_Residence Hall               -222.7653     73.279     -3.040      0.002    -366.508     -79.022\n",
            "PrimaryPropertyType_Restaurant                           0          0        nan        nan           0           0\n",
            "PrimaryPropertyType_Retail Store                 -183.0269     40.538     -4.515      0.000    -262.545    -103.509\n",
            "PrimaryPropertyType_Self-Storage Facility        -235.8491     64.862     -3.636      0.000    -363.082    -108.617\n",
            "PrimaryPropertyType_Senior Care Community          20.2785     75.720      0.268      0.789    -128.253     168.810\n",
            "PrimaryPropertyType_Small- and Mid-Sized Office  -178.2437     28.763     -6.197      0.000    -234.665    -121.823\n",
            "PrimaryPropertyType_Supermarket / Grocery Store   -32.0362     54.637     -0.586      0.558    -139.211      75.139\n",
            "PrimaryPropertyType_University                   -130.1703     86.541     -1.504      0.133    -299.927      39.587\n",
            "PrimaryPropertyType_Warehouse                    -224.0328     31.306     -7.156      0.000    -285.443    -162.623\n",
            "PrimaryPropertyType_Worship Facility             -231.9082     46.177     -5.022      0.000    -322.489    -141.328\n",
            "==============================================================================\n",
            "Omnibus:                     1184.962   Durbin-Watson:                   1.962\n",
            "Prob(Omnibus):                  0.000   Jarque-Bera (JB):           381029.639\n",
            "Skew:                           2.671   Prob(JB):                         0.00\n",
            "Kurtosis:                      81.238   Cond. No.                     4.26e+06\n",
            "==============================================================================\n",
            "\n",
            "Notes:\n",
            "[1] Standard Errors assume that the covariance matrix of the errors is correctly specified.\n",
            "[2] The condition number is large, 4.26e+06. This might indicate that there are\n",
            "strong multicollinearity or other numerical problems.\n"
          ]
        }
      ]
    },
    {
      "cell_type": "markdown",
      "source": [
        "Les mauvaises performances du modèle Elastic Net peuvent être attribuées au fait ques les residus (erreurs de prédictions) ne suivent pas une loi normale (d'après le test de Jacques Bera $Prob(JB)<0.05$) et sont pas parfaitement décoréllées ($Durbin-Watson = 1.962$). Pour avoir une explication détaillée des tests de  Jacques Bera et Durbin Watson, voir bas de page.\n",
        "Cepedant l'utilisation d'un modèle linéaire pour la modélisation ne manque de pertinence car ($Prob (F-statistic) < 0.05$)"
      ],
      "metadata": {
        "id": "tpjHmu_mAWpF"
      }
    },
    {
      "cell_type": "markdown",
      "source": [
        "En gros dans le cas où nous sommes le modèle (de régression) ne peut pas expliquer toutes les tendances de l'ensemble de données. Cela impacte la robustesse du modèle.\n"
      ],
      "metadata": {
        "id": "_T99VnNCUu2F"
      }
    },
    {
      "cell_type": "markdown",
      "source": [
        "###  Test de Jacques Bera "
      ],
      "metadata": {
        "id": "eE06deKUDjc1"
      }
    },
    {
      "cell_type": "markdown",
      "source": [
        "Un test de Jarque-Bera utilise les hypothèses nulles et alternatives suivantes :\n",
        "\n",
        "L'hypothèse nulle **H0** : Les résidus sont normalement distribués.\n",
        "\n",
        "L'hypothèse alternative **H1**: Les résidus ne sont pas distribués normalement.\n",
        "\n",
        "Si la p-value (Prob(JB)) < 0.05  alors l'hypothèse nulle est rejetée.\n",
        "\n",
        "Si p-value (Prob(JB)) > 0.05 ; alors nous échouons à rejeter l'hypothèse nulle."
      ],
      "metadata": {
        "id": "o0lsRhAkDpxO"
      }
    },
    {
      "cell_type": "markdown",
      "source": [
        "### Test de Durbin watson"
      ],
      "metadata": {
        "id": "mGGd3hJGLAIB"
      }
    },
    {
      "cell_type": "markdown",
      "source": [
        "Durbin-Watson pour tester l'autocorrélation dans les résidus\n",
        "\n",
        "Une méthode courante de test d'autocorrélation est le test de Durbin-Watson.\n",
        "\n",
        "Recherchez la statistique Durbin – Watson (DW). Elle doit être comprise entre 0 et 4.\n",
        "\n",
        "\n",
        "\n",
        "1.   Si DW = 2, ou proche de celui-ci, n'implique aucune autocorrélation\n",
        "2.   L0 < DW < 2 implique une autocorrélation positive\n",
        "3.   tandis que 2 < DW < 4 indique une autocorrélation négative\n",
        "\n",
        "\n",
        "\n"
      ],
      "metadata": {
        "id": "2fyD5RbmLLJ2"
      }
    },
    {
      "cell_type": "markdown",
      "source": [
        "# Explication des modèles"
      ],
      "metadata": {
        "id": "Lso7EBHhoLNk"
      }
    },
    {
      "cell_type": "markdown",
      "source": [
        "##  <ins> I. Les modèles linéaires </ins>"
      ],
      "metadata": {
        "id": "IUAsEdU9xiEg"
      }
    },
    {
      "cell_type": "markdown",
      "source": [
        "1.<ins>**Regression linéaire**\n",
        "\n",
        "Prenons des données, $n$ points en $p$\n",
        " dimensions, représentés par la matrice $ X∈\\mathbb{R}^{n×p}$, avec leurs étiquettes à valeurs réelles, représentées  par un vecteur $y∈\\mathbb{R}^{n}$\n",
        ".\n",
        "\n",
        "Le but de la régression linéaire est de trouver une fonction linéaire $f:\\mathbb{R}^p→\\mathbb{R}$\n",
        " qui permette de prédire l'étiquette $y^{(i)}$\n",
        " du i-ème point à partir du vecteur  $x^{(i)}$\n",
        ". Autrement dit,  $f(x)$\n",
        " peut s'écrire sous la forme  $β_0+β_1x_1+β_2x_2+⋯+β_px_p$.\n",
        " \n",
        "\n",
        "Comment trouver les valeurs des coefficients  $β_0,β_1,…,β_p$\n",
        " ?"
      ],
      "metadata": {
        "id": "r625T24dsfYD"
      }
    },
    {
      "cell_type": "markdown",
      "source": [
        "2.<ins>**Elastic Net**"
      ],
      "metadata": {
        "id": "Caa5RvjlsiNQ"
      }
    },
    {
      "cell_type": "markdown",
      "source": [
        "L'algorithme Elastic Net est un algorithme de régression linéaire combinant la régularisation $L_1$ (pénalité de la norme $L_1$) et $L_2$ (pénalité de la norme $L_2$). Il a été développé pour résoudre les problèmes de sélection de modèle en régression linéaire, où certaines variables peuvent être considérées comme peu importantes ou peu pertinentes pour expliquer la variable dépendante.\n",
        "\n",
        "La fonction de coût pour l'algorithme Elastic Net peut être définie comme suit :\n",
        "\n",
        "$J(\\beta) = \\frac{1}{2  n}  ||y - X  \\beta||^2_2 + \\lambda (\\alpha  ||\\beta||_1 + \\frac{(1 - \\alpha)}{2}  ||\\beta||^2_2)$\n",
        "\n",
        "Où :\n",
        "\n",
        "$y$ est la variable dépendante\n",
        "\n",
        "$X$ est la matrice de variables indépendantes\n",
        "\n",
        "$\\beta$ est le vecteur de coefficients de régression\n",
        "\n",
        "$n$ est le nombre d'observations dans les données\n",
        "\n",
        "$\\alpha$ est un paramètre de régularisation contrôlant la force de la régularisation\n",
        "$\\lambda$ est un autre paramètre de régularisation contrôlant le mélange entre la régularisation $L_1$ et $L_2$\n",
        "\n",
        "$||.||_1$ est la norme $L_1$ (somme absolue des éléments)\n",
        "\n",
        "$||.||_2$ est la norme $L_2$ (somme des carrés des éléments)\n",
        "\n",
        "*En résumé, l'algorithme Elastic Net optimise la fonction de coût en ajustant les coefficients beta de manière à minimiser la somme de la différence entre les valeurs prédites et observées (première partie de la fonction de coût) et la régularisation (deuxième partie de la fonction de coût). La régularisation $L_1$ **aide à sélectionner les variables les plus pertinentes en réduisant les coefficients des variables considérées comme peu importantes à zéro**, tandis que la régularisation **$L_2$ aide à limiter la complexité du modèle en pénalisant les coefficients de toutes les variables**.*\n",
        "\n",
        "\n",
        "\n"
      ],
      "metadata": {
        "id": "Ss27eeTt3zBP"
      }
    },
    {
      "cell_type": "markdown",
      "source": [
        "3.<ins>**Linear SVR**"
      ],
      "metadata": {
        "id": "SdGJ3ekPsn23"
      }
    },
    {
      "cell_type": "markdown",
      "source": [
        "L'algorithme de régression support vector machine (SVM) linéaire est un algorithme de modélisation de données qui peut être utilisé pour la régression et la classification. Il est basé sur le concept de maximiser la marge entre les données d'entraînement, c'est-à-dire la distance minimale entre les données d'entraînement et le modèle.\n",
        "\n",
        "Dans le cas de la régression SVM linéaire, le but est de trouver un hyperplan séparant les données en deux classes, qui minimise l'erreur quadratique moyenne. L'hyperplan est défini par une équation de la forme:\n",
        "\n",
        "$$ w_1 x_1 + w_2 x_2 + \\cdots + w_n x_n + b = 0 $$\n",
        "\n",
        "où $x_1, x_2, ..., x_n$ sont les caractéristiques d'une observation, $w_1, w_2, ..., w_n$ sont les coefficients associés à chaque caractéristique et $b$ est un terme constant.\n",
        "\n",
        "La régression SVM linéaire se concentre sur la minimisation de l'erreur quadratique moyenne sous contrainte, où la contrainte est la marge maximale entre les données d'entraînement et l'hyperplan. Cela peut être formulé comme un problème d'optimisation sous contrainte:\n",
        "\n",
        "$$ \\min_{w, b} \\frac{1}{N} \\sum_{i=1}^{N} (y_i - (w^T x_i + b))^2 $$\n",
        "\n",
        "$$ y_i (w^T x_i + b) \\geq 1, ; i = 1, 2, ..., N $$\n",
        "\n",
        "où $y_i$ est la cible associée à l'observation $x_i$\n",
        "\n",
        "$N$ est le nombre d'observations dans les données d'entraînement\n",
        "\n",
        "$w^T$ est le vecteur transposé de $w$ et le produit scalaire $w^T x_i$ est la projection de $x_i$ sur $w$.\n",
        "\n",
        "Le problème peut être résolu en utilisant une méthode d'optimisation quadratique qui minimise la fonction objective en prenant en compte les contraintes. Une fois que les coefficients $w$ et $b$ sont trouvés, ils peuvent être utilisés pour faire des prédictions sur des observations inconnues en utilisant l'équation de l'hyperplan.\n",
        "\n",
        "\n",
        "\n",
        "\n",
        "\n",
        "\n",
        "\n",
        "\n"
      ],
      "metadata": {
        "id": "aMH9MVyG8-Ea"
      }
    },
    {
      "cell_type": "markdown",
      "source": [
        "## <ins>II. Les modèles ensemblistes </ins>"
      ],
      "metadata": {
        "id": "XykxGy5xxn_E"
      }
    },
    {
      "cell_type": "markdown",
      "source": [
        "### a) Les aglorithme bagging "
      ],
      "metadata": {
        "id": "lVcjwl4bxzpL"
      }
    },
    {
      "cell_type": "markdown",
      "source": [
        "Le Bagging (Bootstrapped Aggregation) est un algorithme d'ensemble dans le domaine de l'apprentissage automatique. Il permet de réduire la variance d'un modèle en entraînant plusieurs modèles de base sur des sous-échantillons aléatoires du jeu de données d'entraînement. Les prédictions des modèles de base sont ensuite combinées pour obtenir une prédiction finale.\n",
        "\n",
        "L'idée sous-jacente est que si plusieurs modèles de base ont été entraînés sur des sous-échantillons différents du jeu de données, alors les erreurs individuelles des modèles peuvent être atténuées par la moyennisation ou la médianisation des prédictions. Cela peut améliorer la stabilité et la robustesse globale du modèle d'ensemble.\n",
        "\n",
        "Le Bagging est souvent utilisé avec des arbres de décision, mais peut être appliqué à d'autres algorithmes de base tels que les réseaux de neurones ou les modèles linéaires."
      ],
      "metadata": {
        "id": "DIedapN8zEjC"
      }
    },
    {
      "cell_type": "markdown",
      "source": [
        "4.<ins>**Random Forest**</ins>"
      ],
      "metadata": {
        "id": "0JFuaH5tsq92"
      }
    },
    {
      "cell_type": "markdown",
      "source": [
        "Random Forest est un algorithme d'apprentissage automatique supervisé utilisé pour les tâches de classification et de régression. Il se base sur l'ensemble d'arbres de décision.\n",
        "\n",
        "L'idée de base est de construire de nombreux arbres de décision à partir d'un échantillon aléatoire (Boostrap) de données d'entraînement et de les combiner pour faire une prédiction. Chaque arbre individuel fait une prédiction et le résultat final est déterminé par la moyenne des prédictions des arbres. Celte moyenne permet de minimiser les erreurs de prédiction des arbres.\n",
        "\n",
        "Contrairement à la Decisionn Tree, Dans une Random Forest, seules un sous-ensemble aléatoire de variables est considéré pour chaque séparation arbre.\n",
        "\n",
        "Dans une forêt aléatoire, seulement un sous-ensemble aléatoire d'observations est utilisé pour construire chaque noeud à l'opposée du DecisionTree où toutes les observations sont utilisées pour construire chaque noeud.\n",
        "\n",
        "***En résumé, l'algorithme Random Forest crée un grand nombre d'arbres de décision en utilisant des sous-échantillons aléatoires des données d'entraînement et en utilisant un sous-ensemble aléatoire de variables pour faire une prédiction à chaque noeud. Les prédictions des différents arbres sont combinées pour obtenir une prédiction finale.***"
      ],
      "metadata": {
        "id": "8wo0ruPu0zja"
      }
    },
    {
      "cell_type": "markdown",
      "source": [
        "5.<ins>**ExtraTreeRegressor**"
      ],
      "metadata": {
        "id": "y0F2SzOwoOm0"
      }
    },
    {
      "cell_type": "markdown",
      "source": [
        "ExtraTreeRegressor peut souvent atteindre une bonne ou meilleure performance que la forêt aléatoire. la différence clé entre Random Forest et ExtraTreeRegressor est :\n",
        "\n",
        "1. Extra Tree Regressor n'effectue pas d'agrégation bootstrap comme dans RandomForest. <ins>**En termes simples, prend un sous-ensemble aléatoire de données sans remplacement**</ins>. Ainsi, les nœuds sont divisés sur des fractionnements aléatoires et non sur les meilleurs fractionnements.\n",
        "\n",
        "2. Ainsi, dans ExtraTreeRegressor, le caractère aléatoire ne provient pas de l'agrégation bootstrap, mais des fractionnements aléatoires des données. \n",
        "\n",
        "ExtraTreeRegressor offre la plupart du temps les mêmes performances que RandomForest tout en étant plus rapide."
      ],
      "metadata": {
        "id": "3Xy4YnsSoSbY"
      }
    },
    {
      "cell_type": "markdown",
      "source": [
        "### b) algorithme de boosting"
      ],
      "metadata": {
        "id": "KlQI6aLcx8kN"
      }
    },
    {
      "cell_type": "markdown",
      "source": [
        "6.<ins>**XgBoost**"
      ],
      "metadata": {
        "id": "oFhhYeZMsu9p"
      }
    },
    {
      "cell_type": "markdown",
      "source": [
        "L'algorithme XGBoost Regressor implémente une méthode appelée gradient boosting qui consiste à combiner plusieurs modèles de décision simples pour produire un modèle plus complexe et plus précis. Cela se fait en ajoutant des arbres de décision un par un, où chaque nouvel arbre essaie de corriger les erreurs du modèle précédent.\n",
        "\n",
        "L'algorithme XGBoost Regressor implémente également plusieurs améliorations par rapport à d'autres implémentations de l'algorithme gradient boosting, telles que la régularisation L1 et L2, la normalisation des poids des données, l'arrêt précoce pour éviter le sur-apprentissage et la parallélisation pour accélérer le processus de formation.\n",
        "\n",
        "***En résumé, l'algorithme XGBoost Regressor est un algorithme de régression basé sur les arbres de décision qui utilise une méthode de gradient boosting pour combiner plusieurs modèles simples en un modèle plus complexe et plus précis.***"
      ],
      "metadata": {
        "id": "QKn-Zbug_82R"
      }
    }
  ],
  "metadata": {
    "colab": {
      "collapsed_sections": [
        "E_GKV7SxtloJ",
        "LHDm8e3PC2lS",
        "xUdpWnpQ8dRf",
        "NmzJT3pNEQbf",
        "qim3IO47XmUn",
        "29syXkGJqSq1"
      ],
      "provenance": []
    },
    "kernelspec": {
      "display_name": "Python 3",
      "name": "python3"
    },
    "language_info": {
      "name": "python"
    }
  },
  "nbformat": 4,
  "nbformat_minor": 0
}