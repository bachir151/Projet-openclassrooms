{
  "cells": [
    {
      "cell_type": "markdown",
      "source": [
        "# <ins> Prédiction de l'émission de CO2 (TotalGHGEmissions) </ins>"
      ],
      "metadata": {
        "id": "9xRUap4rhKfd"
      }
    },
    {
      "cell_type": "markdown",
      "metadata": {
        "id": "69eS1vnzTyPM"
      },
      "source": [
        "Import des bibliothèques "
      ]
    },
    {
      "cell_type": "code",
      "source": [
        "!pip install plotly  #Installation de plotly pour l'affichage des certains graphiques"
      ],
      "metadata": {
        "colab": {
          "base_uri": "https://localhost:8080/"
        },
        "id": "9G4E2fhBexui",
        "outputId": "0c43a0a9-7d10-4eae-c8af-b6e2e7a3973a"
      },
      "execution_count": 143,
      "outputs": [
        {
          "output_type": "stream",
          "name": "stdout",
          "text": [
            "Looking in indexes: https://pypi.org/simple, https://us-python.pkg.dev/colab-wheels/public/simple/\n",
            "Requirement already satisfied: plotly in /usr/local/lib/python3.8/dist-packages (5.5.0)\n",
            "Requirement already satisfied: six in /usr/local/lib/python3.8/dist-packages (from plotly) (1.15.0)\n",
            "Requirement already satisfied: tenacity>=6.2.0 in /usr/local/lib/python3.8/dist-packages (from plotly) (8.2.0)\n"
          ]
        }
      ]
    },
    {
      "cell_type": "code",
      "execution_count": 144,
      "metadata": {
        "id": "Y_NKsNnNTfnh"
      },
      "outputs": [],
      "source": [
        "import pandas as pd\n",
        "import numpy as np \n",
        "import matplotlib.pyplot as plt\n",
        "import seaborn as sns \n",
        "import plotly.express as px\n",
        "import plotly.graph_objects as go\n",
        "import warnings\n",
        "from sklearn.impute import SimpleImputer\n",
        "from sklearn.preprocessing import OneHotEncoder, StandardScaler, MinMaxScaler, RobustScaler\n",
        "from sklearn.compose import *\n",
        "from sklearn.pipeline import Pipeline\n",
        "from sklearn.model_selection import train_test_split\n",
        "from sklearn.linear_model import *\n",
        "from sklearn.dummy import DummyRegressor\n",
        "from sklearn.svm import LinearSVR\n",
        "import xgboost as xgb\n",
        "from sklearn.model_selection import RandomizedSearchCV\n",
        "from sklearn.ensemble import RandomForestRegressor\n",
        "from sklearn.linear_model import Ridge, Lasso\n",
        "from sklearn.metrics import *\n",
        "from sklearn.model_selection import GridSearchCV\n",
        "from sklearn.compose import TransformedTargetRegressor\n",
        "from sklearn import set_config\n",
        "set_config(display='diagram')\n",
        "from sklearn.ensemble import *\n",
        "warnings.filterwarnings('ignore')\n",
        "\n",
        "#plot distribution de la target et voir le scaler à utiliser "
      ]
    },
    {
      "cell_type": "markdown",
      "metadata": {
        "id": "jRV9TFCtUahR"
      },
      "source": [
        "Téléchargement du jeu de données"
      ]
    },
    {
      "cell_type": "code",
      "source": [
        "data_model =pd.read_csv('https://raw.githubusercontent.com/bachir151/Projet-openclassrooms/master/P3/data.csv',on_bad_lines='skip')\n",
        "data_model =data_model.drop(['Unnamed: 0'], axis=1)\n",
        "#data_model =data_model.drop(['index'], axis=1)\n",
        "data_model.head()"
      ],
      "metadata": {
        "colab": {
          "base_uri": "https://localhost:8080/",
          "height": 299
        },
        "id": "PJKXMM63MOvm",
        "outputId": "78ff4c92-bb43-4dfc-8a40-ded4e0fd0489"
      },
      "execution_count": 145,
      "outputs": [
        {
          "output_type": "execute_result",
          "data": {
            "text/plain": [
              "   SiteEnergyUse(kBtu)  TotalGHGEmissions  NumberofBuildings  NumberofFloors  \\\n",
              "0            7226362.5             249.98                1.0              12   \n",
              "1            8387933.0             295.86                1.0              11   \n",
              "2           72587024.0            2089.28                1.0              41   \n",
              "3            6794584.0             286.43                1.0              10   \n",
              "4           14172606.0             505.01                1.0              18   \n",
              "\n",
              "   PropertyGFATotal  PropertyGFAParking  PropertyGFABuilding(s)  \\\n",
              "0             88434                   0                   88434   \n",
              "1            103566               15064                   88502   \n",
              "2            956110              196718                  759392   \n",
              "3             61320                   0                   61320   \n",
              "4            175580               62000                  113580   \n",
              "\n",
              "   ENERGYSTARScore  age_batiment LargestPropertyUseType  ...    BuildingType  \\\n",
              "0             60.0            89                  Hotel  ...  NonResidential   \n",
              "1             61.0            20                  Hotel  ...  NonResidential   \n",
              "2             43.0            47                  Hotel  ...  NonResidential   \n",
              "3             56.0            90                  Hotel  ...  NonResidential   \n",
              "4             75.0            36                  Hotel  ...  NonResidential   \n",
              "\n",
              "  Ratio_buildingParSurface  Ratio_parkingParSurface  SurfaceParetage  \\\n",
              "0                     1.00                    0.000       6802.61538   \n",
              "1                     0.85                   14.545       8630.50000   \n",
              "2                     0.79                   20.575      22764.52381   \n",
              "3                     1.00                    0.000       5574.54545   \n",
              "4                     0.65                   35.312       9241.05263   \n",
              "\n",
              "   ComplianceStatus   Outlier is_energyStarImputed  pr_steam  pr_natural  \\\n",
              "0         Compliant  inconnue                False  0.277302    0.176638   \n",
              "1         Compliant  inconnue                False  0.000000    0.613391   \n",
              "2         Compliant  inconnue                False  0.297113    0.020579   \n",
              "3         Compliant  inconnue                False  0.325913    0.266567   \n",
              "4         Compliant  inconnue                False  0.000000    0.621198   \n",
              "\n",
              "    pr_elec  \n",
              "0  0.546060  \n",
              "1  0.386609  \n",
              "2  0.682307  \n",
              "3  0.407519  \n",
              "4  0.378802  \n",
              "\n",
              "[5 rows x 21 columns]"
            ],
            "text/html": [
              "\n",
              "  <div id=\"df-485cecad-ac6c-4f2d-93d9-3ae6ff92f032\">\n",
              "    <div class=\"colab-df-container\">\n",
              "      <div>\n",
              "<style scoped>\n",
              "    .dataframe tbody tr th:only-of-type {\n",
              "        vertical-align: middle;\n",
              "    }\n",
              "\n",
              "    .dataframe tbody tr th {\n",
              "        vertical-align: top;\n",
              "    }\n",
              "\n",
              "    .dataframe thead th {\n",
              "        text-align: right;\n",
              "    }\n",
              "</style>\n",
              "<table border=\"1\" class=\"dataframe\">\n",
              "  <thead>\n",
              "    <tr style=\"text-align: right;\">\n",
              "      <th></th>\n",
              "      <th>SiteEnergyUse(kBtu)</th>\n",
              "      <th>TotalGHGEmissions</th>\n",
              "      <th>NumberofBuildings</th>\n",
              "      <th>NumberofFloors</th>\n",
              "      <th>PropertyGFATotal</th>\n",
              "      <th>PropertyGFAParking</th>\n",
              "      <th>PropertyGFABuilding(s)</th>\n",
              "      <th>ENERGYSTARScore</th>\n",
              "      <th>age_batiment</th>\n",
              "      <th>LargestPropertyUseType</th>\n",
              "      <th>...</th>\n",
              "      <th>BuildingType</th>\n",
              "      <th>Ratio_buildingParSurface</th>\n",
              "      <th>Ratio_parkingParSurface</th>\n",
              "      <th>SurfaceParetage</th>\n",
              "      <th>ComplianceStatus</th>\n",
              "      <th>Outlier</th>\n",
              "      <th>is_energyStarImputed</th>\n",
              "      <th>pr_steam</th>\n",
              "      <th>pr_natural</th>\n",
              "      <th>pr_elec</th>\n",
              "    </tr>\n",
              "  </thead>\n",
              "  <tbody>\n",
              "    <tr>\n",
              "      <th>0</th>\n",
              "      <td>7226362.5</td>\n",
              "      <td>249.98</td>\n",
              "      <td>1.0</td>\n",
              "      <td>12</td>\n",
              "      <td>88434</td>\n",
              "      <td>0</td>\n",
              "      <td>88434</td>\n",
              "      <td>60.0</td>\n",
              "      <td>89</td>\n",
              "      <td>Hotel</td>\n",
              "      <td>...</td>\n",
              "      <td>NonResidential</td>\n",
              "      <td>1.00</td>\n",
              "      <td>0.000</td>\n",
              "      <td>6802.61538</td>\n",
              "      <td>Compliant</td>\n",
              "      <td>inconnue</td>\n",
              "      <td>False</td>\n",
              "      <td>0.277302</td>\n",
              "      <td>0.176638</td>\n",
              "      <td>0.546060</td>\n",
              "    </tr>\n",
              "    <tr>\n",
              "      <th>1</th>\n",
              "      <td>8387933.0</td>\n",
              "      <td>295.86</td>\n",
              "      <td>1.0</td>\n",
              "      <td>11</td>\n",
              "      <td>103566</td>\n",
              "      <td>15064</td>\n",
              "      <td>88502</td>\n",
              "      <td>61.0</td>\n",
              "      <td>20</td>\n",
              "      <td>Hotel</td>\n",
              "      <td>...</td>\n",
              "      <td>NonResidential</td>\n",
              "      <td>0.85</td>\n",
              "      <td>14.545</td>\n",
              "      <td>8630.50000</td>\n",
              "      <td>Compliant</td>\n",
              "      <td>inconnue</td>\n",
              "      <td>False</td>\n",
              "      <td>0.000000</td>\n",
              "      <td>0.613391</td>\n",
              "      <td>0.386609</td>\n",
              "    </tr>\n",
              "    <tr>\n",
              "      <th>2</th>\n",
              "      <td>72587024.0</td>\n",
              "      <td>2089.28</td>\n",
              "      <td>1.0</td>\n",
              "      <td>41</td>\n",
              "      <td>956110</td>\n",
              "      <td>196718</td>\n",
              "      <td>759392</td>\n",
              "      <td>43.0</td>\n",
              "      <td>47</td>\n",
              "      <td>Hotel</td>\n",
              "      <td>...</td>\n",
              "      <td>NonResidential</td>\n",
              "      <td>0.79</td>\n",
              "      <td>20.575</td>\n",
              "      <td>22764.52381</td>\n",
              "      <td>Compliant</td>\n",
              "      <td>inconnue</td>\n",
              "      <td>False</td>\n",
              "      <td>0.297113</td>\n",
              "      <td>0.020579</td>\n",
              "      <td>0.682307</td>\n",
              "    </tr>\n",
              "    <tr>\n",
              "      <th>3</th>\n",
              "      <td>6794584.0</td>\n",
              "      <td>286.43</td>\n",
              "      <td>1.0</td>\n",
              "      <td>10</td>\n",
              "      <td>61320</td>\n",
              "      <td>0</td>\n",
              "      <td>61320</td>\n",
              "      <td>56.0</td>\n",
              "      <td>90</td>\n",
              "      <td>Hotel</td>\n",
              "      <td>...</td>\n",
              "      <td>NonResidential</td>\n",
              "      <td>1.00</td>\n",
              "      <td>0.000</td>\n",
              "      <td>5574.54545</td>\n",
              "      <td>Compliant</td>\n",
              "      <td>inconnue</td>\n",
              "      <td>False</td>\n",
              "      <td>0.325913</td>\n",
              "      <td>0.266567</td>\n",
              "      <td>0.407519</td>\n",
              "    </tr>\n",
              "    <tr>\n",
              "      <th>4</th>\n",
              "      <td>14172606.0</td>\n",
              "      <td>505.01</td>\n",
              "      <td>1.0</td>\n",
              "      <td>18</td>\n",
              "      <td>175580</td>\n",
              "      <td>62000</td>\n",
              "      <td>113580</td>\n",
              "      <td>75.0</td>\n",
              "      <td>36</td>\n",
              "      <td>Hotel</td>\n",
              "      <td>...</td>\n",
              "      <td>NonResidential</td>\n",
              "      <td>0.65</td>\n",
              "      <td>35.312</td>\n",
              "      <td>9241.05263</td>\n",
              "      <td>Compliant</td>\n",
              "      <td>inconnue</td>\n",
              "      <td>False</td>\n",
              "      <td>0.000000</td>\n",
              "      <td>0.621198</td>\n",
              "      <td>0.378802</td>\n",
              "    </tr>\n",
              "  </tbody>\n",
              "</table>\n",
              "<p>5 rows × 21 columns</p>\n",
              "</div>\n",
              "      <button class=\"colab-df-convert\" onclick=\"convertToInteractive('df-485cecad-ac6c-4f2d-93d9-3ae6ff92f032')\"\n",
              "              title=\"Convert this dataframe to an interactive table.\"\n",
              "              style=\"display:none;\">\n",
              "        \n",
              "  <svg xmlns=\"http://www.w3.org/2000/svg\" height=\"24px\"viewBox=\"0 0 24 24\"\n",
              "       width=\"24px\">\n",
              "    <path d=\"M0 0h24v24H0V0z\" fill=\"none\"/>\n",
              "    <path d=\"M18.56 5.44l.94 2.06.94-2.06 2.06-.94-2.06-.94-.94-2.06-.94 2.06-2.06.94zm-11 1L8.5 8.5l.94-2.06 2.06-.94-2.06-.94L8.5 2.5l-.94 2.06-2.06.94zm10 10l.94 2.06.94-2.06 2.06-.94-2.06-.94-.94-2.06-.94 2.06-2.06.94z\"/><path d=\"M17.41 7.96l-1.37-1.37c-.4-.4-.92-.59-1.43-.59-.52 0-1.04.2-1.43.59L10.3 9.45l-7.72 7.72c-.78.78-.78 2.05 0 2.83L4 21.41c.39.39.9.59 1.41.59.51 0 1.02-.2 1.41-.59l7.78-7.78 2.81-2.81c.8-.78.8-2.07 0-2.86zM5.41 20L4 18.59l7.72-7.72 1.47 1.35L5.41 20z\"/>\n",
              "  </svg>\n",
              "      </button>\n",
              "      \n",
              "  <style>\n",
              "    .colab-df-container {\n",
              "      display:flex;\n",
              "      flex-wrap:wrap;\n",
              "      gap: 12px;\n",
              "    }\n",
              "\n",
              "    .colab-df-convert {\n",
              "      background-color: #E8F0FE;\n",
              "      border: none;\n",
              "      border-radius: 50%;\n",
              "      cursor: pointer;\n",
              "      display: none;\n",
              "      fill: #1967D2;\n",
              "      height: 32px;\n",
              "      padding: 0 0 0 0;\n",
              "      width: 32px;\n",
              "    }\n",
              "\n",
              "    .colab-df-convert:hover {\n",
              "      background-color: #E2EBFA;\n",
              "      box-shadow: 0px 1px 2px rgba(60, 64, 67, 0.3), 0px 1px 3px 1px rgba(60, 64, 67, 0.15);\n",
              "      fill: #174EA6;\n",
              "    }\n",
              "\n",
              "    [theme=dark] .colab-df-convert {\n",
              "      background-color: #3B4455;\n",
              "      fill: #D2E3FC;\n",
              "    }\n",
              "\n",
              "    [theme=dark] .colab-df-convert:hover {\n",
              "      background-color: #434B5C;\n",
              "      box-shadow: 0px 1px 3px 1px rgba(0, 0, 0, 0.15);\n",
              "      filter: drop-shadow(0px 1px 2px rgba(0, 0, 0, 0.3));\n",
              "      fill: #FFFFFF;\n",
              "    }\n",
              "  </style>\n",
              "\n",
              "      <script>\n",
              "        const buttonEl =\n",
              "          document.querySelector('#df-485cecad-ac6c-4f2d-93d9-3ae6ff92f032 button.colab-df-convert');\n",
              "        buttonEl.style.display =\n",
              "          google.colab.kernel.accessAllowed ? 'block' : 'none';\n",
              "\n",
              "        async function convertToInteractive(key) {\n",
              "          const element = document.querySelector('#df-485cecad-ac6c-4f2d-93d9-3ae6ff92f032');\n",
              "          const dataTable =\n",
              "            await google.colab.kernel.invokeFunction('convertToInteractive',\n",
              "                                                     [key], {});\n",
              "          if (!dataTable) return;\n",
              "\n",
              "          const docLinkHtml = 'Like what you see? Visit the ' +\n",
              "            '<a target=\"_blank\" href=https://colab.research.google.com/notebooks/data_table.ipynb>data table notebook</a>'\n",
              "            + ' to learn more about interactive tables.';\n",
              "          element.innerHTML = '';\n",
              "          dataTable['output_type'] = 'display_data';\n",
              "          await google.colab.output.renderOutput(dataTable, element);\n",
              "          const docLink = document.createElement('div');\n",
              "          docLink.innerHTML = docLinkHtml;\n",
              "          element.appendChild(docLink);\n",
              "        }\n",
              "      </script>\n",
              "    </div>\n",
              "  </div>\n",
              "  "
            ]
          },
          "metadata": {},
          "execution_count": 145
        }
      ]
    },
    {
      "cell_type": "markdown",
      "metadata": {
        "id": "nMtT7-s3TNuZ"
      },
      "source": [
        "#Modélisation : Prédiction de l'émission de CO2"
      ]
    },
    {
      "cell_type": "markdown",
      "metadata": {
        "id": "Br6s0rkDplHH"
      },
      "source": [
        "### Selection des variables\n",
        "---\n",
        "\n"
      ]
    },
    {
      "cell_type": "code",
      "execution_count": 146,
      "metadata": {
        "id": "LHrSUK8_phPL"
      },
      "outputs": [],
      "source": [
        "X= data_model[['NumberofBuildings','NumberofFloors', 'ENERGYSTARScore','PropertyGFATotal','age_batiment','PrimaryPropertyType','Ratio_parkingParSurface','LargestPropertyUseType','pr_steam','pr_natural','pr_elec']]\n",
        "Y = data_model[['SiteEnergyUse(kBtu)','TotalGHGEmissions']]"
      ]
    },
    {
      "cell_type": "markdown",
      "source": [
        "### Transformation logarithmique de notre variable **TotalGHGEmissions**\n",
        "---"
      ],
      "metadata": {
        "id": "LHDm8e3PC2lS"
      }
    },
    {
      "cell_type": "code",
      "execution_count": 147,
      "metadata": {
        "colab": {
          "base_uri": "https://localhost:8080/",
          "height": 513
        },
        "id": "jqoO5a8UpnpN",
        "outputId": "9f13c78f-5d7b-4544-cf5e-39a3bd309509"
      },
      "outputs": [
        {
          "output_type": "display_data",
          "data": {
            "text/plain": [
              "<Figure size 1440x576 with 2 Axes>"
            ],
            "image/png": "[encoded data removed]"
          },
          "metadata": {
            "needs_background": "light"
          }
        }
      ],
      "source": [
        "from sklearn.preprocessing import FunctionTransformer\n",
        "\n",
        "logtransformer = FunctionTransformer(np.log, inverse_func = np.exp, check_inverse = True)\n",
        "Y_log = logtransformer.transform(Y)\n",
        "fig, axes = plt.subplots(nrows=1, ncols=2, sharex=False, sharey=False, figsize=(20,8))\n",
        "sns.histplot(data=Y, x='TotalGHGEmissions', stat=\"density\", ax=axes[0], color='#6bb72c')\n",
        "axes[0].set_title(\"Données initiales\", color='#2c68b7')\n",
        "sns.histplot(data=Y_log, x='TotalGHGEmissions', stat=\"density\", ax=axes[1], color='#6bb72c')\n",
        "axes[1].set_title(\"Transformation logarithme\", color='#2c68b7')\n",
        "plt.show()"
      ]
    },
    {
      "cell_type": "markdown",
      "metadata": {
        "id": "PEKBx53EEy0p"
      },
      "source": [
        "Modèle baseline : Régression linéaire"
      ]
    },
    {
      "cell_type": "markdown",
      "source": [
        "### Création de Pipeline de transformation des variables : Scaling et One-hot encoding (pour les variables qualitatives).\n",
        "\n",
        "---"
      ],
      "metadata": {
        "id": "xGjdufsRDMgN"
      }
    },
    {
      "cell_type": "code",
      "execution_count": 148,
      "metadata": {
        "id": "H9UjM03WDs8t"
      },
      "outputs": [],
      "source": [
        "# Séparation des variables numériques et des variables qualitatives\n",
        "numerical_features  =  ['NumberofBuildings','NumberofFloors','PropertyGFATotal','ENERGYSTARScore','age_batiment','Ratio_parkingParSurface','pr_steam','pr_natural','pr_elec']\n",
        "categorical_features  = ['PrimaryPropertyType','LargestPropertyUseType'] \n",
        "\n",
        "global  X_train, X_test, Y_train, Y_test\n",
        "X_train, X_test, Y_train, Y_test = train_test_split(X, Y, test_size=0.2, random_state=35, shuffle=True)\n",
        "\n",
        "# Scaling\n",
        "numerical_pipeline = Pipeline(steps=[\n",
        "      #('impute', SimpleImputer(strategy='mean')),\n",
        "      ('scale', StandardScaler())   \n",
        "  ])\n",
        "\n",
        "#OneHotencoder\n",
        "categorical_pipeline= Pipeline(steps=[\n",
        "      #('impute', SimpleImputer(strategy='most_frequent')),\n",
        "      ('one-hot',OneHotEncoder())\n",
        "  ])\n",
        "\n",
        "\n",
        "# Création d'un ColumnTransformer pour appliquer un pipeline pour chaque type de colonne\n",
        "preprocessor = ColumnTransformer(transformers=[\n",
        "      ('numerical_pipeline',numerical_pipeline,numerical_features),\n",
        "      ('categorical_pipeline=',categorical_pipeline,categorical_features )\n",
        "      ],\n",
        "      remainder='passthrough',\n",
        "      n_jobs=-1,\n",
        "      )\n"
      ]
    },
    {
      "cell_type": "markdown",
      "source": [
        "### Modèle baseline  : DummyRegressor\n",
        "---"
      ],
      "metadata": {
        "id": "AEW055E23tNc"
      }
    },
    {
      "cell_type": "code",
      "source": [
        "from sklearn.model_selection import cross_val_score\n",
        "from sklearn.model_selection import KFold\n",
        "from sklearn.metrics import  make_scorer\n",
        "\n",
        "cv = KFold(n_splits=5, shuffle=True, random_state=45)\n",
        "\n",
        "model_baseline= Pipeline(\n",
        "    steps=[(\"preprocessor\", preprocessor), (\"DUM\", TransformedTargetRegressor(regressor= DummyRegressor()  ,func=np.log1p, inverse_func=np.expm1))]\n",
        ")\n",
        "\n",
        "dummy_param_grid = [ {\"DUM__regressor__strategy\": [\"mean\"]} ]   \n",
        "\n",
        "myscore = ('r2','neg_mean_absolute_error')\n",
        "dummy_grid_search = GridSearchCV(estimator=model_baseline,\n",
        "        param_grid=dummy_param_grid,\n",
        "        scoring=myscore, refit='neg_mean_absolute_error', n_jobs=-1,\n",
        "        cv=cv,return_train_score=True) \n",
        "\n",
        "#cross_val_score(model_baseline, X_train, Y_train['TotalGHGEmissions'], cv=cv,scoring=r2)"
      ],
      "metadata": {
        "id": "BHjBXpFa3Aop"
      },
      "execution_count": 149,
      "outputs": []
    },
    {
      "cell_type": "code",
      "source": [
        "dumy_model=dummy_grid_search.fit (X_train, Y_train['TotalGHGEmissions'])"
      ],
      "metadata": {
        "id": "7SsKzIfm5hkH"
      },
      "execution_count": 150,
      "outputs": []
    },
    {
      "cell_type": "markdown",
      "source": [
        "Metrics de notre modèle baseline"
      ],
      "metadata": {
        "id": "SBA3xBsb6GPy"
      }
    },
    {
      "cell_type": "code",
      "source": [
        "y_test = Y_test['TotalGHGEmissions']\n",
        "y_pred= dummy_grid_search.predict(X_test)\n",
        "print(\"Metrics de notre modèle baseline \\n\")\n",
        "print ( \"R2 : \" , round(r2_score (y_test, y_pred),2) ,  \"| MAE :\", round(mean_absolute_error (y_test, y_pred),2), ' | RMSE :', np.sqrt(round(mean_squared_error (y_test, y_pred),2) ))"
      ],
      "metadata": {
        "colab": {
          "base_uri": "https://localhost:8080/"
        },
        "id": "pxiZ-gHPBCIF",
        "outputId": "75bc034f-1106-442a-cfd9-ce8ac3db88b0"
      },
      "execution_count": 151,
      "outputs": [
        {
          "output_type": "stream",
          "name": "stdout",
          "text": [
            "Metrics de notre modèle baseline \n",
            "\n",
            "R2 :  -0.11 | MAE : 102.71  | RMSE : 220.75882768306232\n"
          ]
        }
      ]
    },
    {
      "cell_type": "markdown",
      "source": [
        "Qualité prédictive de notre modèle baseline.\n"
      ],
      "metadata": {
        "id": "u2nmV_o569AI"
      }
    },
    {
      "cell_type": "code",
      "execution_count": 152,
      "metadata": {
        "colab": {
          "base_uri": "https://localhost:8080/",
          "height": 352
        },
        "id": "mcV-GyLyRhK-",
        "outputId": "931cf3db-fd95-4ff3-afa7-c001c0801253"
      },
      "outputs": [
        {
          "output_type": "execute_result",
          "data": {
            "text/plain": [
              "<matplotlib.axes._subplots.AxesSubplot at 0x7f33fc1acd30>"
            ]
          },
          "metadata": {},
          "execution_count": 152
        },
        {
          "output_type": "display_data",
          "data": {
            "text/plain": [
              "<Figure size 1152x360 with 1 Axes>"
            ],
            "image/png": "[encoded data removed]"
          },
          "metadata": {
            "needs_background": "light"
          }
        }
      ],
      "source": [
        "# traçage de y_test versus y_pred\n",
        "# l'idéal c'est que tous les points doivent le plus possible être aliognés sur la droite.\n",
        "\n",
        "plt.figure(figsize=(16,5))\n",
        "p1 = max(max(y_test), max(y_pred))\n",
        "p2 = min(min(y_test), min(y_pred))\n",
        "plt.plot([p1, p2], [p1, p2], 'b-')\n",
        "sns.scatterplot(x=y_test, y=y_pred)"
      ]
    },
    {
      "cell_type": "markdown",
      "source": [
        "### Pipeline de création des modèles à tester et GridSearch\n",
        "\n",
        "---"
      ],
      "metadata": {
        "id": "-8frYMcpCT95"
      }
    },
    {
      "cell_type": "markdown",
      "source": [
        "### Code get feauture name"
      ],
      "metadata": {
        "id": "qim3IO47XmUn"
      }
    },
    {
      "cell_type": "code",
      "source": [
        "# Code copié à partir du site : https://bbakiu.medium.com/extracting-feature-names-from-the-columntransformer-f1bed520aeba\n",
        "import warnings\n",
        "\n",
        "from sklearn.pipeline import Pipeline\n",
        "\n",
        "def get_feature_names(column_transformer):\n",
        "    \"\"\"Get feature names from all transformers.\n",
        "    Returns\n",
        "    -------\n",
        "    feature_names : list of strings\n",
        "        Names of the features produced by transform.\n",
        "    \"\"\"\n",
        "    \n",
        "    \n",
        "    # Get columns and bin edges\n",
        "    def pair_bin_edges_columns(bins_edges, columns):\n",
        "        all_edge_column = []\n",
        "        for index in range(len(columns)):\n",
        "            bin_edge = bins_edges[index]\n",
        "            column = columns[index]\n",
        "            \n",
        "            pair_bin_edge = []\n",
        "            # match consecutive bin edges together\n",
        "            for first, second in zip(bin_edge, bin_edge[1:]):\n",
        "                pair_bin_edge.append((first, second))\n",
        "            \n",
        "            bin_edge_column = [column +\": [\"+ str(edge[0]) +\", \"+ str(edge[1])+\")\"  for edge in pair_bin_edge]\n",
        "            all_edge_column.extend(bin_edge_column)\n",
        "        return all_edge_column\n",
        "    \n",
        "    \n",
        "    \n",
        "    # Turn loopkup into function for better handling with pipeline later\n",
        "    def get_names(trans):\n",
        "        # >> Original get_feature_names() method\n",
        "        if trans == 'drop' or (\n",
        "                hasattr(column, '__len__') and not len(column)):\n",
        "            return []\n",
        "        if trans == 'passthrough':\n",
        "            if hasattr(column_transformer, '_df_columns'):\n",
        "                if ((not isinstance(column, slice))\n",
        "                        and all(isinstance(col, str) for col in column)):\n",
        "                    return column\n",
        "                else:\n",
        "                    return column_transformer._df_columns[column]\n",
        "            else:\n",
        "                indices = np.arange(column_transformer._n_features)\n",
        "                return ['x%d' % i for i in indices[column]]\n",
        "        if not hasattr(trans, 'get_feature_names'):\n",
        "        # >>> Change: Return input column names if no method avaiable\n",
        "            # Turn error into a warning\n",
        "            warnings.warn(\"Transformer %s (type %s) does not \"\n",
        "                                 \"provide get_feature_names. \"\n",
        "                                 \"Will return input column names if available\"\n",
        "                                 % (str(name), type(trans).__name__))\n",
        "            # For transformers without a get_features_names method, use the input\n",
        "            # names to the column transformer\n",
        "            \n",
        "            # For transformers that create bins\n",
        "            if hasattr(trans, 'bin_edges_'):\n",
        "                bins_edges = trans.bin_edges_\n",
        "                pairs_edges_columns = pair_bin_edges_columns(bins_edges, column)\n",
        "            if column is None:\n",
        "                return []\n",
        "            else:\n",
        "                return [name + \"__\" + f for f in pairs_edges_columns]\n",
        "        return [name + \"__\" + f for f in trans.get_feature_names(column)]\n",
        "    \n",
        "    ### Start of processing\n",
        "    feature_names = []\n",
        "    \n",
        "    # Allow transformers to be pipelines. Pipeline steps are named differently, so preprocessing is needed\n",
        "    if type(column_transformer) == Pipeline:\n",
        "        l_transformers = [(name, trans, None, None) for step, name, trans in column_transformer._iter()]\n",
        "    else:\n",
        "        # For column transformers, follow the original method\n",
        "        l_transformers = list(column_transformer._iter(fitted=True))\n",
        "    \n",
        "    for name, trans, column, _ in l_transformers:\n",
        "        if type(trans) == Pipeline:\n",
        "            # Recursive call on pipeline\n",
        "            _names = get_feature_names(trans)\n",
        "            # if pipeline has no transformer that returns names\n",
        "            if len(_names)==0:\n",
        "                _names = [name + \"__\" + f for f in column]\n",
        "            feature_names.extend(_names)\n",
        "        else:\n",
        "            feature_names.extend(get_names(trans))\n",
        "    \n",
        "    return feature_names"
      ],
      "metadata": {
        "id": "YP0gOSUkXlxy"
      },
      "execution_count": 153,
      "outputs": []
    },
    {
      "cell_type": "markdown",
      "source": [],
      "metadata": {
        "id": "Ni3g5feRi-N1"
      }
    },
    {
      "cell_type": "code",
      "source": [
        "#feat_importances.plot(kind='barh(a'\"')"
      ],
      "metadata": {
        "id": "OPDqLxpfwITr"
      },
      "execution_count": 154,
      "outputs": []
    },
    {
      "cell_type": "markdown",
      "source": [
        "### GridSearch pour les différents modèles"
      ],
      "metadata": {
        "id": "F8ZjOuNmDClO"
      }
    },
    {
      "cell_type": "markdown",
      "metadata": {
        "id": "xVz3PRKYGRd3"
      },
      "source": [
        "Pipeline, paramètre  et Gridsearch de tous les modèles à tester. J'ai en premier effectué un RandomisedSearch pour détecter les meilleurs hyperparamètre pour chaque modèle, puis j'ai effectué un GridSearch avec les paramètres trouvés avec le RandomisedSearch. Cela premet de réduire le temps d'execution de notre code vu qu'on peut être amené à l'excuter plusieurs fois."
      ]
    },
    {
      "cell_type": "code",
      "execution_count": 155,
      "metadata": {
        "id": "4V7lVYxOuXJK"
      },
      "outputs": [],
      "source": [
        "#################             Régression linéaire multiple     ##########\n",
        "from sklearn.compose import TransformedTargetRegressor\n",
        "from sklearn.model_selection import RandomizedSearchCV\n",
        "nb_split = 5\n",
        "score = ['accuracy','neg_mean_absolute_error','neg_mean_squared_error']\n",
        "\n",
        "pipe_lr = Pipeline(\n",
        "    steps=[(\"preprocessor\", preprocessor), (\"LR\", TransformedTargetRegressor(regressor=LinearRegression(), func=np.log1p, inverse_func=np.expm1) )]\n",
        ")\n",
        "\n",
        "myscore = ('r2','neg_mean_absolute_error','neg_mean_squared_error')\n",
        "\n",
        "lr_param_grid = [ {\"LR__regressor__fit_intercept\": [True, False]}   ] \n",
        "\n",
        "\n",
        "lr_grid_search = GridSearchCV(estimator=pipe_lr,\n",
        "        param_grid=lr_param_grid, refit='neg_mean_absolute_error',\n",
        "        scoring=myscore, n_jobs=-1,\n",
        "        cv=nb_split,return_train_score=True)\n",
        "\n",
        "\n",
        "########################         Elastic Net           ######################\n",
        "\n",
        "pipe_elastic = Pipeline(\n",
        "    steps=[(\"preprocessor\", preprocessor), (\"ELN\", TransformedTargetRegressor(regressor=ElasticNet() ,func=np.log, inverse_func=np.exp) )]\n",
        ")\n",
        "## Paramaètre du randomize search\n",
        "\"\"\"elastic_param_grid = [     {\"ELN__regressor__max_iter\": [10, 100, 1000],\n",
        "                            \"ELN__regressor__alpha\": np.logspace(-5, 5, num=10),  # alpha plus grand --- - 5 à 5 , augmenter la granularité\n",
        "                             \"ELN__regressor__l1_ratio\": np.arange(0.0, 1.1, 0.1) } ]   \"\"\"\n",
        "\n",
        "elastic_param_grid ={'ELN__regressor__alpha': [0.9],\n",
        " 'ELN__regressor__l1_ratio':[ 0.0 ],\n",
        " 'ELN__regressor__max_iter': [100]}\n",
        "\n",
        "elastic_grid_search = GridSearchCV(estimator=pipe_elastic,\n",
        "        param_grid=elastic_param_grid,\n",
        "        scoring=myscore, refit='neg_mean_absolute_error', n_jobs=-1,\n",
        "        cv=nb_split,return_train_score=True) \n",
        "\n",
        "########################         Linear SVR           ######################\n",
        "pipe_lsvr =Pipeline(\n",
        "    steps=[(\"preprocessor\", preprocessor), (\"LinearSVR\", TransformedTargetRegressor(regressor=LinearSVR() ,func=np.log, inverse_func=np.exp) )]\n",
        ")\n",
        "lsvr_param_grid = [      {'LinearSVR__regressor__C' : np.logspace(-4, 0, 5),\n",
        "                          'LinearSVR__regressor__epsilon' : [0, 0.01, 0.1, 0.5, 1, 2],\n",
        "                         'LinearSVR__regressor__loss' : [\"epsilon_insensitive\",\"squared_epsilon_insensitive\"],\n",
        "                          'LinearSVR__regressor__max_iter': [10, 100, 1000]}   ] \n",
        "\n",
        "\n",
        "\"\"\"lsvr_param_grid ={'LinearSVR__regressor__C': [0.6],\n",
        " 'LinearSVR__regressor__epsilon': [1],\n",
        " 'LinearSVR__regressor__loss': ['epsilon_insensitive'],\n",
        " 'LinearSVR__regressor__max_iter': [10]}\"\"\"\n",
        "\n",
        "lsvr_grid_search = GridSearchCV(estimator=pipe_lsvr,\n",
        "        param_grid=lsvr_param_grid,\n",
        "        scoring=myscore, refit='neg_mean_absolute_error', n_jobs=-1,\n",
        "        cv=nb_split, return_train_score=True)\n",
        "\n",
        "\n",
        "########################         Random Forest           ######################\n",
        "pipe_rfr= Pipeline(\n",
        "    steps=[(\"preprocessor\", preprocessor), (\"RandomForest\", TransformedTargetRegressor(regressor=RandomForestRegressor() ,func=np.log, inverse_func=np.exp) )]\n",
        ")\n",
        "\n",
        "# Paramètre pour le Randomize search\n",
        "\"\"\"rfr_param_grid = [ {'RandomForest__regressor__max_features' : ['sqrt', 'log2'],\n",
        "                   'RandomForest__regressor__max_depth': [15, 25, 200],\n",
        "                   'RandomForest__regressor__min_samples_split': [2, 7, 8],\n",
        "                   'RandomForest__regressor__bootstrap' : [True, False],\n",
        "                   'RandomForest__regressor__min_samples_leaf': [1,2,5]}\"\"\"\n",
        "\n",
        "rfr_param_grid={'RandomForest__regressor__bootstrap': [False],\n",
        "                'RandomForest__regressor__max_depth': [25,50],\n",
        "                'RandomForest__regressor__max_features': ['sqrt'],\n",
        "                'RandomForest__regressor__min_samples_leaf': [1],\n",
        "                'RandomForest__regressor__min_samples_split': [2]}\n",
        "                                                      \n",
        "rfr_grid_search = GridSearchCV(estimator=pipe_rfr,\n",
        "       param_grid=rfr_param_grid,\n",
        "        scoring=myscore, refit='neg_mean_absolute_error', n_jobs=-1,\n",
        "        cv=nb_split, return_train_score=True)                                                  \n",
        "                                                 \n",
        "########################         ExtratreeRegressor          ######################\n",
        "\n",
        "\n",
        "pipe_extra = Pipeline(\n",
        "    steps=[(\"preprocessor\", preprocessor), (\"ExtraTree\", TransformedTargetRegressor(regressor=ExtraTreesRegressor(random_state=0) ,func=np.log, inverse_func=np.exp) ) ] \n",
        ")\n",
        "\n",
        "## Paramaètre du randomize search\n",
        "\"\"\"  {'ExtraTree__regressor__n_estimators':[350,500],\n",
        "         'ExtraTree__regressor__max_depth':[8,9,10],\n",
        "         'ExtraTree__regressor__min_samples_split':[3,4,6],\n",
        "         'ExtraTree__regressor__min_samples_leaf':[2,3,4],\n",
        "         'ExtraTree__regressor__max_features':[0.95],\n",
        "         'ExtraTree__regressor__min_impurity_decrease':[1e-5,1e-4,0]}  \"\"\"\n",
        "\n",
        "## Paramètre choisis  pour le gridsearch après le Randomize search\n",
        "param_grid_mlp = {'ExtraTree__regressor__n_estimators': [350],\n",
        " 'ExtraTree__regressor__min_samples_split':[ 3],\n",
        " 'ExtraTree__regressor__min_samples_leaf': [2],\n",
        " 'ExtraTree__regressor__min_impurity_decrease': [1e-05],\n",
        " 'ExtraTree__regressor__max_features': [0.95],\n",
        " 'ExtraTree__regressor__max_depth': [10]}\n",
        "\n",
        "\n",
        "\n",
        "\n",
        "extraTree_grid_search = GridSearchCV(estimator=pipe_extra,\n",
        "        param_grid =param_grid_mlp,\n",
        "        scoring=myscore, refit='neg_mean_absolute_error', n_jobs=-1,\n",
        "        cv=nb_split, return_train_score=True) \n",
        "\n",
        "########################         XgBoost Regressor          #####################\n",
        "pipe_gb= Pipeline(\n",
        "    steps=[(\"preprocessor\", preprocessor), (\"GB\", TransformedTargetRegressor(regressor=GradientBoostingRegressor() ,func=np.log, inverse_func=np.exp) )]\n",
        ")\n",
        "\n",
        "# Paramètre du randomized Search\n",
        "\"\"\"param_grid_GrBoostR = [{'GB__regressor__n_estimators': [350,500,700], \n",
        "                        'GB__regressor__max_depth': [5,6,7], \n",
        "                        'GB__regressor__min_samples_split': [2,3,4], \n",
        "                        'GB__regressor__learning_rate': [0.01,0.1], \n",
        "                        'GB__regressor__loss': ['ls'],\n",
        "                       \"GB__regressor__random_state\" : [0]\n",
        "                       }] \"\"\"\n",
        "\n",
        "param_grid_GrBoostR={'GB__regressor__random_state': [0],\n",
        "                    'GB__regressor__n_estimators': [350],\n",
        "                    'GB__regressor__min_samples_split': [3],\n",
        "                    'GB__regressor__max_depth': [5],\n",
        "                    'GB__regressor__loss': ['ls'],\n",
        "                    'GB__regressor__learning_rate': [0.1]}\n",
        "\n",
        "gb_grid_search =  GridSearchCV(estimator=pipe_gb,\n",
        "         param_grid=param_grid_GrBoostR,\n",
        "        scoring=myscore, refit='neg_mean_absolute_error', n_jobs=-1,\n",
        "        cv=nb_split, return_train_score=True)   \n"
      ]
    },
    {
      "cell_type": "markdown",
      "source": [
        "Architecture de chaque modèle "
      ],
      "metadata": {
        "id": "jQcV_6JWP_rR"
      }
    },
    {
      "cell_type": "code",
      "source": [
        "lr_grid_search"
      ],
      "metadata": {
        "colab": {
          "base_uri": "https://localhost:8080/",
          "height": 233
        },
        "id": "P-IkCBAyQJW_",
        "outputId": "0d76f12d-6a1b-4520-8736-1ca75e10f0df"
      },
      "execution_count": 156,
      "outputs": [
        {
          "output_type": "execute_result",
          "data": {
            "text/plain": [
              "GridSearchCV(cv=5,\n",
              "             estimator=Pipeline(steps=[('preprocessor',\n",
              "                                        ColumnTransformer(n_jobs=-1,\n",
              "                                                          remainder='passthrough',\n",
              "                                                          transformers=[('numerical_pipeline',\n",
              "                                                                         Pipeline(steps=[('scale',\n",
              "                                                                                          StandardScaler())]),\n",
              "                                                                         ['NumberofBuildings',\n",
              "                                                                          'NumberofFloors',\n",
              "                                                                          'PropertyGFATotal',\n",
              "                                                                          'ENERGYSTARScore',\n",
              "                                                                          'age_batiment',\n",
              "                                                                          'Ratio_parkingParSurface',\n",
              "                                                                          'pr_steam',\n",
              "                                                                          'pr_natural',\n",
              "                                                                          'pr_elec']),\n",
              "                                                                        ('cat...\n",
              "                                                                         ['PrimaryPropertyType',\n",
              "                                                                          'LargestPropertyUseType'])])),\n",
              "                                       ('LR',\n",
              "                                        TransformedTargetRegressor(func=<ufunc 'log1p'>,\n",
              "                                                                   inverse_func=<ufunc 'expm1'>,\n",
              "                                                                   regressor=LinearRegression()))]),\n",
              "             n_jobs=-1,\n",
              "             param_grid=[{'LR__regressor__fit_intercept': [True, False]}],\n",
              "             refit='neg_mean_absolute_error', return_train_score=True,\n",
              "             scoring=('r2', 'neg_mean_absolute_error',\n",
              "                      'neg_mean_squared_error'))"
            ],
            "text/html": [
              "<style>#sk-76cc85ee-0d4e-4175-afec-c0901c8dda92 {color: black;background-color: white;}#sk-76cc85ee-0d4e-4175-afec-c0901c8dda92 pre{padding: 0;}#sk-76cc85ee-0d4e-4175-afec-c0901c8dda92 div.sk-toggleable {background-color: white;}#sk-76cc85ee-0d4e-4175-afec-c0901c8dda92 label.sk-toggleable__label {cursor: pointer;display: block;width: 100%;margin-bottom: 0;padding: 0.3em;box-sizing: border-box;text-align: center;}#sk-76cc85ee-0d4e-4175-afec-c0901c8dda92 label.sk-toggleable__label-arrow:before {content: \"▸\";float: left;margin-right: 0.25em;color: #696969;}#sk-76cc85ee-0d4e-4175-afec-c0901c8dda92 label.sk-toggleable__label-arrow:hover:before {color: black;}#sk-76cc85ee-0d4e-4175-afec-c0901c8dda92 div.sk-estimator:hover label.sk-toggleable__label-arrow:before {color: black;}#sk-76cc85ee-0d4e-4175-afec-c0901c8dda92 div.sk-toggleable__content {max-height: 0;max-width: 0;overflow: hidden;text-align: left;background-color: #f0f8ff;}#sk-76cc85ee-0d4e-4175-afec-c0901c8dda92 div.sk-toggleable__content pre {margin: 0.2em;color: black;border-radius: 0.25em;background-color: #f0f8ff;}#sk-76cc85ee-0d4e-4175-afec-c0901c8dda92 input.sk-toggleable__control:checked~div.sk-toggleable__content {max-height: 200px;max-width: 100%;overflow: auto;}#sk-76cc85ee-0d4e-4175-afec-c0901c8dda92 input.sk-toggleable__control:checked~label.sk-toggleable__label-arrow:before {content: \"▾\";}#sk-76cc85ee-0d4e-4175-afec-c0901c8dda92 div.sk-estimator input.sk-toggleable__control:checked~label.sk-toggleable__label {background-color: #d4ebff;}#sk-76cc85ee-0d4e-4175-afec-c0901c8dda92 div.sk-label input.sk-toggleable__control:checked~label.sk-toggleable__label {background-color: #d4ebff;}#sk-76cc85ee-0d4e-4175-afec-c0901c8dda92 input.sk-hidden--visually {border: 0;clip: rect(1px 1px 1px 1px);clip: rect(1px, 1px, 1px, 1px);height: 1px;margin: -1px;overflow: hidden;padding: 0;position: absolute;width: 1px;}#sk-76cc85ee-0d4e-4175-afec-c0901c8dda92 div.sk-estimator {font-family: monospace;background-color: #f0f8ff;border: 1px dotted black;border-radius: 0.25em;box-sizing: border-box;margin-bottom: 0.5em;}#sk-76cc85ee-0d4e-4175-afec-c0901c8dda92 div.sk-estimator:hover {background-color: #d4ebff;}#sk-76cc85ee-0d4e-4175-afec-c0901c8dda92 div.sk-parallel-item::after {content: \"\";width: 100%;border-bottom: 1px solid gray;flex-grow: 1;}#sk-76cc85ee-0d4e-4175-afec-c0901c8dda92 div.sk-label:hover label.sk-toggleable__label {background-color: #d4ebff;}#sk-76cc85ee-0d4e-4175-afec-c0901c8dda92 div.sk-serial::before {content: \"\";position: absolute;border-left: 1px solid gray;box-sizing: border-box;top: 2em;bottom: 0;left: 50%;}#sk-76cc85ee-0d4e-4175-afec-c0901c8dda92 div.sk-serial {display: flex;flex-direction: column;align-items: center;background-color: white;padding-right: 0.2em;padding-left: 0.2em;}#sk-76cc85ee-0d4e-4175-afec-c0901c8dda92 div.sk-item {z-index: 1;}#sk-76cc85ee-0d4e-4175-afec-c0901c8dda92 div.sk-parallel {display: flex;align-items: stretch;justify-content: center;background-color: white;}#sk-76cc85ee-0d4e-4175-afec-c0901c8dda92 div.sk-parallel::before {content: \"\";position: absolute;border-left: 1px solid gray;box-sizing: border-box;top: 2em;bottom: 0;left: 50%;}#sk-76cc85ee-0d4e-4175-afec-c0901c8dda92 div.sk-parallel-item {display: flex;flex-direction: column;position: relative;background-color: white;}#sk-76cc85ee-0d4e-4175-afec-c0901c8dda92 div.sk-parallel-item:first-child::after {align-self: flex-end;width: 50%;}#sk-76cc85ee-0d4e-4175-afec-c0901c8dda92 div.sk-parallel-item:last-child::after {align-self: flex-start;width: 50%;}#sk-76cc85ee-0d4e-4175-afec-c0901c8dda92 div.sk-parallel-item:only-child::after {width: 0;}#sk-76cc85ee-0d4e-4175-afec-c0901c8dda92 div.sk-dashed-wrapped {border: 1px dashed gray;margin: 0 0.4em 0.5em 0.4em;box-sizing: border-box;padding-bottom: 0.4em;background-color: white;position: relative;}#sk-76cc85ee-0d4e-4175-afec-c0901c8dda92 div.sk-label label {font-family: monospace;font-weight: bold;background-color: white;display: inline-block;line-height: 1.2em;}#sk-76cc85ee-0d4e-4175-afec-c0901c8dda92 div.sk-label-container {position: relative;z-index: 2;text-align: center;}#sk-76cc85ee-0d4e-4175-afec-c0901c8dda92 div.sk-container {/* jupyter's `normalize.less` sets `[hidden] { display: none; }` but bootstrap.min.css set `[hidden] { display: none !important; }` so we also need the `!important` here to be able to override the default hidden behavior on the sphinx rendered scikit-learn.org. See: https://github.com/scikit-learn/scikit-learn/issues/21755 */display: inline-block !important;position: relative;}#sk-76cc85ee-0d4e-4175-afec-c0901c8dda92 div.sk-text-repr-fallback {display: none;}</style><div id=\"sk-76cc85ee-0d4e-4175-afec-c0901c8dda92\" class=\"sk-top-container\"><div class=\"sk-text-repr-fallback\"><pre>GridSearchCV(cv=5,\n",
              "             estimator=Pipeline(steps=[(&#x27;preprocessor&#x27;,\n",
              "                                        ColumnTransformer(n_jobs=-1,\n",
              "                                                          remainder=&#x27;passthrough&#x27;,\n",
              "                                                          transformers=[(&#x27;numerical_pipeline&#x27;,\n",
              "                                                                         Pipeline(steps=[(&#x27;scale&#x27;,\n",
              "                                                                                          StandardScaler())]),\n",
              "                                                                         [&#x27;NumberofBuildings&#x27;,\n",
              "                                                                          &#x27;NumberofFloors&#x27;,\n",
              "                                                                          &#x27;PropertyGFATotal&#x27;,\n",
              "                                                                          &#x27;ENERGYSTARScore&#x27;,\n",
              "                                                                          &#x27;age_batiment&#x27;,\n",
              "                                                                          &#x27;Ratio_parkingParSurface&#x27;,\n",
              "                                                                          &#x27;pr_steam&#x27;,\n",
              "                                                                          &#x27;pr_natural&#x27;,\n",
              "                                                                          &#x27;pr_elec&#x27;]),\n",
              "                                                                        (&#x27;cat...\n",
              "                                                                         [&#x27;PrimaryPropertyType&#x27;,\n",
              "                                                                          &#x27;LargestPropertyUseType&#x27;])])),\n",
              "                                       (&#x27;LR&#x27;,\n",
              "                                        TransformedTargetRegressor(func=&lt;ufunc &#x27;log1p&#x27;&gt;,\n",
              "                                                                   inverse_func=&lt;ufunc &#x27;expm1&#x27;&gt;,\n",
              "                                                                   regressor=LinearRegression()))]),\n",
              "             n_jobs=-1,\n",
              "             param_grid=[{&#x27;LR__regressor__fit_intercept&#x27;: [True, False]}],\n",
              "             refit=&#x27;neg_mean_absolute_error&#x27;, return_train_score=True,\n",
              "             scoring=(&#x27;r2&#x27;, &#x27;neg_mean_absolute_error&#x27;,\n",
              "                      &#x27;neg_mean_squared_error&#x27;))</pre><b>Please rerun this cell to show the HTML repr or trust the notebook.</b></div><div class=\"sk-container\" hidden><div class=\"sk-item sk-dashed-wrapped\"><div class=\"sk-label-container\"><div class=\"sk-label sk-toggleable\"><input class=\"sk-toggleable__control sk-hidden--visually\" id=\"55d2a211-64c1-4d3d-a72e-98f3e55d7faa\" type=\"checkbox\" ><label for=\"55d2a211-64c1-4d3d-a72e-98f3e55d7faa\" class=\"sk-toggleable__label sk-toggleable__label-arrow\">GridSearchCV</label><div class=\"sk-toggleable__content\"><pre>GridSearchCV(cv=5,\n",
              "             estimator=Pipeline(steps=[(&#x27;preprocessor&#x27;,\n",
              "                                        ColumnTransformer(n_jobs=-1,\n",
              "                                                          remainder=&#x27;passthrough&#x27;,\n",
              "                                                          transformers=[(&#x27;numerical_pipeline&#x27;,\n",
              "                                                                         Pipeline(steps=[(&#x27;scale&#x27;,\n",
              "                                                                                          StandardScaler())]),\n",
              "                                                                         [&#x27;NumberofBuildings&#x27;,\n",
              "                                                                          &#x27;NumberofFloors&#x27;,\n",
              "                                                                          &#x27;PropertyGFATotal&#x27;,\n",
              "                                                                          &#x27;ENERGYSTARScore&#x27;,\n",
              "                                                                          &#x27;age_batiment&#x27;,\n",
              "                                                                          &#x27;Ratio_parkingParSurface&#x27;,\n",
              "                                                                          &#x27;pr_steam&#x27;,\n",
              "                                                                          &#x27;pr_natural&#x27;,\n",
              "                                                                          &#x27;pr_elec&#x27;]),\n",
              "                                                                        (&#x27;cat...\n",
              "                                                                         [&#x27;PrimaryPropertyType&#x27;,\n",
              "                                                                          &#x27;LargestPropertyUseType&#x27;])])),\n",
              "                                       (&#x27;LR&#x27;,\n",
              "                                        TransformedTargetRegressor(func=&lt;ufunc &#x27;log1p&#x27;&gt;,\n",
              "                                                                   inverse_func=&lt;ufunc &#x27;expm1&#x27;&gt;,\n",
              "                                                                   regressor=LinearRegression()))]),\n",
              "             n_jobs=-1,\n",
              "             param_grid=[{&#x27;LR__regressor__fit_intercept&#x27;: [True, False]}],\n",
              "             refit=&#x27;neg_mean_absolute_error&#x27;, return_train_score=True,\n",
              "             scoring=(&#x27;r2&#x27;, &#x27;neg_mean_absolute_error&#x27;,\n",
              "                      &#x27;neg_mean_squared_error&#x27;))</pre></div></div></div><div class=\"sk-parallel\"><div class=\"sk-parallel-item\"><div class=\"sk-item\"><div class=\"sk-serial\"><div class=\"sk-item\"><div class=\"sk-serial\"><div class=\"sk-item sk-dashed-wrapped\"><div class=\"sk-label-container\"><div class=\"sk-label sk-toggleable\"><input class=\"sk-toggleable__control sk-hidden--visually\" id=\"43110d99-80e3-4808-916d-a923910f36b4\" type=\"checkbox\" ><label for=\"43110d99-80e3-4808-916d-a923910f36b4\" class=\"sk-toggleable__label sk-toggleable__label-arrow\">preprocessor: ColumnTransformer</label><div class=\"sk-toggleable__content\"><pre>ColumnTransformer(n_jobs=-1, remainder=&#x27;passthrough&#x27;,\n",
              "                  transformers=[(&#x27;numerical_pipeline&#x27;,\n",
              "                                 Pipeline(steps=[(&#x27;scale&#x27;, StandardScaler())]),\n",
              "                                 [&#x27;NumberofBuildings&#x27;, &#x27;NumberofFloors&#x27;,\n",
              "                                  &#x27;PropertyGFATotal&#x27;, &#x27;ENERGYSTARScore&#x27;,\n",
              "                                  &#x27;age_batiment&#x27;, &#x27;Ratio_parkingParSurface&#x27;,\n",
              "                                  &#x27;pr_steam&#x27;, &#x27;pr_natural&#x27;, &#x27;pr_elec&#x27;]),\n",
              "                                (&#x27;categorical_pipeline=&#x27;,\n",
              "                                 Pipeline(steps=[(&#x27;one-hot&#x27;, OneHotEncoder())]),\n",
              "                                 [&#x27;PrimaryPropertyType&#x27;,\n",
              "                                  &#x27;LargestPropertyUseType&#x27;])])</pre></div></div></div><div class=\"sk-parallel\"><div class=\"sk-parallel-item\"><div class=\"sk-item\"><div class=\"sk-label-container\"><div class=\"sk-label sk-toggleable\"><input class=\"sk-toggleable__control sk-hidden--visually\" id=\"e41fb668-a86c-4f8d-adee-0e64fbae4e5f\" type=\"checkbox\" ><label for=\"e41fb668-a86c-4f8d-adee-0e64fbae4e5f\" class=\"sk-toggleable__label sk-toggleable__label-arrow\">numerical_pipeline</label><div class=\"sk-toggleable__content\"><pre>[&#x27;NumberofBuildings&#x27;, &#x27;NumberofFloors&#x27;, &#x27;PropertyGFATotal&#x27;, &#x27;ENERGYSTARScore&#x27;, &#x27;age_batiment&#x27;, &#x27;Ratio_parkingParSurface&#x27;, &#x27;pr_steam&#x27;, &#x27;pr_natural&#x27;, &#x27;pr_elec&#x27;]</pre></div></div></div><div class=\"sk-serial\"><div class=\"sk-item\"><div class=\"sk-serial\"><div class=\"sk-item\"><div class=\"sk-estimator sk-toggleable\"><input class=\"sk-toggleable__control sk-hidden--visually\" id=\"6b95ba06-af70-424b-9a2a-fccf6d04ec77\" type=\"checkbox\" ><label for=\"6b95ba06-af70-424b-9a2a-fccf6d04ec77\" class=\"sk-toggleable__label sk-toggleable__label-arrow\">StandardScaler</label><div class=\"sk-toggleable__content\"><pre>StandardScaler()</pre></div></div></div></div></div></div></div></div><div class=\"sk-parallel-item\"><div class=\"sk-item\"><div class=\"sk-label-container\"><div class=\"sk-label sk-toggleable\"><input class=\"sk-toggleable__control sk-hidden--visually\" id=\"f73bfc16-293e-4862-9761-93d40a2a0c1c\" type=\"checkbox\" ><label for=\"f73bfc16-293e-4862-9761-93d40a2a0c1c\" class=\"sk-toggleable__label sk-toggleable__label-arrow\">categorical_pipeline=</label><div class=\"sk-toggleable__content\"><pre>[&#x27;PrimaryPropertyType&#x27;, &#x27;LargestPropertyUseType&#x27;]</pre></div></div></div><div class=\"sk-serial\"><div class=\"sk-item\"><div class=\"sk-serial\"><div class=\"sk-item\"><div class=\"sk-estimator sk-toggleable\"><input class=\"sk-toggleable__control sk-hidden--visually\" id=\"8e9cff1c-3fd1-4832-8c52-8ad097589a2a\" type=\"checkbox\" ><label for=\"8e9cff1c-3fd1-4832-8c52-8ad097589a2a\" class=\"sk-toggleable__label sk-toggleable__label-arrow\">OneHotEncoder</label><div class=\"sk-toggleable__content\"><pre>OneHotEncoder()</pre></div></div></div></div></div></div></div></div><div class=\"sk-parallel-item\"><div class=\"sk-item\"><div class=\"sk-label-container\"><div class=\"sk-label sk-toggleable\"><input class=\"sk-toggleable__control sk-hidden--visually\" id=\"02fe66cb-a8cd-42b2-b9c4-2cb2abbe6663\" type=\"checkbox\" ><label for=\"02fe66cb-a8cd-42b2-b9c4-2cb2abbe6663\" class=\"sk-toggleable__label sk-toggleable__label-arrow\">remainder</label><div class=\"sk-toggleable__content\"><pre></pre></div></div></div><div class=\"sk-serial\"><div class=\"sk-item\"><div class=\"sk-estimator sk-toggleable\"><input class=\"sk-toggleable__control sk-hidden--visually\" id=\"17537ec6-4867-4dc4-8e86-63c87ff6df9e\" type=\"checkbox\" ><label for=\"17537ec6-4867-4dc4-8e86-63c87ff6df9e\" class=\"sk-toggleable__label sk-toggleable__label-arrow\">passthrough</label><div class=\"sk-toggleable__content\"><pre>passthrough</pre></div></div></div></div></div></div></div></div><div class=\"sk-item sk-dashed-wrapped\"><div class=\"sk-label-container\"><div class=\"sk-label sk-toggleable\"><input class=\"sk-toggleable__control sk-hidden--visually\" id=\"632897ff-2b98-4b80-a93f-713bc429349f\" type=\"checkbox\" ><label for=\"632897ff-2b98-4b80-a93f-713bc429349f\" class=\"sk-toggleable__label sk-toggleable__label-arrow\">LR: TransformedTargetRegressor</label><div class=\"sk-toggleable__content\"><pre>TransformedTargetRegressor(func=&lt;ufunc &#x27;log1p&#x27;&gt;, inverse_func=&lt;ufunc &#x27;expm1&#x27;&gt;,\n",
              "                           regressor=LinearRegression())</pre></div></div></div><div class=\"sk-parallel\"><div class=\"sk-parallel-item\"><div class=\"sk-item\"><div class=\"sk-serial\"><div class=\"sk-item\"><div class=\"sk-estimator sk-toggleable\"><input class=\"sk-toggleable__control sk-hidden--visually\" id=\"e113b5a3-cc8e-4c49-955f-8f72b7ccd990\" type=\"checkbox\" ><label for=\"e113b5a3-cc8e-4c49-955f-8f72b7ccd990\" class=\"sk-toggleable__label sk-toggleable__label-arrow\">LinearRegression</label><div class=\"sk-toggleable__content\"><pre>LinearRegression()</pre></div></div></div></div></div></div></div></div></div></div></div></div></div></div></div></div></div>"
            ]
          },
          "metadata": {},
          "execution_count": 156
        }
      ]
    },
    {
      "cell_type": "markdown",
      "metadata": {
        "id": "04BwXAcKHWTY"
      },
      "source": [
        "### Entrainement des modèles et choix des meilleurs modèles après le GridSearch\n",
        "---"
      ]
    },
    {
      "cell_type": "code",
      "execution_count": 157,
      "metadata": {
        "id": "m0pQHZrB1zyz"
      },
      "outputs": [],
      "source": [
        "global target\n",
        "global R\n",
        "global lr_grid_search_model , elastic_grid_search_model, lsvr_grid_search_model, rfr_grid_search_model , mlp_grid_search_model, gb_grid_search_model\n",
        "target = ['TotalGHGEmissions', 'SiteEnergyUse(kBtu)']\n"
      ]
    },
    {
      "cell_type": "code",
      "source": [
        "def train_model (model) :\n",
        "  mymod = model.fit(X_train,Y_train['TotalGHGEmissions'])\n",
        "  y_test = Y_test['TotalGHGEmissions']\n",
        "  y_pred= mymod.predict(X_test)\n",
        "  print ( \"R2 : \" , round(r2_score (y_test, y_pred),2) ,  \"| MAE :\", round(mean_absolute_error (y_test, y_pred),2), ' | RMSE :', round( np.sqrt(mean_squared_error (y_test, y_pred)),2))\n",
        "  return mymod.best_params_\n"
      ],
      "metadata": {
        "id": "YobjUIrYDAWK"
      },
      "execution_count": 158,
      "outputs": []
    },
    {
      "cell_type": "code",
      "source": [
        "%%time\n",
        "target_x =target[0]\n",
        "lr_grid_search_model = lr_grid_search.fit(X_train,Y_train['TotalGHGEmissions'])\n",
        "elastic_grid_search_model = elastic_grid_search.fit(X_train,Y_train['TotalGHGEmissions'])\n",
        "lsvr_grid_search_model = lsvr_grid_search.fit(X_train,Y_train['TotalGHGEmissions'])\n",
        "rfr_grid_search_model = rfr_grid_search.fit(X_train,Y_train['TotalGHGEmissions'])\n",
        "mlp_grid_search_model = extraTree_grid_search.fit(X_train,Y_train['TotalGHGEmissions'])\n",
        "gb_grid_search_model = gb_grid_search.fit(X_train,Y_train['TotalGHGEmissions'])\n"
      ],
      "metadata": {
        "id": "2U6Du9QrOsfg"
      },
      "execution_count": null,
      "outputs": []
    },
    {
      "cell_type": "code",
      "execution_count": null,
      "metadata": {
        "id": "ksYni_mhYIol"
      },
      "outputs": [],
      "source": [
        "modele ={ 'Linear Regression': lr_grid_search_model, 'Elastic Net' : elastic_grid_search_model , 'Linear SVR': lsvr_grid_search_model ,\n",
        "         'RandomForest':rfr_grid_search_model, 'ExtraTree Regressor':mlp_grid_search_model,'GradientBoost' : gb_grid_search_model}"
      ]
    },
    {
      "cell_type": "markdown",
      "metadata": {
        "id": "50q9ALdtMVTv"
      },
      "source": [
        "###  Choix du meilleur modèle pour la variable target TotalGHGEmissions \n",
        "---"
      ]
    },
    {
      "cell_type": "markdown",
      "source": [
        "Metrics de chaque modèle sur la cross validation du Gridsearch."
      ],
      "metadata": {
        "id": "KnLJjpH-g2qc"
      }
    },
    {
      "cell_type": "code",
      "execution_count": null,
      "metadata": {
        "id": "ar3IjCel3Gue"
      },
      "outputs": [],
      "source": [
        "a=pd.DataFrame(lr_grid_search_model.cv_results_)[[\t'mean_fit_time', 'mean_test_neg_mean_absolute_error','mean_test_neg_mean_squared_error','mean_test_r2'\t,'std_train_neg_mean_absolute_error','params', ]].head(1)\n",
        "b=pd.DataFrame(elastic_grid_search_model.cv_results_)[[\t'mean_fit_time', 'mean_test_neg_mean_absolute_error','mean_test_neg_mean_squared_error','mean_test_r2'\t,'std_train_neg_mean_absolute_error','params',]].head(1)\n",
        "c=pd.DataFrame(lsvr_grid_search_model.cv_results_)[['mean_fit_time', 'mean_test_neg_mean_absolute_error','mean_test_neg_mean_squared_error','mean_test_r2'\t,'std_train_neg_mean_absolute_error','params',\t]].head(1)\n",
        "d=pd.DataFrame(rfr_grid_search_model.cv_results_)[[\t'mean_fit_time', 'mean_test_neg_mean_absolute_error','mean_test_neg_mean_squared_error','mean_test_r2'\t,'std_train_neg_mean_absolute_error','params',]].head(1)\n",
        "e=pd.DataFrame(mlp_grid_search_model.cv_results_)[[\t'mean_fit_time', 'mean_test_neg_mean_absolute_error','mean_test_neg_mean_squared_error','mean_test_r2'\t,'std_train_neg_mean_absolute_error','params',]].head(1)\n",
        "f=pd.DataFrame(gb_grid_search_model.cv_results_)[[\t'mean_fit_time', 'mean_test_neg_mean_absolute_error','mean_test_neg_mean_squared_error','mean_test_r2'\t,'std_train_neg_mean_absolute_error','params',]].head(1)\n",
        "\n",
        "R=pd.concat([a, b,c,d,e,f])\n",
        "R[\"Modèles\"] = ['LinearRegression', 'ElasticNet', 'Linear SVR', 'RandomForest', 'Extratree Regressor', 'GradientBoost']\n",
        "\n",
        "cols =R.columns.tolist()\n",
        "cols = cols[-1:] + cols[:-1]\n",
        "R= R[cols] \n",
        "R.rename(columns={'mean_fit_time' :'fit time', 'mean_test_neg_mean_absolute_error' : 'MAE (moyen)','mean_test_neg_mean_squared_error' : 'MSE (moyen)','mean_test_r2' :'R2 (moyen)'\t,'std_train_neg_mean_absolute_error': 'std_MAE'}, inplace=True)\n",
        "R['MAE (moyen)'] = -R['MAE (moyen)']\n",
        "R['MSE (moyen)'] = -R['MSE (moyen)']\n",
        "#R['RMSE'] = -R['RMSE']\n",
        "R"
      ]
    },
    {
      "cell_type": "markdown",
      "source": [
        "Le modèle qui offre de meilleurs performances sur la Cross-Validation du grid Search est le GradientBoost. Il a un MAE et MSE plus petit et R2 plus important que les autres modèles."
      ],
      "metadata": {
        "id": "hs14z3gs0GDg"
      }
    },
    {
      "cell_type": "markdown",
      "source": [
        "### Qualité de prediction du meilleur modèle choisi après le GridSearch : le modèle gradientBoost\n",
        "\n",
        "---"
      ],
      "metadata": {
        "id": "Gg_wAU3egPBW"
      }
    },
    {
      "cell_type": "code",
      "source": [
        "dict_train={}\n",
        "\n",
        "for m in modele.keys() :\n",
        "  y_pred =modele[m].best_estimator_.predict(X_train)\n",
        "  dict_train[m] = [round(mean_squared_error(Y_train['TotalGHGEmissions'],y_pred),3) , round(np.sqrt(mean_squared_error(Y_train['TotalGHGEmissions'],y_pred)) ,2), round((mean_absolute_error(Y_train['TotalGHGEmissions'],y_pred)),2),round((r2_score(Y_train['TotalGHGEmissions'],y_pred)),2)  ]\n",
        "\n",
        "\n",
        "dict_test={}\n",
        "\n",
        "for m in modele.keys() :\n",
        "  y_pred =modele[m].best_estimator_.predict(X_test)\n",
        "  dict_test[m] = [ round(mean_squared_error(Y_test['TotalGHGEmissions'],y_pred),3) ,round(np.sqrt(mean_squared_error(Y_test['TotalGHGEmissions'],y_pred)) ,2), round((mean_absolute_error(Y_test['TotalGHGEmissions'],y_pred)),2),round((r2_score(Y_test['TotalGHGEmissions'],y_pred)),2) ]\n"
      ],
      "metadata": {
        "id": "rn-gKdSukDat"
      },
      "execution_count": null,
      "outputs": []
    },
    {
      "cell_type": "markdown",
      "source": [
        "### Qualité de prédiction de chaque modèle du modèle GradientBoost sur le test et le train set.\n",
        "----\n",
        "\n"
      ],
      "metadata": {
        "id": "PiZpbGjKdqaC"
      }
    },
    {
      "cell_type": "code",
      "source": [
        "#Prédiction sur le train set\n",
        "print (\"                           Metrics sur le Train set\")\n",
        "metrics=pd.DataFrame(dict_train)\n",
        "metrics.index = ([\"MSE\",\"RMSE\",\"MAE\",\"R2\"])\n",
        "display(metrics.T)\n",
        "print(\"\\n\")\n",
        "\n",
        "# Prédiction sur le test set\n",
        "print (\"                           Metrics sur le Test set\")\n",
        "metrics=pd.DataFrame(dict_test)\n",
        "metrics.index = ([\"MSE\",\"RMSE\",\"MAE\",\"R2\"])\n",
        "display(metrics.T)\n",
        "\n",
        "#= 8, 45(good) , 90  - 22  et 35 (very good), 0 (bon MAE pour gradient boost) , 80 (=comme le 8), 65 (gentil avec svr et elastic)"
      ],
      "metadata": {
        "id": "MxLIjo-EikVt"
      },
      "execution_count": null,
      "outputs": []
    },
    {
      "cell_type": "markdown",
      "source": [
        "Avec les résultats ci-dessus, on voit  que le modèle GradientBoost offre le meilleur score **MAE**  (environ 44) et un meilleur $R^2$ (~0.81) . On rentiendra ce modèle pour la modélisation de la \n",
        "variable **TotalGHGEmissions** est donc le modèle GradientBoost."
      ],
      "metadata": {
        "id": "1zlWT-u1nxjK"
      }
    },
    {
      "cell_type": "markdown",
      "metadata": {
        "id": "Q5pSbt6tzfYB"
      },
      "source": [
        "### Temps d'entrainement de chaque modèles\n",
        "---"
      ]
    },
    {
      "cell_type": "code",
      "execution_count": null,
      "metadata": {
        "id": "rI4_tDO-aS3F"
      },
      "outputs": [],
      "source": [
        "import plotly.graph_objects as go\n",
        "fig = go.Figure([ go.Bar(name='temps entrainement',x=R['Modèles'], y=R['fit time'])])\n",
        "fig.update_layout(barmode='group',autosize=False, width=700, height=400)\n",
        "\n",
        "fig.show()"
      ]
    },
    {
      "cell_type": "markdown",
      "metadata": {
        "id": "ar69QiVzpECt"
      },
      "source": [
        "Observons les scores obtenus sur les différents splits de la Cross-validation du GridSearch."
      ]
    },
    {
      "cell_type": "markdown",
      "metadata": {
        "id": "29syXkGJqSq1"
      },
      "source": [
        "### Code pour tracer les performances sur train et le test set de la cross validation du grid search"
      ]
    },
    {
      "cell_type": "code",
      "execution_count": null,
      "metadata": {
        "id": "t7cC92BQo3Of"
      },
      "outputs": [],
      "source": [
        "import plotly.express as px\n",
        "def trace_mae(mymodel) :\n",
        "  t1=pd.DataFrame(mymodel.cv_results_)[[\"split0_train_neg_mean_absolute_error\",\t\"split1_train_neg_mean_absolute_error\",\"split2_train_neg_mean_absolute_error\",\t\"split3_train_neg_mean_absolute_error\",\t\"split4_train_neg_mean_absolute_error\"\t,\"rank_test_neg_mean_absolute_error\"]].sort_values(by='rank_test_neg_mean_absolute_error').head(1)\n",
        "  t1=pd.DataFrame(mymodel.cv_results_)[[\"split0_train_neg_mean_absolute_error\",\t\"split1_train_neg_mean_absolute_error\",\"split2_train_neg_mean_absolute_error\",\t\"split3_train_neg_mean_absolute_error\",\"split4_train_neg_mean_absolute_error\"]]\n",
        "  t2= pd.DataFrame(mymodel.cv_results_)[[\"split0_test_neg_mean_absolute_error\",\t\"split1_test_neg_mean_absolute_error\",\"split2_test_neg_mean_absolute_error\",\t\"split3_test_neg_mean_absolute_error\",\t\"split4_test_neg_mean_absolute_error\"\t,\"rank_test_neg_mean_absolute_error\"]].sort_values(by='rank_test_neg_mean_absolute_error').head(1)\n",
        "  t2= pd.DataFrame(mymodel.cv_results_)[[\"split0_test_neg_mean_absolute_error\",\t\"split1_test_neg_mean_absolute_error\",\"split2_test_neg_mean_absolute_error\",\t\"split3_test_neg_mean_absolute_error\",\t\"split4_test_neg_mean_absolute_error\"]]\n",
        "\n",
        "  df1_transposed = t1.T\n",
        "  df1_transposed \n",
        "  df2_transposed = t2.T\n",
        "  final=pd.concat ([df1_transposed,df2_transposed ])\n",
        "  final[\"Split_cross validation\"] = list(range(nb_split)) + list(range(nb_split))\n",
        "  final.rename(columns={0: \"MAE\"}, inplace=True)\n",
        "  final=final.reset_index()\n",
        "  final [\"color\"] = np.where( final[\"index\"].str.contains(\"test\"), \"test\", \"train\")\n",
        "  final\n",
        "\n",
        "  fig = px.line( final, x='Split_cross validation',y='MAE', color='color', symbol=\"color\",width=800, height=400)\n",
        "  fig.show()\n",
        "\n",
        "def trace_r2(mymodel) :\n",
        "    t1=pd.DataFrame(mymodel.cv_results_)[[\"split0_train_r2\",\t\"split1_train_r2\",\"split2_train_r2\",\t\"split3_train_r2\",\t\"split4_train_r2\"\t,\"rank_test_neg_mean_absolute_error\"]].sort_values(by='rank_test_neg_mean_absolute_error').head(1)\n",
        "    t1=pd.DataFrame(mymodel.cv_results_)[[\"split0_train_r2\",\t\"split1_train_r2\",\"split2_train_r2\",\t\"split3_train_r2\",\"split4_train_r2\"]]\n",
        "    t2= pd.DataFrame(mymodel.cv_results_)[[\"split0_test_r2\",\t\"split1_test_r2\",\"split2_test_r2\",\t\"split3_test_r2\",\t\"split4_test_r2\"\t,\"rank_test_neg_mean_absolute_error\"]].sort_values(by='rank_test_neg_mean_absolute_error').head(1)\n",
        "    t2= pd.DataFrame(mymodel.cv_results_)[[\"split0_test_r2\",\t\"split1_test_r2\",\"split2_test_r2\",\t\"split3_test_r2\",\t\"split4_test_r2\"]]\n",
        "\n",
        "    df1_transposed = t1.T\n",
        "    df1_transposed \n",
        "    df2_transposed = t2.T\n",
        "    final=pd.concat ([df1_transposed,df2_transposed ])\n",
        "    final[\"Split_cross validation\"] = list(range(nb_split)) + list(range(nb_split))\n",
        "    final.rename(columns={0: \"R2\"}, inplace=True)\n",
        "    final=final.reset_index()\n",
        "    final [\"color\"] = np.where( final[\"index\"].str.contains(\"test\"), \"test\", \"train\")\n",
        "    final\n",
        "\n",
        "    fig = px.line( final, x='Split_cross validation',y='R2', color='color', symbol=\"color\",width=800, height=400)\n",
        "    fig.show()\n",
        "\n"
      ]
    },
    {
      "cell_type": "markdown",
      "metadata": {
        "id": "BwjXW9cHq0IU"
      },
      "source": [
        "### Performance de notre modèle selectionné dans le train et le test set de  chaque split de la crossvalidation du Gridsearch"
      ]
    },
    {
      "cell_type": "code",
      "execution_count": null,
      "metadata": {
        "id": "Y4UpBIZDqoHu"
      },
      "outputs": [],
      "source": [
        "trace_mae(mlp_grid_search_model)\n",
        "trace_r2(mlp_grid_search_model)"
      ]
    },
    {
      "cell_type": "markdown",
      "metadata": {
        "id": "t2mTAnlipVsY"
      },
      "source": [
        "On voit bien ici que la performance du modèle GradientBoost s'entraîne bien sur les différents split de la cross-validation."
      ]
    },
    {
      "cell_type": "markdown",
      "source": [
        "### Feature importance du meilleur modèle\n",
        "---"
      ],
      "metadata": {
        "id": "4TveYy4sngas"
      }
    },
    {
      "cell_type": "code",
      "source": [
        "#Poids de chaque feature dans le modèle\n",
        "feature_importance_value1=gb_grid_search_model.best_estimator_.named_steps[\"GB\"].regressor_.feature_importances_ \n",
        "\n",
        "#Noms de features utilisés dans le modèle\n",
        "feature_names = get_feature_names(gb_grid_search_model.best_estimator_.named_steps['preprocessor'])\n",
        "\n",
        "#Dataframe regroupant les features et leur poids\n",
        "feat_importances1= pd.Series(feature_importance_value1 , index=feature_names)"
      ],
      "metadata": {
        "id": "jhFa1vsRnk3E"
      },
      "execution_count": null,
      "outputs": []
    },
    {
      "cell_type": "code",
      "source": [
        "#Création et transposition de la dataframe feature importance\n",
        "feat_importances1= pd.DataFrame(feat_importances1).transpose()\n",
        "\n",
        "#Agrégation des features par appartenance à une catégorie\n",
        "feat_importances1['PrimaryPropertyType']= feat_importances1[list(feat_importances1.filter(regex='one-hot__x0'))].sum(axis=1)\n",
        "feat_importances1['LargestPropertyUseType']= feat_importances1[list(feat_importances1.filter(regex='one-hot__x1'))].sum(axis=1)\n",
        "#feat_importances1[\"BuildingType\"]= feat_importances1[list(feat_importances1.filter(regex='one-hot__x2'))].sum(axis=1)\n",
        "\n",
        "# Colonnes à supprimer \n",
        "unwanted = feat_importances1.columns[feat_importances1.columns.str.startswith('one-hot__x')]\n",
        "feat_importances1.drop(unwanted, axis=1, inplace=True)\n",
        "\n",
        "#On ramène la dataFrame à sa forme initiale\n",
        "feat_importances1= pd.DataFrame(feat_importances1).transpose()\n",
        "\n",
        "#On renomme et reformate les valeurs de la colonne feature\n",
        "df2=feat_importances1.reset_index().rename(columns={\"index\": \"features\", 0: \"poids\"})\n",
        "df2['features']=df2['features'].str.replace('numerical_pipeline__','')\n"
      ],
      "metadata": {
        "id": "F3D648VTnzkL"
      },
      "execution_count": null,
      "outputs": []
    },
    {
      "cell_type": "markdown",
      "source": [
        "### Tracé feature importance"
      ],
      "metadata": {
        "id": "3SJGPitbut-H"
      }
    },
    {
      "cell_type": "code",
      "source": [
        "#On trace le graphique du feature importance \n",
        "plt.figure(figsize=(23,5))\n",
        "sns.barplot(x='features', y='poids', data=df2.sort_values(by='poids', ascending=False))"
      ],
      "metadata": {
        "id": "2DlOQQcluxyC"
      },
      "execution_count": null,
      "outputs": []
    },
    {
      "cell_type": "markdown",
      "source": [
        "On voit sur ce graphique les features qui ont plus d'impact sur notre modèle.\n",
        "\n",
        "A partir de ce graphique, nous pouvons décider de supprimer les features qui ont très peu d'importance. On obtiendra un modèle plus simple et sans doute avec une moindre variance. \n",
        "\n",
        "On peut  aussi regarder sur quelles données le meilleurs modèle fait de grosses erreur, et essayer de comprendre pourquoi: des donnée atypique ? manque-t-il un feature pour les capter ?  Données abbérentes ? faut-il les supprimmer ? "
      ],
      "metadata": {
        "id": "cB4fjM-0xFp3"
      }
    },
    {
      "cell_type": "markdown",
      "metadata": {
        "id": "t-SP0uyMwfZP"
      },
      "source": [
        "### Valeurs prédites vs Valeurs réelles de notre meilleur modèle.\n",
        "---"
      ]
    },
    {
      "cell_type": "code",
      "source": [
        "y_pred =gb_grid_search_model.best_estimator_.predict(X_test)\n",
        "plt.figure(figsize=(18,7))\n",
        "y_test=Y_test[target[0]]\n",
        "# traçage de y_test versus y_pred\n",
        "# l'idéal aurait dû être une ligne droite\n",
        "p1 = max(max(y_test), max(y_pred))\n",
        "p2 = min(min(y_test), min(y_pred))\n",
        "plt.plot([p1, p2], [p1, p2], 'b-')\n",
        "sns.scatterplot(x=y_test, y=y_pred)"
      ],
      "metadata": {
        "id": "t1UnlB2H2iTk"
      },
      "execution_count": null,
      "outputs": []
    },
    {
      "cell_type": "markdown",
      "source": [
        "Les points s'alignent relativement bien sur la droite. La qualitéa de prédictions de notre modèle n'est pas mal."
      ],
      "metadata": {
        "id": "_iaG6umr-q_-"
      }
    },
    {
      "cell_type": "markdown",
      "metadata": {
        "id": "tYRsWvBkgNgw"
      },
      "source": [
        "# <ins>Importance de EnergysStarScore pour la variable target TOtalGHGEmissions</ins>"
      ]
    },
    {
      "cell_type": "markdown",
      "metadata": {
        "id": "LG9wjFz3_ePv"
      },
      "source": [
        "Nous allons voir si EnergyStar a un impact sur les modèles "
      ]
    },
    {
      "cell_type": "markdown",
      "metadata": {
        "id": "un0GydpI_qPT"
      },
      "source": [
        "On enlève la variable ENERGYSTARScore"
      ]
    },
    {
      "cell_type": "markdown",
      "metadata": {
        "id": "O1YM8_U6DoOz"
      },
      "source": [
        "###Run du code"
      ]
    },
    {
      "cell_type": "code",
      "execution_count": null,
      "metadata": {
        "id": "xAc-DP62_01V"
      },
      "outputs": [],
      "source": [
        "# Création de piepeline pour les features numériques et catégoriels   ----  'SiteEnergyUse(kBtu)','TotalGHGEmissions',\n",
        "numerical_features1  =  ['NumberofBuildings','NumberofFloors','PropertyGFATotal','age_batiment','Ratio_parkingParSurface','pr_steam','pr_natural','pr_elec']\n",
        "categorical_features1  = ['PrimaryPropertyType','LargestPropertyUseType'] #'LargestPropertyUseType',\"BuildingType\"\n",
        "\n",
        "\n",
        "\n",
        "numerical_pipeline1 = Pipeline(steps=[\n",
        "      #('impute', SimpleImputer(strategy='mean')),\n",
        "      ('scale', StandardScaler())   \n",
        "  ])\n",
        "categorical_pipeline1= Pipeline(steps=[\n",
        "      #('impute', SimpleImputer(strategy='most_frequent')),\n",
        "      ('one-hot',OneHotEncoder())\n",
        "  ])\n",
        "\n",
        "  # Création d'un ColumnTransformer pour appliquer un pipeline pour chaque type de colonne\n",
        "\n",
        "preprocessor = ColumnTransformer(transformers=[\n",
        "      ('numerical_pipeline1',numerical_pipeline1,numerical_features1),\n",
        "      ('categorical_pipeline1=',categorical_pipeline1,categorical_features1 )\n",
        "      ],\n",
        "      remainder='passthrough',\n",
        "      n_jobs=-1,\n",
        "      )\n",
        "\n",
        "#X = data_model.drop(['SiteEnergyUse(kBtu)','TotalGHGEmissions'], axis=1)\n",
        "#Y = data_model[['SiteEnergyUse(kBtu)','TotalGHGEmissions']]\n",
        "\n",
        "#Régression linéaire multiple\n",
        "from sklearn.compose import TransformedTargetRegressor\n",
        "from sklearn.model_selection import RandomizedSearchCV\n",
        "nb_split = 5\n",
        "score = ['accuracy','neg_mean_absolute_error']\n",
        "\n",
        "pipe_lr = Pipeline(\n",
        "    steps=[(\"preprocessor\", preprocessor), (\"LR\", TransformedTargetRegressor(regressor=LinearRegression(), func=np.log1p, inverse_func=np.expm1) )]\n",
        ")\n",
        "\n",
        "myscore = ('r2','neg_mean_absolute_error')\n",
        "\n",
        "lr_param_grid = [ {\"LR__regressor__fit_intercept\": [True, False]}   ] \n",
        "\n",
        "\n",
        "lr_grid_search1 = GridSearchCV(estimator=pipe_lr,\n",
        "        param_grid=lr_param_grid, refit='neg_mean_absolute_error',\n",
        "        scoring=myscore, n_jobs=-1,\n",
        "        cv=nb_split,return_train_score=True)\n",
        "\n",
        "\n",
        "#Elastic Net\n",
        "\n",
        "pipe_elastic = Pipeline(\n",
        "    steps=[(\"preprocessor\", preprocessor), (\"ELN\", TransformedTargetRegressor(regressor=ElasticNet() ,func=np.log, inverse_func=np.exp) )]\n",
        ")\n",
        "## Paramaètre du randomize search\n",
        "\"\"\"elastic_param_grid = [     {\"ELN__regressor__max_iter\": [10, 100, 1000],\n",
        "                            \"ELN__regressor__alpha\": np.logspace(-5, 5, num=10),  # alpha plus grand --- - 5 à 5 , augmenter la granularité\n",
        "                             \"ELN__regressor__l1_ratio\": np.arange(0.0, 1.1, 0.1) } ]   \"\"\"\n",
        "\n",
        "elastic_param_grid ={'ELN__regressor__alpha': [0.0],\n",
        " 'ELN__regressor__l1_ratio':[ 0.0 ],\n",
        " 'ELN__regressor__max_iter': [100]}\n",
        "\n",
        "elastic_grid_search1 = GridSearchCV(estimator=pipe_elastic,\n",
        "        param_grid=elastic_param_grid,\n",
        "        scoring=myscore, refit='neg_mean_absolute_error', n_jobs=-1,\n",
        "        cv=nb_split,return_train_score=True) \n",
        "\n",
        "# Linear SVM\n",
        "pipe_lsvr =Pipeline(\n",
        "    steps=[(\"preprocessor\", preprocessor), (\"LSVR\", TransformedTargetRegressor(regressor=LinearSVR() ,func=np.log, inverse_func=np.exp) )]\n",
        ")\n",
        "\n",
        "\"\"\"lsvr_param_grid = [      {'LSVR__regressor__C' : np.logspace(-4, 0, 5),\n",
        "                          'LSVR__regressor__epsilon' : [0, 0.01, 0.1, 0.5, 1, 2],\n",
        "                         'LSVR__regressor__loss' : [\"epsilon_insensitive\",\"squared_epsilon_insensitive\"],\n",
        "                          'LSVR__regressor__max_iter': [10, 100, 1000]}   ]  \"\"\"\n",
        "\n",
        "\n",
        "lsvr_param_grid ={'LSVR__regressor__C': [0.01],\n",
        " 'LSVR__regressor__epsilon': [1],\n",
        " 'LSVR__regressor__loss': ['epsilon_insensitive'],\n",
        " 'LSVR__regressor__max_iter': [10]}\n",
        "\n",
        "lsvr_grid_search1 = GridSearchCV(estimator=pipe_lsvr,\n",
        "        param_grid=lsvr_param_grid,\n",
        "        scoring=myscore, refit='neg_mean_absolute_error', n_jobs=-1,\n",
        "        cv=nb_split, return_train_score=True)\n",
        "\n",
        "\n",
        "# Random Forest\n",
        "pipe_rfr= Pipeline(\n",
        "    steps=[(\"preprocessor\", preprocessor), (\"RFR\", TransformedTargetRegressor(regressor=RandomForestRegressor() ,func=np.log, inverse_func=np.exp) )]\n",
        ")\n",
        "\n",
        "# Paramètre pour le Randomize search\n",
        "\"\"\"rfr_param_grid = [ {'RFR__regressor__max_features' : ['sqrt', 'log2'],\n",
        "                   'RFR__regressor__max_depth': [15, 25, 200],\n",
        "                   'RFR__regressor__min_samples_split': [2, 7, 8],\n",
        "                   'RFR__regressor__bootstrap' : [True, False],\n",
        "                   'RFR__regressor__min_samples_leaf': [1,2,5]}\"\"\"\n",
        "\n",
        "rfr_param_grid={'RFR__regressor__bootstrap': [False],\n",
        "                'RFR__regressor__max_depth': [25,50],\n",
        "                'RFR__regressor__max_features': ['sqrt'],\n",
        "                'RFR__regressor__min_samples_leaf': [1],\n",
        "                'RFR__regressor__min_samples_split': [2]}\n",
        "                                                      \n",
        "rfr_grid_search1 = GridSearchCV(estimator=pipe_rfr,\n",
        "       param_grid=rfr_param_grid,\n",
        "        scoring=myscore, refit='neg_mean_absolute_error', n_jobs=-1,\n",
        "        cv=nb_split, return_train_score=True)                                                  \n",
        "                                                 \n",
        "# Rajouter une métrique pour GridSearch\n",
        "# Xgboost Regressor\n",
        "\n",
        "\n",
        "pipe_extra = Pipeline(\n",
        "    steps=[(\"preprocessor\", preprocessor), (\"MLP\", TransformedTargetRegressor(regressor=ExtraTreesRegressor(random_state=0) ,func=np.log, inverse_func=np.exp) ) ] \n",
        ")\n",
        "\n",
        "## Paramaètre du randomize search\n",
        "\"\"\"  {'MLP__regressor__n_estimators':[350,500],\n",
        "         'MLP__regressor__max_depth':[8,9,10],\n",
        "         'MLP__regressor__min_samples_split':[3,4,6],\n",
        "         'MLP__regressor__min_samples_leaf':[2,3,4],\n",
        "         'MLP__regressor__max_features':[0.95],\n",
        "         'MLP__regressor__min_impurity_decrease':[1e-5,1e-4,0]}  \"\"\"\n",
        "\n",
        "## Paramètre choisis  pour le gridsearch après le Randomize search\n",
        "param_grid_mlp = {'MLP__regressor__n_estimators': [350],\n",
        " 'MLP__regressor__min_samples_split':[ 3],\n",
        " 'MLP__regressor__min_samples_leaf': [2],\n",
        " 'MLP__regressor__min_impurity_decrease': [1e-05],\n",
        " 'MLP__regressor__max_features': [0.95],\n",
        " 'MLP__regressor__max_depth': [10]}\n",
        "\n",
        "\n",
        "\n",
        "\n",
        "extraTree_grid_search1 = GridSearchCV(estimator=pipe_extra,\n",
        "        param_grid =param_grid_mlp,\n",
        "        scoring=myscore, refit='neg_mean_absolute_error', n_jobs=-1,\n",
        "        cv=nb_split, return_train_score=True) \n",
        "\n",
        "# Gradient boost\n",
        "pipe_gb= Pipeline(\n",
        "    steps=[(\"preprocessor\", preprocessor), (\"GB\", TransformedTargetRegressor(regressor=GradientBoostingRegressor() ,func=np.log, inverse_func=np.exp) )]\n",
        ")\n",
        "\n",
        "# Paramètre du randomized Search\n",
        "\"\"\"param_grid_GrBoostR = [{'GB__regressor__n_estimators': [350,500,700], \n",
        "                        'GB__regressor__max_depth': [5,6,7], \n",
        "                        'GB__regressor__min_samples_split': [2,3,4], \n",
        "                        'GB__regressor__learning_rate': [0.01,0.1], \n",
        "                        'GB__regressor__loss': ['ls'],\n",
        "                       \"GB__regressor__random_state\" : [0]\n",
        "                       }] \"\"\"\n",
        "\n",
        "param_grid_GrBoostR={'GB__regressor__random_state': [0],\n",
        "                    'GB__regressor__n_estimators': [350],\n",
        "                    'GB__regressor__min_samples_split': [3],\n",
        "                    'GB__regressor__max_depth': [5],\n",
        "                    'GB__regressor__loss': ['ls'],\n",
        "                    'GB__regressor__learning_rate': [0.1]}\n",
        "\n",
        "gb_grid_search1 =  GridSearchCV(estimator=pipe_gb,\n",
        "         param_grid=param_grid_GrBoostR,\n",
        "        scoring=myscore, refit='neg_mean_absolute_error', n_jobs=-1,\n",
        "        cv=nb_split, return_train_score=True)   \n",
        "\n",
        "\n",
        "\n",
        "\n",
        "\n",
        "import warnings\n",
        "warnings.filterwarnings('ignore')\n",
        "\n",
        "\n",
        "\n",
        "target = ['TotalGHGEmissions', 'SiteEnergyUse(kBtu)']\n",
        "\n",
        "global R1, y_test_predict1,lr_grid_search_model1 ,elastic_grid_search_model1,lsvr_grid_search_model1 , rfr_grid_search_model1\n",
        "\n",
        "\n",
        "\n",
        "lr_grid_search_model1 = lr_grid_search1.fit(X_train,Y_train['TotalGHGEmissions'])\n",
        "elastic_grid_search_model1 = elastic_grid_search1.fit(X_train,Y_train['TotalGHGEmissions'])\n",
        "lsvr_grid_search_model1 = lsvr_grid_search1.fit(X_train,Y_train['TotalGHGEmissions'])\n",
        "rfr_grid_search_model1 = rfr_grid_search1.fit(X_train,Y_train['TotalGHGEmissions'])\n",
        "extraTree_grid_search_model1 = extraTree_grid_search1.fit(X_train,Y_train['TotalGHGEmissions'])\n",
        "gb_grid_search_model1 = gb_grid_search1.fit(X_train,Y_train['TotalGHGEmissions'])\n"
      ]
    },
    {
      "cell_type": "markdown",
      "metadata": {
        "id": "_EtgXWzrMyeR"
      },
      "source": [
        "### Impact de EnergyStarUse sur TotalGHGEmissions\n",
        "---"
      ]
    },
    {
      "cell_type": "code",
      "execution_count": null,
      "metadata": {
        "id": "sk1muw_qz4BP"
      },
      "outputs": [],
      "source": [
        "#Prédiction sans energyStarScore\n",
        "y_test_predict1 = gb_grid_search_model1.predict(X_test)\n",
        "\n",
        "v_avec =  [round((r2_score(Y_test['TotalGHGEmissions'],y_pred)),3), round((mean_absolute_error(Y_test['TotalGHGEmissions'],y_pred)),3)]\n",
        "v_sans=[round((r2_score(Y_test['TotalGHGEmissions'],y_test_predict1)),3), round((mean_absolute_error(Y_test['TotalGHGEmissions'],y_test_predict1)),3)]\n",
        "\n",
        "pd.DataFrame({ \"Metrics\": [\"R2\", \"MAE\"], \"Modèle avec EnergyStarScore\" : v_avec, \"Modèle sans EnergyStarScore\" : v_sans })\n"
      ]
    },
    {
      "cell_type": "markdown",
      "metadata": {
        "id": "Z4hDUlls5VsB"
      },
      "source": [
        "Conclusion : L'energyStar Score n'a pas trop impact sur la qualité du modèle."
      ]
    },
    {
      "cell_type": "markdown",
      "source": [
        "# ANNEXE : Dans cette annexe on analyse en profondeur les raisons pour lesquels nos modèles linéaires (linerRegression, Elastic Net, LinearSVR) n'offrent pas de bonnes performances. Vous trouverez à la fin l'explication de chaque modèle utilisé."
      ],
      "metadata": {
        "id": "uolYyLe8dO5C"
      }
    },
    {
      "cell_type": "markdown",
      "source": [
        "Création du dataset pour une regression avec Statsmodels."
      ],
      "metadata": {
        "id": "ugnzpsZuduXF"
      }
    },
    {
      "cell_type": "code",
      "source": [
        "%matplotlib inline\n",
        "from scipy import stats\n",
        "import statsmodels.api as sm\n",
        "from sklearn import linear_model"
      ],
      "metadata": {
        "id": "7WRawEucTQHH"
      },
      "execution_count": null,
      "outputs": []
    },
    {
      "cell_type": "code",
      "source": [
        "data_for_lr =data_model[['TotalGHGEmissions','NumberofBuildings','NumberofFloors','PropertyGFATotal','age_batiment','Ratio_parkingParSurface','pr_steam','pr_natural','pr_elec','PrimaryPropertyType','LargestPropertyUseType']]\n",
        "data_for_lr0 =data_for_lr[['TotalGHGEmissions','NumberofBuildings','NumberofFloors','PropertyGFATotal','age_batiment','Ratio_parkingParSurface','pr_steam','pr_natural']]"
      ],
      "metadata": {
        "id": "WGunWRgyTaDi"
      },
      "execution_count": null,
      "outputs": []
    },
    {
      "cell_type": "code",
      "source": [
        "dummies = pd.get_dummies(data_for_lr[['PrimaryPropertyType']])   # On n'inclut pas 'LargestPropertyUseType' dans le modèle car cette variable n'apporte aucune information pertinente\n",
        "data_for_lr1= pd.concat([data_for_lr0, dummies], axis=1)\n",
        "data_for_lr1.head()"
      ],
      "metadata": {
        "id": "yxDP5sfGUfkX"
      },
      "execution_count": null,
      "outputs": []
    },
    {
      "cell_type": "markdown",
      "source": [
        "Création du modèle linéaire et analyse statistique pour voir si modèle de regression linéaire multiple est pertinent pour nos données.\n"
      ],
      "metadata": {
        "id": "oXif-kVQdji_"
      }
    },
    {
      "cell_type": "code",
      "source": [
        "mydata= data_for_lr1\n",
        "X = mydata.loc[:, mydata.columns != 'TotalGHGEmissions']\n",
        "#X = sm.add_constant(X) # une autre façons d'ajouter une constante\n",
        "y = mydata['TotalGHGEmissions']\n",
        "\n",
        "model = sm.OLS(y, X)\n",
        "results = model.fit()\n",
        "print(results.summary())"
      ],
      "metadata": {
        "id": "M3bF_woSbcRJ"
      },
      "execution_count": null,
      "outputs": []
    },
    {
      "cell_type": "markdown",
      "source": [
        "Les mauvaises performances du modèle de Regression Linéaire peuvent être attribuées au fait ques les residus (erreurs de prédictions) ne suivent pas une loi normale (d'après le test de Jacques Bera $Prob(JB)<0.05$) et sont pas parfaitement décoréllées($Durbin-Watson = 1.962$). Pour avoir une explication détaillée des tests de  Jacques Bera et Durbin Watson, voir bas de page.\n",
        "\n",
        "Cepedant l'utilisation d'un modèle linéaire pour la modélisation ne manque de pertinence car ($Prob (F-statistic) < 0.05$)"
      ],
      "metadata": {
        "id": "WxiVIdf-_niM"
      }
    },
    {
      "cell_type": "markdown",
      "source": [
        "Création du modèle linéaire et analyse statistique pour voir si modèle **elastic Net** est pertinent pour nos données."
      ],
      "metadata": {
        "id": "MbSwi6MNeC_6"
      }
    },
    {
      "cell_type": "code",
      "source": [
        "model = sm.OLS(y, X)\n",
        "results = model.fit_regularized(method='elastic_net', alpha=0.1, L1_wt=1.0,refit=True)\n",
        "print(results.summary())"
      ],
      "metadata": {
        "id": "4brp0czWhDgV"
      },
      "execution_count": null,
      "outputs": []
    },
    {
      "cell_type": "markdown",
      "source": [
        "Les mauvaises performances du modèle Elastic Net peuvent être attribuées au fait ques les residus (erreurs de prédictions) ne suivent pas une loi normale (d'après le test de Jacques Bera $Prob(JB)<0.05$) et sont pas parfaitement décoréllées ($Durbin-Watson = 1.962$). Pour avoir une explication détaillée des tests de  Jacques Bera et Durbin Watson, voir bas de page.\n",
        "Cepedant l'utilisation d'un modèle linéaire pour la modélisation ne manque de pertinence car ($Prob (F-statistic) < 0.05$)"
      ],
      "metadata": {
        "id": "tpjHmu_mAWpF"
      }
    },
    {
      "cell_type": "markdown",
      "source": [
        "En gros dans le cas où nous sommes le modèle (de régression) ne peut pas expliquer toutes les tendances de l'ensemble de données. Cela impacte la robustesse du modèle.\n"
      ],
      "metadata": {
        "id": "_T99VnNCUu2F"
      }
    },
    {
      "cell_type": "markdown",
      "source": [
        "###  Test de Jacques Bera "
      ],
      "metadata": {
        "id": "eE06deKUDjc1"
      }
    },
    {
      "cell_type": "markdown",
      "source": [
        "Un test de Jarque-Bera utilise les hypothèses nulles et alternatives suivantes :\n",
        "\n",
        "L'hypothèse nulle **H0** : Les résidus sont normalement distribués.\n",
        "\n",
        "L'hypothèse alternative **H1**: Les résidus ne sont pas distribués normalement.\n",
        "\n",
        "Si la p-value (Prob(JB)) < 0.05  alors l'hypothèse nulle est rejetée.\n",
        "\n",
        "Si p-value (Prob(JB)) > 0.05 ; alors nous échouons à rejeter l'hypothèse nulle."
      ],
      "metadata": {
        "id": "o0lsRhAkDpxO"
      }
    },
    {
      "cell_type": "markdown",
      "source": [
        "### Test de Durbin watson"
      ],
      "metadata": {
        "id": "mGGd3hJGLAIB"
      }
    },
    {
      "cell_type": "markdown",
      "source": [
        "Durbin-Watson pour tester l'autocorrélation dans les résidus\n",
        "\n",
        "Une méthode courante de test d'autocorrélation est le test de Durbin-Watson.\n",
        "\n",
        "Recherchez la statistique Durbin – Watson (DW). Elle doit être comprise entre 0 et 4.\n",
        "\n",
        "\n",
        "\n",
        "1.   Si DW = 2, ou proche de celui-ci, n'implique aucune autocorrélation\n",
        "2.   L0 < DW < 2 implique une autocorrélation positive\n",
        "3.   tandis que 2 < DW < 4 indique une autocorrélation négative\n",
        "\n",
        "\n",
        "\n"
      ],
      "metadata": {
        "id": "2fyD5RbmLLJ2"
      }
    },
    {
      "cell_type": "markdown",
      "source": [
        "# Explication des modèles"
      ],
      "metadata": {
        "id": "Lso7EBHhoLNk"
      }
    },
    {
      "cell_type": "markdown",
      "source": [
        "##  <ins> I. Les modèles linéaires </ins>"
      ],
      "metadata": {
        "id": "IUAsEdU9xiEg"
      }
    },
    {
      "cell_type": "markdown",
      "source": [
        "1.<ins>**Regression linéaire**\n",
        "\n",
        "Prenons des données, $n$ points en $p$\n",
        " dimensions, représentés par la matrice $ X∈\\mathbb{R}^{n×p}$, avec leurs étiquettes à valeurs réelles, représentées  par un vecteur $y∈\\mathbb{R}^{n}$\n",
        ".\n",
        "\n",
        "Le but de la régression linéaire est de trouver une fonction linéaire $f:\\mathbb{R}^p→\\mathbb{R}$\n",
        " qui permette de prédire l'étiquette $y^{(i)}$\n",
        " du i-ème point à partir du vecteur  $x^{(i)}$\n",
        ". Autrement dit,  $f(x)$\n",
        " peut s'écrire sous la forme  $β_0+β_1x_1+β_2x_2+⋯+β_px_p$.\n",
        " \n",
        "\n",
        "Comment trouver les valeurs des coefficients  $β_0,β_1,…,β_p$\n",
        " ?"
      ],
      "metadata": {
        "id": "r625T24dsfYD"
      }
    },
    {
      "cell_type": "markdown",
      "source": [
        "2.<ins>**Elastic Net**"
      ],
      "metadata": {
        "id": "Caa5RvjlsiNQ"
      }
    },
    {
      "cell_type": "markdown",
      "source": [
        "L'algorithme Elastic Net est un algorithme de régression linéaire combinant la régularisation $L_1$ (pénalité de la norme $L_1$) et $L_2$ (pénalité de la norme $L_2$). Il a été développé pour résoudre les problèmes de sélection de modèle en régression linéaire, où certaines variables peuvent être considérées comme peu importantes ou peu pertinentes pour expliquer la variable dépendante.\n",
        "\n",
        "La fonction de coût pour l'algorithme Elastic Net peut être définie comme suit :\n",
        "\n",
        "$J(\\beta) = \\frac{1}{2  n}  ||y - X  \\beta||^2_2 + \\lambda (\\alpha  ||\\beta||_1 + \\frac{(1 - \\alpha)}{2}  ||\\beta||^2_2)$\n",
        "\n",
        "Où :\n",
        "\n",
        "$y$ est la variable dépendante\n",
        "\n",
        "$X$ est la matrice de variables indépendantes\n",
        "\n",
        "$\\beta$ est le vecteur de coefficients de régression\n",
        "\n",
        "$n$ est le nombre d'observations dans les données\n",
        "\n",
        "$\\alpha$ est un paramètre de régularisation contrôlant la force de la régularisation\n",
        "$\\lambda$ est un autre paramètre de régularisation contrôlant le mélange entre la régularisation $L_1$ et $L_2$\n",
        "\n",
        "$||.||_1$ est la norme $L_1$ (somme absolue des éléments)\n",
        "\n",
        "$||.||_2$ est la norme $L_2$ (somme des carrés des éléments)\n",
        "\n",
        "*En résumé, l'algorithme Elastic Net optimise la fonction de coût en ajustant les coefficients beta de manière à minimiser la somme de la différence entre les valeurs prédites et observées (première partie de la fonction de coût) et la régularisation (deuxième partie de la fonction de coût). La régularisation $L_1$ **aide à sélectionner les variables les plus pertinentes en réduisant les coefficients des variables considérées comme peu importantes à zéro**, tandis que la régularisation **$L_2$ aide à limiter la complexité du modèle en pénalisant les coefficients de toutes les variables**.*\n",
        "\n",
        "\n",
        "\n"
      ],
      "metadata": {
        "id": "Ss27eeTt3zBP"
      }
    },
    {
      "cell_type": "markdown",
      "source": [
        "3.<ins>**Linear SVR**"
      ],
      "metadata": {
        "id": "SdGJ3ekPsn23"
      }
    },
    {
      "cell_type": "markdown",
      "source": [
        "L'algorithme de régression support vector machine (SVM) linéaire est un algorithme de modélisation de données qui peut être utilisé pour la régression et la classification. Il est basé sur le concept de maximiser la marge entre les données d'entraînement, c'est-à-dire la distance minimale entre les données d'entraînement et le modèle.\n",
        "\n",
        "Dans le cas de la régression SVM linéaire, le but est de trouver un hyperplan séparant les données en deux classes, qui minimise l'erreur quadratique moyenne. L'hyperplan est défini par une équation de la forme:\n",
        "\n",
        "$$ w_1 x_1 + w_2 x_2 + \\cdots + w_n x_n + b = 0 $$\n",
        "\n",
        "où $x_1, x_2, ..., x_n$ sont les caractéristiques d'une observation, $w_1, w_2, ..., w_n$ sont les coefficients associés à chaque caractéristique et $b$ est un terme constant.\n",
        "\n",
        "La régression SVM linéaire se concentre sur la minimisation de l'erreur quadratique moyenne sous contrainte, où la contrainte est la marge maximale entre les données d'entraînement et l'hyperplan. Cela peut être formulé comme un problème d'optimisation sous contrainte:\n",
        "\n",
        "$$ \\min_{w, b} \\frac{1}{N} \\sum_{i=1}^{N} (y_i - (w^T x_i + b))^2 $$\n",
        "\n",
        "$$ y_i (w^T x_i + b) \\geq 1, ; i = 1, 2, ..., N $$\n",
        "\n",
        "où $y_i$ est la cible associée à l'observation $x_i$\n",
        "\n",
        "$N$ est le nombre d'observations dans les données d'entraînement\n",
        "\n",
        "$w^T$ est le vecteur transposé de $w$ et le produit scalaire $w^T x_i$ est la projection de $x_i$ sur $w$.\n",
        "\n",
        "Le problème peut être résolu en utilisant une méthode d'optimisation quadratique qui minimise la fonction objective en prenant en compte les contraintes. Une fois que les coefficients $w$ et $b$ sont trouvés, ils peuvent être utilisés pour faire des prédictions sur des observations inconnues en utilisant l'équation de l'hyperplan.\n",
        "\n",
        "\n",
        "\n",
        "\n",
        "\n",
        "\n",
        "\n",
        "\n"
      ],
      "metadata": {
        "id": "aMH9MVyG8-Ea"
      }
    },
    {
      "cell_type": "markdown",
      "source": [
        "## <ins>II. Les modèles ensemblistes </ins>"
      ],
      "metadata": {
        "id": "XykxGy5xxn_E"
      }
    },
    {
      "cell_type": "markdown",
      "source": [
        "### a) Les aglorithme bagging "
      ],
      "metadata": {
        "id": "lVcjwl4bxzpL"
      }
    },
    {
      "cell_type": "markdown",
      "source": [
        "Le Bagging (Bootstrapped Aggregation) est un algorithme d'ensemble dans le domaine de l'apprentissage automatique. Il permet de réduire la variance d'un modèle en entraînant plusieurs modèles de base sur des sous-échantillons aléatoires du jeu de données d'entraînement. Les prédictions des modèles de base sont ensuite combinées pour obtenir une prédiction finale.\n",
        "\n",
        "L'idée sous-jacente est que si plusieurs modèles de base ont été entraînés sur des sous-échantillons différents du jeu de données, alors les erreurs individuelles des modèles peuvent être atténuées par la moyennisation ou la médianisation des prédictions. Cela peut améliorer la stabilité et la robustesse globale du modèle d'ensemble.\n",
        "\n",
        "Le Bagging est souvent utilisé avec des arbres de décision, mais peut être appliqué à d'autres algorithmes de base tels que les réseaux de neurones ou les modèles linéaires."
      ],
      "metadata": {
        "id": "DIedapN8zEjC"
      }
    },
    {
      "cell_type": "markdown",
      "source": [
        "4.<ins>**Random Forest**</ins>"
      ],
      "metadata": {
        "id": "0JFuaH5tsq92"
      }
    },
    {
      "cell_type": "markdown",
      "source": [
        "Random Forest est un algorithme d'apprentissage automatique supervisé utilisé pour les tâches de classification et de régression. Il se base sur l'ensemble d'arbres de décision.\n",
        "\n",
        "L'idée de base est de construire de nombreux arbres de décision à partir d'un échantillon aléatoire (Boostrap) de données d'entraînement et de les combiner pour faire une prédiction. Chaque arbre individuel fait une prédiction et le résultat final est déterminé par la moyenne des prédictions des arbres. Celte moyenne permet de minimiser les erreurs de prédiction des arbres.\n",
        "\n",
        "Contrairement à la Decisionn Tree, Dans une Random Forest, seules un sous-ensemble aléatoire de variables est considéré pour chaque séparation arbre.\n",
        "\n",
        "Dans une forêt aléatoire, seulement un sous-ensemble aléatoire d'observations est utilisé pour construire chaque noeud à l'opposée du DecisionTree où toutes les observations sont utilisées pour construire chaque noeud.\n",
        "\n",
        "***En résumé, l'algorithme Random Forest crée un grand nombre d'arbres de décision en utilisant des sous-échantillons aléatoires des données d'entraînement et en utilisant un sous-ensemble aléatoire de variables pour faire une prédiction à chaque noeud. Les prédictions des différents arbres sont combinées pour obtenir une prédiction finale.***"
      ],
      "metadata": {
        "id": "8wo0ruPu0zja"
      }
    },
    {
      "cell_type": "markdown",
      "source": [
        "5.<ins>**ExtraTreeRegressor**"
      ],
      "metadata": {
        "id": "y0F2SzOwoOm0"
      }
    },
    {
      "cell_type": "markdown",
      "source": [
        "ExtraTreeRegressor peut souvent atteindre une bonne ou meilleure performance que la forêt aléatoire. la différence clé entre Random Forest et ExtraTreeRegressor est :\n",
        "\n",
        "1. Extra Tree Regressor n'effectue pas d'agrégation bootstrap comme dans RandomForest. <ins>**En termes simples, prend un sous-ensemble aléatoire de données sans remplacement**</ins>. Ainsi, les nœuds sont divisés sur des fractionnements aléatoires et non sur les meilleurs fractionnements.\n",
        "\n",
        "2. Ainsi, dans ExtraTreeRegressor, le caractère aléatoire ne provient pas de l'agrégation bootstrap, mais des fractionnements aléatoires des données. \n",
        "\n",
        "ExtraTreeRegressor offre la plupart du temps les mêmes performances que RandomForest tout en étant plus rapide."
      ],
      "metadata": {
        "id": "3Xy4YnsSoSbY"
      }
    },
    {
      "cell_type": "markdown",
      "source": [
        "### b) algorithme de boosting"
      ],
      "metadata": {
        "id": "KlQI6aLcx8kN"
      }
    },
    {
      "cell_type": "markdown",
      "source": [
        "6.<ins>**XgBoost**"
      ],
      "metadata": {
        "id": "oFhhYeZMsu9p"
      }
    },
    {
      "cell_type": "markdown",
      "source": [
        "L'algorithme XGBoost Regressor implémente une méthode appelée gradient boosting qui consiste à combiner plusieurs modèles de décision simples pour produire un modèle plus complexe et plus précis. Cela se fait en ajoutant des arbres de décision un par un, où chaque nouvel arbre essaie de corriger les erreurs du modèle précédent.\n",
        "\n",
        "L'algorithme XGBoost Regressor implémente également plusieurs améliorations par rapport à d'autres implémentations de l'algorithme gradient boosting, telles que la régularisation L1 et L2, la normalisation des poids des données, l'arrêt précoce pour éviter le sur-apprentissage et la parallélisation pour accélérer le processus de formation.\n",
        "\n",
        "***En résumé, l'algorithme XGBoost Regressor est un algorithme de régression basé sur les arbres de décision qui utilise une méthode de gradient boosting pour combiner plusieurs modèles simples en un modèle plus complexe et plus précis.***"
      ],
      "metadata": {
        "id": "QKn-Zbug_82R"
      }
    }
  ],
  "metadata": {
    "colab": {
      "collapsed_sections": [
        "E_GKV7SxtloJ",
        "LHDm8e3PC2lS",
        "xUdpWnpQ8dRf",
        "NmzJT3pNEQbf",
        "qim3IO47XmUn",
        "29syXkGJqSq1"
      ],
      "provenance": []
    },
    "kernelspec": {
      "display_name": "Python 3",
      "name": "python3"
    },
    "language_info": {
      "name": "python"
    }
  },
  "nbformat": 4,
  "nbformat_minor": 0
}