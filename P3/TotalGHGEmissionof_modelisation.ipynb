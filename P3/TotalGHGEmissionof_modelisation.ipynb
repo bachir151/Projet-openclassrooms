{
  "cells": [
    {
      "cell_type": "markdown",
      "metadata": {
        "id": "zSaO2imBTuuA"
      },
      "source": [
        "Contexte :"
      ]
    },
    {
      "cell_type": "markdown",
      "source": [
        "#Data Cleaning et Anlayse exploratoire"
      ],
      "metadata": {
        "id": "9xRUap4rhKfd"
      }
    },
    {
      "cell_type": "markdown",
      "metadata": {
        "id": "69eS1vnzTyPM"
      },
      "source": [
        "Import des bibliothèques "
      ]
    },
    {
      "cell_type": "code",
      "execution_count": 4452,
      "metadata": {
        "id": "Y_NKsNnNTfnh"
      },
      "outputs": [],
      "source": [
        "import pandas as pd\n",
        "import numpy as np \n",
        "import matplotlib.pyplot as plt\n",
        "import seaborn as sns \n",
        "import plotly.express as px\n",
        "import plotly.graph_objects as go\n",
        "import warnings"
      ]
    },
    {
      "cell_type": "markdown",
      "metadata": {
        "id": "jRV9TFCtUahR"
      },
      "source": [
        "Téléchargement du jeu de données"
      ]
    },
    {
      "cell_type": "code",
      "source": [
        "data_model =pd.read_csv('https://raw.githubusercontent.com/bachir151/Projet-openclassrooms/master/P3/data.csv',on_bad_lines='skip')\n",
        "data_model =data_model.drop(['Unnamed: 0'], axis=1)\n",
        "#data_model =data_model.drop(['index'], axis=1)\n",
        "data_model.head()"
      ],
      "metadata": {
        "colab": {
          "base_uri": "https://localhost:8080/",
          "height": 300
        },
        "id": "PJKXMM63MOvm",
        "outputId": "4b509b95-914c-4db5-fa9a-b823f9965810"
      },
      "execution_count": 4453,
      "outputs": [
        {
          "output_type": "execute_result",
          "data": {
            "text/plain": [
              "   SiteEnergyUse(kBtu)  TotalGHGEmissions  NumberofBuildings  NumberofFloors  \\\n",
              "0            7226362.5             249.98                1.0              12   \n",
              "1            8387933.0             295.86                1.0              11   \n",
              "2           72587024.0            2089.28                1.0              41   \n",
              "3            6794584.0             286.43                1.0              10   \n",
              "4           14172606.0             505.01                1.0              18   \n",
              "\n",
              "   PropertyGFATotal  PropertyGFAParking  PropertyGFABuilding(s)  \\\n",
              "0             88434                   0                   88434   \n",
              "1            103566               15064                   88502   \n",
              "2            956110              196718                  759392   \n",
              "3             61320                   0                   61320   \n",
              "4            175580               62000                  113580   \n",
              "\n",
              "   ENERGYSTARScore  age_batiment LargestPropertyUseType  ...    BuildingType  \\\n",
              "0             60.0            89                  Hotel  ...  NonResidential   \n",
              "1             61.0            20                  Hotel  ...  NonResidential   \n",
              "2             43.0            47                  Hotel  ...  NonResidential   \n",
              "3             56.0            90                  Hotel  ...  NonResidential   \n",
              "4             75.0            36                  Hotel  ...  NonResidential   \n",
              "\n",
              "  Ratio_buildingParSurface  Ratio_parkingParSurface  SurfaceParetage  \\\n",
              "0                     1.00                    0.000       6802.61538   \n",
              "1                     0.85                   14.545       8630.50000   \n",
              "2                     0.79                   20.575      22764.52381   \n",
              "3                     1.00                    0.000       5574.54545   \n",
              "4                     0.65                   35.312       9241.05263   \n",
              "\n",
              "   ComplianceStatus   Outlier is_energyStarImputed  pr_steam  pr_natural  \\\n",
              "0         Compliant  inconnue                False  0.277302    0.176638   \n",
              "1         Compliant  inconnue                False  0.000000    0.613391   \n",
              "2         Compliant  inconnue                False  0.297113    0.020579   \n",
              "3         Compliant  inconnue                False  0.325913    0.266567   \n",
              "4         Compliant  inconnue                False  0.000000    0.621198   \n",
              "\n",
              "    pr_elec  \n",
              "0  0.546060  \n",
              "1  0.386609  \n",
              "2  0.682307  \n",
              "3  0.407519  \n",
              "4  0.378802  \n",
              "\n",
              "[5 rows x 21 columns]"
            ],
            "text/html": [
              "\n",
              "  <div id=\"df-b4bf1db1-ed7c-4a06-9dd3-2fd76b1d2e8b\">\n",
              "    <div class=\"colab-df-container\">\n",
              "      <div>\n",
              "<style scoped>\n",
              "    .dataframe tbody tr th:only-of-type {\n",
              "        vertical-align: middle;\n",
              "    }\n",
              "\n",
              "    .dataframe tbody tr th {\n",
              "        vertical-align: top;\n",
              "    }\n",
              "\n",
              "    .dataframe thead th {\n",
              "        text-align: right;\n",
              "    }\n",
              "</style>\n",
              "<table border=\"1\" class=\"dataframe\">\n",
              "  <thead>\n",
              "    <tr style=\"text-align: right;\">\n",
              "      <th></th>\n",
              "      <th>SiteEnergyUse(kBtu)</th>\n",
              "      <th>TotalGHGEmissions</th>\n",
              "      <th>NumberofBuildings</th>\n",
              "      <th>NumberofFloors</th>\n",
              "      <th>PropertyGFATotal</th>\n",
              "      <th>PropertyGFAParking</th>\n",
              "      <th>PropertyGFABuilding(s)</th>\n",
              "      <th>ENERGYSTARScore</th>\n",
              "      <th>age_batiment</th>\n",
              "      <th>LargestPropertyUseType</th>\n",
              "      <th>...</th>\n",
              "      <th>BuildingType</th>\n",
              "      <th>Ratio_buildingParSurface</th>\n",
              "      <th>Ratio_parkingParSurface</th>\n",
              "      <th>SurfaceParetage</th>\n",
              "      <th>ComplianceStatus</th>\n",
              "      <th>Outlier</th>\n",
              "      <th>is_energyStarImputed</th>\n",
              "      <th>pr_steam</th>\n",
              "      <th>pr_natural</th>\n",
              "      <th>pr_elec</th>\n",
              "    </tr>\n",
              "  </thead>\n",
              "  <tbody>\n",
              "    <tr>\n",
              "      <th>0</th>\n",
              "      <td>7226362.5</td>\n",
              "      <td>249.98</td>\n",
              "      <td>1.0</td>\n",
              "      <td>12</td>\n",
              "      <td>88434</td>\n",
              "      <td>0</td>\n",
              "      <td>88434</td>\n",
              "      <td>60.0</td>\n",
              "      <td>89</td>\n",
              "      <td>Hotel</td>\n",
              "      <td>...</td>\n",
              "      <td>NonResidential</td>\n",
              "      <td>1.00</td>\n",
              "      <td>0.000</td>\n",
              "      <td>6802.61538</td>\n",
              "      <td>Compliant</td>\n",
              "      <td>inconnue</td>\n",
              "      <td>False</td>\n",
              "      <td>0.277302</td>\n",
              "      <td>0.176638</td>\n",
              "      <td>0.546060</td>\n",
              "    </tr>\n",
              "    <tr>\n",
              "      <th>1</th>\n",
              "      <td>8387933.0</td>\n",
              "      <td>295.86</td>\n",
              "      <td>1.0</td>\n",
              "      <td>11</td>\n",
              "      <td>103566</td>\n",
              "      <td>15064</td>\n",
              "      <td>88502</td>\n",
              "      <td>61.0</td>\n",
              "      <td>20</td>\n",
              "      <td>Hotel</td>\n",
              "      <td>...</td>\n",
              "      <td>NonResidential</td>\n",
              "      <td>0.85</td>\n",
              "      <td>14.545</td>\n",
              "      <td>8630.50000</td>\n",
              "      <td>Compliant</td>\n",
              "      <td>inconnue</td>\n",
              "      <td>False</td>\n",
              "      <td>0.000000</td>\n",
              "      <td>0.613391</td>\n",
              "      <td>0.386609</td>\n",
              "    </tr>\n",
              "    <tr>\n",
              "      <th>2</th>\n",
              "      <td>72587024.0</td>\n",
              "      <td>2089.28</td>\n",
              "      <td>1.0</td>\n",
              "      <td>41</td>\n",
              "      <td>956110</td>\n",
              "      <td>196718</td>\n",
              "      <td>759392</td>\n",
              "      <td>43.0</td>\n",
              "      <td>47</td>\n",
              "      <td>Hotel</td>\n",
              "      <td>...</td>\n",
              "      <td>NonResidential</td>\n",
              "      <td>0.79</td>\n",
              "      <td>20.575</td>\n",
              "      <td>22764.52381</td>\n",
              "      <td>Compliant</td>\n",
              "      <td>inconnue</td>\n",
              "      <td>False</td>\n",
              "      <td>0.297113</td>\n",
              "      <td>0.020579</td>\n",
              "      <td>0.682307</td>\n",
              "    </tr>\n",
              "    <tr>\n",
              "      <th>3</th>\n",
              "      <td>6794584.0</td>\n",
              "      <td>286.43</td>\n",
              "      <td>1.0</td>\n",
              "      <td>10</td>\n",
              "      <td>61320</td>\n",
              "      <td>0</td>\n",
              "      <td>61320</td>\n",
              "      <td>56.0</td>\n",
              "      <td>90</td>\n",
              "      <td>Hotel</td>\n",
              "      <td>...</td>\n",
              "      <td>NonResidential</td>\n",
              "      <td>1.00</td>\n",
              "      <td>0.000</td>\n",
              "      <td>5574.54545</td>\n",
              "      <td>Compliant</td>\n",
              "      <td>inconnue</td>\n",
              "      <td>False</td>\n",
              "      <td>0.325913</td>\n",
              "      <td>0.266567</td>\n",
              "      <td>0.407519</td>\n",
              "    </tr>\n",
              "    <tr>\n",
              "      <th>4</th>\n",
              "      <td>14172606.0</td>\n",
              "      <td>505.01</td>\n",
              "      <td>1.0</td>\n",
              "      <td>18</td>\n",
              "      <td>175580</td>\n",
              "      <td>62000</td>\n",
              "      <td>113580</td>\n",
              "      <td>75.0</td>\n",
              "      <td>36</td>\n",
              "      <td>Hotel</td>\n",
              "      <td>...</td>\n",
              "      <td>NonResidential</td>\n",
              "      <td>0.65</td>\n",
              "      <td>35.312</td>\n",
              "      <td>9241.05263</td>\n",
              "      <td>Compliant</td>\n",
              "      <td>inconnue</td>\n",
              "      <td>False</td>\n",
              "      <td>0.000000</td>\n",
              "      <td>0.621198</td>\n",
              "      <td>0.378802</td>\n",
              "    </tr>\n",
              "  </tbody>\n",
              "</table>\n",
              "<p>5 rows × 21 columns</p>\n",
              "</div>\n",
              "      <button class=\"colab-df-convert\" onclick=\"convertToInteractive('df-b4bf1db1-ed7c-4a06-9dd3-2fd76b1d2e8b')\"\n",
              "              title=\"Convert this dataframe to an interactive table.\"\n",
              "              style=\"display:none;\">\n",
              "        \n",
              "  <svg xmlns=\"http://www.w3.org/2000/svg\" height=\"24px\"viewBox=\"0 0 24 24\"\n",
              "       width=\"24px\">\n",
              "    <path d=\"M0 0h24v24H0V0z\" fill=\"none\"/>\n",
              "    <path d=\"M18.56 5.44l.94 2.06.94-2.06 2.06-.94-2.06-.94-.94-2.06-.94 2.06-2.06.94zm-11 1L8.5 8.5l.94-2.06 2.06-.94-2.06-.94L8.5 2.5l-.94 2.06-2.06.94zm10 10l.94 2.06.94-2.06 2.06-.94-2.06-.94-.94-2.06-.94 2.06-2.06.94z\"/><path d=\"M17.41 7.96l-1.37-1.37c-.4-.4-.92-.59-1.43-.59-.52 0-1.04.2-1.43.59L10.3 9.45l-7.72 7.72c-.78.78-.78 2.05 0 2.83L4 21.41c.39.39.9.59 1.41.59.51 0 1.02-.2 1.41-.59l7.78-7.78 2.81-2.81c.8-.78.8-2.07 0-2.86zM5.41 20L4 18.59l7.72-7.72 1.47 1.35L5.41 20z\"/>\n",
              "  </svg>\n",
              "      </button>\n",
              "      \n",
              "  <style>\n",
              "    .colab-df-container {\n",
              "      display:flex;\n",
              "      flex-wrap:wrap;\n",
              "      gap: 12px;\n",
              "    }\n",
              "\n",
              "    .colab-df-convert {\n",
              "      background-color: #E8F0FE;\n",
              "      border: none;\n",
              "      border-radius: 50%;\n",
              "      cursor: pointer;\n",
              "      display: none;\n",
              "      fill: #1967D2;\n",
              "      height: 32px;\n",
              "      padding: 0 0 0 0;\n",
              "      width: 32px;\n",
              "    }\n",
              "\n",
              "    .colab-df-convert:hover {\n",
              "      background-color: #E2EBFA;\n",
              "      box-shadow: 0px 1px 2px rgba(60, 64, 67, 0.3), 0px 1px 3px 1px rgba(60, 64, 67, 0.15);\n",
              "      fill: #174EA6;\n",
              "    }\n",
              "\n",
              "    [theme=dark] .colab-df-convert {\n",
              "      background-color: #3B4455;\n",
              "      fill: #D2E3FC;\n",
              "    }\n",
              "\n",
              "    [theme=dark] .colab-df-convert:hover {\n",
              "      background-color: #434B5C;\n",
              "      box-shadow: 0px 1px 3px 1px rgba(0, 0, 0, 0.15);\n",
              "      filter: drop-shadow(0px 1px 2px rgba(0, 0, 0, 0.3));\n",
              "      fill: #FFFFFF;\n",
              "    }\n",
              "  </style>\n",
              "\n",
              "      <script>\n",
              "        const buttonEl =\n",
              "          document.querySelector('#df-b4bf1db1-ed7c-4a06-9dd3-2fd76b1d2e8b button.colab-df-convert');\n",
              "        buttonEl.style.display =\n",
              "          google.colab.kernel.accessAllowed ? 'block' : 'none';\n",
              "\n",
              "        async function convertToInteractive(key) {\n",
              "          const element = document.querySelector('#df-b4bf1db1-ed7c-4a06-9dd3-2fd76b1d2e8b');\n",
              "          const dataTable =\n",
              "            await google.colab.kernel.invokeFunction('convertToInteractive',\n",
              "                                                     [key], {});\n",
              "          if (!dataTable) return;\n",
              "\n",
              "          const docLinkHtml = 'Like what you see? Visit the ' +\n",
              "            '<a target=\"_blank\" href=https://colab.research.google.com/notebooks/data_table.ipynb>data table notebook</a>'\n",
              "            + ' to learn more about interactive tables.';\n",
              "          element.innerHTML = '';\n",
              "          dataTable['output_type'] = 'display_data';\n",
              "          await google.colab.output.renderOutput(dataTable, element);\n",
              "          const docLink = document.createElement('div');\n",
              "          docLink.innerHTML = docLinkHtml;\n",
              "          element.appendChild(docLink);\n",
              "        }\n",
              "      </script>\n",
              "    </div>\n",
              "  </div>\n",
              "  "
            ]
          },
          "metadata": {},
          "execution_count": 4453
        }
      ]
    },
    {
      "cell_type": "markdown",
      "metadata": {
        "id": "nMtT7-s3TNuZ"
      },
      "source": [
        "#Modélisation : Prédiction de l'émission de CO2"
      ]
    },
    {
      "cell_type": "markdown",
      "metadata": {
        "id": "Br6s0rkDplHH"
      },
      "source": [
        "### Passage au log pour notre varaible target TotalGHGEmissions\n",
        "\n"
      ]
    },
    {
      "cell_type": "code",
      "execution_count": 4454,
      "metadata": {
        "id": "LHrSUK8_phPL"
      },
      "outputs": [],
      "source": [
        "X= data_model[['NumberofBuildings','NumberofFloors', 'ENERGYSTARScore','PropertyGFATotal','age_batiment','PrimaryPropertyType','Ratio_parkingParSurface','LargestPropertyUseType','pr_steam','pr_natural','pr_elec']]\n",
        "Y = data_model[['SiteEnergyUse(kBtu)','TotalGHGEmissions']]"
      ]
    },
    {
      "cell_type": "markdown",
      "source": [
        "### Effet de la transformation Log sur la variable **TotalGHGEmissions**"
      ],
      "metadata": {
        "id": "LHDm8e3PC2lS"
      }
    },
    {
      "cell_type": "code",
      "execution_count": 4455,
      "metadata": {
        "colab": {
          "base_uri": "https://localhost:8080/",
          "height": 0
        },
        "id": "jqoO5a8UpnpN",
        "outputId": "d9dbc5ba-301f-4344-dbf3-c1d4812f75ee"
      },
      "outputs": [
        {
          "output_type": "display_data",
          "data": {
            "text/plain": [
              "<Figure size 1440x576 with 2 Axes>"
            ],
            "image/png": "[encoded data removed]"
          },
          "metadata": {
            "needs_background": "light"
          }
        }
      ],
      "source": [
        "from sklearn.preprocessing import FunctionTransformer\n",
        "\n",
        "logtransformer = FunctionTransformer(np.log, inverse_func = np.exp, check_inverse = True)\n",
        "Y_log = logtransformer.transform(Y)\n",
        "fig, axes = plt.subplots(nrows=1, ncols=2, sharex=False, sharey=False, figsize=(20,8))\n",
        "sns.histplot(data=Y, x='TotalGHGEmissions', stat=\"density\", ax=axes[0])\n",
        "axes[0].set_title(\"Données initiales\", color='#2cb7b0')\n",
        "sns.histplot(data=Y_log, x='TotalGHGEmissions', stat=\"density\", ax=axes[1])\n",
        "axes[1].set_title(\"Application du logarithme\", color='#2cb7b0')\n",
        "#plt.suptitle(\"Distribution des emissions de CO2 avec changement d'échelle\", fontdict=font_title, fontsize=22)\n",
        "plt.show()"
      ]
    },
    {
      "cell_type": "markdown",
      "metadata": {
        "id": "xUdpWnpQ8dRf"
      },
      "source": [
        "###Import des bibliothèques "
      ]
    },
    {
      "cell_type": "code",
      "execution_count": 4456,
      "metadata": {
        "id": "XlsMhFbATTd2"
      },
      "outputs": [],
      "source": [
        "\n",
        "from sklearn.impute import SimpleImputer\n",
        "from sklearn.preprocessing import OneHotEncoder, StandardScaler, MinMaxScaler, RobustScaler\n",
        "from sklearn.compose import *\n",
        "from sklearn.pipeline import Pipeline\n",
        "from sklearn.model_selection import train_test_split\n",
        "from sklearn.linear_model import *\n",
        "from sklearn.dummy import DummyRegressor\n",
        "from sklearn.svm import LinearSVR\n",
        "import xgboost as xgb\n",
        "from sklearn.model_selection import RandomizedSearchCV\n",
        "from sklearn.ensemble import RandomForestRegressor\n",
        "from sklearn.linear_model import Ridge, Lasso\n",
        "from sklearn.metrics import *\n",
        "from sklearn.model_selection import GridSearchCV\n",
        "from sklearn.compose import TransformedTargetRegressor\n",
        "import warnings\n",
        "from sklearn import set_config\n",
        "set_config(display='diagram')\n",
        "from sklearn.ensemble import *\n",
        "warnings.filterwarnings('ignore')\n",
        "\n",
        "#plot distribution de la target et voir le scaler à utiliser "
      ]
    },
    {
      "cell_type": "markdown",
      "metadata": {
        "id": "PEKBx53EEy0p"
      },
      "source": [
        "Modèle baseline : Régression linéaire"
      ]
    },
    {
      "cell_type": "markdown",
      "source": [
        "### Création de Pipeline de transformation des variables"
      ],
      "metadata": {
        "id": "xGjdufsRDMgN"
      }
    },
    {
      "cell_type": "code",
      "execution_count": 4457,
      "metadata": {
        "id": "H9UjM03WDs8t"
      },
      "outputs": [],
      "source": [
        "# Création de piepeline pour les features numériques et catégoriels   ----  'SiteEnergyUse(kBtu)','TotalGHGEmissions',\n",
        "numerical_features  =  ['NumberofBuildings','NumberofFloors','PropertyGFATotal','ENERGYSTARScore','age_batiment','Ratio_parkingParSurface','pr_steam','pr_natural','pr_elec']\n",
        "categorical_features  = ['PrimaryPropertyType','LargestPropertyUseType'] #'LargestPropertyUseType',\"BuildingType\"\n",
        "\n",
        "global  X_train, X_test, Y_train, Y_test\n",
        "X_train, X_test, Y_train, Y_test = train_test_split(X, Y, test_size=0.2, random_state=8, shuffle=True)\n",
        "\n",
        "\n",
        "numerical_pipeline = Pipeline(steps=[\n",
        "      #('impute', SimpleImputer(strategy='mean')),\n",
        "      ('scale', StandardScaler())   \n",
        "  ])\n",
        "categorical_pipeline= Pipeline(steps=[\n",
        "      #('impute', SimpleImputer(strategy='most_frequent')),\n",
        "      ('one-hot',OneHotEncoder())\n",
        "  ])\n",
        "\n",
        "\n",
        "# Création d'un ColumnTransformer pour appliquer un pipeline pour chaque type de colonne\n",
        "\n",
        "preprocessor = ColumnTransformer(transformers=[\n",
        "      ('numerical_pipeline',numerical_pipeline,numerical_features),\n",
        "      ('categorical_pipeline=',categorical_pipeline,categorical_features )\n",
        "      ],\n",
        "      remainder='passthrough',\n",
        "      n_jobs=-1,\n",
        "      )\n"
      ]
    },
    {
      "cell_type": "markdown",
      "source": [
        "### Modèle baseline"
      ],
      "metadata": {
        "id": "AEW055E23tNc"
      }
    },
    {
      "cell_type": "code",
      "source": [
        "from sklearn.model_selection import cross_val_score\n",
        "from sklearn.model_selection import KFold\n",
        "from sklearn.metrics import  make_scorer\n",
        "\n",
        "cv = KFold(n_splits=5, shuffle=True, random_state=45)\n",
        "\n",
        "model_baseline= Pipeline(\n",
        "    steps=[(\"preprocessor\", preprocessor), (\"DUM\", TransformedTargetRegressor(regressor= DummyRegressor()  ,func=np.log1p, inverse_func=np.expm1))]\n",
        ")\n",
        "\n",
        "dummy_param_grid = [ {\"DUM__regressor__strategy\": [\"mean\"]} ]   \n",
        "\n",
        "myscore = ('r2','neg_mean_absolute_error')\n",
        "dummy_grid_search = GridSearchCV(estimator=model_baseline,\n",
        "        param_grid=dummy_param_grid,\n",
        "        scoring=myscore, refit='neg_mean_absolute_error', n_jobs=-1,\n",
        "        cv=cv,return_train_score=True) \n",
        "\n",
        "#cross_val_score(model_baseline, X_train, Y_train['TotalGHGEmissions'], cv=cv,scoring=r2)"
      ],
      "metadata": {
        "id": "BHjBXpFa3Aop"
      },
      "execution_count": 4458,
      "outputs": []
    },
    {
      "cell_type": "code",
      "source": [
        "dumy_model=dummy_grid_search.fit (X_train, Y_train['TotalGHGEmissions'])\n",
        "pd.DataFrame(dummy_grid_search.cv_results_)[['mean_test_r2','mean_test_neg_mean_absolute_error']]"
      ],
      "metadata": {
        "colab": {
          "base_uri": "https://localhost:8080/",
          "height": 81
        },
        "id": "7SsKzIfm5hkH",
        "outputId": "7e512f2b-9fe1-4d0c-bf26-22aa9d219da1"
      },
      "execution_count": 4459,
      "outputs": [
        {
          "output_type": "execute_result",
          "data": {
            "text/plain": [
              "   mean_test_r2  mean_test_neg_mean_absolute_error\n",
              "0     -0.064415                        -141.913305"
            ],
            "text/html": [
              "\n",
              "  <div id=\"df-a302b133-16f4-4d57-a2f1-aa9538a2f8e4\">\n",
              "    <div class=\"colab-df-container\">\n",
              "      <div>\n",
              "<style scoped>\n",
              "    .dataframe tbody tr th:only-of-type {\n",
              "        vertical-align: middle;\n",
              "    }\n",
              "\n",
              "    .dataframe tbody tr th {\n",
              "        vertical-align: top;\n",
              "    }\n",
              "\n",
              "    .dataframe thead th {\n",
              "        text-align: right;\n",
              "    }\n",
              "</style>\n",
              "<table border=\"1\" class=\"dataframe\">\n",
              "  <thead>\n",
              "    <tr style=\"text-align: right;\">\n",
              "      <th></th>\n",
              "      <th>mean_test_r2</th>\n",
              "      <th>mean_test_neg_mean_absolute_error</th>\n",
              "    </tr>\n",
              "  </thead>\n",
              "  <tbody>\n",
              "    <tr>\n",
              "      <th>0</th>\n",
              "      <td>-0.064415</td>\n",
              "      <td>-141.913305</td>\n",
              "    </tr>\n",
              "  </tbody>\n",
              "</table>\n",
              "</div>\n",
              "      <button class=\"colab-df-convert\" onclick=\"convertToInteractive('df-a302b133-16f4-4d57-a2f1-aa9538a2f8e4')\"\n",
              "              title=\"Convert this dataframe to an interactive table.\"\n",
              "              style=\"display:none;\">\n",
              "        \n",
              "  <svg xmlns=\"http://www.w3.org/2000/svg\" height=\"24px\"viewBox=\"0 0 24 24\"\n",
              "       width=\"24px\">\n",
              "    <path d=\"M0 0h24v24H0V0z\" fill=\"none\"/>\n",
              "    <path d=\"M18.56 5.44l.94 2.06.94-2.06 2.06-.94-2.06-.94-.94-2.06-.94 2.06-2.06.94zm-11 1L8.5 8.5l.94-2.06 2.06-.94-2.06-.94L8.5 2.5l-.94 2.06-2.06.94zm10 10l.94 2.06.94-2.06 2.06-.94-2.06-.94-.94-2.06-.94 2.06-2.06.94z\"/><path d=\"M17.41 7.96l-1.37-1.37c-.4-.4-.92-.59-1.43-.59-.52 0-1.04.2-1.43.59L10.3 9.45l-7.72 7.72c-.78.78-.78 2.05 0 2.83L4 21.41c.39.39.9.59 1.41.59.51 0 1.02-.2 1.41-.59l7.78-7.78 2.81-2.81c.8-.78.8-2.07 0-2.86zM5.41 20L4 18.59l7.72-7.72 1.47 1.35L5.41 20z\"/>\n",
              "  </svg>\n",
              "      </button>\n",
              "      \n",
              "  <style>\n",
              "    .colab-df-container {\n",
              "      display:flex;\n",
              "      flex-wrap:wrap;\n",
              "      gap: 12px;\n",
              "    }\n",
              "\n",
              "    .colab-df-convert {\n",
              "      background-color: #E8F0FE;\n",
              "      border: none;\n",
              "      border-radius: 50%;\n",
              "      cursor: pointer;\n",
              "      display: none;\n",
              "      fill: #1967D2;\n",
              "      height: 32px;\n",
              "      padding: 0 0 0 0;\n",
              "      width: 32px;\n",
              "    }\n",
              "\n",
              "    .colab-df-convert:hover {\n",
              "      background-color: #E2EBFA;\n",
              "      box-shadow: 0px 1px 2px rgba(60, 64, 67, 0.3), 0px 1px 3px 1px rgba(60, 64, 67, 0.15);\n",
              "      fill: #174EA6;\n",
              "    }\n",
              "\n",
              "    [theme=dark] .colab-df-convert {\n",
              "      background-color: #3B4455;\n",
              "      fill: #D2E3FC;\n",
              "    }\n",
              "\n",
              "    [theme=dark] .colab-df-convert:hover {\n",
              "      background-color: #434B5C;\n",
              "      box-shadow: 0px 1px 3px 1px rgba(0, 0, 0, 0.15);\n",
              "      filter: drop-shadow(0px 1px 2px rgba(0, 0, 0, 0.3));\n",
              "      fill: #FFFFFF;\n",
              "    }\n",
              "  </style>\n",
              "\n",
              "      <script>\n",
              "        const buttonEl =\n",
              "          document.querySelector('#df-a302b133-16f4-4d57-a2f1-aa9538a2f8e4 button.colab-df-convert');\n",
              "        buttonEl.style.display =\n",
              "          google.colab.kernel.accessAllowed ? 'block' : 'none';\n",
              "\n",
              "        async function convertToInteractive(key) {\n",
              "          const element = document.querySelector('#df-a302b133-16f4-4d57-a2f1-aa9538a2f8e4');\n",
              "          const dataTable =\n",
              "            await google.colab.kernel.invokeFunction('convertToInteractive',\n",
              "                                                     [key], {});\n",
              "          if (!dataTable) return;\n",
              "\n",
              "          const docLinkHtml = 'Like what you see? Visit the ' +\n",
              "            '<a target=\"_blank\" href=https://colab.research.google.com/notebooks/data_table.ipynb>data table notebook</a>'\n",
              "            + ' to learn more about interactive tables.';\n",
              "          element.innerHTML = '';\n",
              "          dataTable['output_type'] = 'display_data';\n",
              "          await google.colab.output.renderOutput(dataTable, element);\n",
              "          const docLink = document.createElement('div');\n",
              "          docLink.innerHTML = docLinkHtml;\n",
              "          element.appendChild(docLink);\n",
              "        }\n",
              "      </script>\n",
              "    </div>\n",
              "  </div>\n",
              "  "
            ]
          },
          "metadata": {},
          "execution_count": 4459
        }
      ]
    },
    {
      "cell_type": "markdown",
      "source": [
        "Qualité prédictive de notre modèle baseline."
      ],
      "metadata": {
        "id": "u2nmV_o569AI"
      }
    },
    {
      "cell_type": "code",
      "execution_count": 4460,
      "metadata": {
        "colab": {
          "base_uri": "https://localhost:8080/",
          "height": 351
        },
        "id": "mcV-GyLyRhK-",
        "outputId": "cbd32e00-f117-41fb-fa26-b3bdbac38969"
      },
      "outputs": [
        {
          "output_type": "execute_result",
          "data": {
            "text/plain": [
              "<matplotlib.axes._subplots.AxesSubplot at 0x7ff7dad37730>"
            ]
          },
          "metadata": {},
          "execution_count": 4460
        },
        {
          "output_type": "display_data",
          "data": {
            "text/plain": [
              "<Figure size 1152x360 with 1 Axes>"
            ],
            "image/png": "[encoded data removed]"
          },
          "metadata": {
            "needs_background": "light"
          }
        }
      ],
      "source": [
        "# traçage de y_test versus y_pred\n",
        "# l'idéal c'est que tous les points doivent le plus possible être aliognés sur la droite.\n",
        "y_test = Y_test['TotalGHGEmissions']\n",
        "y_pred= dummy_grid_search.predict(X_test)\n",
        "plt.figure(figsize=(16,5))\n",
        "p1 = max(max(y_test), max(y_pred))\n",
        "p2 = min(min(y_test), min(y_pred))\n",
        "plt.plot([p1, p2], [p1, p2], 'b-')\n",
        "sns.scatterplot(x=y_test, y=y_pred)"
      ]
    },
    {
      "cell_type": "code",
      "source": [
        "print ( \"R2 : \" , round(r2_score (y_test, y_pred),2) ,  \"| MAE :\", round(mean_absolute_error (y_test, y_pred),2), ' | RMSE :', np.sqrt(round(mean_squared_error (y_test, y_pred),2) ))"
      ],
      "metadata": {
        "colab": {
          "base_uri": "https://localhost:8080/"
        },
        "id": "pxiZ-gHPBCIF",
        "outputId": "2a1271e2-2846-46d2-97f8-46c35bab0998"
      },
      "execution_count": 4461,
      "outputs": [
        {
          "output_type": "stream",
          "name": "stdout",
          "text": [
            "R2 :  -0.05 | MAE : 154.67  | RMSE : 578.4150672311364\n"
          ]
        }
      ]
    },
    {
      "cell_type": "markdown",
      "source": [
        "### Pipeline de création des modèles"
      ],
      "metadata": {
        "id": "-8frYMcpCT95"
      }
    },
    {
      "cell_type": "markdown",
      "source": [
        "### Entraînement des modèles"
      ],
      "metadata": {
        "id": "BxsiFO5XD4Lt"
      }
    },
    {
      "cell_type": "markdown",
      "source": [
        "### Code get feauture name"
      ],
      "metadata": {
        "id": "qim3IO47XmUn"
      }
    },
    {
      "cell_type": "code",
      "source": [
        "# Code copié à partir du site : https://bbakiu.medium.com/extracting-feature-names-from-the-columntransformer-f1bed520aeba\n",
        "import warnings\n",
        "\n",
        "from sklearn.pipeline import Pipeline\n",
        "\n",
        "def get_feature_names(column_transformer):\n",
        "    \"\"\"Get feature names from all transformers.\n",
        "    Returns\n",
        "    -------\n",
        "    feature_names : list of strings\n",
        "        Names of the features produced by transform.\n",
        "    \"\"\"\n",
        "    \n",
        "    \n",
        "    # Get columns and bin edges\n",
        "    def pair_bin_edges_columns(bins_edges, columns):\n",
        "        all_edge_column = []\n",
        "        for index in range(len(columns)):\n",
        "            bin_edge = bins_edges[index]\n",
        "            column = columns[index]\n",
        "            \n",
        "            pair_bin_edge = []\n",
        "            # match consecutive bin edges together\n",
        "            for first, second in zip(bin_edge, bin_edge[1:]):\n",
        "                pair_bin_edge.append((first, second))\n",
        "            \n",
        "            bin_edge_column = [column +\": [\"+ str(edge[0]) +\", \"+ str(edge[1])+\")\"  for edge in pair_bin_edge]\n",
        "            all_edge_column.extend(bin_edge_column)\n",
        "        return all_edge_column\n",
        "    \n",
        "    \n",
        "    \n",
        "    # Turn loopkup into function for better handling with pipeline later\n",
        "    def get_names(trans):\n",
        "        # >> Original get_feature_names() method\n",
        "        if trans == 'drop' or (\n",
        "                hasattr(column, '__len__') and not len(column)):\n",
        "            return []\n",
        "        if trans == 'passthrough':\n",
        "            if hasattr(column_transformer, '_df_columns'):\n",
        "                if ((not isinstance(column, slice))\n",
        "                        and all(isinstance(col, str) for col in column)):\n",
        "                    return column\n",
        "                else:\n",
        "                    return column_transformer._df_columns[column]\n",
        "            else:\n",
        "                indices = np.arange(column_transformer._n_features)\n",
        "                return ['x%d' % i for i in indices[column]]\n",
        "        if not hasattr(trans, 'get_feature_names'):\n",
        "        # >>> Change: Return input column names if no method avaiable\n",
        "            # Turn error into a warning\n",
        "            warnings.warn(\"Transformer %s (type %s) does not \"\n",
        "                                 \"provide get_feature_names. \"\n",
        "                                 \"Will return input column names if available\"\n",
        "                                 % (str(name), type(trans).__name__))\n",
        "            # For transformers without a get_features_names method, use the input\n",
        "            # names to the column transformer\n",
        "            \n",
        "            # For transformers that create bins\n",
        "            if hasattr(trans, 'bin_edges_'):\n",
        "                bins_edges = trans.bin_edges_\n",
        "                pairs_edges_columns = pair_bin_edges_columns(bins_edges, column)\n",
        "            if column is None:\n",
        "                return []\n",
        "            else:\n",
        "                return [name + \"__\" + f for f in pairs_edges_columns]\n",
        "        return [name + \"__\" + f for f in trans.get_feature_names(column)]\n",
        "    \n",
        "    ### Start of processing\n",
        "    feature_names = []\n",
        "    \n",
        "    # Allow transformers to be pipelines. Pipeline steps are named differently, so preprocessing is needed\n",
        "    if type(column_transformer) == Pipeline:\n",
        "        l_transformers = [(name, trans, None, None) for step, name, trans in column_transformer._iter()]\n",
        "    else:\n",
        "        # For column transformers, follow the original method\n",
        "        l_transformers = list(column_transformer._iter(fitted=True))\n",
        "    \n",
        "    for name, trans, column, _ in l_transformers:\n",
        "        if type(trans) == Pipeline:\n",
        "            # Recursive call on pipeline\n",
        "            _names = get_feature_names(trans)\n",
        "            # if pipeline has no transformer that returns names\n",
        "            if len(_names)==0:\n",
        "                _names = [name + \"__\" + f for f in column]\n",
        "            feature_names.extend(_names)\n",
        "        else:\n",
        "            feature_names.extend(get_names(trans))\n",
        "    \n",
        "    return feature_names"
      ],
      "metadata": {
        "id": "YP0gOSUkXlxy"
      },
      "execution_count": 4462,
      "outputs": []
    },
    {
      "cell_type": "markdown",
      "source": [],
      "metadata": {
        "id": "Ni3g5feRi-N1"
      }
    },
    {
      "cell_type": "code",
      "source": [
        "#feat_importances.plot(kind='barh(a'\"')"
      ],
      "metadata": {
        "id": "OPDqLxpfwITr"
      },
      "execution_count": 4463,
      "outputs": []
    },
    {
      "cell_type": "markdown",
      "source": [
        "### GridSearch pour les différents modèles"
      ],
      "metadata": {
        "id": "F8ZjOuNmDClO"
      }
    },
    {
      "cell_type": "markdown",
      "metadata": {
        "id": "xVz3PRKYGRd3"
      },
      "source": [
        "Pipeline, paramètre  et Gridsearch de tous les modèles à tester "
      ]
    },
    {
      "cell_type": "code",
      "execution_count": 4508,
      "metadata": {
        "id": "4V7lVYxOuXJK"
      },
      "outputs": [],
      "source": [
        "#Régression linéaire multiple\n",
        "from sklearn.compose import TransformedTargetRegressor\n",
        "from sklearn.model_selection import RandomizedSearchCV\n",
        "nb_split = 5\n",
        "score = ['accuracy','neg_mean_absolute_error']\n",
        "\n",
        "pipe_lr = Pipeline(\n",
        "    steps=[(\"preprocessor\", preprocessor), (\"LR\", TransformedTargetRegressor(regressor=LinearRegression(), func=np.log1p, inverse_func=np.expm1) )]\n",
        ")\n",
        "\n",
        "myscore = ('r2','neg_mean_absolute_error')\n",
        "\n",
        "lr_param_grid = [ {\"LR__regressor__fit_intercept\": [True, False]}   ] \n",
        "\n",
        "\n",
        "lr_grid_search = GridSearchCV(estimator=pipe_lr,\n",
        "        param_grid=lr_param_grid, refit='neg_mean_absolute_error',\n",
        "        scoring=myscore, n_jobs=-1,\n",
        "        cv=nb_split,return_train_score=True)\n",
        "\n",
        "\n",
        "#Elastic Net\n",
        "\n",
        "pipe_elastic = Pipeline(\n",
        "    steps=[(\"preprocessor\", preprocessor), (\"ELN\", TransformedTargetRegressor(regressor=ElasticNet() ,func=np.log, inverse_func=np.exp) )]\n",
        ")\n",
        "## Paramaètre du randomize search\n",
        "\"\"\"elastic_param_grid = [     {\"ELN__regressor__max_iter\": [10, 100, 1000],\n",
        "                            \"ELN__regressor__alpha\": np.logspace(-5, 5, num=10),  # alpha plus grand --- - 5 à 5 , augmenter la granularité\n",
        "                             \"ELN__regressor__l1_ratio\": np.arange(0.0, 1.1, 0.1) } ]   \"\"\"\n",
        "\n",
        "elastic_param_grid ={'ELN__regressor__alpha': [0.9],\n",
        " 'ELN__regressor__l1_ratio':[ 0.0 ],\n",
        " 'ELN__regressor__max_iter': [100]}\n",
        "\n",
        "elastic_grid_search = GridSearchCV(estimator=pipe_elastic,\n",
        "        param_grid=elastic_param_grid,\n",
        "        scoring=myscore, refit='neg_mean_absolute_error', n_jobs=-1,\n",
        "        cv=nb_split,return_train_score=True) \n",
        "\n",
        "# Linear SVM\n",
        "pipe_lsvr =Pipeline(\n",
        "    steps=[(\"preprocessor\", preprocessor), (\"LSVR\", TransformedTargetRegressor(regressor=LinearSVR() ,func=np.log, inverse_func=np.exp) )]\n",
        ")\n",
        "\n",
        "\"\"\"lsvr_param_grid = [      {'LSVR__regressor__C' : np.logspace(-4, 0, 5),\n",
        "                          'LSVR__regressor__epsilon' : [0, 0.01, 0.1, 0.5, 1, 2],\n",
        "                         'LSVR__regressor__loss' : [\"epsilon_insensitive\",\"squared_epsilon_insensitive\"],\n",
        "                          'LSVR__regressor__max_iter': [10, 100, 1000]}   ]  \"\"\"\n",
        "\n",
        "\n",
        "lsvr_param_grid ={'LSVR__regressor__C': [0.6],\n",
        " 'LSVR__regressor__epsilon': [1],\n",
        " 'LSVR__regressor__loss': ['epsilon_insensitive'],\n",
        " 'LSVR__regressor__max_iter': [10]}\n",
        "\n",
        "lsvr_grid_search = GridSearchCV(estimator=pipe_lsvr,\n",
        "        param_grid=lsvr_param_grid,\n",
        "        scoring=myscore, refit='neg_mean_absolute_error', n_jobs=-1,\n",
        "        cv=nb_split, return_train_score=True)\n",
        "\n",
        "\n",
        "# Random Forest\n",
        "pipe_rfr= Pipeline(\n",
        "    steps=[(\"preprocessor\", preprocessor), (\"RFR\", TransformedTargetRegressor(regressor=RandomForestRegressor() ,func=np.log, inverse_func=np.exp) )]\n",
        ")\n",
        "\n",
        "# Paramètre pour le Randomize search\n",
        "\"\"\"rfr_param_grid = [ {'RFR__regressor__max_features' : ['sqrt', 'log2'],\n",
        "                   'RFR__regressor__max_depth': [15, 25, 200],\n",
        "                   'RFR__regressor__min_samples_split': [2, 7, 8],\n",
        "                   'RFR__regressor__bootstrap' : [True, False],\n",
        "                   'RFR__regressor__min_samples_leaf': [1,2,5]}\"\"\"\n",
        "\n",
        "rfr_param_grid={'RFR__regressor__bootstrap': [False],\n",
        "                'RFR__regressor__max_depth': [25,50],\n",
        "                'RFR__regressor__max_features': ['sqrt'],\n",
        "                'RFR__regressor__min_samples_leaf': [1],\n",
        "                'RFR__regressor__min_samples_split': [2]}\n",
        "                                                      \n",
        "rfr_grid_search = GridSearchCV(estimator=pipe_rfr,\n",
        "       param_grid=rfr_param_grid,\n",
        "        scoring=myscore, refit='neg_mean_absolute_error', n_jobs=-1,\n",
        "        cv=nb_split, return_train_score=True)                                                  \n",
        "                                                 \n",
        "# Rajouter une métrique pour GridSearch\n",
        "# Xgboost Regressor\n",
        "\n",
        "\n",
        "pipe_extra = Pipeline(\n",
        "    steps=[(\"preprocessor\", preprocessor), (\"MLP\", TransformedTargetRegressor(regressor=ExtraTreesRegressor(random_state=0) ,func=np.log, inverse_func=np.exp) ) ] \n",
        ")\n",
        "\n",
        "## Paramaètre du randomize search\n",
        "\"\"\"  {'MLP__regressor__n_estimators':[350,500],\n",
        "         'MLP__regressor__max_depth':[8,9,10],\n",
        "         'MLP__regressor__min_samples_split':[3,4,6],\n",
        "         'MLP__regressor__min_samples_leaf':[2,3,4],\n",
        "         'MLP__regressor__max_features':[0.95],\n",
        "         'MLP__regressor__min_impurity_decrease':[1e-5,1e-4,0]}  \"\"\"\n",
        "\n",
        "## Paramètre choisis  pour le gridsearch après le Randomize search\n",
        "param_grid_mlp = {'MLP__regressor__n_estimators': [350],\n",
        " 'MLP__regressor__min_samples_split':[ 3],\n",
        " 'MLP__regressor__min_samples_leaf': [2],\n",
        " 'MLP__regressor__min_impurity_decrease': [1e-05],\n",
        " 'MLP__regressor__max_features': [0.95],\n",
        " 'MLP__regressor__max_depth': [10]}\n",
        "\n",
        "\n",
        "\n",
        "\n",
        "extraTree_grid_search = GridSearchCV(estimator=pipe_extra,\n",
        "        param_grid =param_grid_mlp,\n",
        "        scoring=myscore, refit='neg_mean_absolute_error', n_jobs=-1,\n",
        "        cv=nb_split, return_train_score=True) \n",
        "\n",
        "# Gradient boost\n",
        "pipe_gb= Pipeline(\n",
        "    steps=[(\"preprocessor\", preprocessor), (\"GB\", TransformedTargetRegressor(regressor=GradientBoostingRegressor() ,func=np.log, inverse_func=np.exp) )]\n",
        ")\n",
        "\n",
        "# Paramètre du randomized Search\n",
        "\"\"\"param_grid_GrBoostR = [{'GB__regressor__n_estimators': [350,500,700], \n",
        "                        'GB__regressor__max_depth': [5,6,7], \n",
        "                        'GB__regressor__min_samples_split': [2,3,4], \n",
        "                        'GB__regressor__learning_rate': [0.01,0.1], \n",
        "                        'GB__regressor__loss': ['ls'],\n",
        "                       \"GB__regressor__random_state\" : [0]\n",
        "                       }] \"\"\"\n",
        "\n",
        "param_grid_GrBoostR={'GB__regressor__random_state': [0],\n",
        "                    'GB__regressor__n_estimators': [350],\n",
        "                    'GB__regressor__min_samples_split': [3],\n",
        "                    'GB__regressor__max_depth': [5],\n",
        "                    'GB__regressor__loss': ['ls'],\n",
        "                    'GB__regressor__learning_rate': [0.1]}\n",
        "\n",
        "gb_grid_search =  GridSearchCV(estimator=pipe_gb,\n",
        "         param_grid=param_grid_GrBoostR,\n",
        "        scoring=myscore, refit='neg_mean_absolute_error', n_jobs=-1,\n",
        "        cv=nb_split, return_train_score=True)   \n"
      ]
    },
    {
      "cell_type": "markdown",
      "metadata": {
        "id": "04BwXAcKHWTY"
      },
      "source": [
        "### Entrainement des modèles et choix des meilleurs modèles après le GridSearch"
      ]
    },
    {
      "cell_type": "code",
      "execution_count": 4509,
      "metadata": {
        "id": "m0pQHZrB1zyz"
      },
      "outputs": [],
      "source": [
        "global target\n",
        "global R\n",
        "global lr_grid_search_model , elastic_grid_search_model, lsvr_grid_search_model, rfr_grid_search_model , mlp_grid_search_model, gb_grid_search_model\n",
        "target = ['TotalGHGEmissions', 'SiteEnergyUse(kBtu)']\n"
      ]
    },
    {
      "cell_type": "code",
      "source": [
        "def train_model (model) :\n",
        "  mymod = model.fit(X_train,Y_train['TotalGHGEmissions'])\n",
        "  y_test = Y_test['TotalGHGEmissions']\n",
        "  y_pred= mymod.predict(X_test)\n",
        "  print ( \"R2 : \" , round(r2_score (y_test, y_pred),2) ,  \"| MAE :\", round(mean_absolute_error (y_test, y_pred),2), ' | RMSE :', round( np.sqrt(mean_squared_error (y_test, y_pred)),2))\n",
        "  return mymod.best_params_\n"
      ],
      "metadata": {
        "id": "YobjUIrYDAWK"
      },
      "execution_count": 4510,
      "outputs": []
    },
    {
      "cell_type": "code",
      "source": [
        "data_model.shape"
      ],
      "metadata": {
        "colab": {
          "base_uri": "https://localhost:8080/"
        },
        "id": "OrTj6Ynaa5bF",
        "outputId": "b7ee5016-db27-4a66-805e-7511562ab372"
      },
      "execution_count": 4511,
      "outputs": [
        {
          "output_type": "execute_result",
          "data": {
            "text/plain": [
              "(1487, 21)"
            ]
          },
          "metadata": {},
          "execution_count": 4511
        }
      ]
    },
    {
      "cell_type": "code",
      "source": [
        "%%time\n",
        "target_x =target[0]\n",
        "lr_grid_search_model = lr_grid_search.fit(X_train,Y_train[target_x])\n",
        "elastic_grid_search_model = elastic_grid_search.fit(X_train,Y_train[target_x])\n",
        "lsvr_grid_search_model = lsvr_grid_search.fit(X_train,Y_train[target_x])\n",
        "rfr_grid_search_model = rfr_grid_search.fit(X_train,Y_train[target_x])\n",
        "mlp_grid_search_model = extraTree_grid_search.fit(X_train,Y_train[target_x])\n",
        "gb_grid_search_model = gb_grid_search.fit(X_train,Y_train['TotalGHGEmissions'])\n"
      ],
      "metadata": {
        "colab": {
          "base_uri": "https://localhost:8080/"
        },
        "id": "2U6Du9QrOsfg",
        "outputId": "d0592b2e-f9c7-4831-b155-ea5152a464e9"
      },
      "execution_count": 4512,
      "outputs": [
        {
          "output_type": "stream",
          "name": "stdout",
          "text": [
            "CPU times: user 6.17 s, sys: 66.1 ms, total: 6.24 s\n",
            "Wall time: 30.4 s\n"
          ]
        }
      ]
    },
    {
      "cell_type": "code",
      "execution_count": 4513,
      "metadata": {
        "id": "ksYni_mhYIol"
      },
      "outputs": [],
      "source": [
        "modele ={ 'Linear Regression': lr_grid_search_model, 'Elastic Net' : elastic_grid_search_model , 'Linear SVR': lsvr_grid_search_model ,\n",
        "         'RandomForest':rfr_grid_search_model, 'ExtraTree Regressor':mlp_grid_search_model,'GradientBoost' : gb_grid_search_model}"
      ]
    },
    {
      "cell_type": "markdown",
      "metadata": {
        "id": "50q9ALdtMVTv"
      },
      "source": [
        "###  Choix du meilleur modèle pour la variable target TotalGHGEmissions "
      ]
    },
    {
      "cell_type": "markdown",
      "source": [
        "Metrics de la cross validation du Gridsearch"
      ],
      "metadata": {
        "id": "KnLJjpH-g2qc"
      }
    },
    {
      "cell_type": "code",
      "execution_count": 4514,
      "metadata": {
        "colab": {
          "base_uri": "https://localhost:8080/",
          "height": 238
        },
        "id": "ar3IjCel3Gue",
        "outputId": "1c628e6e-26a8-41f4-b421-31ee854c61a8"
      },
      "outputs": [
        {
          "output_type": "execute_result",
          "data": {
            "text/plain": [
              "                                              params  mean_fit_time  \\\n",
              "0             {'LR__regressor__fit_intercept': True}       0.066704   \n",
              "0  {'ELN__regressor__alpha': 0.9, 'ELN__regressor...       0.064984   \n",
              "0  {'LSVR__regressor__C': 0.6, 'LSVR__regressor__...       0.034895   \n",
              "0  {'RFR__regressor__bootstrap': False, 'RFR__reg...       0.967857   \n",
              "0  {'MLP__regressor__max_depth': 10, 'MLP__regres...       3.728554   \n",
              "0  {'GB__regressor__learning_rate': 0.1, 'GB__reg...       2.371704   \n",
              "\n",
              "   mean_test_neg_mean_absolute_error  mean_test_r2  \\\n",
              "0                        -451.277673   -217.886606   \n",
              "0                        -109.801115      0.298637   \n",
              "0                        -275.433841     -6.324217   \n",
              "0                         -77.736895      0.557869   \n",
              "0                         -73.532842      0.644672   \n",
              "0                         -68.791564      0.706760   \n",
              "\n",
              "   std_train_neg_mean_absolute_error              Modèles  \n",
              "0                          59.541808     LinearRegression  \n",
              "0                           3.414170           ElasticNet  \n",
              "0                         149.061245                  SVR  \n",
              "0                           0.163099         RandomForest  \n",
              "0                           1.236896  Extratree Regressor  \n",
              "0                           0.208623        GradientBoost  "
            ],
            "text/html": [
              "\n",
              "  <div id=\"df-548ec98f-a34f-4533-afae-03982b11ff19\">\n",
              "    <div class=\"colab-df-container\">\n",
              "      <div>\n",
              "<style scoped>\n",
              "    .dataframe tbody tr th:only-of-type {\n",
              "        vertical-align: middle;\n",
              "    }\n",
              "\n",
              "    .dataframe tbody tr th {\n",
              "        vertical-align: top;\n",
              "    }\n",
              "\n",
              "    .dataframe thead th {\n",
              "        text-align: right;\n",
              "    }\n",
              "</style>\n",
              "<table border=\"1\" class=\"dataframe\">\n",
              "  <thead>\n",
              "    <tr style=\"text-align: right;\">\n",
              "      <th></th>\n",
              "      <th>params</th>\n",
              "      <th>mean_fit_time</th>\n",
              "      <th>mean_test_neg_mean_absolute_error</th>\n",
              "      <th>mean_test_r2</th>\n",
              "      <th>std_train_neg_mean_absolute_error</th>\n",
              "      <th>Modèles</th>\n",
              "    </tr>\n",
              "  </thead>\n",
              "  <tbody>\n",
              "    <tr>\n",
              "      <th>0</th>\n",
              "      <td>{'LR__regressor__fit_intercept': True}</td>\n",
              "      <td>0.066704</td>\n",
              "      <td>-451.277673</td>\n",
              "      <td>-217.886606</td>\n",
              "      <td>59.541808</td>\n",
              "      <td>LinearRegression</td>\n",
              "    </tr>\n",
              "    <tr>\n",
              "      <th>0</th>\n",
              "      <td>{'ELN__regressor__alpha': 0.9, 'ELN__regressor...</td>\n",
              "      <td>0.064984</td>\n",
              "      <td>-109.801115</td>\n",
              "      <td>0.298637</td>\n",
              "      <td>3.414170</td>\n",
              "      <td>ElasticNet</td>\n",
              "    </tr>\n",
              "    <tr>\n",
              "      <th>0</th>\n",
              "      <td>{'LSVR__regressor__C': 0.6, 'LSVR__regressor__...</td>\n",
              "      <td>0.034895</td>\n",
              "      <td>-275.433841</td>\n",
              "      <td>-6.324217</td>\n",
              "      <td>149.061245</td>\n",
              "      <td>SVR</td>\n",
              "    </tr>\n",
              "    <tr>\n",
              "      <th>0</th>\n",
              "      <td>{'RFR__regressor__bootstrap': False, 'RFR__reg...</td>\n",
              "      <td>0.967857</td>\n",
              "      <td>-77.736895</td>\n",
              "      <td>0.557869</td>\n",
              "      <td>0.163099</td>\n",
              "      <td>RandomForest</td>\n",
              "    </tr>\n",
              "    <tr>\n",
              "      <th>0</th>\n",
              "      <td>{'MLP__regressor__max_depth': 10, 'MLP__regres...</td>\n",
              "      <td>3.728554</td>\n",
              "      <td>-73.532842</td>\n",
              "      <td>0.644672</td>\n",
              "      <td>1.236896</td>\n",
              "      <td>Extratree Regressor</td>\n",
              "    </tr>\n",
              "    <tr>\n",
              "      <th>0</th>\n",
              "      <td>{'GB__regressor__learning_rate': 0.1, 'GB__reg...</td>\n",
              "      <td>2.371704</td>\n",
              "      <td>-68.791564</td>\n",
              "      <td>0.706760</td>\n",
              "      <td>0.208623</td>\n",
              "      <td>GradientBoost</td>\n",
              "    </tr>\n",
              "  </tbody>\n",
              "</table>\n",
              "</div>\n",
              "      <button class=\"colab-df-convert\" onclick=\"convertToInteractive('df-548ec98f-a34f-4533-afae-03982b11ff19')\"\n",
              "              title=\"Convert this dataframe to an interactive table.\"\n",
              "              style=\"display:none;\">\n",
              "        \n",
              "  <svg xmlns=\"http://www.w3.org/2000/svg\" height=\"24px\"viewBox=\"0 0 24 24\"\n",
              "       width=\"24px\">\n",
              "    <path d=\"M0 0h24v24H0V0z\" fill=\"none\"/>\n",
              "    <path d=\"M18.56 5.44l.94 2.06.94-2.06 2.06-.94-2.06-.94-.94-2.06-.94 2.06-2.06.94zm-11 1L8.5 8.5l.94-2.06 2.06-.94-2.06-.94L8.5 2.5l-.94 2.06-2.06.94zm10 10l.94 2.06.94-2.06 2.06-.94-2.06-.94-.94-2.06-.94 2.06-2.06.94z\"/><path d=\"M17.41 7.96l-1.37-1.37c-.4-.4-.92-.59-1.43-.59-.52 0-1.04.2-1.43.59L10.3 9.45l-7.72 7.72c-.78.78-.78 2.05 0 2.83L4 21.41c.39.39.9.59 1.41.59.51 0 1.02-.2 1.41-.59l7.78-7.78 2.81-2.81c.8-.78.8-2.07 0-2.86zM5.41 20L4 18.59l7.72-7.72 1.47 1.35L5.41 20z\"/>\n",
              "  </svg>\n",
              "      </button>\n",
              "      \n",
              "  <style>\n",
              "    .colab-df-container {\n",
              "      display:flex;\n",
              "      flex-wrap:wrap;\n",
              "      gap: 12px;\n",
              "    }\n",
              "\n",
              "    .colab-df-convert {\n",
              "      background-color: #E8F0FE;\n",
              "      border: none;\n",
              "      border-radius: 50%;\n",
              "      cursor: pointer;\n",
              "      display: none;\n",
              "      fill: #1967D2;\n",
              "      height: 32px;\n",
              "      padding: 0 0 0 0;\n",
              "      width: 32px;\n",
              "    }\n",
              "\n",
              "    .colab-df-convert:hover {\n",
              "      background-color: #E2EBFA;\n",
              "      box-shadow: 0px 1px 2px rgba(60, 64, 67, 0.3), 0px 1px 3px 1px rgba(60, 64, 67, 0.15);\n",
              "      fill: #174EA6;\n",
              "    }\n",
              "\n",
              "    [theme=dark] .colab-df-convert {\n",
              "      background-color: #3B4455;\n",
              "      fill: #D2E3FC;\n",
              "    }\n",
              "\n",
              "    [theme=dark] .colab-df-convert:hover {\n",
              "      background-color: #434B5C;\n",
              "      box-shadow: 0px 1px 3px 1px rgba(0, 0, 0, 0.15);\n",
              "      filter: drop-shadow(0px 1px 2px rgba(0, 0, 0, 0.3));\n",
              "      fill: #FFFFFF;\n",
              "    }\n",
              "  </style>\n",
              "\n",
              "      <script>\n",
              "        const buttonEl =\n",
              "          document.querySelector('#df-548ec98f-a34f-4533-afae-03982b11ff19 button.colab-df-convert');\n",
              "        buttonEl.style.display =\n",
              "          google.colab.kernel.accessAllowed ? 'block' : 'none';\n",
              "\n",
              "        async function convertToInteractive(key) {\n",
              "          const element = document.querySelector('#df-548ec98f-a34f-4533-afae-03982b11ff19');\n",
              "          const dataTable =\n",
              "            await google.colab.kernel.invokeFunction('convertToInteractive',\n",
              "                                                     [key], {});\n",
              "          if (!dataTable) return;\n",
              "\n",
              "          const docLinkHtml = 'Like what you see? Visit the ' +\n",
              "            '<a target=\"_blank\" href=https://colab.research.google.com/notebooks/data_table.ipynb>data table notebook</a>'\n",
              "            + ' to learn more about interactive tables.';\n",
              "          element.innerHTML = '';\n",
              "          dataTable['output_type'] = 'display_data';\n",
              "          await google.colab.output.renderOutput(dataTable, element);\n",
              "          const docLink = document.createElement('div');\n",
              "          docLink.innerHTML = docLinkHtml;\n",
              "          element.appendChild(docLink);\n",
              "        }\n",
              "      </script>\n",
              "    </div>\n",
              "  </div>\n",
              "  "
            ]
          },
          "metadata": {},
          "execution_count": 4514
        }
      ],
      "source": [
        "a=pd.DataFrame(lr_grid_search_model.cv_results_)[['params',\t'mean_fit_time', 'mean_test_neg_mean_absolute_error', 'mean_test_r2'\t,'std_train_neg_mean_absolute_error', ]].head(1)\n",
        "b=pd.DataFrame(elastic_grid_search_model.cv_results_)[['params',\t'mean_fit_time', 'mean_test_neg_mean_absolute_error','mean_test_r2'\t,'std_train_neg_mean_absolute_error']].head(1)\n",
        "c=pd.DataFrame(lsvr_grid_search_model.cv_results_)[['params',\t'mean_fit_time', 'mean_test_neg_mean_absolute_error','mean_test_r2'\t,'std_train_neg_mean_absolute_error']].head(1)\n",
        "d=pd.DataFrame(rfr_grid_search_model.cv_results_)[['params',\t'mean_fit_time', 'mean_test_neg_mean_absolute_error','mean_test_r2'\t,'std_train_neg_mean_absolute_error']].head(1)\n",
        "e=pd.DataFrame(mlp_grid_search_model.cv_results_)[['params',\t'mean_fit_time', 'mean_test_neg_mean_absolute_error','mean_test_r2'\t,'std_train_neg_mean_absolute_error']].head(1)\n",
        "f=pd.DataFrame(gb_grid_search_model.cv_results_)[['params',\t'mean_fit_time', 'mean_test_neg_mean_absolute_error','mean_test_r2'\t,'std_train_neg_mean_absolute_error']].head(1)\n",
        "\n",
        "R=pd.concat([a, b,c,d,e,f])\n",
        "R[\"Modèles\"] = ['LinearRegression', 'ElasticNet', 'SVR', 'RandomForest', 'Extratree Regressor', 'GradientBoost']\n",
        "R"
      ]
    },
    {
      "cell_type": "markdown",
      "source": [
        "### Qualité de prediction du meilleur modèle choisi après le GridSearch."
      ],
      "metadata": {
        "id": "Gg_wAU3egPBW"
      }
    },
    {
      "cell_type": "code",
      "source": [
        "dict_train={}\n",
        "\n",
        "for m in modele.keys() :\n",
        "  y_pred =modele[m].best_estimator_.predict(X_train)\n",
        "  dict_train[m] = [ round(np.sqrt(mean_squared_error(Y_train['TotalGHGEmissions'],y_pred)) ,2), round((mean_absolute_error(Y_train['TotalGHGEmissions'],y_pred)),2),round((r2_score(Y_train['TotalGHGEmissions'],y_pred)),2)  ]\n",
        "\n",
        "\n",
        "dict_test={}\n",
        "\n",
        "for m in modele.keys() :\n",
        "  y_pred =modele[m].best_estimator_.predict(X_test)\n",
        "  dict_test[m] = [ round(np.sqrt(mean_squared_error(Y_test['TotalGHGEmissions'],y_pred)) ,2), round((mean_absolute_error(Y_test['TotalGHGEmissions'],y_pred)),2),round((r2_score(Y_test['TotalGHGEmissions'],y_pred)),2)  ]\n"
      ],
      "metadata": {
        "id": "rn-gKdSukDat"
      },
      "execution_count": 4515,
      "outputs": []
    },
    {
      "cell_type": "markdown",
      "source": [
        "### Qualité de prédiction de chaque modèle du GridSearch sur le test set"
      ],
      "metadata": {
        "id": "PiZpbGjKdqaC"
      }
    },
    {
      "cell_type": "code",
      "source": [
        "# Prédiction sur le test set\n",
        "print (\"             Metrics sur le Test set\")\n",
        "metrics=pd.DataFrame(dict_test)\n",
        "metrics.index = ([\"RMSE\",\"MAE\",\"R2\"])\n",
        "display(metrics.T)\n",
        "print(\"\\n\")\n",
        "print (\"             Metrics sur le Train set\")\n",
        "#Prédiction sur le train set\n",
        "metrics=pd.DataFrame(dict_train)\n",
        "metrics.index = ([\"RMSE\",\"MAE\",\"R2\"])\n",
        "display(metrics.T)"
      ],
      "metadata": {
        "colab": {
          "base_uri": "https://localhost:8080/",
          "height": 527
        },
        "id": "MxLIjo-EikVt",
        "outputId": "03447030-bc47-4b5b-9321-cbda4cbf4cc7"
      },
      "execution_count": 4527,
      "outputs": [
        {
          "output_type": "stream",
          "name": "stdout",
          "text": [
            "             Metrics sur le Test set\n"
          ]
        },
        {
          "output_type": "display_data",
          "data": {
            "text/plain": [
              "                       RMSE     MAE    R2\n",
              "Linear Regression    956.96  148.87 -1.87\n",
              "Elastic Net          544.31  137.59  0.07\n",
              "Linear SVR           507.67  139.77  0.19\n",
              "RandomForest         353.96   91.47  0.61\n",
              "ExtraTree Regressor  364.94   86.81  0.58\n",
              "GradientBoost        237.23   69.08  0.82"
            ],
            "text/html": [
              "\n",
              "  <div id=\"df-5058d3c8-4291-4bca-90a5-a3a944eb08dc\">\n",
              "    <div class=\"colab-df-container\">\n",
              "      <div>\n",
              "<style scoped>\n",
              "    .dataframe tbody tr th:only-of-type {\n",
              "        vertical-align: middle;\n",
              "    }\n",
              "\n",
              "    .dataframe tbody tr th {\n",
              "        vertical-align: top;\n",
              "    }\n",
              "\n",
              "    .dataframe thead th {\n",
              "        text-align: right;\n",
              "    }\n",
              "</style>\n",
              "<table border=\"1\" class=\"dataframe\">\n",
              "  <thead>\n",
              "    <tr style=\"text-align: right;\">\n",
              "      <th></th>\n",
              "      <th>RMSE</th>\n",
              "      <th>MAE</th>\n",
              "      <th>R2</th>\n",
              "    </tr>\n",
              "  </thead>\n",
              "  <tbody>\n",
              "    <tr>\n",
              "      <th>Linear Regression</th>\n",
              "      <td>956.96</td>\n",
              "      <td>148.87</td>\n",
              "      <td>-1.87</td>\n",
              "    </tr>\n",
              "    <tr>\n",
              "      <th>Elastic Net</th>\n",
              "      <td>544.31</td>\n",
              "      <td>137.59</td>\n",
              "      <td>0.07</td>\n",
              "    </tr>\n",
              "    <tr>\n",
              "      <th>Linear SVR</th>\n",
              "      <td>507.67</td>\n",
              "      <td>139.77</td>\n",
              "      <td>0.19</td>\n",
              "    </tr>\n",
              "    <tr>\n",
              "      <th>RandomForest</th>\n",
              "      <td>353.96</td>\n",
              "      <td>91.47</td>\n",
              "      <td>0.61</td>\n",
              "    </tr>\n",
              "    <tr>\n",
              "      <th>ExtraTree Regressor</th>\n",
              "      <td>364.94</td>\n",
              "      <td>86.81</td>\n",
              "      <td>0.58</td>\n",
              "    </tr>\n",
              "    <tr>\n",
              "      <th>GradientBoost</th>\n",
              "      <td>237.23</td>\n",
              "      <td>69.08</td>\n",
              "      <td>0.82</td>\n",
              "    </tr>\n",
              "  </tbody>\n",
              "</table>\n",
              "</div>\n",
              "      <button class=\"colab-df-convert\" onclick=\"convertToInteractive('df-5058d3c8-4291-4bca-90a5-a3a944eb08dc')\"\n",
              "              title=\"Convert this dataframe to an interactive table.\"\n",
              "              style=\"display:none;\">\n",
              "        \n",
              "  <svg xmlns=\"http://www.w3.org/2000/svg\" height=\"24px\"viewBox=\"0 0 24 24\"\n",
              "       width=\"24px\">\n",
              "    <path d=\"M0 0h24v24H0V0z\" fill=\"none\"/>\n",
              "    <path d=\"M18.56 5.44l.94 2.06.94-2.06 2.06-.94-2.06-.94-.94-2.06-.94 2.06-2.06.94zm-11 1L8.5 8.5l.94-2.06 2.06-.94-2.06-.94L8.5 2.5l-.94 2.06-2.06.94zm10 10l.94 2.06.94-2.06 2.06-.94-2.06-.94-.94-2.06-.94 2.06-2.06.94z\"/><path d=\"M17.41 7.96l-1.37-1.37c-.4-.4-.92-.59-1.43-.59-.52 0-1.04.2-1.43.59L10.3 9.45l-7.72 7.72c-.78.78-.78 2.05 0 2.83L4 21.41c.39.39.9.59 1.41.59.51 0 1.02-.2 1.41-.59l7.78-7.78 2.81-2.81c.8-.78.8-2.07 0-2.86zM5.41 20L4 18.59l7.72-7.72 1.47 1.35L5.41 20z\"/>\n",
              "  </svg>\n",
              "      </button>\n",
              "      \n",
              "  <style>\n",
              "    .colab-df-container {\n",
              "      display:flex;\n",
              "      flex-wrap:wrap;\n",
              "      gap: 12px;\n",
              "    }\n",
              "\n",
              "    .colab-df-convert {\n",
              "      background-color: #E8F0FE;\n",
              "      border: none;\n",
              "      border-radius: 50%;\n",
              "      cursor: pointer;\n",
              "      display: none;\n",
              "      fill: #1967D2;\n",
              "      height: 32px;\n",
              "      padding: 0 0 0 0;\n",
              "      width: 32px;\n",
              "    }\n",
              "\n",
              "    .colab-df-convert:hover {\n",
              "      background-color: #E2EBFA;\n",
              "      box-shadow: 0px 1px 2px rgba(60, 64, 67, 0.3), 0px 1px 3px 1px rgba(60, 64, 67, 0.15);\n",
              "      fill: #174EA6;\n",
              "    }\n",
              "\n",
              "    [theme=dark] .colab-df-convert {\n",
              "      background-color: #3B4455;\n",
              "      fill: #D2E3FC;\n",
              "    }\n",
              "\n",
              "    [theme=dark] .colab-df-convert:hover {\n",
              "      background-color: #434B5C;\n",
              "      box-shadow: 0px 1px 3px 1px rgba(0, 0, 0, 0.15);\n",
              "      filter: drop-shadow(0px 1px 2px rgba(0, 0, 0, 0.3));\n",
              "      fill: #FFFFFF;\n",
              "    }\n",
              "  </style>\n",
              "\n",
              "      <script>\n",
              "        const buttonEl =\n",
              "          document.querySelector('#df-5058d3c8-4291-4bca-90a5-a3a944eb08dc button.colab-df-convert');\n",
              "        buttonEl.style.display =\n",
              "          google.colab.kernel.accessAllowed ? 'block' : 'none';\n",
              "\n",
              "        async function convertToInteractive(key) {\n",
              "          const element = document.querySelector('#df-5058d3c8-4291-4bca-90a5-a3a944eb08dc');\n",
              "          const dataTable =\n",
              "            await google.colab.kernel.invokeFunction('convertToInteractive',\n",
              "                                                     [key], {});\n",
              "          if (!dataTable) return;\n",
              "\n",
              "          const docLinkHtml = 'Like what you see? Visit the ' +\n",
              "            '<a target=\"_blank\" href=https://colab.research.google.com/notebooks/data_table.ipynb>data table notebook</a>'\n",
              "            + ' to learn more about interactive tables.';\n",
              "          element.innerHTML = '';\n",
              "          dataTable['output_type'] = 'display_data';\n",
              "          await google.colab.output.renderOutput(dataTable, element);\n",
              "          const docLink = document.createElement('div');\n",
              "          docLink.innerHTML = docLinkHtml;\n",
              "          element.appendChild(docLink);\n",
              "        }\n",
              "      </script>\n",
              "    </div>\n",
              "  </div>\n",
              "  "
            ]
          },
          "metadata": {}
        },
        {
          "output_type": "stream",
          "name": "stdout",
          "text": [
            "\n",
            "\n",
            "             Metrics sur le Train set\n"
          ]
        },
        {
          "output_type": "display_data",
          "data": {
            "text/plain": [
              "                        RMSE     MAE     R2\n",
              "Linear Regression    5548.29  260.54 -89.94\n",
              "Elastic Net           434.93  110.25   0.44\n",
              "Linear SVR           2938.68  200.23 -24.51\n",
              "RandomForest            2.45    0.27   1.00\n",
              "ExtraTree Regressor   159.68   41.90   0.92\n",
              "GradientBoost          21.56    8.46   1.00"
            ],
            "text/html": [
              "\n",
              "  <div id=\"df-4a322875-ff74-4ab4-94f9-eef7d05ece29\">\n",
              "    <div class=\"colab-df-container\">\n",
              "      <div>\n",
              "<style scoped>\n",
              "    .dataframe tbody tr th:only-of-type {\n",
              "        vertical-align: middle;\n",
              "    }\n",
              "\n",
              "    .dataframe tbody tr th {\n",
              "        vertical-align: top;\n",
              "    }\n",
              "\n",
              "    .dataframe thead th {\n",
              "        text-align: right;\n",
              "    }\n",
              "</style>\n",
              "<table border=\"1\" class=\"dataframe\">\n",
              "  <thead>\n",
              "    <tr style=\"text-align: right;\">\n",
              "      <th></th>\n",
              "      <th>RMSE</th>\n",
              "      <th>MAE</th>\n",
              "      <th>R2</th>\n",
              "    </tr>\n",
              "  </thead>\n",
              "  <tbody>\n",
              "    <tr>\n",
              "      <th>Linear Regression</th>\n",
              "      <td>5548.29</td>\n",
              "      <td>260.54</td>\n",
              "      <td>-89.94</td>\n",
              "    </tr>\n",
              "    <tr>\n",
              "      <th>Elastic Net</th>\n",
              "      <td>434.93</td>\n",
              "      <td>110.25</td>\n",
              "      <td>0.44</td>\n",
              "    </tr>\n",
              "    <tr>\n",
              "      <th>Linear SVR</th>\n",
              "      <td>2938.68</td>\n",
              "      <td>200.23</td>\n",
              "      <td>-24.51</td>\n",
              "    </tr>\n",
              "    <tr>\n",
              "      <th>RandomForest</th>\n",
              "      <td>2.45</td>\n",
              "      <td>0.27</td>\n",
              "      <td>1.00</td>\n",
              "    </tr>\n",
              "    <tr>\n",
              "      <th>ExtraTree Regressor</th>\n",
              "      <td>159.68</td>\n",
              "      <td>41.90</td>\n",
              "      <td>0.92</td>\n",
              "    </tr>\n",
              "    <tr>\n",
              "      <th>GradientBoost</th>\n",
              "      <td>21.56</td>\n",
              "      <td>8.46</td>\n",
              "      <td>1.00</td>\n",
              "    </tr>\n",
              "  </tbody>\n",
              "</table>\n",
              "</div>\n",
              "      <button class=\"colab-df-convert\" onclick=\"convertToInteractive('df-4a322875-ff74-4ab4-94f9-eef7d05ece29')\"\n",
              "              title=\"Convert this dataframe to an interactive table.\"\n",
              "              style=\"display:none;\">\n",
              "        \n",
              "  <svg xmlns=\"http://www.w3.org/2000/svg\" height=\"24px\"viewBox=\"0 0 24 24\"\n",
              "       width=\"24px\">\n",
              "    <path d=\"M0 0h24v24H0V0z\" fill=\"none\"/>\n",
              "    <path d=\"M18.56 5.44l.94 2.06.94-2.06 2.06-.94-2.06-.94-.94-2.06-.94 2.06-2.06.94zm-11 1L8.5 8.5l.94-2.06 2.06-.94-2.06-.94L8.5 2.5l-.94 2.06-2.06.94zm10 10l.94 2.06.94-2.06 2.06-.94-2.06-.94-.94-2.06-.94 2.06-2.06.94z\"/><path d=\"M17.41 7.96l-1.37-1.37c-.4-.4-.92-.59-1.43-.59-.52 0-1.04.2-1.43.59L10.3 9.45l-7.72 7.72c-.78.78-.78 2.05 0 2.83L4 21.41c.39.39.9.59 1.41.59.51 0 1.02-.2 1.41-.59l7.78-7.78 2.81-2.81c.8-.78.8-2.07 0-2.86zM5.41 20L4 18.59l7.72-7.72 1.47 1.35L5.41 20z\"/>\n",
              "  </svg>\n",
              "      </button>\n",
              "      \n",
              "  <style>\n",
              "    .colab-df-container {\n",
              "      display:flex;\n",
              "      flex-wrap:wrap;\n",
              "      gap: 12px;\n",
              "    }\n",
              "\n",
              "    .colab-df-convert {\n",
              "      background-color: #E8F0FE;\n",
              "      border: none;\n",
              "      border-radius: 50%;\n",
              "      cursor: pointer;\n",
              "      display: none;\n",
              "      fill: #1967D2;\n",
              "      height: 32px;\n",
              "      padding: 0 0 0 0;\n",
              "      width: 32px;\n",
              "    }\n",
              "\n",
              "    .colab-df-convert:hover {\n",
              "      background-color: #E2EBFA;\n",
              "      box-shadow: 0px 1px 2px rgba(60, 64, 67, 0.3), 0px 1px 3px 1px rgba(60, 64, 67, 0.15);\n",
              "      fill: #174EA6;\n",
              "    }\n",
              "\n",
              "    [theme=dark] .colab-df-convert {\n",
              "      background-color: #3B4455;\n",
              "      fill: #D2E3FC;\n",
              "    }\n",
              "\n",
              "    [theme=dark] .colab-df-convert:hover {\n",
              "      background-color: #434B5C;\n",
              "      box-shadow: 0px 1px 3px 1px rgba(0, 0, 0, 0.15);\n",
              "      filter: drop-shadow(0px 1px 2px rgba(0, 0, 0, 0.3));\n",
              "      fill: #FFFFFF;\n",
              "    }\n",
              "  </style>\n",
              "\n",
              "      <script>\n",
              "        const buttonEl =\n",
              "          document.querySelector('#df-4a322875-ff74-4ab4-94f9-eef7d05ece29 button.colab-df-convert');\n",
              "        buttonEl.style.display =\n",
              "          google.colab.kernel.accessAllowed ? 'block' : 'none';\n",
              "\n",
              "        async function convertToInteractive(key) {\n",
              "          const element = document.querySelector('#df-4a322875-ff74-4ab4-94f9-eef7d05ece29');\n",
              "          const dataTable =\n",
              "            await google.colab.kernel.invokeFunction('convertToInteractive',\n",
              "                                                     [key], {});\n",
              "          if (!dataTable) return;\n",
              "\n",
              "          const docLinkHtml = 'Like what you see? Visit the ' +\n",
              "            '<a target=\"_blank\" href=https://colab.research.google.com/notebooks/data_table.ipynb>data table notebook</a>'\n",
              "            + ' to learn more about interactive tables.';\n",
              "          element.innerHTML = '';\n",
              "          dataTable['output_type'] = 'display_data';\n",
              "          await google.colab.output.renderOutput(dataTable, element);\n",
              "          const docLink = document.createElement('div');\n",
              "          docLink.innerHTML = docLinkHtml;\n",
              "          element.appendChild(docLink);\n",
              "        }\n",
              "      </script>\n",
              "    </div>\n",
              "  </div>\n",
              "  "
            ]
          },
          "metadata": {}
        }
      ]
    },
    {
      "cell_type": "markdown",
      "source": [
        "Avec la graphique ci-dessus, on constate que le modèle GradientBoost offre le meilleur score **MAE**  (environ 60) et un meilleur $R^2$ (~0.8) . On rentiendra ce modèle pour la modélisation de la \n",
        "variable **TotalGHGEmissions** est donc le modèle GradientBoost."
      ],
      "metadata": {
        "id": "1zlWT-u1nxjK"
      }
    },
    {
      "cell_type": "markdown",
      "metadata": {
        "id": "Q5pSbt6tzfYB"
      },
      "source": [
        "### Temps d'entrainement de chaque modèles"
      ]
    },
    {
      "cell_type": "code",
      "execution_count": 4517,
      "metadata": {
        "colab": {
          "base_uri": "https://localhost:8080/",
          "height": 417
        },
        "id": "rI4_tDO-aS3F",
        "outputId": "7d363437-83c3-4908-cba7-b447f9eaf9c2"
      },
      "outputs": [
        {
          "output_type": "display_data",
          "data": {
            "text/html": [
              "<html>\n",
              "<head><meta charset=\"utf-8\" /></head>\n",
              "<body>\n",
              "    <div>            <script src=\"https://cdnjs.cloudflare.com/ajax/libs/mathjax/2.7.5/MathJax.js?config=TeX-AMS-MML_SVG\"></script><script type=\"text/javascript\">if (window.MathJax) {MathJax.Hub.Config({SVG: {font: \"STIX-Web\"}});}</script>                <script type=\"text/javascript\">window.PlotlyConfig = {MathJaxConfig: 'local'};</script>\n",
              "        <script src=\"https://cdn.plot.ly/plotly-2.8.3.min.js\"></script>                <div id=\"da1779e1-5b69-4605-ae9b-2a935031a265\" class=\"plotly-graph-div\" style=\"height:400px; width:700px;\"></div>            <script type=\"text/javascript\">                                    window.PLOTLYENV=window.PLOTLYENV || {};                                    if (document.getElementById(\"da1779e1-5b69-4605-ae9b-2a935031a265\")) {                    Plotly.newPlot(                        \"da1779e1-5b69-4605-ae9b-2a935031a265\",                        [{\"name\":\"temps entrainement\",\"x\":[\"LinearRegression\",\"ElasticNet\",\"SVR\",\"RandomForest\",\"Extratree Regressor\",\"GradientBoost\"],\"y\":[0.06670408248901367,0.06498398780822753,0.03489475250244141,0.9678566932678223,3.728553533554077,2.3717041015625],\"type\":\"bar\"}],                        {\"template\":{\"data\":{\"bar\":[{\"error_x\":{\"color\":\"#2a3f5f\"},\"error_y\":{\"color\":\"#2a3f5f\"},\"marker\":{\"line\":{\"color\":\"#E5ECF6\",\"width\":0.5},\"pattern\":{\"fillmode\":\"overlay\",\"size\":10,\"solidity\":0.2}},\"type\":\"bar\"}],\"barpolar\":[{\"marker\":{\"line\":{\"color\":\"#E5ECF6\",\"width\":0.5},\"pattern\":{\"fillmode\":\"overlay\",\"size\":10,\"solidity\":0.2}},\"type\":\"barpolar\"}],\"carpet\":[{\"aaxis\":{\"endlinecolor\":\"#2a3f5f\",\"gridcolor\":\"white\",\"linecolor\":\"white\",\"minorgridcolor\":\"white\",\"startlinecolor\":\"#2a3f5f\"},\"baxis\":{\"endlinecolor\":\"#2a3f5f\",\"gridcolor\":\"white\",\"linecolor\":\"white\",\"minorgridcolor\":\"white\",\"startlinecolor\":\"#2a3f5f\"},\"type\":\"carpet\"}],\"choropleth\":[{\"colorbar\":{\"outlinewidth\":0,\"ticks\":\"\"},\"type\":\"choropleth\"}],\"contour\":[{\"colorbar\":{\"outlinewidth\":0,\"ticks\":\"\"},\"colorscale\":[[0.0,\"#0d0887\"],[0.1111111111111111,\"#46039f\"],[0.2222222222222222,\"#7201a8\"],[0.3333333333333333,\"#9c179e\"],[0.4444444444444444,\"#bd3786\"],[0.5555555555555556,\"#d8576b\"],[0.6666666666666666,\"#ed7953\"],[0.7777777777777778,\"#fb9f3a\"],[0.8888888888888888,\"#fdca26\"],[1.0,\"#f0f921\"]],\"type\":\"contour\"}],\"contourcarpet\":[{\"colorbar\":{\"outlinewidth\":0,\"ticks\":\"\"},\"type\":\"contourcarpet\"}],\"heatmap\":[{\"colorbar\":{\"outlinewidth\":0,\"ticks\":\"\"},\"colorscale\":[[0.0,\"#0d0887\"],[0.1111111111111111,\"#46039f\"],[0.2222222222222222,\"#7201a8\"],[0.3333333333333333,\"#9c179e\"],[0.4444444444444444,\"#bd3786\"],[0.5555555555555556,\"#d8576b\"],[0.6666666666666666,\"#ed7953\"],[0.7777777777777778,\"#fb9f3a\"],[0.8888888888888888,\"#fdca26\"],[1.0,\"#f0f921\"]],\"type\":\"heatmap\"}],\"heatmapgl\":[{\"colorbar\":{\"outlinewidth\":0,\"ticks\":\"\"},\"colorscale\":[[0.0,\"#0d0887\"],[0.1111111111111111,\"#46039f\"],[0.2222222222222222,\"#7201a8\"],[0.3333333333333333,\"#9c179e\"],[0.4444444444444444,\"#bd3786\"],[0.5555555555555556,\"#d8576b\"],[0.6666666666666666,\"#ed7953\"],[0.7777777777777778,\"#fb9f3a\"],[0.8888888888888888,\"#fdca26\"],[1.0,\"#f0f921\"]],\"type\":\"heatmapgl\"}],\"histogram\":[{\"marker\":{\"pattern\":{\"fillmode\":\"overlay\",\"size\":10,\"solidity\":0.2}},\"type\":\"histogram\"}],\"histogram2d\":[{\"colorbar\":{\"outlinewidth\":0,\"ticks\":\"\"},\"colorscale\":[[0.0,\"#0d0887\"],[0.1111111111111111,\"#46039f\"],[0.2222222222222222,\"#7201a8\"],[0.3333333333333333,\"#9c179e\"],[0.4444444444444444,\"#bd3786\"],[0.5555555555555556,\"#d8576b\"],[0.6666666666666666,\"#ed7953\"],[0.7777777777777778,\"#fb9f3a\"],[0.8888888888888888,\"#fdca26\"],[1.0,\"#f0f921\"]],\"type\":\"histogram2d\"}],\"histogram2dcontour\":[{\"colorbar\":{\"outlinewidth\":0,\"ticks\":\"\"},\"colorscale\":[[0.0,\"#0d0887\"],[0.1111111111111111,\"#46039f\"],[0.2222222222222222,\"#7201a8\"],[0.3333333333333333,\"#9c179e\"],[0.4444444444444444,\"#bd3786\"],[0.5555555555555556,\"#d8576b\"],[0.6666666666666666,\"#ed7953\"],[0.7777777777777778,\"#fb9f3a\"],[0.8888888888888888,\"#fdca26\"],[1.0,\"#f0f921\"]],\"type\":\"histogram2dcontour\"}],\"mesh3d\":[{\"colorbar\":{\"outlinewidth\":0,\"ticks\":\"\"},\"type\":\"mesh3d\"}],\"parcoords\":[{\"line\":{\"colorbar\":{\"outlinewidth\":0,\"ticks\":\"\"}},\"type\":\"parcoords\"}],\"pie\":[{\"automargin\":true,\"type\":\"pie\"}],\"scatter\":[{\"marker\":{\"colorbar\":{\"outlinewidth\":0,\"ticks\":\"\"}},\"type\":\"scatter\"}],\"scatter3d\":[{\"line\":{\"colorbar\":{\"outlinewidth\":0,\"ticks\":\"\"}},\"marker\":{\"colorbar\":{\"outlinewidth\":0,\"ticks\":\"\"}},\"type\":\"scatter3d\"}],\"scattercarpet\":[{\"marker\":{\"colorbar\":{\"outlinewidth\":0,\"ticks\":\"\"}},\"type\":\"scattercarpet\"}],\"scattergeo\":[{\"marker\":{\"colorbar\":{\"outlinewidth\":0,\"ticks\":\"\"}},\"type\":\"scattergeo\"}],\"scattergl\":[{\"marker\":{\"colorbar\":{\"outlinewidth\":0,\"ticks\":\"\"}},\"type\":\"scattergl\"}],\"scattermapbox\":[{\"marker\":{\"colorbar\":{\"outlinewidth\":0,\"ticks\":\"\"}},\"type\":\"scattermapbox\"}],\"scatterpolar\":[{\"marker\":{\"colorbar\":{\"outlinewidth\":0,\"ticks\":\"\"}},\"type\":\"scatterpolar\"}],\"scatterpolargl\":[{\"marker\":{\"colorbar\":{\"outlinewidth\":0,\"ticks\":\"\"}},\"type\":\"scatterpolargl\"}],\"scatterternary\":[{\"marker\":{\"colorbar\":{\"outlinewidth\":0,\"ticks\":\"\"}},\"type\":\"scatterternary\"}],\"surface\":[{\"colorbar\":{\"outlinewidth\":0,\"ticks\":\"\"},\"colorscale\":[[0.0,\"#0d0887\"],[0.1111111111111111,\"#46039f\"],[0.2222222222222222,\"#7201a8\"],[0.3333333333333333,\"#9c179e\"],[0.4444444444444444,\"#bd3786\"],[0.5555555555555556,\"#d8576b\"],[0.6666666666666666,\"#ed7953\"],[0.7777777777777778,\"#fb9f3a\"],[0.8888888888888888,\"#fdca26\"],[1.0,\"#f0f921\"]],\"type\":\"surface\"}],\"table\":[{\"cells\":{\"fill\":{\"color\":\"#EBF0F8\"},\"line\":{\"color\":\"white\"}},\"header\":{\"fill\":{\"color\":\"#C8D4E3\"},\"line\":{\"color\":\"white\"}},\"type\":\"table\"}]},\"layout\":{\"annotationdefaults\":{\"arrowcolor\":\"#2a3f5f\",\"arrowhead\":0,\"arrowwidth\":1},\"autotypenumbers\":\"strict\",\"coloraxis\":{\"colorbar\":{\"outlinewidth\":0,\"ticks\":\"\"}},\"colorscale\":{\"diverging\":[[0,\"#8e0152\"],[0.1,\"#c51b7d\"],[0.2,\"#de77ae\"],[0.3,\"#f1b6da\"],[0.4,\"#fde0ef\"],[0.5,\"#f7f7f7\"],[0.6,\"#e6f5d0\"],[0.7,\"#b8e186\"],[0.8,\"#7fbc41\"],[0.9,\"#4d9221\"],[1,\"#276419\"]],\"sequential\":[[0.0,\"#0d0887\"],[0.1111111111111111,\"#46039f\"],[0.2222222222222222,\"#7201a8\"],[0.3333333333333333,\"#9c179e\"],[0.4444444444444444,\"#bd3786\"],[0.5555555555555556,\"#d8576b\"],[0.6666666666666666,\"#ed7953\"],[0.7777777777777778,\"#fb9f3a\"],[0.8888888888888888,\"#fdca26\"],[1.0,\"#f0f921\"]],\"sequentialminus\":[[0.0,\"#0d0887\"],[0.1111111111111111,\"#46039f\"],[0.2222222222222222,\"#7201a8\"],[0.3333333333333333,\"#9c179e\"],[0.4444444444444444,\"#bd3786\"],[0.5555555555555556,\"#d8576b\"],[0.6666666666666666,\"#ed7953\"],[0.7777777777777778,\"#fb9f3a\"],[0.8888888888888888,\"#fdca26\"],[1.0,\"#f0f921\"]]},\"colorway\":[\"#636efa\",\"#EF553B\",\"#00cc96\",\"#ab63fa\",\"#FFA15A\",\"#19d3f3\",\"#FF6692\",\"#B6E880\",\"#FF97FF\",\"#FECB52\"],\"font\":{\"color\":\"#2a3f5f\"},\"geo\":{\"bgcolor\":\"white\",\"lakecolor\":\"white\",\"landcolor\":\"#E5ECF6\",\"showlakes\":true,\"showland\":true,\"subunitcolor\":\"white\"},\"hoverlabel\":{\"align\":\"left\"},\"hovermode\":\"closest\",\"mapbox\":{\"style\":\"light\"},\"paper_bgcolor\":\"white\",\"plot_bgcolor\":\"#E5ECF6\",\"polar\":{\"angularaxis\":{\"gridcolor\":\"white\",\"linecolor\":\"white\",\"ticks\":\"\"},\"bgcolor\":\"#E5ECF6\",\"radialaxis\":{\"gridcolor\":\"white\",\"linecolor\":\"white\",\"ticks\":\"\"}},\"scene\":{\"xaxis\":{\"backgroundcolor\":\"#E5ECF6\",\"gridcolor\":\"white\",\"gridwidth\":2,\"linecolor\":\"white\",\"showbackground\":true,\"ticks\":\"\",\"zerolinecolor\":\"white\"},\"yaxis\":{\"backgroundcolor\":\"#E5ECF6\",\"gridcolor\":\"white\",\"gridwidth\":2,\"linecolor\":\"white\",\"showbackground\":true,\"ticks\":\"\",\"zerolinecolor\":\"white\"},\"zaxis\":{\"backgroundcolor\":\"#E5ECF6\",\"gridcolor\":\"white\",\"gridwidth\":2,\"linecolor\":\"white\",\"showbackground\":true,\"ticks\":\"\",\"zerolinecolor\":\"white\"}},\"shapedefaults\":{\"line\":{\"color\":\"#2a3f5f\"}},\"ternary\":{\"aaxis\":{\"gridcolor\":\"white\",\"linecolor\":\"white\",\"ticks\":\"\"},\"baxis\":{\"gridcolor\":\"white\",\"linecolor\":\"white\",\"ticks\":\"\"},\"bgcolor\":\"#E5ECF6\",\"caxis\":{\"gridcolor\":\"white\",\"linecolor\":\"white\",\"ticks\":\"\"}},\"title\":{\"x\":0.05},\"xaxis\":{\"automargin\":true,\"gridcolor\":\"white\",\"linecolor\":\"white\",\"ticks\":\"\",\"title\":{\"standoff\":15},\"zerolinecolor\":\"white\",\"zerolinewidth\":2},\"yaxis\":{\"automargin\":true,\"gridcolor\":\"white\",\"linecolor\":\"white\",\"ticks\":\"\",\"title\":{\"standoff\":15},\"zerolinecolor\":\"white\",\"zerolinewidth\":2}}},\"barmode\":\"group\",\"autosize\":false,\"width\":700,\"height\":400},                        {\"responsive\": true}                    ).then(function(){\n",
              "                            \n",
              "var gd = document.getElementById('da1779e1-5b69-4605-ae9b-2a935031a265');\n",
              "var x = new MutationObserver(function (mutations, observer) {{\n",
              "        var display = window.getComputedStyle(gd).display;\n",
              "        if (!display || display === 'none') {{\n",
              "            console.log([gd, 'removed!']);\n",
              "            Plotly.purge(gd);\n",
              "            observer.disconnect();\n",
              "        }}\n",
              "}});\n",
              "\n",
              "// Listen for the removal of the full notebook cells\n",
              "var notebookContainer = gd.closest('#notebook-container');\n",
              "if (notebookContainer) {{\n",
              "    x.observe(notebookContainer, {childList: true});\n",
              "}}\n",
              "\n",
              "// Listen for the clearing of the current output cell\n",
              "var outputEl = gd.closest('.output');\n",
              "if (outputEl) {{\n",
              "    x.observe(outputEl, {childList: true});\n",
              "}}\n",
              "\n",
              "                        })                };                            </script>        </div>\n",
              "</body>\n",
              "</html>"
            ]
          },
          "metadata": {}
        }
      ],
      "source": [
        "import plotly.graph_objects as go\n",
        "fig = go.Figure([ go.Bar(name='temps entrainement',x=R['Modèles'], y=R['mean_fit_time'])])\n",
        "fig.update_layout(barmode='group',autosize=False, width=700, height=400)\n",
        "\n",
        "fig.show()"
      ]
    },
    {
      "cell_type": "markdown",
      "metadata": {
        "id": "ar69QiVzpECt"
      },
      "source": [
        "Observons les scores obtenus sur les différents splits de la Cross-validation :"
      ]
    },
    {
      "cell_type": "markdown",
      "metadata": {
        "id": "29syXkGJqSq1"
      },
      "source": [
        "### Code pour tracer les performances sur train et le test set de la cross validation du grid search"
      ]
    },
    {
      "cell_type": "code",
      "execution_count": 4518,
      "metadata": {
        "id": "t7cC92BQo3Of"
      },
      "outputs": [],
      "source": [
        "import plotly.express as px\n",
        "def trace_mae(mymodel) :\n",
        "  t1=pd.DataFrame(mymodel.cv_results_)[[\"split0_train_neg_mean_absolute_error\",\t\"split1_train_neg_mean_absolute_error\",\"split2_train_neg_mean_absolute_error\",\t\"split3_train_neg_mean_absolute_error\",\t\"split4_train_neg_mean_absolute_error\"\t,\"rank_test_neg_mean_absolute_error\"]].sort_values(by='rank_test_neg_mean_absolute_error').head(1)\n",
        "  t1=pd.DataFrame(mymodel.cv_results_)[[\"split0_train_neg_mean_absolute_error\",\t\"split1_train_neg_mean_absolute_error\",\"split2_train_neg_mean_absolute_error\",\t\"split3_train_neg_mean_absolute_error\",\"split4_train_neg_mean_absolute_error\"]]\n",
        "  t2= pd.DataFrame(mymodel.cv_results_)[[\"split0_test_neg_mean_absolute_error\",\t\"split1_test_neg_mean_absolute_error\",\"split2_test_neg_mean_absolute_error\",\t\"split3_test_neg_mean_absolute_error\",\t\"split4_test_neg_mean_absolute_error\"\t,\"rank_test_neg_mean_absolute_error\"]].sort_values(by='rank_test_neg_mean_absolute_error').head(1)\n",
        "  t2= pd.DataFrame(mymodel.cv_results_)[[\"split0_test_neg_mean_absolute_error\",\t\"split1_test_neg_mean_absolute_error\",\"split2_test_neg_mean_absolute_error\",\t\"split3_test_neg_mean_absolute_error\",\t\"split4_test_neg_mean_absolute_error\"]]\n",
        "\n",
        "  df1_transposed = t1.T\n",
        "  df1_transposed \n",
        "  df2_transposed = t2.T\n",
        "  final=pd.concat ([df1_transposed,df2_transposed ])\n",
        "  final[\"Split_cross validation\"] = list(range(nb_split)) + list(range(nb_split))\n",
        "  final.rename(columns={0: \"MAE\"}, inplace=True)\n",
        "  final=final.reset_index()\n",
        "  final [\"color\"] = np.where( final[\"index\"].str.contains(\"test\"), \"test\", \"train\")\n",
        "  final\n",
        "\n",
        "  fig = px.line( final, x='Split_cross validation',y='MAE', color='color', symbol=\"color\",width=800, height=400)\n",
        "  fig.show()\n",
        "\n",
        "def trace_r2(mymodel) :\n",
        "    t1=pd.DataFrame(mymodel.cv_results_)[[\"split0_train_r2\",\t\"split1_train_r2\",\"split2_train_r2\",\t\"split3_train_r2\",\t\"split4_train_r2\"\t,\"rank_test_neg_mean_absolute_error\"]].sort_values(by='rank_test_neg_mean_absolute_error').head(1)\n",
        "    t1=pd.DataFrame(mymodel.cv_results_)[[\"split0_train_r2\",\t\"split1_train_r2\",\"split2_train_r2\",\t\"split3_train_r2\",\"split4_train_r2\"]]\n",
        "    t2= pd.DataFrame(mymodel.cv_results_)[[\"split0_test_r2\",\t\"split1_test_r2\",\"split2_test_r2\",\t\"split3_test_r2\",\t\"split4_test_r2\"\t,\"rank_test_neg_mean_absolute_error\"]].sort_values(by='rank_test_neg_mean_absolute_error').head(1)\n",
        "    t2= pd.DataFrame(mymodel.cv_results_)[[\"split0_test_r2\",\t\"split1_test_r2\",\"split2_test_r2\",\t\"split3_test_r2\",\t\"split4_test_r2\"]]\n",
        "\n",
        "    df1_transposed = t1.T\n",
        "    df1_transposed \n",
        "    df2_transposed = t2.T\n",
        "    final=pd.concat ([df1_transposed,df2_transposed ])\n",
        "    final[\"Split_cross validation\"] = list(range(nb_split)) + list(range(nb_split))\n",
        "    final.rename(columns={0: \"R2\"}, inplace=True)\n",
        "    final=final.reset_index()\n",
        "    final [\"color\"] = np.where( final[\"index\"].str.contains(\"test\"), \"test\", \"train\")\n",
        "    final\n",
        "\n",
        "    fig = px.line( final, x='Split_cross validation',y='R2', color='color', symbol=\"color\",width=800, height=400)\n",
        "    fig.show()\n",
        "\n"
      ]
    },
    {
      "cell_type": "markdown",
      "metadata": {
        "id": "BwjXW9cHq0IU"
      },
      "source": [
        "### Performance de notre modèle selectionné dans le train et le test set de  chaque split de la crossvalidation du Gridsearch"
      ]
    },
    {
      "cell_type": "code",
      "execution_count": 4519,
      "metadata": {
        "colab": {
          "base_uri": "https://localhost:8080/",
          "height": 817
        },
        "id": "Y4UpBIZDqoHu",
        "outputId": "d05599e5-e84e-4524-837b-fd084a411dc2"
      },
      "outputs": [
        {
          "output_type": "display_data",
          "data": {
            "text/html": [
              "<html>\n",
              "<head><meta charset=\"utf-8\" /></head>\n",
              "<body>\n",
              "    <div>            <script src=\"https://cdnjs.cloudflare.com/ajax/libs/mathjax/2.7.5/MathJax.js?config=TeX-AMS-MML_SVG\"></script><script type=\"text/javascript\">if (window.MathJax) {MathJax.Hub.Config({SVG: {font: \"STIX-Web\"}});}</script>                <script type=\"text/javascript\">window.PlotlyConfig = {MathJaxConfig: 'local'};</script>\n",
              "        <script src=\"https://cdn.plot.ly/plotly-2.8.3.min.js\"></script>                <div id=\"27c265ab-4df9-4ae0-acb9-f169eab9248f\" class=\"plotly-graph-div\" style=\"height:400px; width:800px;\"></div>            <script type=\"text/javascript\">                                    window.PLOTLYENV=window.PLOTLYENV || {};                                    if (document.getElementById(\"27c265ab-4df9-4ae0-acb9-f169eab9248f\")) {                    Plotly.newPlot(                        \"27c265ab-4df9-4ae0-acb9-f169eab9248f\",                        [{\"hovertemplate\":\"color=train<br>Split_cross validation=%{x}<br>MAE=%{y}<extra></extra>\",\"legendgroup\":\"train\",\"line\":{\"color\":\"#636efa\",\"dash\":\"solid\"},\"marker\":{\"symbol\":\"circle\"},\"mode\":\"lines+markers\",\"name\":\"train\",\"orientation\":\"v\",\"showlegend\":true,\"x\":[0,1,2,3,4],\"xaxis\":\"x\",\"y\":[-41.260559640231136,-42.581640032619624,-42.58359028535008,-39.495274945751305,-42.72060119460667],\"yaxis\":\"y\",\"type\":\"scatter\"},{\"hovertemplate\":\"color=test<br>Split_cross validation=%{x}<br>MAE=%{y}<extra></extra>\",\"legendgroup\":\"test\",\"line\":{\"color\":\"#EF553B\",\"dash\":\"solid\"},\"marker\":{\"symbol\":\"diamond\"},\"mode\":\"lines+markers\",\"name\":\"test\",\"orientation\":\"v\",\"showlegend\":true,\"x\":[0,1,2,3,4],\"xaxis\":\"x\",\"y\":[-94.1630372113478,-67.27666470677308,-66.74632675222564,-73.70990664644174,-65.7682752393486],\"yaxis\":\"y\",\"type\":\"scatter\"}],                        {\"template\":{\"data\":{\"bar\":[{\"error_x\":{\"color\":\"#2a3f5f\"},\"error_y\":{\"color\":\"#2a3f5f\"},\"marker\":{\"line\":{\"color\":\"#E5ECF6\",\"width\":0.5},\"pattern\":{\"fillmode\":\"overlay\",\"size\":10,\"solidity\":0.2}},\"type\":\"bar\"}],\"barpolar\":[{\"marker\":{\"line\":{\"color\":\"#E5ECF6\",\"width\":0.5},\"pattern\":{\"fillmode\":\"overlay\",\"size\":10,\"solidity\":0.2}},\"type\":\"barpolar\"}],\"carpet\":[{\"aaxis\":{\"endlinecolor\":\"#2a3f5f\",\"gridcolor\":\"white\",\"linecolor\":\"white\",\"minorgridcolor\":\"white\",\"startlinecolor\":\"#2a3f5f\"},\"baxis\":{\"endlinecolor\":\"#2a3f5f\",\"gridcolor\":\"white\",\"linecolor\":\"white\",\"minorgridcolor\":\"white\",\"startlinecolor\":\"#2a3f5f\"},\"type\":\"carpet\"}],\"choropleth\":[{\"colorbar\":{\"outlinewidth\":0,\"ticks\":\"\"},\"type\":\"choropleth\"}],\"contour\":[{\"colorbar\":{\"outlinewidth\":0,\"ticks\":\"\"},\"colorscale\":[[0.0,\"#0d0887\"],[0.1111111111111111,\"#46039f\"],[0.2222222222222222,\"#7201a8\"],[0.3333333333333333,\"#9c179e\"],[0.4444444444444444,\"#bd3786\"],[0.5555555555555556,\"#d8576b\"],[0.6666666666666666,\"#ed7953\"],[0.7777777777777778,\"#fb9f3a\"],[0.8888888888888888,\"#fdca26\"],[1.0,\"#f0f921\"]],\"type\":\"contour\"}],\"contourcarpet\":[{\"colorbar\":{\"outlinewidth\":0,\"ticks\":\"\"},\"type\":\"contourcarpet\"}],\"heatmap\":[{\"colorbar\":{\"outlinewidth\":0,\"ticks\":\"\"},\"colorscale\":[[0.0,\"#0d0887\"],[0.1111111111111111,\"#46039f\"],[0.2222222222222222,\"#7201a8\"],[0.3333333333333333,\"#9c179e\"],[0.4444444444444444,\"#bd3786\"],[0.5555555555555556,\"#d8576b\"],[0.6666666666666666,\"#ed7953\"],[0.7777777777777778,\"#fb9f3a\"],[0.8888888888888888,\"#fdca26\"],[1.0,\"#f0f921\"]],\"type\":\"heatmap\"}],\"heatmapgl\":[{\"colorbar\":{\"outlinewidth\":0,\"ticks\":\"\"},\"colorscale\":[[0.0,\"#0d0887\"],[0.1111111111111111,\"#46039f\"],[0.2222222222222222,\"#7201a8\"],[0.3333333333333333,\"#9c179e\"],[0.4444444444444444,\"#bd3786\"],[0.5555555555555556,\"#d8576b\"],[0.6666666666666666,\"#ed7953\"],[0.7777777777777778,\"#fb9f3a\"],[0.8888888888888888,\"#fdca26\"],[1.0,\"#f0f921\"]],\"type\":\"heatmapgl\"}],\"histogram\":[{\"marker\":{\"pattern\":{\"fillmode\":\"overlay\",\"size\":10,\"solidity\":0.2}},\"type\":\"histogram\"}],\"histogram2d\":[{\"colorbar\":{\"outlinewidth\":0,\"ticks\":\"\"},\"colorscale\":[[0.0,\"#0d0887\"],[0.1111111111111111,\"#46039f\"],[0.2222222222222222,\"#7201a8\"],[0.3333333333333333,\"#9c179e\"],[0.4444444444444444,\"#bd3786\"],[0.5555555555555556,\"#d8576b\"],[0.6666666666666666,\"#ed7953\"],[0.7777777777777778,\"#fb9f3a\"],[0.8888888888888888,\"#fdca26\"],[1.0,\"#f0f921\"]],\"type\":\"histogram2d\"}],\"histogram2dcontour\":[{\"colorbar\":{\"outlinewidth\":0,\"ticks\":\"\"},\"colorscale\":[[0.0,\"#0d0887\"],[0.1111111111111111,\"#46039f\"],[0.2222222222222222,\"#7201a8\"],[0.3333333333333333,\"#9c179e\"],[0.4444444444444444,\"#bd3786\"],[0.5555555555555556,\"#d8576b\"],[0.6666666666666666,\"#ed7953\"],[0.7777777777777778,\"#fb9f3a\"],[0.8888888888888888,\"#fdca26\"],[1.0,\"#f0f921\"]],\"type\":\"histogram2dcontour\"}],\"mesh3d\":[{\"colorbar\":{\"outlinewidth\":0,\"ticks\":\"\"},\"type\":\"mesh3d\"}],\"parcoords\":[{\"line\":{\"colorbar\":{\"outlinewidth\":0,\"ticks\":\"\"}},\"type\":\"parcoords\"}],\"pie\":[{\"automargin\":true,\"type\":\"pie\"}],\"scatter\":[{\"marker\":{\"colorbar\":{\"outlinewidth\":0,\"ticks\":\"\"}},\"type\":\"scatter\"}],\"scatter3d\":[{\"line\":{\"colorbar\":{\"outlinewidth\":0,\"ticks\":\"\"}},\"marker\":{\"colorbar\":{\"outlinewidth\":0,\"ticks\":\"\"}},\"type\":\"scatter3d\"}],\"scattercarpet\":[{\"marker\":{\"colorbar\":{\"outlinewidth\":0,\"ticks\":\"\"}},\"type\":\"scattercarpet\"}],\"scattergeo\":[{\"marker\":{\"colorbar\":{\"outlinewidth\":0,\"ticks\":\"\"}},\"type\":\"scattergeo\"}],\"scattergl\":[{\"marker\":{\"colorbar\":{\"outlinewidth\":0,\"ticks\":\"\"}},\"type\":\"scattergl\"}],\"scattermapbox\":[{\"marker\":{\"colorbar\":{\"outlinewidth\":0,\"ticks\":\"\"}},\"type\":\"scattermapbox\"}],\"scatterpolar\":[{\"marker\":{\"colorbar\":{\"outlinewidth\":0,\"ticks\":\"\"}},\"type\":\"scatterpolar\"}],\"scatterpolargl\":[{\"marker\":{\"colorbar\":{\"outlinewidth\":0,\"ticks\":\"\"}},\"type\":\"scatterpolargl\"}],\"scatterternary\":[{\"marker\":{\"colorbar\":{\"outlinewidth\":0,\"ticks\":\"\"}},\"type\":\"scatterternary\"}],\"surface\":[{\"colorbar\":{\"outlinewidth\":0,\"ticks\":\"\"},\"colorscale\":[[0.0,\"#0d0887\"],[0.1111111111111111,\"#46039f\"],[0.2222222222222222,\"#7201a8\"],[0.3333333333333333,\"#9c179e\"],[0.4444444444444444,\"#bd3786\"],[0.5555555555555556,\"#d8576b\"],[0.6666666666666666,\"#ed7953\"],[0.7777777777777778,\"#fb9f3a\"],[0.8888888888888888,\"#fdca26\"],[1.0,\"#f0f921\"]],\"type\":\"surface\"}],\"table\":[{\"cells\":{\"fill\":{\"color\":\"#EBF0F8\"},\"line\":{\"color\":\"white\"}},\"header\":{\"fill\":{\"color\":\"#C8D4E3\"},\"line\":{\"color\":\"white\"}},\"type\":\"table\"}]},\"layout\":{\"annotationdefaults\":{\"arrowcolor\":\"#2a3f5f\",\"arrowhead\":0,\"arrowwidth\":1},\"autotypenumbers\":\"strict\",\"coloraxis\":{\"colorbar\":{\"outlinewidth\":0,\"ticks\":\"\"}},\"colorscale\":{\"diverging\":[[0,\"#8e0152\"],[0.1,\"#c51b7d\"],[0.2,\"#de77ae\"],[0.3,\"#f1b6da\"],[0.4,\"#fde0ef\"],[0.5,\"#f7f7f7\"],[0.6,\"#e6f5d0\"],[0.7,\"#b8e186\"],[0.8,\"#7fbc41\"],[0.9,\"#4d9221\"],[1,\"#276419\"]],\"sequential\":[[0.0,\"#0d0887\"],[0.1111111111111111,\"#46039f\"],[0.2222222222222222,\"#7201a8\"],[0.3333333333333333,\"#9c179e\"],[0.4444444444444444,\"#bd3786\"],[0.5555555555555556,\"#d8576b\"],[0.6666666666666666,\"#ed7953\"],[0.7777777777777778,\"#fb9f3a\"],[0.8888888888888888,\"#fdca26\"],[1.0,\"#f0f921\"]],\"sequentialminus\":[[0.0,\"#0d0887\"],[0.1111111111111111,\"#46039f\"],[0.2222222222222222,\"#7201a8\"],[0.3333333333333333,\"#9c179e\"],[0.4444444444444444,\"#bd3786\"],[0.5555555555555556,\"#d8576b\"],[0.6666666666666666,\"#ed7953\"],[0.7777777777777778,\"#fb9f3a\"],[0.8888888888888888,\"#fdca26\"],[1.0,\"#f0f921\"]]},\"colorway\":[\"#636efa\",\"#EF553B\",\"#00cc96\",\"#ab63fa\",\"#FFA15A\",\"#19d3f3\",\"#FF6692\",\"#B6E880\",\"#FF97FF\",\"#FECB52\"],\"font\":{\"color\":\"#2a3f5f\"},\"geo\":{\"bgcolor\":\"white\",\"lakecolor\":\"white\",\"landcolor\":\"#E5ECF6\",\"showlakes\":true,\"showland\":true,\"subunitcolor\":\"white\"},\"hoverlabel\":{\"align\":\"left\"},\"hovermode\":\"closest\",\"mapbox\":{\"style\":\"light\"},\"paper_bgcolor\":\"white\",\"plot_bgcolor\":\"#E5ECF6\",\"polar\":{\"angularaxis\":{\"gridcolor\":\"white\",\"linecolor\":\"white\",\"ticks\":\"\"},\"bgcolor\":\"#E5ECF6\",\"radialaxis\":{\"gridcolor\":\"white\",\"linecolor\":\"white\",\"ticks\":\"\"}},\"scene\":{\"xaxis\":{\"backgroundcolor\":\"#E5ECF6\",\"gridcolor\":\"white\",\"gridwidth\":2,\"linecolor\":\"white\",\"showbackground\":true,\"ticks\":\"\",\"zerolinecolor\":\"white\"},\"yaxis\":{\"backgroundcolor\":\"#E5ECF6\",\"gridcolor\":\"white\",\"gridwidth\":2,\"linecolor\":\"white\",\"showbackground\":true,\"ticks\":\"\",\"zerolinecolor\":\"white\"},\"zaxis\":{\"backgroundcolor\":\"#E5ECF6\",\"gridcolor\":\"white\",\"gridwidth\":2,\"linecolor\":\"white\",\"showbackground\":true,\"ticks\":\"\",\"zerolinecolor\":\"white\"}},\"shapedefaults\":{\"line\":{\"color\":\"#2a3f5f\"}},\"ternary\":{\"aaxis\":{\"gridcolor\":\"white\",\"linecolor\":\"white\",\"ticks\":\"\"},\"baxis\":{\"gridcolor\":\"white\",\"linecolor\":\"white\",\"ticks\":\"\"},\"bgcolor\":\"#E5ECF6\",\"caxis\":{\"gridcolor\":\"white\",\"linecolor\":\"white\",\"ticks\":\"\"}},\"title\":{\"x\":0.05},\"xaxis\":{\"automargin\":true,\"gridcolor\":\"white\",\"linecolor\":\"white\",\"ticks\":\"\",\"title\":{\"standoff\":15},\"zerolinecolor\":\"white\",\"zerolinewidth\":2},\"yaxis\":{\"automargin\":true,\"gridcolor\":\"white\",\"linecolor\":\"white\",\"ticks\":\"\",\"title\":{\"standoff\":15},\"zerolinecolor\":\"white\",\"zerolinewidth\":2}}},\"xaxis\":{\"anchor\":\"y\",\"domain\":[0.0,1.0],\"title\":{\"text\":\"Split_cross validation\"}},\"yaxis\":{\"anchor\":\"x\",\"domain\":[0.0,1.0],\"title\":{\"text\":\"MAE\"}},\"legend\":{\"title\":{\"text\":\"color\"},\"tracegroupgap\":0},\"margin\":{\"t\":60},\"height\":400,\"width\":800},                        {\"responsive\": true}                    ).then(function(){\n",
              "                            \n",
              "var gd = document.getElementById('27c265ab-4df9-4ae0-acb9-f169eab9248f');\n",
              "var x = new MutationObserver(function (mutations, observer) {{\n",
              "        var display = window.getComputedStyle(gd).display;\n",
              "        if (!display || display === 'none') {{\n",
              "            console.log([gd, 'removed!']);\n",
              "            Plotly.purge(gd);\n",
              "            observer.disconnect();\n",
              "        }}\n",
              "}});\n",
              "\n",
              "// Listen for the removal of the full notebook cells\n",
              "var notebookContainer = gd.closest('#notebook-container');\n",
              "if (notebookContainer) {{\n",
              "    x.observe(notebookContainer, {childList: true});\n",
              "}}\n",
              "\n",
              "// Listen for the clearing of the current output cell\n",
              "var outputEl = gd.closest('.output');\n",
              "if (outputEl) {{\n",
              "    x.observe(outputEl, {childList: true});\n",
              "}}\n",
              "\n",
              "                        })                };                            </script>        </div>\n",
              "</body>\n",
              "</html>"
            ]
          },
          "metadata": {}
        },
        {
          "output_type": "display_data",
          "data": {
            "text/html": [
              "<html>\n",
              "<head><meta charset=\"utf-8\" /></head>\n",
              "<body>\n",
              "    <div>            <script src=\"https://cdnjs.cloudflare.com/ajax/libs/mathjax/2.7.5/MathJax.js?config=TeX-AMS-MML_SVG\"></script><script type=\"text/javascript\">if (window.MathJax) {MathJax.Hub.Config({SVG: {font: \"STIX-Web\"}});}</script>                <script type=\"text/javascript\">window.PlotlyConfig = {MathJaxConfig: 'local'};</script>\n",
              "        <script src=\"https://cdn.plot.ly/plotly-2.8.3.min.js\"></script>                <div id=\"bf16681c-1006-47be-b314-a3b6e6f107f8\" class=\"plotly-graph-div\" style=\"height:400px; width:800px;\"></div>            <script type=\"text/javascript\">                                    window.PLOTLYENV=window.PLOTLYENV || {};                                    if (document.getElementById(\"bf16681c-1006-47be-b314-a3b6e6f107f8\")) {                    Plotly.newPlot(                        \"bf16681c-1006-47be-b314-a3b6e6f107f8\",                        [{\"hovertemplate\":\"color=train<br>Split_cross validation=%{x}<br>R2=%{y}<extra></extra>\",\"legendgroup\":\"train\",\"line\":{\"color\":\"#636efa\",\"dash\":\"solid\"},\"marker\":{\"symbol\":\"circle\"},\"mode\":\"lines+markers\",\"name\":\"train\",\"orientation\":\"v\",\"showlegend\":true,\"x\":[0,1,2,3,4],\"xaxis\":\"x\",\"y\":[0.8707658366610792,0.920180490371211,0.9233346104654696,0.9139916357984185,0.9225476340745972],\"yaxis\":\"y\",\"type\":\"scatter\"},{\"hovertemplate\":\"color=test<br>Split_cross validation=%{x}<br>R2=%{y}<extra></extra>\",\"legendgroup\":\"test\",\"line\":{\"color\":\"#EF553B\",\"dash\":\"solid\"},\"marker\":{\"symbol\":\"diamond\"},\"mode\":\"lines+markers\",\"name\":\"test\",\"orientation\":\"v\",\"showlegend\":true,\"x\":[0,1,2,3,4],\"xaxis\":\"x\",\"y\":[0.7540611758458077,0.6164109731848004,0.5178798655779275,0.7550501581856115,0.579959047296603],\"yaxis\":\"y\",\"type\":\"scatter\"}],                        {\"template\":{\"data\":{\"bar\":[{\"error_x\":{\"color\":\"#2a3f5f\"},\"error_y\":{\"color\":\"#2a3f5f\"},\"marker\":{\"line\":{\"color\":\"#E5ECF6\",\"width\":0.5},\"pattern\":{\"fillmode\":\"overlay\",\"size\":10,\"solidity\":0.2}},\"type\":\"bar\"}],\"barpolar\":[{\"marker\":{\"line\":{\"color\":\"#E5ECF6\",\"width\":0.5},\"pattern\":{\"fillmode\":\"overlay\",\"size\":10,\"solidity\":0.2}},\"type\":\"barpolar\"}],\"carpet\":[{\"aaxis\":{\"endlinecolor\":\"#2a3f5f\",\"gridcolor\":\"white\",\"linecolor\":\"white\",\"minorgridcolor\":\"white\",\"startlinecolor\":\"#2a3f5f\"},\"baxis\":{\"endlinecolor\":\"#2a3f5f\",\"gridcolor\":\"white\",\"linecolor\":\"white\",\"minorgridcolor\":\"white\",\"startlinecolor\":\"#2a3f5f\"},\"type\":\"carpet\"}],\"choropleth\":[{\"colorbar\":{\"outlinewidth\":0,\"ticks\":\"\"},\"type\":\"choropleth\"}],\"contour\":[{\"colorbar\":{\"outlinewidth\":0,\"ticks\":\"\"},\"colorscale\":[[0.0,\"#0d0887\"],[0.1111111111111111,\"#46039f\"],[0.2222222222222222,\"#7201a8\"],[0.3333333333333333,\"#9c179e\"],[0.4444444444444444,\"#bd3786\"],[0.5555555555555556,\"#d8576b\"],[0.6666666666666666,\"#ed7953\"],[0.7777777777777778,\"#fb9f3a\"],[0.8888888888888888,\"#fdca26\"],[1.0,\"#f0f921\"]],\"type\":\"contour\"}],\"contourcarpet\":[{\"colorbar\":{\"outlinewidth\":0,\"ticks\":\"\"},\"type\":\"contourcarpet\"}],\"heatmap\":[{\"colorbar\":{\"outlinewidth\":0,\"ticks\":\"\"},\"colorscale\":[[0.0,\"#0d0887\"],[0.1111111111111111,\"#46039f\"],[0.2222222222222222,\"#7201a8\"],[0.3333333333333333,\"#9c179e\"],[0.4444444444444444,\"#bd3786\"],[0.5555555555555556,\"#d8576b\"],[0.6666666666666666,\"#ed7953\"],[0.7777777777777778,\"#fb9f3a\"],[0.8888888888888888,\"#fdca26\"],[1.0,\"#f0f921\"]],\"type\":\"heatmap\"}],\"heatmapgl\":[{\"colorbar\":{\"outlinewidth\":0,\"ticks\":\"\"},\"colorscale\":[[0.0,\"#0d0887\"],[0.1111111111111111,\"#46039f\"],[0.2222222222222222,\"#7201a8\"],[0.3333333333333333,\"#9c179e\"],[0.4444444444444444,\"#bd3786\"],[0.5555555555555556,\"#d8576b\"],[0.6666666666666666,\"#ed7953\"],[0.7777777777777778,\"#fb9f3a\"],[0.8888888888888888,\"#fdca26\"],[1.0,\"#f0f921\"]],\"type\":\"heatmapgl\"}],\"histogram\":[{\"marker\":{\"pattern\":{\"fillmode\":\"overlay\",\"size\":10,\"solidity\":0.2}},\"type\":\"histogram\"}],\"histogram2d\":[{\"colorbar\":{\"outlinewidth\":0,\"ticks\":\"\"},\"colorscale\":[[0.0,\"#0d0887\"],[0.1111111111111111,\"#46039f\"],[0.2222222222222222,\"#7201a8\"],[0.3333333333333333,\"#9c179e\"],[0.4444444444444444,\"#bd3786\"],[0.5555555555555556,\"#d8576b\"],[0.6666666666666666,\"#ed7953\"],[0.7777777777777778,\"#fb9f3a\"],[0.8888888888888888,\"#fdca26\"],[1.0,\"#f0f921\"]],\"type\":\"histogram2d\"}],\"histogram2dcontour\":[{\"colorbar\":{\"outlinewidth\":0,\"ticks\":\"\"},\"colorscale\":[[0.0,\"#0d0887\"],[0.1111111111111111,\"#46039f\"],[0.2222222222222222,\"#7201a8\"],[0.3333333333333333,\"#9c179e\"],[0.4444444444444444,\"#bd3786\"],[0.5555555555555556,\"#d8576b\"],[0.6666666666666666,\"#ed7953\"],[0.7777777777777778,\"#fb9f3a\"],[0.8888888888888888,\"#fdca26\"],[1.0,\"#f0f921\"]],\"type\":\"histogram2dcontour\"}],\"mesh3d\":[{\"colorbar\":{\"outlinewidth\":0,\"ticks\":\"\"},\"type\":\"mesh3d\"}],\"parcoords\":[{\"line\":{\"colorbar\":{\"outlinewidth\":0,\"ticks\":\"\"}},\"type\":\"parcoords\"}],\"pie\":[{\"automargin\":true,\"type\":\"pie\"}],\"scatter\":[{\"marker\":{\"colorbar\":{\"outlinewidth\":0,\"ticks\":\"\"}},\"type\":\"scatter\"}],\"scatter3d\":[{\"line\":{\"colorbar\":{\"outlinewidth\":0,\"ticks\":\"\"}},\"marker\":{\"colorbar\":{\"outlinewidth\":0,\"ticks\":\"\"}},\"type\":\"scatter3d\"}],\"scattercarpet\":[{\"marker\":{\"colorbar\":{\"outlinewidth\":0,\"ticks\":\"\"}},\"type\":\"scattercarpet\"}],\"scattergeo\":[{\"marker\":{\"colorbar\":{\"outlinewidth\":0,\"ticks\":\"\"}},\"type\":\"scattergeo\"}],\"scattergl\":[{\"marker\":{\"colorbar\":{\"outlinewidth\":0,\"ticks\":\"\"}},\"type\":\"scattergl\"}],\"scattermapbox\":[{\"marker\":{\"colorbar\":{\"outlinewidth\":0,\"ticks\":\"\"}},\"type\":\"scattermapbox\"}],\"scatterpolar\":[{\"marker\":{\"colorbar\":{\"outlinewidth\":0,\"ticks\":\"\"}},\"type\":\"scatterpolar\"}],\"scatterpolargl\":[{\"marker\":{\"colorbar\":{\"outlinewidth\":0,\"ticks\":\"\"}},\"type\":\"scatterpolargl\"}],\"scatterternary\":[{\"marker\":{\"colorbar\":{\"outlinewidth\":0,\"ticks\":\"\"}},\"type\":\"scatterternary\"}],\"surface\":[{\"colorbar\":{\"outlinewidth\":0,\"ticks\":\"\"},\"colorscale\":[[0.0,\"#0d0887\"],[0.1111111111111111,\"#46039f\"],[0.2222222222222222,\"#7201a8\"],[0.3333333333333333,\"#9c179e\"],[0.4444444444444444,\"#bd3786\"],[0.5555555555555556,\"#d8576b\"],[0.6666666666666666,\"#ed7953\"],[0.7777777777777778,\"#fb9f3a\"],[0.8888888888888888,\"#fdca26\"],[1.0,\"#f0f921\"]],\"type\":\"surface\"}],\"table\":[{\"cells\":{\"fill\":{\"color\":\"#EBF0F8\"},\"line\":{\"color\":\"white\"}},\"header\":{\"fill\":{\"color\":\"#C8D4E3\"},\"line\":{\"color\":\"white\"}},\"type\":\"table\"}]},\"layout\":{\"annotationdefaults\":{\"arrowcolor\":\"#2a3f5f\",\"arrowhead\":0,\"arrowwidth\":1},\"autotypenumbers\":\"strict\",\"coloraxis\":{\"colorbar\":{\"outlinewidth\":0,\"ticks\":\"\"}},\"colorscale\":{\"diverging\":[[0,\"#8e0152\"],[0.1,\"#c51b7d\"],[0.2,\"#de77ae\"],[0.3,\"#f1b6da\"],[0.4,\"#fde0ef\"],[0.5,\"#f7f7f7\"],[0.6,\"#e6f5d0\"],[0.7,\"#b8e186\"],[0.8,\"#7fbc41\"],[0.9,\"#4d9221\"],[1,\"#276419\"]],\"sequential\":[[0.0,\"#0d0887\"],[0.1111111111111111,\"#46039f\"],[0.2222222222222222,\"#7201a8\"],[0.3333333333333333,\"#9c179e\"],[0.4444444444444444,\"#bd3786\"],[0.5555555555555556,\"#d8576b\"],[0.6666666666666666,\"#ed7953\"],[0.7777777777777778,\"#fb9f3a\"],[0.8888888888888888,\"#fdca26\"],[1.0,\"#f0f921\"]],\"sequentialminus\":[[0.0,\"#0d0887\"],[0.1111111111111111,\"#46039f\"],[0.2222222222222222,\"#7201a8\"],[0.3333333333333333,\"#9c179e\"],[0.4444444444444444,\"#bd3786\"],[0.5555555555555556,\"#d8576b\"],[0.6666666666666666,\"#ed7953\"],[0.7777777777777778,\"#fb9f3a\"],[0.8888888888888888,\"#fdca26\"],[1.0,\"#f0f921\"]]},\"colorway\":[\"#636efa\",\"#EF553B\",\"#00cc96\",\"#ab63fa\",\"#FFA15A\",\"#19d3f3\",\"#FF6692\",\"#B6E880\",\"#FF97FF\",\"#FECB52\"],\"font\":{\"color\":\"#2a3f5f\"},\"geo\":{\"bgcolor\":\"white\",\"lakecolor\":\"white\",\"landcolor\":\"#E5ECF6\",\"showlakes\":true,\"showland\":true,\"subunitcolor\":\"white\"},\"hoverlabel\":{\"align\":\"left\"},\"hovermode\":\"closest\",\"mapbox\":{\"style\":\"light\"},\"paper_bgcolor\":\"white\",\"plot_bgcolor\":\"#E5ECF6\",\"polar\":{\"angularaxis\":{\"gridcolor\":\"white\",\"linecolor\":\"white\",\"ticks\":\"\"},\"bgcolor\":\"#E5ECF6\",\"radialaxis\":{\"gridcolor\":\"white\",\"linecolor\":\"white\",\"ticks\":\"\"}},\"scene\":{\"xaxis\":{\"backgroundcolor\":\"#E5ECF6\",\"gridcolor\":\"white\",\"gridwidth\":2,\"linecolor\":\"white\",\"showbackground\":true,\"ticks\":\"\",\"zerolinecolor\":\"white\"},\"yaxis\":{\"backgroundcolor\":\"#E5ECF6\",\"gridcolor\":\"white\",\"gridwidth\":2,\"linecolor\":\"white\",\"showbackground\":true,\"ticks\":\"\",\"zerolinecolor\":\"white\"},\"zaxis\":{\"backgroundcolor\":\"#E5ECF6\",\"gridcolor\":\"white\",\"gridwidth\":2,\"linecolor\":\"white\",\"showbackground\":true,\"ticks\":\"\",\"zerolinecolor\":\"white\"}},\"shapedefaults\":{\"line\":{\"color\":\"#2a3f5f\"}},\"ternary\":{\"aaxis\":{\"gridcolor\":\"white\",\"linecolor\":\"white\",\"ticks\":\"\"},\"baxis\":{\"gridcolor\":\"white\",\"linecolor\":\"white\",\"ticks\":\"\"},\"bgcolor\":\"#E5ECF6\",\"caxis\":{\"gridcolor\":\"white\",\"linecolor\":\"white\",\"ticks\":\"\"}},\"title\":{\"x\":0.05},\"xaxis\":{\"automargin\":true,\"gridcolor\":\"white\",\"linecolor\":\"white\",\"ticks\":\"\",\"title\":{\"standoff\":15},\"zerolinecolor\":\"white\",\"zerolinewidth\":2},\"yaxis\":{\"automargin\":true,\"gridcolor\":\"white\",\"linecolor\":\"white\",\"ticks\":\"\",\"title\":{\"standoff\":15},\"zerolinecolor\":\"white\",\"zerolinewidth\":2}}},\"xaxis\":{\"anchor\":\"y\",\"domain\":[0.0,1.0],\"title\":{\"text\":\"Split_cross validation\"}},\"yaxis\":{\"anchor\":\"x\",\"domain\":[0.0,1.0],\"title\":{\"text\":\"R2\"}},\"legend\":{\"title\":{\"text\":\"color\"},\"tracegroupgap\":0},\"margin\":{\"t\":60},\"height\":400,\"width\":800},                        {\"responsive\": true}                    ).then(function(){\n",
              "                            \n",
              "var gd = document.getElementById('bf16681c-1006-47be-b314-a3b6e6f107f8');\n",
              "var x = new MutationObserver(function (mutations, observer) {{\n",
              "        var display = window.getComputedStyle(gd).display;\n",
              "        if (!display || display === 'none') {{\n",
              "            console.log([gd, 'removed!']);\n",
              "            Plotly.purge(gd);\n",
              "            observer.disconnect();\n",
              "        }}\n",
              "}});\n",
              "\n",
              "// Listen for the removal of the full notebook cells\n",
              "var notebookContainer = gd.closest('#notebook-container');\n",
              "if (notebookContainer) {{\n",
              "    x.observe(notebookContainer, {childList: true});\n",
              "}}\n",
              "\n",
              "// Listen for the clearing of the current output cell\n",
              "var outputEl = gd.closest('.output');\n",
              "if (outputEl) {{\n",
              "    x.observe(outputEl, {childList: true});\n",
              "}}\n",
              "\n",
              "                        })                };                            </script>        </div>\n",
              "</body>\n",
              "</html>"
            ]
          },
          "metadata": {}
        }
      ],
      "source": [
        "trace_mae(mlp_grid_search_model)\n",
        "trace_r2(mlp_grid_search_model)"
      ]
    },
    {
      "cell_type": "markdown",
      "metadata": {
        "id": "t2mTAnlipVsY"
      },
      "source": [
        "On voit bien ici que la performance du modèle sur les données se rapproche de celle sur les données de test. On peut ne pas envisager un overffiting de notre modèle séléctionné."
      ]
    },
    {
      "cell_type": "markdown",
      "source": [
        "### Feature importance du meilleur modèle"
      ],
      "metadata": {
        "id": "4TveYy4sngas"
      }
    },
    {
      "cell_type": "code",
      "source": [
        "#Poids de chaque feature dans le modèle\n",
        "feature_importance_value1=rfr_grid_search_model.best_estimator_.named_steps['RFR'].regressor_.feature_importances_ \n",
        "\n",
        "#Noms de features utilisés dans le modèle\n",
        "feature_names = get_feature_names(gb_grid_search_model.best_estimator_.named_steps['preprocessor'])\n",
        "\n",
        "#Dataframe regroupant les features et leur poids\n",
        "feat_importances1= pd.Series(feature_importance_value1 , index=feature_names)"
      ],
      "metadata": {
        "id": "jhFa1vsRnk3E"
      },
      "execution_count": 4520,
      "outputs": []
    },
    {
      "cell_type": "code",
      "source": [
        "#Création et transposition de la dataframe feature importance\n",
        "feat_importances1= pd.DataFrame(feat_importances1).transpose()\n",
        "\n",
        "#Agrégation des features par appartenance à une catégorie\n",
        "feat_importances1['PrimaryPropertyType']= feat_importances1[list(feat_importances1.filter(regex='one-hot__x0'))].sum(axis=1)\n",
        "feat_importances1['LargestPropertyUseType']= feat_importances1[list(feat_importances1.filter(regex='one-hot__x1'))].sum(axis=1)\n",
        "#feat_importances1[\"BuildingType\"]= feat_importances1[list(feat_importances1.filter(regex='one-hot__x2'))].sum(axis=1)\n",
        "\n",
        "# Colonnes à supprimer \n",
        "unwanted = feat_importances1.columns[feat_importances1.columns.str.startswith('one-hot__x')]\n",
        "feat_importances1.drop(unwanted, axis=1, inplace=True)\n",
        "\n",
        "#On ramène la dataFrame à sa forme initiale\n",
        "feat_importances1= pd.DataFrame(feat_importances1).transpose()\n",
        "\n",
        "#On renomme et reformate les valeurs de la colonne feature\n",
        "df2=feat_importances1.reset_index().rename(columns={\"index\": \"features\", 0: \"poids\"})\n",
        "df2['features']=df2['features'].str.replace('numerical_pipeline__','')\n"
      ],
      "metadata": {
        "id": "F3D648VTnzkL"
      },
      "execution_count": 4521,
      "outputs": []
    },
    {
      "cell_type": "markdown",
      "source": [
        "### Tracé feature importance"
      ],
      "metadata": {
        "id": "3SJGPitbut-H"
      }
    },
    {
      "cell_type": "code",
      "source": [
        "#On trace le graphique du feature importance \n",
        "plt.figure(figsize=(21,5))\n",
        "sns.barplot(x='features', y='poids', data=df2.sort_values(by='poids', ascending=False))"
      ],
      "metadata": {
        "colab": {
          "base_uri": "https://localhost:8080/",
          "height": 352
        },
        "id": "2DlOQQcluxyC",
        "outputId": "c5a218d6-81a7-4f27-cba9-d5df32f82b32"
      },
      "execution_count": 4522,
      "outputs": [
        {
          "output_type": "execute_result",
          "data": {
            "text/plain": [
              "<matplotlib.axes._subplots.AxesSubplot at 0x7ff7d977cb20>"
            ]
          },
          "metadata": {},
          "execution_count": 4522
        },
        {
          "output_type": "display_data",
          "data": {
            "text/plain": [
              "<Figure size 1512x360 with 1 Axes>"
            ],
            "image/png": "[encoded data removed]"
          },
          "metadata": {
            "needs_background": "light"
          }
        }
      ]
    },
    {
      "cell_type": "markdown",
      "source": [
        "On voit sur ce graphique les features qui ont plus d'impact sur notre modèle.\n",
        "\n",
        "A partir de ce graphique, nous pouvons décider de supprimer les features qui ont très peu d'importance. On obtiendra un modèle plus simple et sans doute avec une moindre variance. \n",
        "\n",
        "On peut  aussi regarder sur quelles données le meilleurs modèle fait de grosses erreur, et essayer de comprendre pourquoi: des donnée atypique ? manque-t-il un feature pour les capter ?  Données abbérentes ? faut-il les supprimmer ? "
      ],
      "metadata": {
        "id": "cB4fjM-0xFp3"
      }
    },
    {
      "cell_type": "markdown",
      "metadata": {
        "id": "t-SP0uyMwfZP"
      },
      "source": [
        "### Valeurs prédites vs Valeurs réelles de notre meilleur modèle."
      ]
    },
    {
      "cell_type": "code",
      "source": [
        "y_pred =gb_grid_search_model.best_estimator_.predict(X_test)\n",
        "plt.figure(figsize=(18,7))\n",
        "y_test=Y_test[target[0]]\n",
        "# traçage de y_test versus y_pred\n",
        "# l'idéal aurait dû être une ligne droite\n",
        "p1 = max(max(y_test), max(y_pred))\n",
        "p2 = min(min(y_test), min(y_pred))\n",
        "plt.plot([p1, p2], [p1, p2], 'b-')\n",
        "sns.scatterplot(x=y_test, y=y_pred)"
      ],
      "metadata": {
        "colab": {
          "base_uri": "https://localhost:8080/",
          "height": 459
        },
        "id": "t1UnlB2H2iTk",
        "outputId": "fd1e4627-39ff-4dd4-f2c8-dc6c1f5c300f"
      },
      "execution_count": 4523,
      "outputs": [
        {
          "output_type": "execute_result",
          "data": {
            "text/plain": [
              "<matplotlib.axes._subplots.AxesSubplot at 0x7ff7d971d790>"
            ]
          },
          "metadata": {},
          "execution_count": 4523
        },
        {
          "output_type": "display_data",
          "data": {
            "text/plain": [
              "<Figure size 1296x504 with 1 Axes>"
            ],
            "image/png": "[encoded data removed]"
          },
          "metadata": {
            "needs_background": "light"
          }
        }
      ]
    },
    {
      "cell_type": "markdown",
      "metadata": {
        "id": "tYRsWvBkgNgw"
      },
      "source": [
        "# <ins>Importance de EnergysStarScore pour la variable target TOtalGHGEmissions</ins>"
      ]
    },
    {
      "cell_type": "markdown",
      "metadata": {
        "id": "LG9wjFz3_ePv"
      },
      "source": [
        "Nous allons voir si EnergyStar a un impact sur les modèles "
      ]
    },
    {
      "cell_type": "markdown",
      "metadata": {
        "id": "un0GydpI_qPT"
      },
      "source": [
        "On enlève la variable ENERGYSTARScore"
      ]
    },
    {
      "cell_type": "markdown",
      "metadata": {
        "id": "O1YM8_U6DoOz"
      },
      "source": [
        "###Run du code"
      ]
    },
    {
      "cell_type": "code",
      "execution_count": 4524,
      "metadata": {
        "id": "xAc-DP62_01V"
      },
      "outputs": [],
      "source": [
        "#X1= data_model[['NumberofBuildings','NumberofFloors','PropertyGFATotal','age_batiment','PrimaryPropertyType','Ratio_parkingParSurface']]\n",
        "#Y1 = data_model[['SiteEnergyUse(kBtu)','TotalGHGEmissions']]\n",
        "\n",
        "# Création de piepeline pour les features numériques et catégoriels   ----  'SiteEnergyUse(kBtu)','TotalGHGEmissions',\n",
        "numerical_features1  =  ['NumberofBuildings','NumberofFloors','PropertyGFATotal','age_batiment','Ratio_parkingParSurface','pr_steam','pr_natural','pr_elec']\n",
        "categorical_features1  = ['PrimaryPropertyType','LargestPropertyUseType'] #'LargestPropertyUseType',\"BuildingType\"\n",
        "\n",
        "\n",
        "\n",
        "numerical_pipeline1 = Pipeline(steps=[\n",
        "      #('impute', SimpleImputer(strategy='mean')),\n",
        "      ('scale', StandardScaler())   \n",
        "  ])\n",
        "categorical_pipeline1= Pipeline(steps=[\n",
        "      #('impute', SimpleImputer(strategy='most_frequent')),\n",
        "      ('one-hot',OneHotEncoder())\n",
        "  ])\n",
        "\n",
        "  # Création d'un ColumnTransformer pour appliquer un pipeline pour chaque type de colonne\n",
        "\n",
        "preprocessor = ColumnTransformer(transformers=[\n",
        "      ('numerical_pipeline1',numerical_pipeline1,numerical_features1),\n",
        "      ('categorical_pipeline1=',categorical_pipeline1,categorical_features1 )\n",
        "      ],\n",
        "      remainder='passthrough',\n",
        "      n_jobs=-1,\n",
        "      )\n",
        "\n",
        "#X = data_model.drop(['SiteEnergyUse(kBtu)','TotalGHGEmissions'], axis=1)\n",
        "#Y = data_model[['SiteEnergyUse(kBtu)','TotalGHGEmissions']]\n",
        "\n",
        "#Régression linéaire multiple\n",
        "from sklearn.compose import TransformedTargetRegressor\n",
        "from sklearn.model_selection import RandomizedSearchCV\n",
        "nb_split = 5\n",
        "score = ['accuracy','neg_mean_absolute_error']\n",
        "\n",
        "pipe_lr = Pipeline(\n",
        "    steps=[(\"preprocessor\", preprocessor), (\"LR\", TransformedTargetRegressor(regressor=LinearRegression(), func=np.log1p, inverse_func=np.expm1) )]\n",
        ")\n",
        "\n",
        "myscore = ('r2','neg_mean_absolute_error')\n",
        "\n",
        "lr_param_grid = [ {\"LR__regressor__fit_intercept\": [True, False]}   ] \n",
        "\n",
        "\n",
        "lr_grid_search1 = GridSearchCV(estimator=pipe_lr,\n",
        "        param_grid=lr_param_grid, refit='neg_mean_absolute_error',\n",
        "        scoring=myscore, n_jobs=-1,\n",
        "        cv=nb_split,return_train_score=True)\n",
        "\n",
        "\n",
        "#Elastic Net\n",
        "\n",
        "pipe_elastic = Pipeline(\n",
        "    steps=[(\"preprocessor\", preprocessor), (\"ELN\", TransformedTargetRegressor(regressor=ElasticNet() ,func=np.log, inverse_func=np.exp) )]\n",
        ")\n",
        "## Paramaètre du randomize search\n",
        "\"\"\"elastic_param_grid = [     {\"ELN__regressor__max_iter\": [10, 100, 1000],\n",
        "                            \"ELN__regressor__alpha\": np.logspace(-5, 5, num=10),  # alpha plus grand --- - 5 à 5 , augmenter la granularité\n",
        "                             \"ELN__regressor__l1_ratio\": np.arange(0.0, 1.1, 0.1) } ]   \"\"\"\n",
        "\n",
        "elastic_param_grid ={'ELN__regressor__alpha': [0.0],\n",
        " 'ELN__regressor__l1_ratio':[ 0.0 ],\n",
        " 'ELN__regressor__max_iter': [100]}\n",
        "\n",
        "elastic_grid_search1 = GridSearchCV(estimator=pipe_elastic,\n",
        "        param_grid=elastic_param_grid,\n",
        "        scoring=myscore, refit='neg_mean_absolute_error', n_jobs=-1,\n",
        "        cv=nb_split,return_train_score=True) \n",
        "\n",
        "# Linear SVM\n",
        "pipe_lsvr =Pipeline(\n",
        "    steps=[(\"preprocessor\", preprocessor), (\"LSVR\", TransformedTargetRegressor(regressor=LinearSVR() ,func=np.log, inverse_func=np.exp) )]\n",
        ")\n",
        "\n",
        "\"\"\"lsvr_param_grid = [      {'LSVR__regressor__C' : np.logspace(-4, 0, 5),\n",
        "                          'LSVR__regressor__epsilon' : [0, 0.01, 0.1, 0.5, 1, 2],\n",
        "                         'LSVR__regressor__loss' : [\"epsilon_insensitive\",\"squared_epsilon_insensitive\"],\n",
        "                          'LSVR__regressor__max_iter': [10, 100, 1000]}   ]  \"\"\"\n",
        "\n",
        "\n",
        "lsvr_param_grid ={'LSVR__regressor__C': [0.01],\n",
        " 'LSVR__regressor__epsilon': [1],\n",
        " 'LSVR__regressor__loss': ['epsilon_insensitive'],\n",
        " 'LSVR__regressor__max_iter': [10]}\n",
        "\n",
        "lsvr_grid_search1 = GridSearchCV(estimator=pipe_lsvr,\n",
        "        param_grid=lsvr_param_grid,\n",
        "        scoring=myscore, refit='neg_mean_absolute_error', n_jobs=-1,\n",
        "        cv=nb_split, return_train_score=True)\n",
        "\n",
        "\n",
        "# Random Forest\n",
        "pipe_rfr= Pipeline(\n",
        "    steps=[(\"preprocessor\", preprocessor), (\"RFR\", TransformedTargetRegressor(regressor=RandomForestRegressor() ,func=np.log, inverse_func=np.exp) )]\n",
        ")\n",
        "\n",
        "# Paramètre pour le Randomize search\n",
        "\"\"\"rfr_param_grid = [ {'RFR__regressor__max_features' : ['sqrt', 'log2'],\n",
        "                   'RFR__regressor__max_depth': [15, 25, 200],\n",
        "                   'RFR__regressor__min_samples_split': [2, 7, 8],\n",
        "                   'RFR__regressor__bootstrap' : [True, False],\n",
        "                   'RFR__regressor__min_samples_leaf': [1,2,5]}\"\"\"\n",
        "\n",
        "rfr_param_grid={'RFR__regressor__bootstrap': [False],\n",
        "                'RFR__regressor__max_depth': [25,50],\n",
        "                'RFR__regressor__max_features': ['sqrt'],\n",
        "                'RFR__regressor__min_samples_leaf': [1],\n",
        "                'RFR__regressor__min_samples_split': [2]}\n",
        "                                                      \n",
        "rfr_grid_search1 = GridSearchCV(estimator=pipe_rfr,\n",
        "       param_grid=rfr_param_grid,\n",
        "        scoring=myscore, refit='neg_mean_absolute_error', n_jobs=-1,\n",
        "        cv=nb_split, return_train_score=True)                                                  \n",
        "                                                 \n",
        "# Rajouter une métrique pour GridSearch\n",
        "# Xgboost Regressor\n",
        "\n",
        "\n",
        "pipe_extra = Pipeline(\n",
        "    steps=[(\"preprocessor\", preprocessor), (\"MLP\", TransformedTargetRegressor(regressor=ExtraTreesRegressor(random_state=0) ,func=np.log, inverse_func=np.exp) ) ] \n",
        ")\n",
        "\n",
        "## Paramaètre du randomize search\n",
        "\"\"\"  {'MLP__regressor__n_estimators':[350,500],\n",
        "         'MLP__regressor__max_depth':[8,9,10],\n",
        "         'MLP__regressor__min_samples_split':[3,4,6],\n",
        "         'MLP__regressor__min_samples_leaf':[2,3,4],\n",
        "         'MLP__regressor__max_features':[0.95],\n",
        "         'MLP__regressor__min_impurity_decrease':[1e-5,1e-4,0]}  \"\"\"\n",
        "\n",
        "## Paramètre choisis  pour le gridsearch après le Randomize search\n",
        "param_grid_mlp = {'MLP__regressor__n_estimators': [350],\n",
        " 'MLP__regressor__min_samples_split':[ 3],\n",
        " 'MLP__regressor__min_samples_leaf': [2],\n",
        " 'MLP__regressor__min_impurity_decrease': [1e-05],\n",
        " 'MLP__regressor__max_features': [0.95],\n",
        " 'MLP__regressor__max_depth': [10]}\n",
        "\n",
        "\n",
        "\n",
        "\n",
        "extraTree_grid_search1 = GridSearchCV(estimator=pipe_extra,\n",
        "        param_grid =param_grid_mlp,\n",
        "        scoring=myscore, refit='neg_mean_absolute_error', n_jobs=-1,\n",
        "        cv=nb_split, return_train_score=True) \n",
        "\n",
        "# Gradient boost\n",
        "pipe_gb= Pipeline(\n",
        "    steps=[(\"preprocessor\", preprocessor), (\"GB\", TransformedTargetRegressor(regressor=GradientBoostingRegressor() ,func=np.log, inverse_func=np.exp) )]\n",
        ")\n",
        "\n",
        "# Paramètre du randomized Search\n",
        "\"\"\"param_grid_GrBoostR = [{'GB__regressor__n_estimators': [350,500,700], \n",
        "                        'GB__regressor__max_depth': [5,6,7], \n",
        "                        'GB__regressor__min_samples_split': [2,3,4], \n",
        "                        'GB__regressor__learning_rate': [0.01,0.1], \n",
        "                        'GB__regressor__loss': ['ls'],\n",
        "                       \"GB__regressor__random_state\" : [0]\n",
        "                       }] \"\"\"\n",
        "\n",
        "param_grid_GrBoostR={'GB__regressor__random_state': [0],\n",
        "                    'GB__regressor__n_estimators': [350],\n",
        "                    'GB__regressor__min_samples_split': [3],\n",
        "                    'GB__regressor__max_depth': [5],\n",
        "                    'GB__regressor__loss': ['ls'],\n",
        "                    'GB__regressor__learning_rate': [0.1]}\n",
        "\n",
        "gb_grid_search1 =  GridSearchCV(estimator=pipe_gb,\n",
        "         param_grid=param_grid_GrBoostR,\n",
        "        scoring=myscore, refit='neg_mean_absolute_error', n_jobs=-1,\n",
        "        cv=nb_split, return_train_score=True)   \n",
        "\n",
        "\n",
        "\n",
        "\n",
        "\n",
        "import warnings\n",
        "warnings.filterwarnings('ignore')\n",
        "\n",
        "\n",
        "\n",
        "target = ['TotalGHGEmissions', 'SiteEnergyUse(kBtu)']\n",
        "\n",
        "global R1, y_test_predict1,lr_grid_search_model1 ,elastic_grid_search_model1,lsvr_grid_search_model1 , rfr_grid_search_model1\n",
        "\n",
        "\n",
        "target_x = target[0]\n",
        "lr_grid_search_model1 = lr_grid_search1.fit(X_train,Y_train[target_x])\n",
        "elastic_grid_search_model1 = elastic_grid_search1.fit(X_train,Y_train[target_x])\n",
        "lsvr_grid_search_model1 = lsvr_grid_search1.fit(X_train,Y_train[target_x])\n",
        "rfr_grid_search_model1 = rfr_grid_search1.fit(X_train,Y_train[target_x])\n",
        "extraTree_grid_search_model1 = extraTree_grid_search1.fit(X_train,Y_train[target_x])\n",
        "gb_grid_search_model1 = gb_grid_search1.fit(X_train,Y_train[target_x])\n"
      ]
    },
    {
      "cell_type": "markdown",
      "metadata": {
        "id": "_EtgXWzrMyeR"
      },
      "source": [
        "### Impact de EnergyStarUse sur TotalGHGEmissions"
      ]
    },
    {
      "cell_type": "code",
      "execution_count": 4525,
      "metadata": {
        "colab": {
          "base_uri": "https://localhost:8080/",
          "height": 112
        },
        "id": "sk1muw_qz4BP",
        "outputId": "a931accb-5b32-4b73-d8a4-99c74520ea16"
      },
      "outputs": [
        {
          "output_type": "execute_result",
          "data": {
            "text/plain": [
              "  Metrics  Modèle avec EnergyStarScore  Modèle sans EnergyStarScore\n",
              "0      R2                        0.824                        0.824\n",
              "1     MAE                       69.084                       69.084"
            ],
            "text/html": [
              "\n",
              "  <div id=\"df-56f08dc6-bc6e-47bc-ae3c-faa42834a652\">\n",
              "    <div class=\"colab-df-container\">\n",
              "      <div>\n",
              "<style scoped>\n",
              "    .dataframe tbody tr th:only-of-type {\n",
              "        vertical-align: middle;\n",
              "    }\n",
              "\n",
              "    .dataframe tbody tr th {\n",
              "        vertical-align: top;\n",
              "    }\n",
              "\n",
              "    .dataframe thead th {\n",
              "        text-align: right;\n",
              "    }\n",
              "</style>\n",
              "<table border=\"1\" class=\"dataframe\">\n",
              "  <thead>\n",
              "    <tr style=\"text-align: right;\">\n",
              "      <th></th>\n",
              "      <th>Metrics</th>\n",
              "      <th>Modèle avec EnergyStarScore</th>\n",
              "      <th>Modèle sans EnergyStarScore</th>\n",
              "    </tr>\n",
              "  </thead>\n",
              "  <tbody>\n",
              "    <tr>\n",
              "      <th>0</th>\n",
              "      <td>R2</td>\n",
              "      <td>0.824</td>\n",
              "      <td>0.824</td>\n",
              "    </tr>\n",
              "    <tr>\n",
              "      <th>1</th>\n",
              "      <td>MAE</td>\n",
              "      <td>69.084</td>\n",
              "      <td>69.084</td>\n",
              "    </tr>\n",
              "  </tbody>\n",
              "</table>\n",
              "</div>\n",
              "      <button class=\"colab-df-convert\" onclick=\"convertToInteractive('df-56f08dc6-bc6e-47bc-ae3c-faa42834a652')\"\n",
              "              title=\"Convert this dataframe to an interactive table.\"\n",
              "              style=\"display:none;\">\n",
              "        \n",
              "  <svg xmlns=\"http://www.w3.org/2000/svg\" height=\"24px\"viewBox=\"0 0 24 24\"\n",
              "       width=\"24px\">\n",
              "    <path d=\"M0 0h24v24H0V0z\" fill=\"none\"/>\n",
              "    <path d=\"M18.56 5.44l.94 2.06.94-2.06 2.06-.94-2.06-.94-.94-2.06-.94 2.06-2.06.94zm-11 1L8.5 8.5l.94-2.06 2.06-.94-2.06-.94L8.5 2.5l-.94 2.06-2.06.94zm10 10l.94 2.06.94-2.06 2.06-.94-2.06-.94-.94-2.06-.94 2.06-2.06.94z\"/><path d=\"M17.41 7.96l-1.37-1.37c-.4-.4-.92-.59-1.43-.59-.52 0-1.04.2-1.43.59L10.3 9.45l-7.72 7.72c-.78.78-.78 2.05 0 2.83L4 21.41c.39.39.9.59 1.41.59.51 0 1.02-.2 1.41-.59l7.78-7.78 2.81-2.81c.8-.78.8-2.07 0-2.86zM5.41 20L4 18.59l7.72-7.72 1.47 1.35L5.41 20z\"/>\n",
              "  </svg>\n",
              "      </button>\n",
              "      \n",
              "  <style>\n",
              "    .colab-df-container {\n",
              "      display:flex;\n",
              "      flex-wrap:wrap;\n",
              "      gap: 12px;\n",
              "    }\n",
              "\n",
              "    .colab-df-convert {\n",
              "      background-color: #E8F0FE;\n",
              "      border: none;\n",
              "      border-radius: 50%;\n",
              "      cursor: pointer;\n",
              "      display: none;\n",
              "      fill: #1967D2;\n",
              "      height: 32px;\n",
              "      padding: 0 0 0 0;\n",
              "      width: 32px;\n",
              "    }\n",
              "\n",
              "    .colab-df-convert:hover {\n",
              "      background-color: #E2EBFA;\n",
              "      box-shadow: 0px 1px 2px rgba(60, 64, 67, 0.3), 0px 1px 3px 1px rgba(60, 64, 67, 0.15);\n",
              "      fill: #174EA6;\n",
              "    }\n",
              "\n",
              "    [theme=dark] .colab-df-convert {\n",
              "      background-color: #3B4455;\n",
              "      fill: #D2E3FC;\n",
              "    }\n",
              "\n",
              "    [theme=dark] .colab-df-convert:hover {\n",
              "      background-color: #434B5C;\n",
              "      box-shadow: 0px 1px 3px 1px rgba(0, 0, 0, 0.15);\n",
              "      filter: drop-shadow(0px 1px 2px rgba(0, 0, 0, 0.3));\n",
              "      fill: #FFFFFF;\n",
              "    }\n",
              "  </style>\n",
              "\n",
              "      <script>\n",
              "        const buttonEl =\n",
              "          document.querySelector('#df-56f08dc6-bc6e-47bc-ae3c-faa42834a652 button.colab-df-convert');\n",
              "        buttonEl.style.display =\n",
              "          google.colab.kernel.accessAllowed ? 'block' : 'none';\n",
              "\n",
              "        async function convertToInteractive(key) {\n",
              "          const element = document.querySelector('#df-56f08dc6-bc6e-47bc-ae3c-faa42834a652');\n",
              "          const dataTable =\n",
              "            await google.colab.kernel.invokeFunction('convertToInteractive',\n",
              "                                                     [key], {});\n",
              "          if (!dataTable) return;\n",
              "\n",
              "          const docLinkHtml = 'Like what you see? Visit the ' +\n",
              "            '<a target=\"_blank\" href=https://colab.research.google.com/notebooks/data_table.ipynb>data table notebook</a>'\n",
              "            + ' to learn more about interactive tables.';\n",
              "          element.innerHTML = '';\n",
              "          dataTable['output_type'] = 'display_data';\n",
              "          await google.colab.output.renderOutput(dataTable, element);\n",
              "          const docLink = document.createElement('div');\n",
              "          docLink.innerHTML = docLinkHtml;\n",
              "          element.appendChild(docLink);\n",
              "        }\n",
              "      </script>\n",
              "    </div>\n",
              "  </div>\n",
              "  "
            ]
          },
          "metadata": {},
          "execution_count": 4525
        }
      ],
      "source": [
        "#Prédiction sans energyStarScore\n",
        "y_test_predict1 = gb_grid_search_model1.predict(X_test)\n",
        "\n",
        "v_avec =  [round((r2_score(Y_test['TotalGHGEmissions'],y_pred)),3), round((mean_absolute_error(Y_test['TotalGHGEmissions'],y_pred)),3)]\n",
        "v_sans=[round((r2_score(Y_test['TotalGHGEmissions'],y_test_predict1)),3), round((mean_absolute_error(Y_test['TotalGHGEmissions'],y_test_predict1)),3)]\n",
        "\n",
        "pd.DataFrame({ \"Metrics\": [\"R2\", \"MAE\"], \"Modèle avec EnergyStarScore\" : v_avec, \"Modèle sans EnergyStarScore\" : v_sans })\n"
      ]
    },
    {
      "cell_type": "markdown",
      "metadata": {
        "id": "Z4hDUlls5VsB"
      },
      "source": [
        "Conclusion : L'energyStar Score n'a pas trop impact sur la qualité du modèle."
      ]
    }
  ],
  "metadata": {
    "colab": {
      "collapsed_sections": [
        "E_GKV7SxtloJ",
        "LHDm8e3PC2lS",
        "xUdpWnpQ8dRf",
        "NmzJT3pNEQbf",
        "qim3IO47XmUn",
        "29syXkGJqSq1"
      ],
      "provenance": []
    },
    "kernelspec": {
      "display_name": "Python 3",
      "name": "python3"
    },
    "language_info": {
      "name": "python"
    }
  },
  "nbformat": 4,
  "nbformat_minor": 0
}